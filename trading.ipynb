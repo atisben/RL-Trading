{
 "cells": [
  {
   "attachments": {},
   "cell_type": "markdown",
   "metadata": {},
   "source": [
    "## 1. Introduction\n",
    "\n",
    "### Stock price influencers\n",
    "\n",
    "Features that can be used for stock price predictions\n",
    "\n",
    "Correlated assets:\n",
    "an organization interacts with many external factods, including its competitors, clients, the global economy, the geopollitical situation, fiscal and monetary policies, access to capital and so on. Hence its stock price my be correlated nowith other assets suh as commodities, FX, borad based indices and fixed income scorities.\n",
    "\n",
    "Technical indicators:\n",
    "A lot of investors follow technical indicators. Moving average, exponential moving average and momentum.\n",
    "\n",
    "Fundamental analysis:\n",
    "Annual and querterly reports o fcompanices can be used to extract or determine key metrics such as Return on equity (ROE) and Price to Earnings (P/E)\n",
    "\n",
    "News can indicate upcoming events that can potentially move the stock price in a certain direction\n",
    "\n",
    "### Problem definition\n",
    "\n",
    "SMA is good at confirming a momentum change but not at predicting one.\n",
    "\n"
   ]
  },
  {
   "attachments": {},
   "cell_type": "markdown",
   "metadata": {},
   "source": [
    "## Loading data\n",
    "\n",
    "- Current data is loaded from yahoo finance and selects the Amundi MSCI World ETF from June 2009 to today.\n",
    "- The baseline features include:\n",
    "    - Open\n",
    "    - High\n",
    "    - Low\n",
    "    - Close\n",
    "    - Volume"
   ]
  },
  {
   "cell_type": "code",
   "execution_count": 120,
   "metadata": {},
   "outputs": [],
   "source": [
    "import yfinance as yf\n",
    "import pytz\n",
    "import matplotlib.pyplot as plt\n",
    "import seaborn as sns\n",
    "import numpy as np\n",
    "from plotly.subplots import make_subplots\n",
    "import plotly.graph_objects as go\n",
    "import plotly.express as px\n",
    "import pandas as pd\n",
    "from scipy.signal import argrelextrema"
   ]
  },
  {
   "cell_type": "code",
   "execution_count": 121,
   "metadata": {},
   "outputs": [],
   "source": [
    "def dataset_loader(stock_name):\n",
    "    dataset = yf.download(stock_name)\n",
    "\n",
    "    start_date = str(dataset.index[0]).split()[0]\n",
    "    end_date = str(dataset.index[1]).split()[0]\n",
    "\n",
    "    # close = dataset[\"Close\"]\n",
    "    return dataset\n",
    "    "
   ]
  },
  {
   "cell_type": "code",
   "execution_count": 122,
   "metadata": {},
   "outputs": [
    {
     "name": "stdout",
     "output_type": "stream",
     "text": [
      "[*********************100%***********************]  1 of 1 completed\n"
     ]
    }
   ],
   "source": [
    "df = dataset_loader('CW8.PA')"
   ]
  },
  {
   "cell_type": "code",
   "execution_count": 123,
   "metadata": {},
   "outputs": [
    {
     "name": "stdout",
     "output_type": "stream",
     "text": [
      "<class 'pandas.core.frame.DataFrame'>\n",
      "DatetimeIndex: 3469 entries, 2009-06-16 to 2023-01-03\n",
      "Data columns (total 6 columns):\n",
      " #   Column     Non-Null Count  Dtype  \n",
      "---  ------     --------------  -----  \n",
      " 0   Open       3469 non-null   float64\n",
      " 1   High       3469 non-null   float64\n",
      " 2   Low        3469 non-null   float64\n",
      " 3   Close      3469 non-null   float64\n",
      " 4   Adj Close  3469 non-null   float64\n",
      " 5   Volume     3469 non-null   int64  \n",
      "dtypes: float64(5), int64(1)\n",
      "memory usage: 189.7 KB\n"
     ]
    }
   ],
   "source": [
    "df.info()"
   ]
  },
  {
   "cell_type": "markdown",
   "metadata": {},
   "source": [
    "## Cleaning Data"
   ]
  },
  {
   "cell_type": "code",
   "execution_count": 124,
   "metadata": {},
   "outputs": [
    {
     "data": {
      "image/png": "[encoded data removed]",
      "text/plain": [
       "<Figure size 640x480 with 1 Axes>"
      ]
     },
     "metadata": {},
     "output_type": "display_data"
    }
   ],
   "source": [
    "NaN_values = (df.isnull().sum()/len(df)*100).sort_values(ascending=False)\n",
    "\n",
    "cmap = sns.color_palette(\"plasma\")\n",
    "fig, ax = plt.subplots()\n",
    "sns.barplot(x = NaN_values, y=NaN_values.index, edgecolor=\"black\", palette=cmap, ax=ax)\n",
    "\n",
    "plt.title(\"test\", size = 15, fontweight = \"bold\")\n",
    "ax.set_xlim(0,None)\n",
    "plt.show()\n"
   ]
  },
  {
   "cell_type": "code",
   "execution_count": 125,
   "metadata": {},
   "outputs": [
    {
     "data": {
      "text/html": [
       "<div>\n",
       "<style scoped>\n",
       "    .dataframe tbody tr th:only-of-type {\n",
       "        vertical-align: middle;\n",
       "    }\n",
       "\n",
       "    .dataframe tbody tr th {\n",
       "        vertical-align: top;\n",
       "    }\n",
       "\n",
       "    .dataframe thead th {\n",
       "        text-align: right;\n",
       "    }\n",
       "</style>\n",
       "<table border=\"1\" class=\"dataframe\">\n",
       "  <thead>\n",
       "    <tr style=\"text-align: right;\">\n",
       "      <th></th>\n",
       "      <th>Open</th>\n",
       "      <th>High</th>\n",
       "      <th>Low</th>\n",
       "      <th>Close</th>\n",
       "      <th>Adj Close</th>\n",
       "      <th>Volume</th>\n",
       "    </tr>\n",
       "    <tr>\n",
       "      <th>Date</th>\n",
       "      <th></th>\n",
       "      <th></th>\n",
       "      <th></th>\n",
       "      <th></th>\n",
       "      <th></th>\n",
       "      <th></th>\n",
       "    </tr>\n",
       "  </thead>\n",
       "  <tbody>\n",
       "  </tbody>\n",
       "</table>\n",
       "</div>"
      ],
      "text/plain": [
       "Empty DataFrame\n",
       "Columns: [Open, High, Low, Close, Adj Close, Volume]\n",
       "Index: []"
      ]
     },
     "execution_count": 125,
     "metadata": {},
     "output_type": "execute_result"
    }
   ],
   "source": [
    "df[df.isna().any(axis=1)]"
   ]
  },
  {
   "attachments": {},
   "cell_type": "markdown",
   "metadata": {},
   "source": [
    "## Data Exploration"
   ]
  },
  {
   "cell_type": "code",
   "execution_count": 126,
   "metadata": {},
   "outputs": [
    {
     "data": {
      "text/html": [
       "<div>\n",
       "<style scoped>\n",
       "    .dataframe tbody tr th:only-of-type {\n",
       "        vertical-align: middle;\n",
       "    }\n",
       "\n",
       "    .dataframe tbody tr th {\n",
       "        vertical-align: top;\n",
       "    }\n",
       "\n",
       "    .dataframe thead th {\n",
       "        text-align: right;\n",
       "    }\n",
       "</style>\n",
       "<table border=\"1\" class=\"dataframe\">\n",
       "  <thead>\n",
       "    <tr style=\"text-align: right;\">\n",
       "      <th></th>\n",
       "      <th>Open</th>\n",
       "      <th>High</th>\n",
       "      <th>Low</th>\n",
       "      <th>Close</th>\n",
       "      <th>Adj Close</th>\n",
       "      <th>Volume</th>\n",
       "    </tr>\n",
       "  </thead>\n",
       "  <tbody>\n",
       "    <tr>\n",
       "      <th>count</th>\n",
       "      <td>3469.000000</td>\n",
       "      <td>3469.000000</td>\n",
       "      <td>3469.000000</td>\n",
       "      <td>3469.000000</td>\n",
       "      <td>3469.000000</td>\n",
       "      <td>3469.000000</td>\n",
       "    </tr>\n",
       "    <tr>\n",
       "      <th>mean</th>\n",
       "      <td>221.801246</td>\n",
       "      <td>222.366898</td>\n",
       "      <td>221.177506</td>\n",
       "      <td>221.795647</td>\n",
       "      <td>221.795647</td>\n",
       "      <td>2331.003747</td>\n",
       "    </tr>\n",
       "    <tr>\n",
       "      <th>std</th>\n",
       "      <td>95.646258</td>\n",
       "      <td>96.352839</td>\n",
       "      <td>94.876416</td>\n",
       "      <td>95.634660</td>\n",
       "      <td>95.634660</td>\n",
       "      <td>7171.759036</td>\n",
       "    </tr>\n",
       "    <tr>\n",
       "      <th>min</th>\n",
       "      <td>80.330002</td>\n",
       "      <td>80.330002</td>\n",
       "      <td>80.330002</td>\n",
       "      <td>80.330002</td>\n",
       "      <td>80.330002</td>\n",
       "      <td>0.000000</td>\n",
       "    </tr>\n",
       "    <tr>\n",
       "      <th>25%</th>\n",
       "      <td>131.690002</td>\n",
       "      <td>131.690002</td>\n",
       "      <td>131.690002</td>\n",
       "      <td>131.690002</td>\n",
       "      <td>131.690002</td>\n",
       "      <td>0.000000</td>\n",
       "    </tr>\n",
       "    <tr>\n",
       "      <th>50%</th>\n",
       "      <td>214.409302</td>\n",
       "      <td>214.409302</td>\n",
       "      <td>214.409302</td>\n",
       "      <td>214.409302</td>\n",
       "      <td>214.409302</td>\n",
       "      <td>0.000000</td>\n",
       "    </tr>\n",
       "    <tr>\n",
       "      <th>75%</th>\n",
       "      <td>280.089996</td>\n",
       "      <td>282.084686</td>\n",
       "      <td>278.950012</td>\n",
       "      <td>280.305603</td>\n",
       "      <td>280.305603</td>\n",
       "      <td>2049.000000</td>\n",
       "    </tr>\n",
       "    <tr>\n",
       "      <th>max</th>\n",
       "      <td>439.119995</td>\n",
       "      <td>440.440002</td>\n",
       "      <td>436.500000</td>\n",
       "      <td>437.956604</td>\n",
       "      <td>437.956604</td>\n",
       "      <td>95151.000000</td>\n",
       "    </tr>\n",
       "  </tbody>\n",
       "</table>\n",
       "</div>"
      ],
      "text/plain": [
       "              Open         High          Low        Close    Adj Close  \\\n",
       "count  3469.000000  3469.000000  3469.000000  3469.000000  3469.000000   \n",
       "mean    221.801246   222.366898   221.177506   221.795647   221.795647   \n",
       "std      95.646258    96.352839    94.876416    95.634660    95.634660   \n",
       "min      80.330002    80.330002    80.330002    80.330002    80.330002   \n",
       "25%     131.690002   131.690002   131.690002   131.690002   131.690002   \n",
       "50%     214.409302   214.409302   214.409302   214.409302   214.409302   \n",
       "75%     280.089996   282.084686   278.950012   280.305603   280.305603   \n",
       "max     439.119995   440.440002   436.500000   437.956604   437.956604   \n",
       "\n",
       "             Volume  \n",
       "count   3469.000000  \n",
       "mean    2331.003747  \n",
       "std     7171.759036  \n",
       "min        0.000000  \n",
       "25%        0.000000  \n",
       "50%        0.000000  \n",
       "75%     2049.000000  \n",
       "max    95151.000000  "
      ]
     },
     "execution_count": 126,
     "metadata": {},
     "output_type": "execute_result"
    }
   ],
   "source": [
    "df.describe()"
   ]
  },
  {
   "attachments": {},
   "cell_type": "markdown",
   "metadata": {},
   "source": [
    "## Generating target variable\n",
    "\n",
    "To define the target variable, we will use the golden cross:\n",
    ">A golden cross is a chart pattern in which a relatively short-term moving average crosses above a long-term moving average. The golden cross is a bullish breakout pattern formed from a crossover involving a security's short-term moving average (such as the 15-day moving average) breaking above its long-term moving average (such as the 50-day moving average) or resistance level. As long-term indicators carry more weight, the golden cross indicates a bull market on the horizon and is reinforced by high trading volumes.\n",
    "\n",
    "[Golden Cross reference](https://www.investopedia.com/terms/g/goldencross.asp)\n",
    "\n",
    "- According to the golden cross rule, the signal (target) will be defined from moving averages windows\n",
    "- If the short term window > long term window, then the signal becomes 1\n",
    "\n",
    "Which goal to chose as a target:\n",
    "- 50 days SMA Is the most popular variaety of the SMA and is used as a key level for stock and index chart. It i soften used with short-period EMA such as the 10-Day to confirm pricing positions. Breakouts can be signaled when 10 days EMA moves upward the 50-day SMA. In long positions, the 5-Day SMA can signal entry/exit point to ensure maximum profits\n",
    "\n",
    "- 100 days SMA is often used to signal dip-buying opportunities. This signal cab be combined with others such as Bolliner Bands to offer greater support. for instance, when crossing th elower bands 20 band o fth eBollinger Bands the SMA-100 can indicate a long term reversal and the beginning of a bullish trend\n",
    "\n",
    "- 200 Day SMA is a long temr trendline interpreted as the last indicator of key support for bullish trends "
   ]
  },
  {
   "cell_type": "code",
   "execution_count": 127,
   "metadata": {},
   "outputs": [
    {
     "data": {
      "text/plain": [
       "1    2177\n",
       "0    1292\n",
       "Name: signal, dtype: int64"
      ]
     },
     "metadata": {},
     "output_type": "display_data"
    }
   ],
   "source": [
    "def create_golden_cross_ref_target(df, sma1, sma2, tr_id=False):\n",
    "    # Short moving average\n",
    "    df['SMA'+str(sma1)] = df['Close'].rolling(sma1).mean() \n",
    "\n",
    "    # Long moving average\n",
    "    df['SMA'+str(sma2)] = df['Close'].rolling(sma2).mean()\n",
    "\n",
    "    # Generate the target\n",
    "    df['signal'] = np.where(df['SMA'+str(sma1)] > df['SMA'+str(sma2)], 1, 0)\n",
    "    display(df['signal'].value_counts())\n",
    "\n",
    "\n",
    "def create_sell_buy_anticipation_target(df, n, tau):\n",
    "    df['min'] = df.iloc[argrelextrema(df.Close.values, np.less_equal,\n",
    "                        order=n)[0]]['Close']\n",
    "    df['max'] = df.iloc[argrelextrema(df.Close.values, np.greater_equal,\n",
    "                        order=n)[0]]['Close']\n",
    "\n",
    "    df['action'] = np.where(df['max'].notna(), \"sell\", np.where(df['min'].notna(), \"buy\", None))\n",
    "    df['action'].fillna(method='ffill', inplace=True)\n",
    "\n",
    "    # for i in range(1, z):\n",
    "    #     df.loc[df['sell'].shift(-i)==1, 'sell'] = 1 \n",
    "    #     df.loc[df['buy'].shift(i)==1, 'buy'] = 1 \n",
    "\n",
    "\n",
    "    df['signal'] = np.where(df['action'].shift(-tau) == \"buy\", 1, 0) # Shift the target by the anticipation factor\n",
    "    display(df['signal'].value_counts())\n",
    "\n",
    "\n",
    "\n",
    "# create_golden_cross_ref_target(df, 15, 50)\n",
    "create_sell_buy_anticipation_target(df, 10, 0)\n"
   ]
  },
  {
   "cell_type": "markdown",
   "metadata": {},
   "source": [
    "## Time series visualization"
   ]
  },
  {
   "cell_type": "code",
   "execution_count": 128,
   "metadata": {},
   "outputs": [
    {
     "data": {
      "application/vnd.plotly.v1+json": {
       "config": {
        "plotlyServerURL": "https://plot.ly"
       },
       "data": [
        {
         "line": {
          "width": 2
         },
         "mode": "lines",
         "name": "Close",
         "type": "scatter",
         "x": [
          "2021-01-04T00:00:00",
          "2021-01-05T00:00:00",
          "2021-01-06T00:00:00",
          "2021-01-07T00:00:00",
          "2021-01-08T00:00:00",
          "2021-01-11T00:00:00",
          "2021-01-12T00:00:00",
          "2021-01-13T00:00:00",
          "2021-01-14T00:00:00",
          "2021-01-15T00:00:00",
          "2021-01-18T00:00:00",
          "2021-01-19T00:00:00",
          "2021-01-20T00:00:00",
          "2021-01-21T00:00:00",
          "2021-01-22T00:00:00",
          "2021-01-25T00:00:00",
          "2021-01-26T00:00:00",
          "2021-01-27T00:00:00",
          "2021-01-28T00:00:00",
          "2021-01-29T00:00:00",
          "2021-02-01T00:00:00",
          "2021-02-02T00:00:00",
          "2021-02-03T00:00:00",
          "2021-02-04T00:00:00",
          "2021-02-05T00:00:00",
          "2021-02-08T00:00:00",
          "2021-02-09T00:00:00",
          "2021-02-10T00:00:00",
          "2021-02-11T00:00:00",
          "2021-02-12T00:00:00",
          "2021-02-15T00:00:00",
          "2021-02-16T00:00:00",
          "2021-02-17T00:00:00",
          "2021-02-18T00:00:00",
          "2021-02-19T00:00:00",
          "2021-02-22T00:00:00",
          "2021-02-23T00:00:00",
          "2021-02-24T00:00:00",
          "2021-02-25T00:00:00",
          "2021-02-26T00:00:00",
          "2021-03-01T00:00:00",
          "2021-03-02T00:00:00",
          "2021-03-03T00:00:00",
          "2021-03-04T00:00:00",
          "2021-03-05T00:00:00",
          "2021-03-08T00:00:00",
          "2021-03-09T00:00:00",
          "2021-03-10T00:00:00",
          "2021-03-11T00:00:00",
          "2021-03-12T00:00:00",
          "2021-03-15T00:00:00",
          "2021-03-16T00:00:00",
          "2021-03-17T00:00:00",
          "2021-03-18T00:00:00",
          "2021-03-19T00:00:00",
          "2021-03-22T00:00:00",
          "2021-03-23T00:00:00",
          "2021-03-24T00:00:00",
          "2021-03-25T00:00:00",
          "2021-03-26T00:00:00",
          "2021-03-29T00:00:00",
          "2021-03-30T00:00:00",
          "2021-03-31T00:00:00",
          "2021-04-01T00:00:00",
          "2021-04-06T00:00:00",
          "2021-04-07T00:00:00",
          "2021-04-08T00:00:00",
          "2021-04-09T00:00:00",
          "2021-04-12T00:00:00",
          "2021-04-13T00:00:00",
          "2021-04-14T00:00:00",
          "2021-04-15T00:00:00",
          "2021-04-16T00:00:00",
          "2021-04-19T00:00:00",
          "2021-04-20T00:00:00",
          "2021-04-21T00:00:00",
          "2021-04-22T00:00:00",
          "2021-04-23T00:00:00",
          "2021-04-26T00:00:00",
          "2021-04-27T00:00:00",
          "2021-04-28T00:00:00",
          "2021-04-29T00:00:00",
          "2021-04-30T00:00:00",
          "2021-05-03T00:00:00",
          "2021-05-04T00:00:00",
          "2021-05-05T00:00:00",
          "2021-05-06T00:00:00",
          "2021-05-07T00:00:00",
          "2021-05-10T00:00:00",
          "2021-05-11T00:00:00",
          "2021-05-12T00:00:00",
          "2021-05-13T00:00:00",
          "2021-05-14T00:00:00",
          "2021-05-17T00:00:00",
          "2021-05-18T00:00:00",
          "2021-05-19T00:00:00",
          "2021-05-20T00:00:00",
          "2021-05-21T00:00:00",
          "2021-05-24T00:00:00",
          "2021-05-25T00:00:00",
          "2021-05-26T00:00:00",
          "2021-05-27T00:00:00",
          "2021-05-28T00:00:00",
          "2021-05-31T00:00:00",
          "2021-06-01T00:00:00",
          "2021-06-02T00:00:00",
          "2021-06-03T00:00:00",
          "2021-06-04T00:00:00",
          "2021-06-07T00:00:00",
          "2021-06-08T00:00:00",
          "2021-06-09T00:00:00",
          "2021-06-10T00:00:00",
          "2021-06-11T00:00:00",
          "2021-06-14T00:00:00",
          "2021-06-15T00:00:00",
          "2021-06-16T00:00:00",
          "2021-06-17T00:00:00",
          "2021-06-18T00:00:00",
          "2021-06-21T00:00:00",
          "2021-06-22T00:00:00",
          "2021-06-23T00:00:00",
          "2021-06-24T00:00:00",
          "2021-06-25T00:00:00",
          "2021-06-28T00:00:00",
          "2021-06-29T00:00:00",
          "2021-06-30T00:00:00",
          "2021-07-01T00:00:00",
          "2021-07-02T00:00:00",
          "2021-07-05T00:00:00",
          "2021-07-06T00:00:00",
          "2021-07-07T00:00:00",
          "2021-07-08T00:00:00",
          "2021-07-09T00:00:00",
          "2021-07-12T00:00:00",
          "2021-07-13T00:00:00",
          "2021-07-14T00:00:00",
          "2021-07-15T00:00:00",
          "2021-07-16T00:00:00",
          "2021-07-19T00:00:00",
          "2021-07-20T00:00:00",
          "2021-07-21T00:00:00",
          "2021-07-22T00:00:00",
          "2021-07-23T00:00:00",
          "2021-07-26T00:00:00",
          "2021-07-27T00:00:00",
          "2021-07-28T00:00:00",
          "2021-07-29T00:00:00",
          "2021-07-30T00:00:00",
          "2021-08-02T00:00:00",
          "2021-08-03T00:00:00",
          "2021-08-04T00:00:00",
          "2021-08-05T00:00:00",
          "2021-08-06T00:00:00",
          "2021-08-09T00:00:00",
          "2021-08-10T00:00:00",
          "2021-08-11T00:00:00",
          "2021-08-12T00:00:00",
          "2021-08-13T00:00:00",
          "2021-08-16T00:00:00",
          "2021-08-17T00:00:00",
          "2021-08-18T00:00:00",
          "2021-08-19T00:00:00",
          "2021-08-20T00:00:00",
          "2021-08-23T00:00:00",
          "2021-08-24T00:00:00",
          "2021-08-25T00:00:00",
          "2021-08-26T00:00:00",
          "2021-08-27T00:00:00",
          "2021-08-30T00:00:00",
          "2021-08-31T00:00:00",
          "2021-09-01T00:00:00",
          "2021-09-02T00:00:00",
          "2021-09-03T00:00:00",
          "2021-09-06T00:00:00",
          "2021-09-07T00:00:00",
          "2021-09-08T00:00:00",
          "2021-09-09T00:00:00",
          "2021-09-10T00:00:00",
          "2021-09-13T00:00:00",
          "2021-09-14T00:00:00",
          "2021-09-15T00:00:00",
          "2021-09-16T00:00:00",
          "2021-09-17T00:00:00",
          "2021-09-20T00:00:00",
          "2021-09-21T00:00:00",
          "2021-09-22T00:00:00",
          "2021-09-23T00:00:00",
          "2021-09-24T00:00:00",
          "2021-09-27T00:00:00",
          "2021-09-28T00:00:00",
          "2021-09-29T00:00:00",
          "2021-09-30T00:00:00",
          "2021-10-01T00:00:00",
          "2021-10-04T00:00:00",
          "2021-10-05T00:00:00",
          "2021-10-06T00:00:00",
          "2021-10-07T00:00:00",
          "2021-10-08T00:00:00",
          "2021-10-11T00:00:00",
          "2021-10-12T00:00:00",
          "2021-10-13T00:00:00",
          "2021-10-14T00:00:00",
          "2021-10-15T00:00:00",
          "2021-10-18T00:00:00",
          "2021-10-19T00:00:00",
          "2021-10-20T00:00:00",
          "2021-10-21T00:00:00",
          "2021-10-22T00:00:00",
          "2021-10-25T00:00:00",
          "2021-10-26T00:00:00",
          "2021-10-27T00:00:00",
          "2021-10-28T00:00:00",
          "2021-10-29T00:00:00",
          "2021-11-01T00:00:00",
          "2021-11-02T00:00:00",
          "2021-11-03T00:00:00",
          "2021-11-04T00:00:00",
          "2021-11-05T00:00:00",
          "2021-11-08T00:00:00",
          "2021-11-09T00:00:00",
          "2021-11-10T00:00:00",
          "2021-11-11T00:00:00",
          "2021-11-12T00:00:00",
          "2021-11-15T00:00:00",
          "2021-11-16T00:00:00",
          "2021-11-17T00:00:00",
          "2021-11-18T00:00:00",
          "2021-11-19T00:00:00",
          "2021-11-22T00:00:00",
          "2021-11-23T00:00:00",
          "2021-11-24T00:00:00",
          "2021-11-25T00:00:00",
          "2021-11-26T00:00:00",
          "2021-11-29T00:00:00",
          "2021-11-30T00:00:00",
          "2021-12-01T00:00:00",
          "2021-12-02T00:00:00",
          "2021-12-03T00:00:00",
          "2021-12-06T00:00:00",
          "2021-12-07T00:00:00",
          "2021-12-08T00:00:00",
          "2021-12-09T00:00:00",
          "2021-12-10T00:00:00",
          "2021-12-13T00:00:00",
          "2021-12-14T00:00:00",
          "2021-12-15T00:00:00",
          "2021-12-16T00:00:00",
          "2021-12-17T00:00:00",
          "2021-12-20T00:00:00",
          "2021-12-21T00:00:00",
          "2021-12-22T00:00:00",
          "2021-12-23T00:00:00",
          "2021-12-24T00:00:00",
          "2021-12-27T00:00:00",
          "2021-12-28T00:00:00",
          "2021-12-29T00:00:00",
          "2021-12-30T00:00:00",
          "2021-12-31T00:00:00",
          "2022-01-03T00:00:00",
          "2022-01-04T00:00:00",
          "2022-01-05T00:00:00",
          "2022-01-06T00:00:00",
          "2022-01-07T00:00:00",
          "2022-01-10T00:00:00",
          "2022-01-11T00:00:00",
          "2022-01-12T00:00:00",
          "2022-01-13T00:00:00",
          "2022-01-14T00:00:00",
          "2022-01-17T00:00:00",
          "2022-01-18T00:00:00",
          "2022-01-19T00:00:00",
          "2022-01-20T00:00:00",
          "2022-01-21T00:00:00",
          "2022-01-24T00:00:00",
          "2022-01-25T00:00:00",
          "2022-01-26T00:00:00",
          "2022-01-27T00:00:00",
          "2022-01-28T00:00:00",
          "2022-01-31T00:00:00",
          "2022-02-01T00:00:00",
          "2022-02-02T00:00:00",
          "2022-02-03T00:00:00",
          "2022-02-04T00:00:00",
          "2022-02-07T00:00:00",
          "2022-02-08T00:00:00",
          "2022-02-09T00:00:00",
          "2022-02-10T00:00:00",
          "2022-02-11T00:00:00",
          "2022-02-14T00:00:00",
          "2022-02-15T00:00:00",
          "2022-02-16T00:00:00",
          "2022-02-17T00:00:00",
          "2022-02-18T00:00:00",
          "2022-02-21T00:00:00",
          "2022-02-22T00:00:00",
          "2022-02-23T00:00:00",
          "2022-02-24T00:00:00",
          "2022-02-25T00:00:00",
          "2022-02-28T00:00:00",
          "2022-03-01T00:00:00",
          "2022-03-02T00:00:00",
          "2022-03-03T00:00:00",
          "2022-03-04T00:00:00",
          "2022-03-07T00:00:00",
          "2022-03-08T00:00:00",
          "2022-03-09T00:00:00",
          "2022-03-10T00:00:00",
          "2022-03-11T00:00:00",
          "2022-03-14T00:00:00",
          "2022-03-15T00:00:00",
          "2022-03-16T00:00:00",
          "2022-03-17T00:00:00",
          "2022-03-18T00:00:00",
          "2022-03-21T00:00:00",
          "2022-03-22T00:00:00",
          "2022-03-23T00:00:00",
          "2022-03-24T00:00:00",
          "2022-03-25T00:00:00",
          "2022-03-28T00:00:00",
          "2022-03-29T00:00:00",
          "2022-03-30T00:00:00",
          "2022-03-31T00:00:00",
          "2022-04-01T00:00:00",
          "2022-04-04T00:00:00",
          "2022-04-05T00:00:00",
          "2022-04-06T00:00:00",
          "2022-04-07T00:00:00",
          "2022-04-08T00:00:00",
          "2022-04-11T00:00:00",
          "2022-04-12T00:00:00",
          "2022-04-13T00:00:00",
          "2022-04-14T00:00:00",
          "2022-04-19T00:00:00",
          "2022-04-20T00:00:00",
          "2022-04-21T00:00:00",
          "2022-04-22T00:00:00",
          "2022-04-25T00:00:00",
          "2022-04-26T00:00:00",
          "2022-04-27T00:00:00",
          "2022-04-28T00:00:00",
          "2022-04-29T00:00:00",
          "2022-05-02T00:00:00",
          "2022-05-03T00:00:00",
          "2022-05-04T00:00:00",
          "2022-05-05T00:00:00",
          "2022-05-06T00:00:00",
          "2022-05-09T00:00:00",
          "2022-05-10T00:00:00",
          "2022-05-11T00:00:00",
          "2022-05-12T00:00:00",
          "2022-05-13T00:00:00",
          "2022-05-16T00:00:00",
          "2022-05-17T00:00:00",
          "2022-05-18T00:00:00",
          "2022-05-19T00:00:00",
          "2022-05-20T00:00:00",
          "2022-05-23T00:00:00",
          "2022-05-24T00:00:00",
          "2022-05-25T00:00:00",
          "2022-05-26T00:00:00",
          "2022-05-27T00:00:00",
          "2022-05-30T00:00:00",
          "2022-05-31T00:00:00",
          "2022-06-01T00:00:00",
          "2022-06-02T00:00:00",
          "2022-06-03T00:00:00",
          "2022-06-06T00:00:00",
          "2022-06-07T00:00:00",
          "2022-06-08T00:00:00",
          "2022-06-09T00:00:00",
          "2022-06-10T00:00:00",
          "2022-06-13T00:00:00",
          "2022-06-14T00:00:00",
          "2022-06-15T00:00:00",
          "2022-06-16T00:00:00",
          "2022-06-17T00:00:00",
          "2022-06-20T00:00:00",
          "2022-06-21T00:00:00",
          "2022-06-22T00:00:00",
          "2022-06-23T00:00:00",
          "2022-06-24T00:00:00",
          "2022-06-27T00:00:00",
          "2022-06-28T00:00:00",
          "2022-06-29T00:00:00",
          "2022-06-30T00:00:00",
          "2022-07-01T00:00:00",
          "2022-07-04T00:00:00",
          "2022-07-05T00:00:00",
          "2022-07-06T00:00:00",
          "2022-07-07T00:00:00",
          "2022-07-08T00:00:00",
          "2022-07-11T00:00:00",
          "2022-07-12T00:00:00",
          "2022-07-13T00:00:00",
          "2022-07-14T00:00:00",
          "2022-07-15T00:00:00",
          "2022-07-18T00:00:00",
          "2022-07-19T00:00:00",
          "2022-07-20T00:00:00",
          "2022-07-21T00:00:00",
          "2022-07-22T00:00:00",
          "2022-07-25T00:00:00",
          "2022-07-26T00:00:00",
          "2022-07-27T00:00:00",
          "2022-07-28T00:00:00",
          "2022-07-29T00:00:00",
          "2022-08-01T00:00:00",
          "2022-08-02T00:00:00",
          "2022-08-03T00:00:00",
          "2022-08-04T00:00:00",
          "2022-08-05T00:00:00",
          "2022-08-08T00:00:00",
          "2022-08-09T00:00:00",
          "2022-08-10T00:00:00",
          "2022-08-11T00:00:00",
          "2022-08-12T00:00:00",
          "2022-08-15T00:00:00",
          "2022-08-16T00:00:00",
          "2022-08-17T00:00:00",
          "2022-08-18T00:00:00",
          "2022-08-19T00:00:00",
          "2022-08-22T00:00:00",
          "2022-08-23T00:00:00",
          "2022-08-24T00:00:00",
          "2022-08-25T00:00:00",
          "2022-08-26T00:00:00",
          "2022-08-29T00:00:00",
          "2022-08-30T00:00:00",
          "2022-08-31T00:00:00",
          "2022-09-01T00:00:00",
          "2022-09-02T00:00:00",
          "2022-09-05T00:00:00",
          "2022-09-06T00:00:00",
          "2022-09-07T00:00:00",
          "2022-09-08T00:00:00",
          "2022-09-09T00:00:00",
          "2022-09-12T00:00:00",
          "2022-09-13T00:00:00",
          "2022-09-14T00:00:00",
          "2022-09-15T00:00:00",
          "2022-09-16T00:00:00",
          "2022-09-19T00:00:00",
          "2022-09-20T00:00:00",
          "2022-09-21T00:00:00",
          "2022-09-22T00:00:00",
          "2022-09-23T00:00:00",
          "2022-09-26T00:00:00",
          "2022-09-27T00:00:00",
          "2022-09-28T00:00:00",
          "2022-09-29T00:00:00",
          "2022-09-30T00:00:00",
          "2022-10-03T00:00:00",
          "2022-10-04T00:00:00",
          "2022-10-05T00:00:00",
          "2022-10-06T00:00:00",
          "2022-10-07T00:00:00",
          "2022-10-10T00:00:00",
          "2022-10-11T00:00:00",
          "2022-10-12T00:00:00",
          "2022-10-13T00:00:00",
          "2022-10-14T00:00:00",
          "2022-10-17T00:00:00",
          "2022-10-18T00:00:00",
          "2022-10-19T00:00:00",
          "2022-10-20T00:00:00",
          "2022-10-21T00:00:00",
          "2022-10-24T00:00:00",
          "2022-10-25T00:00:00",
          "2022-10-26T00:00:00",
          "2022-10-27T00:00:00",
          "2022-10-28T00:00:00",
          "2022-10-31T00:00:00",
          "2022-11-01T00:00:00",
          "2022-11-02T00:00:00",
          "2022-11-03T00:00:00",
          "2022-11-04T00:00:00",
          "2022-11-07T00:00:00",
          "2022-11-08T00:00:00",
          "2022-11-09T00:00:00",
          "2022-11-10T00:00:00",
          "2022-11-11T00:00:00",
          "2022-11-14T00:00:00",
          "2022-11-15T00:00:00",
          "2022-11-16T00:00:00",
          "2022-11-17T00:00:00",
          "2022-11-18T00:00:00",
          "2022-11-21T00:00:00",
          "2022-11-22T00:00:00",
          "2022-11-23T00:00:00",
          "2022-11-24T00:00:00",
          "2022-11-25T00:00:00",
          "2022-11-28T00:00:00",
          "2022-11-29T00:00:00",
          "2022-11-30T00:00:00",
          "2022-12-01T00:00:00",
          "2022-12-02T00:00:00",
          "2022-12-05T00:00:00",
          "2022-12-06T00:00:00",
          "2022-12-07T00:00:00",
          "2022-12-08T00:00:00",
          "2022-12-09T00:00:00",
          "2022-12-12T00:00:00",
          "2022-12-13T00:00:00",
          "2022-12-14T00:00:00",
          "2022-12-15T00:00:00",
          "2022-12-16T00:00:00",
          "2022-12-19T00:00:00",
          "2022-12-20T00:00:00",
          "2022-12-21T00:00:00",
          "2022-12-22T00:00:00",
          "2022-12-23T00:00:00",
          "2022-12-27T00:00:00",
          "2022-12-28T00:00:00",
          "2022-12-29T00:00:00",
          "2022-12-30T00:00:00"
         ],
         "y": [
          327.29010009765625,
          327.6839904785156,
          332.5303955078125,
          334.63848876953125,
          337.0273132324219,
          338.3598937988281,
          338.0751953125,
          338.8756103515625,
          340.6243896484375,
          337.8829040527344,
          338.3641052246094,
          337.918701171875,
          342.4789123535156,
          342.6400146484375,
          340.033203125,
          339.4797058105469,
          341.2121887207031,
          336.9656066894531,
          337.56329345703125,
          330.7618103027344,
          334.993408203125,
          342.20001220703125,
          342.6651916503906,
          345.6642150878906,
          346.80828857421875,
          348.13250732421875,
          347.7323913574219,
          346.69879150390625,
          348.2795104980469,
          349.4309997558594,
          352.4613952636719,
          351.4580993652344,
          350.3399963378906,
          348.2908020019531,
          349.5799865722656,
          346.0790100097656,
          343.5513916015625,
          346.81060791015625,
          343.36749267578125,
          341.0456848144531,
          347.5710144042969,
          345.6747131347656,
          344.94000244140625,
          342.21319580078125,
          338.3887939453125,
          349.3572082519531,
          350.8742980957031,
          352.1000061035156,
          354.06719970703125,
          352.65240478515625,
          354.7239990234375,
          358.10699462890625,
          355.8821105957031,
          357.1062927246094,
          354.42449951171875,
          355.1451110839844,
          355.9014892578125,
          355.3900146484375,
          354.4017028808594,
          357.7934875488281,
          359.1820983886719,
          360.95330810546875,
          361.6300048828125,
          363.4519958496094,
          366.89849853515625,
          365.0610046386719,
          367,
          368.0242004394531,
          368.0028076171875,
          368.6400146484375,
          368.6355895996094,
          370.54119873046875,
          371.7095031738281,
          369.36700439453125,
          364.3641052246094,
          367.25469970703125,
          369.7710876464844,
          368.6242980957031,
          369.6318054199219,
          369.110595703125,
          368.9879150390625,
          368.13531494140625,
          369.02789306640625,
          369.95001220703125,
          365.2023010253906,
          370.4501953125,
          368.5799865722656,
          371.0592956542969,
          370.4639892578125,
          363.33990478515625,
          362.0152893066406,
          362.31988525390625,
          365.6877136230469,
          364.27410888671875,
          364.5,
          358.076904296875,
          364.5190124511719,
          366.3081970214844,
          367.9718933105469,
          366.41009521484375,
          368.0791015625,
          369.14520263671875,
          370.4342041015625,
          367.8713073730469,
          368.8020935058594,
          370.55859375,
          371.1893005371094,
          372.2297058105469,
          372.04998779296875,
          372.25311279296875,
          372.9309997558594,
          373.8900146484375,
          376.3735046386719,
          375.9482116699219,
          376.3048095703125,
          377.2300109863281,
          380.8230895996094,
          377.414794921875,
          379.21661376953125,
          381.3393859863281,
          379.9092102050781,
          382.5504150390625,
          383.2698059082031,
          383.0069885253906,
          384.9200134277344,
          384.9678039550781,
          386.048095703125,
          388.41241455078125,
          389.5491943359375,
          388.3716125488281,
          391.1155090332031,
          385.70440673828125,
          390.01519775390625,
          391.4115905761719,
          393.5483093261719,
          391.8363037109375,
          390.65899658203125,
          389.24969482421875,
          381.57000732421875,
          386.7554016113281,
          389.6542053222656,
          391.4578857421875,
          395.7825012207031,
          395.0965881347656,
          391.4088134765625,
          394.2799072265625,
          394.3688049316406,
          392.37908935546875,
          393.93280029296875,
          393.20001220703125,
          395.1661071777344,
          396.69061279296875,
          399.0376892089844,
          399.565185546875,
          400.935302734375,
          401.21868896484375,
          401.8660888671875,
          401.4468078613281,
          400.03118896484375,
          401.276611328125,
          401.3799133300781,
          397.26019287109375,
          399.79681396484375,
          402.5513000488281,
          402.9413146972656,
          403.3070068359375,
          401.92120361328125,
          403.1365051269531,
          405.0574035644531,
          404.2455139160156,
          404.0365905761719,
          404.8301086425781,
          404.4075927734375,
          406.9070129394531,
          404.9414978027344,
          403.4273986816406,
          404.1813049316406,
          402.11761474609375,
          401.56988525390625,
          401,
          399.980712890625,
          401.9800109863281,
          400.76611328125,
          393.57659912109375,
          396.4142150878906,
          398.61090087890625,
          402.3265075683594,
          401.4866943359375,
          401.7063903808594,
          394.36041259765625,
          397.5086975097656,
          396.3962097167969,
          394.1026916503906,
          389.6964111328125,
          396.18170166015625,
          393.5841979980469,
          402.20001220703125,
          400.4103088378906,
          401.45001220703125,
          398.6600036621094,
          397.44000244140625,
          403.8982849121094,
          407.0549011230469,
          407.2699890136719,
          409.45318603515625,
          410.77850341796875,
          410.05120849609375,
          411.0660095214844,
          413.4599914550781,
          416.435302734375,
          414.5625915527344,
          413.2698974609375,
          417.1520080566406,
          418.0530090332031,
          419.5296936035156,
          419.54510498046875,
          423.909912109375,
          426.0903015136719,
          425.037109375,
          423.6119079589844,
          425.1300048828125,
          425.4914855957031,
          428.2267150878906,
          430.0119934082031,
          433.82000732421875,
          433.50421142578125,
          432.0299987792969,
          433.6000061035156,
          435.96990966796875,
          430.0299987792969,
          433.7406921386719,
          434.902099609375,
          420.2900085449219,
          425.0199890136719,
          419.7427062988281,
          424.2298889160156,
          416.7898864746094,
          415.677001953125,
          420.4154052734375,
          431.6600036621094,
          427.1600036621094,
          429.7174072265625,
          427.2880859375,
          426.5874938964844,
          422.69580078125,
          422.8529052734375,
          428.4053039550781,
          425.4195861816406,
          415.889892578125,
          423.0653076171875,
          427.1954040527344,
          431.9057922363281,
          431.56561279296875,
          434.44970703125,
          436.79998779296875,
          434.91259765625,
          437.0380859375,
          434.9754943847656,
          435.9898986816406,
          437.95660400390625,
          436.6000061035156,
          429.9147033691406,
          426.76708984375,
          420.91778564453125,
          426.14459228515625,
          428.3505859375,
          427.06988525390625,
          421.1044921875,
          424.5535888671875,
          419.8966979980469,
          418.13519287109375,
          421.5596923828125,
          411.82989501953125,
          395.1344909667969,
          399.54949951171875,
          407.5502014160156,
          409.7383117675781,
          405.3077087402344,
          413.2698974609375,
          416.3160095214844,
          417.48968505859375,
          409.6199951171875,
          405.07000732421875,
          408.0726013183594,
          409.98638916015625,
          415.6299133300781,
          413.0799865722656,
          410.5054016113281,
          406.2774963378906,
          409.8196105957031,
          408.010009765625,
          406.24969482421875,
          401.26470947265625,
          396.898193359375,
          398.08709716796875,
          395.5606994628906,
          390.41650390625,
          402.6943054199219,
          404.6614990234375,
          402.210693359375,
          406.3138122558594,
          405.83599853515625,
          401.96728515625,
          400.0000915527344,
          391.44439697265625,
          397.35009765625,
          394.4607849121094,
          398.5889892578125,
          394.42919921875,
          398.1098937988281,
          405.79998779296875,
          407.34759521484375,
          413.7674865722656,
          416.69000244140625,
          421.01458740234375,
          420.2204895019531,
          419.97979736328125,
          422.3388977050781,
          423.53369140625,
          426.3609924316406,
          424.7026062011719,
          423.98150634765625,
          422.67999267578125,
          427.5459899902344,
          429.0445861816406,
          420.7969055175781,
          419.431396484375,
          425.47698974609375,
          419.1980895996094,
          421.2738037109375,
          419.08349609375,
          421.9486999511719,
          422.1221923828125,
          422.6600036621094,
          422.9903869628906,
          412.6322021484375,
          405.82000732421875,
          406.00860595703125,
          409.4696960449219,
          412.0141906738281,
          412.6582946777344,
          404.15679931640625,
          410.0787048339844,
          404.7716979980469,
          405.57000732421875,
          399.9432067871094,
          389.5505065917969,
          387.01190185546875,
          391.75360107421875,
          388.41241455078125,
          397.2699890136719,
          395.7799987792969,
          398.2799987792969,
          392.4024963378906,
          384.6440124511719,
          383.9866027832031,
          388.3526916503906,
          379.5188903808594,
          386.43670654296875,
          392.0159912109375,
          399.5766906738281,
          402.28338623046875,
          396.2379150390625,
          397.9407043457031,
          398.91259765625,
          397.69970703125,
          401.1471862792969,
          399.89208984375,
          400.5627136230469,
          396.83050537109375,
          384.9339904785156,
          375.4851989746094,
          372.6575012207031,
          375.5220947265625,
          364.69000244140625,
          364.6059875488281,
          366.4028015136719,
          370.5098876953125,
          369.81298828125,
          370.5227966308594,
          379.1453857421875,
          380.6000061035156,
          380.55419921875,
          377.2589111328125,
          373.4429016113281,
          375.252685546875,
          377.25201416015625,
          376.1199035644531,
          384.760009765625,
          392.3309020996094,
          394.3340148925781,
          392.07659912109375,
          393.0270080566406,
          386.8277893066406,
          383.6954040527344,
          390.71270751953125,
          392.4360046386719,
          392.8077087402344,
          398.206298828125,
          399.330810546875,
          398.9018859863281,
          398.9317932128906,
          398.1659851074219,
          402.37200927734375,
          407.714111328125,
          411.2294921875,
          412.2025146484375,
          412.3877868652344,
          416.4877014160156,
          414.9389953613281,
          414.077392578125,
          417.0047912597656,
          412.4996032714844,
          416.2007141113281,
          418.8965148925781,
          422.6991882324219,
          427.54058837890625,
          429.614501953125,
          425.83551025390625,
          429.1943054199219,
          426.6310119628906,
          424.0210876464844,
          421.20001220703125,
          422.78741455078125,
          424.5624084472656,
          418.7255859375,
          411.4053955078125,
          407.1134033203125,
          403.5846862792969,
          400.97869873046875,
          406.6249084472656,
          403.99249267578125,
          403.70001220703125,
          401.96270751953125,
          407.7322998046875,
          410.7651062011719,
          413.664306640625,
          406.45001220703125,
          403.297607421875,
          400.97509765625,
          393.4367980957031,
          394.6099853515625,
          394.09759521484375,
          398.680908203125,
          390.1553039550781,
          385.60009765625,
          386.4836120605469,
          386.3941955566406,
          387.6698913574219,
          378.1856994628906,
          380.84149169921875,
          380.6600036621094,
          388.1686096191406,
          387.5835876464844,
          390.5743103027344,
          382.6108093261719,
          380.81280517578125,
          378.3785095214844,
          377.0804138183594,
          377.6272888183594,
          378.58538818359375,
          382.3507995605469,
          383.50140380859375,
          384.8122863769531,
          385.45709228515625,
          383.7580871582031,
          388.17999267578125,
          392.0387878417969,
          392.6249084472656,
          391.5331115722656,
          394.55950927734375,
          397.1400146484375,
          398.2828063964844,
          395.764892578125,
          391.5199890136719,
          388.13580322265625,
          389.8216857910156,
          393.5574035644531,
          389.17291259765625,
          397.9562072753906,
          396.92559814453125,
          398.35888671875,
          400.6438903808594,
          395.1164855957031,
          393.3888854980469,
          396.23291015625,
          397.6072998046875,
          400.45550537109375,
          401.6626892089844,
          402.3039855957031,
          401.794189453125,
          398.7847900390625,
          396.30999755859375,
          398.8500061035156,
          402.6300048828125,
          401.18951416015625,
          397.6878967285156,
          392.2799987792969,
          389.7925109863281,
          390.7073059082031,
          392.59698486328125,
          391.15350341796875,
          396.69580078125,
          396.0260009765625,
          382.18170166015625,
          379.26800537109375,
          377.6148986816406,
          376.29058837890625,
          382.91009521484375,
          377.12310791015625,
          377.75640869140625,
          378.1527099609375,
          376.0712890625,
          378.989990234375,
          375.1888122558594
         ]
        },
        {
         "marker": {
          "color": "green"
         },
         "mode": "markers",
         "name": "min",
         "type": "scatter",
         "x": [
          "2021-01-04T00:00:00",
          "2021-01-05T00:00:00",
          "2021-01-06T00:00:00",
          "2021-01-07T00:00:00",
          "2021-01-08T00:00:00",
          "2021-01-11T00:00:00",
          "2021-01-12T00:00:00",
          "2021-01-13T00:00:00",
          "2021-01-14T00:00:00",
          "2021-01-15T00:00:00",
          "2021-01-18T00:00:00",
          "2021-01-19T00:00:00",
          "2021-01-20T00:00:00",
          "2021-01-21T00:00:00",
          "2021-01-22T00:00:00",
          "2021-01-25T00:00:00",
          "2021-01-26T00:00:00",
          "2021-01-27T00:00:00",
          "2021-01-28T00:00:00",
          "2021-01-29T00:00:00",
          "2021-02-01T00:00:00",
          "2021-02-02T00:00:00",
          "2021-02-03T00:00:00",
          "2021-02-04T00:00:00",
          "2021-02-05T00:00:00",
          "2021-02-08T00:00:00",
          "2021-02-09T00:00:00",
          "2021-02-10T00:00:00",
          "2021-02-11T00:00:00",
          "2021-02-12T00:00:00",
          "2021-02-15T00:00:00",
          "2021-02-16T00:00:00",
          "2021-02-17T00:00:00",
          "2021-02-18T00:00:00",
          "2021-02-19T00:00:00",
          "2021-02-22T00:00:00",
          "2021-02-23T00:00:00",
          "2021-02-24T00:00:00",
          "2021-02-25T00:00:00",
          "2021-02-26T00:00:00",
          "2021-03-01T00:00:00",
          "2021-03-02T00:00:00",
          "2021-03-03T00:00:00",
          "2021-03-04T00:00:00",
          "2021-03-05T00:00:00",
          "2021-03-08T00:00:00",
          "2021-03-09T00:00:00",
          "2021-03-10T00:00:00",
          "2021-03-11T00:00:00",
          "2021-03-12T00:00:00",
          "2021-03-15T00:00:00",
          "2021-03-16T00:00:00",
          "2021-03-17T00:00:00",
          "2021-03-18T00:00:00",
          "2021-03-19T00:00:00",
          "2021-03-22T00:00:00",
          "2021-03-23T00:00:00",
          "2021-03-24T00:00:00",
          "2021-03-25T00:00:00",
          "2021-03-26T00:00:00",
          "2021-03-29T00:00:00",
          "2021-03-30T00:00:00",
          "2021-03-31T00:00:00",
          "2021-04-01T00:00:00",
          "2021-04-06T00:00:00",
          "2021-04-07T00:00:00",
          "2021-04-08T00:00:00",
          "2021-04-09T00:00:00",
          "2021-04-12T00:00:00",
          "2021-04-13T00:00:00",
          "2021-04-14T00:00:00",
          "2021-04-15T00:00:00",
          "2021-04-16T00:00:00",
          "2021-04-19T00:00:00",
          "2021-04-20T00:00:00",
          "2021-04-21T00:00:00",
          "2021-04-22T00:00:00",
          "2021-04-23T00:00:00",
          "2021-04-26T00:00:00",
          "2021-04-27T00:00:00",
          "2021-04-28T00:00:00",
          "2021-04-29T00:00:00",
          "2021-04-30T00:00:00",
          "2021-05-03T00:00:00",
          "2021-05-04T00:00:00",
          "2021-05-05T00:00:00",
          "2021-05-06T00:00:00",
          "2021-05-07T00:00:00",
          "2021-05-10T00:00:00",
          "2021-05-11T00:00:00",
          "2021-05-12T00:00:00",
          "2021-05-13T00:00:00",
          "2021-05-14T00:00:00",
          "2021-05-17T00:00:00",
          "2021-05-18T00:00:00",
          "2021-05-19T00:00:00",
          "2021-05-20T00:00:00",
          "2021-05-21T00:00:00",
          "2021-05-24T00:00:00",
          "2021-05-25T00:00:00",
          "2021-05-26T00:00:00",
          "2021-05-27T00:00:00",
          "2021-05-28T00:00:00",
          "2021-05-31T00:00:00",
          "2021-06-01T00:00:00",
          "2021-06-02T00:00:00",
          "2021-06-03T00:00:00",
          "2021-06-04T00:00:00",
          "2021-06-07T00:00:00",
          "2021-06-08T00:00:00",
          "2021-06-09T00:00:00",
          "2021-06-10T00:00:00",
          "2021-06-11T00:00:00",
          "2021-06-14T00:00:00",
          "2021-06-15T00:00:00",
          "2021-06-16T00:00:00",
          "2021-06-17T00:00:00",
          "2021-06-18T00:00:00",
          "2021-06-21T00:00:00",
          "2021-06-22T00:00:00",
          "2021-06-23T00:00:00",
          "2021-06-24T00:00:00",
          "2021-06-25T00:00:00",
          "2021-06-28T00:00:00",
          "2021-06-29T00:00:00",
          "2021-06-30T00:00:00",
          "2021-07-01T00:00:00",
          "2021-07-02T00:00:00",
          "2021-07-05T00:00:00",
          "2021-07-06T00:00:00",
          "2021-07-07T00:00:00",
          "2021-07-08T00:00:00",
          "2021-07-09T00:00:00",
          "2021-07-12T00:00:00",
          "2021-07-13T00:00:00",
          "2021-07-14T00:00:00",
          "2021-07-15T00:00:00",
          "2021-07-16T00:00:00",
          "2021-07-19T00:00:00",
          "2021-07-20T00:00:00",
          "2021-07-21T00:00:00",
          "2021-07-22T00:00:00",
          "2021-07-23T00:00:00",
          "2021-07-26T00:00:00",
          "2021-07-27T00:00:00",
          "2021-07-28T00:00:00",
          "2021-07-29T00:00:00",
          "2021-07-30T00:00:00",
          "2021-08-02T00:00:00",
          "2021-08-03T00:00:00",
          "2021-08-04T00:00:00",
          "2021-08-05T00:00:00",
          "2021-08-06T00:00:00",
          "2021-08-09T00:00:00",
          "2021-08-10T00:00:00",
          "2021-08-11T00:00:00",
          "2021-08-12T00:00:00",
          "2021-08-13T00:00:00",
          "2021-08-16T00:00:00",
          "2021-08-17T00:00:00",
          "2021-08-18T00:00:00",
          "2021-08-19T00:00:00",
          "2021-08-20T00:00:00",
          "2021-08-23T00:00:00",
          "2021-08-24T00:00:00",
          "2021-08-25T00:00:00",
          "2021-08-26T00:00:00",
          "2021-08-27T00:00:00",
          "2021-08-30T00:00:00",
          "2021-08-31T00:00:00",
          "2021-09-01T00:00:00",
          "2021-09-02T00:00:00",
          "2021-09-03T00:00:00",
          "2021-09-06T00:00:00",
          "2021-09-07T00:00:00",
          "2021-09-08T00:00:00",
          "2021-09-09T00:00:00",
          "2021-09-10T00:00:00",
          "2021-09-13T00:00:00",
          "2021-09-14T00:00:00",
          "2021-09-15T00:00:00",
          "2021-09-16T00:00:00",
          "2021-09-17T00:00:00",
          "2021-09-20T00:00:00",
          "2021-09-21T00:00:00",
          "2021-09-22T00:00:00",
          "2021-09-23T00:00:00",
          "2021-09-24T00:00:00",
          "2021-09-27T00:00:00",
          "2021-09-28T00:00:00",
          "2021-09-29T00:00:00",
          "2021-09-30T00:00:00",
          "2021-10-01T00:00:00",
          "2021-10-04T00:00:00",
          "2021-10-05T00:00:00",
          "2021-10-06T00:00:00",
          "2021-10-07T00:00:00",
          "2021-10-08T00:00:00",
          "2021-10-11T00:00:00",
          "2021-10-12T00:00:00",
          "2021-10-13T00:00:00",
          "2021-10-14T00:00:00",
          "2021-10-15T00:00:00",
          "2021-10-18T00:00:00",
          "2021-10-19T00:00:00",
          "2021-10-20T00:00:00",
          "2021-10-21T00:00:00",
          "2021-10-22T00:00:00",
          "2021-10-25T00:00:00",
          "2021-10-26T00:00:00",
          "2021-10-27T00:00:00",
          "2021-10-28T00:00:00",
          "2021-10-29T00:00:00",
          "2021-11-01T00:00:00",
          "2021-11-02T00:00:00",
          "2021-11-03T00:00:00",
          "2021-11-04T00:00:00",
          "2021-11-05T00:00:00",
          "2021-11-08T00:00:00",
          "2021-11-09T00:00:00",
          "2021-11-10T00:00:00",
          "2021-11-11T00:00:00",
          "2021-11-12T00:00:00",
          "2021-11-15T00:00:00",
          "2021-11-16T00:00:00",
          "2021-11-17T00:00:00",
          "2021-11-18T00:00:00",
          "2021-11-19T00:00:00",
          "2021-11-22T00:00:00",
          "2021-11-23T00:00:00",
          "2021-11-24T00:00:00",
          "2021-11-25T00:00:00",
          "2021-11-26T00:00:00",
          "2021-11-29T00:00:00",
          "2021-11-30T00:00:00",
          "2021-12-01T00:00:00",
          "2021-12-02T00:00:00",
          "2021-12-03T00:00:00",
          "2021-12-06T00:00:00",
          "2021-12-07T00:00:00",
          "2021-12-08T00:00:00",
          "2021-12-09T00:00:00",
          "2021-12-10T00:00:00",
          "2021-12-13T00:00:00",
          "2021-12-14T00:00:00",
          "2021-12-15T00:00:00",
          "2021-12-16T00:00:00",
          "2021-12-17T00:00:00",
          "2021-12-20T00:00:00",
          "2021-12-21T00:00:00",
          "2021-12-22T00:00:00",
          "2021-12-23T00:00:00",
          "2021-12-24T00:00:00",
          "2021-12-27T00:00:00",
          "2021-12-28T00:00:00",
          "2021-12-29T00:00:00",
          "2021-12-30T00:00:00",
          "2021-12-31T00:00:00",
          "2022-01-03T00:00:00",
          "2022-01-04T00:00:00",
          "2022-01-05T00:00:00",
          "2022-01-06T00:00:00",
          "2022-01-07T00:00:00",
          "2022-01-10T00:00:00",
          "2022-01-11T00:00:00",
          "2022-01-12T00:00:00",
          "2022-01-13T00:00:00",
          "2022-01-14T00:00:00",
          "2022-01-17T00:00:00",
          "2022-01-18T00:00:00",
          "2022-01-19T00:00:00",
          "2022-01-20T00:00:00",
          "2022-01-21T00:00:00",
          "2022-01-24T00:00:00",
          "2022-01-25T00:00:00",
          "2022-01-26T00:00:00",
          "2022-01-27T00:00:00",
          "2022-01-28T00:00:00",
          "2022-01-31T00:00:00",
          "2022-02-01T00:00:00",
          "2022-02-02T00:00:00",
          "2022-02-03T00:00:00",
          "2022-02-04T00:00:00",
          "2022-02-07T00:00:00",
          "2022-02-08T00:00:00",
          "2022-02-09T00:00:00",
          "2022-02-10T00:00:00",
          "2022-02-11T00:00:00",
          "2022-02-14T00:00:00",
          "2022-02-15T00:00:00",
          "2022-02-16T00:00:00",
          "2022-02-17T00:00:00",
          "2022-02-18T00:00:00",
          "2022-02-21T00:00:00",
          "2022-02-22T00:00:00",
          "2022-02-23T00:00:00",
          "2022-02-24T00:00:00",
          "2022-02-25T00:00:00",
          "2022-02-28T00:00:00",
          "2022-03-01T00:00:00",
          "2022-03-02T00:00:00",
          "2022-03-03T00:00:00",
          "2022-03-04T00:00:00",
          "2022-03-07T00:00:00",
          "2022-03-08T00:00:00",
          "2022-03-09T00:00:00",
          "2022-03-10T00:00:00",
          "2022-03-11T00:00:00",
          "2022-03-14T00:00:00",
          "2022-03-15T00:00:00",
          "2022-03-16T00:00:00",
          "2022-03-17T00:00:00",
          "2022-03-18T00:00:00",
          "2022-03-21T00:00:00",
          "2022-03-22T00:00:00",
          "2022-03-23T00:00:00",
          "2022-03-24T00:00:00",
          "2022-03-25T00:00:00",
          "2022-03-28T00:00:00",
          "2022-03-29T00:00:00",
          "2022-03-30T00:00:00",
          "2022-03-31T00:00:00",
          "2022-04-01T00:00:00",
          "2022-04-04T00:00:00",
          "2022-04-05T00:00:00",
          "2022-04-06T00:00:00",
          "2022-04-07T00:00:00",
          "2022-04-08T00:00:00",
          "2022-04-11T00:00:00",
          "2022-04-12T00:00:00",
          "2022-04-13T00:00:00",
          "2022-04-14T00:00:00",
          "2022-04-19T00:00:00",
          "2022-04-20T00:00:00",
          "2022-04-21T00:00:00",
          "2022-04-22T00:00:00",
          "2022-04-25T00:00:00",
          "2022-04-26T00:00:00",
          "2022-04-27T00:00:00",
          "2022-04-28T00:00:00",
          "2022-04-29T00:00:00",
          "2022-05-02T00:00:00",
          "2022-05-03T00:00:00",
          "2022-05-04T00:00:00",
          "2022-05-05T00:00:00",
          "2022-05-06T00:00:00",
          "2022-05-09T00:00:00",
          "2022-05-10T00:00:00",
          "2022-05-11T00:00:00",
          "2022-05-12T00:00:00",
          "2022-05-13T00:00:00",
          "2022-05-16T00:00:00",
          "2022-05-17T00:00:00",
          "2022-05-18T00:00:00",
          "2022-05-19T00:00:00",
          "2022-05-20T00:00:00",
          "2022-05-23T00:00:00",
          "2022-05-24T00:00:00",
          "2022-05-25T00:00:00",
          "2022-05-26T00:00:00",
          "2022-05-27T00:00:00",
          "2022-05-30T00:00:00",
          "2022-05-31T00:00:00",
          "2022-06-01T00:00:00",
          "2022-06-02T00:00:00",
          "2022-06-03T00:00:00",
          "2022-06-06T00:00:00",
          "2022-06-07T00:00:00",
          "2022-06-08T00:00:00",
          "2022-06-09T00:00:00",
          "2022-06-10T00:00:00",
          "2022-06-13T00:00:00",
          "2022-06-14T00:00:00",
          "2022-06-15T00:00:00",
          "2022-06-16T00:00:00",
          "2022-06-17T00:00:00",
          "2022-06-20T00:00:00",
          "2022-06-21T00:00:00",
          "2022-06-22T00:00:00",
          "2022-06-23T00:00:00",
          "2022-06-24T00:00:00",
          "2022-06-27T00:00:00",
          "2022-06-28T00:00:00",
          "2022-06-29T00:00:00",
          "2022-06-30T00:00:00",
          "2022-07-01T00:00:00",
          "2022-07-04T00:00:00",
          "2022-07-05T00:00:00",
          "2022-07-06T00:00:00",
          "2022-07-07T00:00:00",
          "2022-07-08T00:00:00",
          "2022-07-11T00:00:00",
          "2022-07-12T00:00:00",
          "2022-07-13T00:00:00",
          "2022-07-14T00:00:00",
          "2022-07-15T00:00:00",
          "2022-07-18T00:00:00",
          "2022-07-19T00:00:00",
          "2022-07-20T00:00:00",
          "2022-07-21T00:00:00",
          "2022-07-22T00:00:00",
          "2022-07-25T00:00:00",
          "2022-07-26T00:00:00",
          "2022-07-27T00:00:00",
          "2022-07-28T00:00:00",
          "2022-07-29T00:00:00",
          "2022-08-01T00:00:00",
          "2022-08-02T00:00:00",
          "2022-08-03T00:00:00",
          "2022-08-04T00:00:00",
          "2022-08-05T00:00:00",
          "2022-08-08T00:00:00",
          "2022-08-09T00:00:00",
          "2022-08-10T00:00:00",
          "2022-08-11T00:00:00",
          "2022-08-12T00:00:00",
          "2022-08-15T00:00:00",
          "2022-08-16T00:00:00",
          "2022-08-17T00:00:00",
          "2022-08-18T00:00:00",
          "2022-08-19T00:00:00",
          "2022-08-22T00:00:00",
          "2022-08-23T00:00:00",
          "2022-08-24T00:00:00",
          "2022-08-25T00:00:00",
          "2022-08-26T00:00:00",
          "2022-08-29T00:00:00",
          "2022-08-30T00:00:00",
          "2022-08-31T00:00:00",
          "2022-09-01T00:00:00",
          "2022-09-02T00:00:00",
          "2022-09-05T00:00:00",
          "2022-09-06T00:00:00",
          "2022-09-07T00:00:00",
          "2022-09-08T00:00:00",
          "2022-09-09T00:00:00",
          "2022-09-12T00:00:00",
          "2022-09-13T00:00:00",
          "2022-09-14T00:00:00",
          "2022-09-15T00:00:00",
          "2022-09-16T00:00:00",
          "2022-09-19T00:00:00",
          "2022-09-20T00:00:00",
          "2022-09-21T00:00:00",
          "2022-09-22T00:00:00",
          "2022-09-23T00:00:00",
          "2022-09-26T00:00:00",
          "2022-09-27T00:00:00",
          "2022-09-28T00:00:00",
          "2022-09-29T00:00:00",
          "2022-09-30T00:00:00",
          "2022-10-03T00:00:00",
          "2022-10-04T00:00:00",
          "2022-10-05T00:00:00",
          "2022-10-06T00:00:00",
          "2022-10-07T00:00:00",
          "2022-10-10T00:00:00",
          "2022-10-11T00:00:00",
          "2022-10-12T00:00:00",
          "2022-10-13T00:00:00",
          "2022-10-14T00:00:00",
          "2022-10-17T00:00:00",
          "2022-10-18T00:00:00",
          "2022-10-19T00:00:00",
          "2022-10-20T00:00:00",
          "2022-10-21T00:00:00",
          "2022-10-24T00:00:00",
          "2022-10-25T00:00:00",
          "2022-10-26T00:00:00",
          "2022-10-27T00:00:00",
          "2022-10-28T00:00:00",
          "2022-10-31T00:00:00",
          "2022-11-01T00:00:00",
          "2022-11-02T00:00:00",
          "2022-11-03T00:00:00",
          "2022-11-04T00:00:00",
          "2022-11-07T00:00:00",
          "2022-11-08T00:00:00",
          "2022-11-09T00:00:00",
          "2022-11-10T00:00:00",
          "2022-11-11T00:00:00",
          "2022-11-14T00:00:00",
          "2022-11-15T00:00:00",
          "2022-11-16T00:00:00",
          "2022-11-17T00:00:00",
          "2022-11-18T00:00:00",
          "2022-11-21T00:00:00",
          "2022-11-22T00:00:00",
          "2022-11-23T00:00:00",
          "2022-11-24T00:00:00",
          "2022-11-25T00:00:00",
          "2022-11-28T00:00:00",
          "2022-11-29T00:00:00",
          "2022-11-30T00:00:00",
          "2022-12-01T00:00:00",
          "2022-12-02T00:00:00",
          "2022-12-05T00:00:00",
          "2022-12-06T00:00:00",
          "2022-12-07T00:00:00",
          "2022-12-08T00:00:00",
          "2022-12-09T00:00:00",
          "2022-12-12T00:00:00",
          "2022-12-13T00:00:00",
          "2022-12-14T00:00:00",
          "2022-12-15T00:00:00",
          "2022-12-16T00:00:00",
          "2022-12-19T00:00:00",
          "2022-12-20T00:00:00",
          "2022-12-21T00:00:00",
          "2022-12-22T00:00:00",
          "2022-12-23T00:00:00",
          "2022-12-27T00:00:00",
          "2022-12-28T00:00:00",
          "2022-12-29T00:00:00",
          "2022-12-30T00:00:00"
         ],
         "y": [
          null,
          null,
          null,
          null,
          null,
          null,
          null,
          null,
          null,
          null,
          null,
          null,
          null,
          null,
          null,
          null,
          null,
          null,
          null,
          330.7618103027344,
          null,
          null,
          null,
          null,
          null,
          null,
          null,
          null,
          null,
          null,
          null,
          null,
          null,
          null,
          null,
          null,
          null,
          null,
          null,
          null,
          null,
          null,
          null,
          null,
          338.3887939453125,
          null,
          null,
          null,
          null,
          null,
          null,
          null,
          null,
          null,
          null,
          null,
          null,
          null,
          null,
          null,
          null,
          null,
          null,
          null,
          null,
          null,
          null,
          null,
          null,
          null,
          null,
          null,
          null,
          null,
          364.3641052246094,
          null,
          null,
          null,
          null,
          null,
          null,
          null,
          null,
          null,
          null,
          null,
          null,
          null,
          null,
          null,
          null,
          null,
          null,
          null,
          null,
          358.076904296875,
          null,
          null,
          null,
          null,
          null,
          null,
          null,
          null,
          null,
          null,
          null,
          null,
          null,
          null,
          null,
          null,
          null,
          null,
          null,
          null,
          null,
          null,
          null,
          null,
          null,
          null,
          null,
          null,
          null,
          null,
          null,
          null,
          null,
          null,
          null,
          null,
          null,
          null,
          null,
          null,
          null,
          null,
          381.57000732421875,
          null,
          null,
          null,
          null,
          null,
          null,
          null,
          null,
          null,
          null,
          null,
          null,
          null,
          null,
          null,
          null,
          null,
          null,
          null,
          null,
          null,
          null,
          null,
          null,
          null,
          null,
          null,
          null,
          null,
          null,
          null,
          null,
          null,
          null,
          null,
          null,
          null,
          null,
          null,
          null,
          null,
          null,
          null,
          null,
          null,
          null,
          null,
          null,
          null,
          null,
          null,
          null,
          null,
          null,
          389.6964111328125,
          null,
          null,
          null,
          null,
          null,
          null,
          null,
          null,
          null,
          null,
          null,
          null,
          null,
          null,
          null,
          null,
          null,
          null,
          null,
          null,
          null,
          null,
          null,
          null,
          null,
          null,
          null,
          null,
          null,
          null,
          null,
          null,
          null,
          null,
          null,
          null,
          null,
          null,
          null,
          null,
          null,
          null,
          null,
          415.677001953125,
          null,
          null,
          null,
          null,
          null,
          null,
          null,
          null,
          null,
          null,
          415.889892578125,
          null,
          null,
          null,
          null,
          null,
          null,
          null,
          null,
          null,
          null,
          null,
          null,
          null,
          null,
          null,
          null,
          null,
          null,
          null,
          null,
          null,
          null,
          null,
          null,
          395.1344909667969,
          null,
          null,
          null,
          null,
          null,
          null,
          null,
          null,
          null,
          null,
          null,
          null,
          null,
          null,
          null,
          null,
          null,
          null,
          null,
          null,
          null,
          null,
          390.41650390625,
          null,
          null,
          null,
          null,
          null,
          null,
          null,
          null,
          null,
          null,
          null,
          null,
          null,
          null,
          null,
          null,
          null,
          null,
          null,
          null,
          null,
          null,
          null,
          null,
          null,
          null,
          null,
          null,
          null,
          null,
          null,
          null,
          null,
          null,
          null,
          null,
          null,
          null,
          null,
          null,
          null,
          null,
          null,
          null,
          null,
          null,
          null,
          null,
          null,
          null,
          null,
          null,
          null,
          null,
          null,
          null,
          null,
          null,
          null,
          null,
          379.5188903808594,
          null,
          null,
          null,
          null,
          null,
          null,
          null,
          null,
          null,
          null,
          null,
          null,
          null,
          null,
          null,
          null,
          null,
          364.6059875488281,
          null,
          null,
          null,
          null,
          null,
          null,
          null,
          null,
          null,
          null,
          null,
          null,
          null,
          null,
          null,
          null,
          null,
          null,
          null,
          null,
          null,
          null,
          null,
          null,
          null,
          null,
          null,
          null,
          null,
          null,
          null,
          null,
          null,
          null,
          null,
          null,
          null,
          null,
          null,
          null,
          null,
          null,
          null,
          null,
          null,
          null,
          null,
          null,
          null,
          null,
          null,
          null,
          null,
          null,
          null,
          null,
          null,
          null,
          null,
          null,
          null,
          null,
          null,
          null,
          null,
          null,
          null,
          null,
          null,
          null,
          null,
          null,
          null,
          null,
          null,
          null,
          null,
          null,
          null,
          null,
          null,
          null,
          377.0804138183594,
          null,
          null,
          null,
          null,
          null,
          null,
          null,
          null,
          null,
          null,
          null,
          null,
          null,
          null,
          null,
          null,
          null,
          null,
          null,
          null,
          null,
          null,
          null,
          null,
          null,
          null,
          null,
          null,
          null,
          null,
          null,
          null,
          null,
          null,
          null,
          null,
          null,
          null,
          null,
          null,
          null,
          null,
          null,
          null,
          null,
          null,
          null,
          null,
          null,
          null,
          null,
          null,
          null,
          null,
          null,
          375.1888122558594
         ]
        },
        {
         "marker": {
          "color": "red"
         },
         "mode": "markers",
         "name": "max",
         "type": "scatter",
         "x": [
          "2021-01-04T00:00:00",
          "2021-01-05T00:00:00",
          "2021-01-06T00:00:00",
          "2021-01-07T00:00:00",
          "2021-01-08T00:00:00",
          "2021-01-11T00:00:00",
          "2021-01-12T00:00:00",
          "2021-01-13T00:00:00",
          "2021-01-14T00:00:00",
          "2021-01-15T00:00:00",
          "2021-01-18T00:00:00",
          "2021-01-19T00:00:00",
          "2021-01-20T00:00:00",
          "2021-01-21T00:00:00",
          "2021-01-22T00:00:00",
          "2021-01-25T00:00:00",
          "2021-01-26T00:00:00",
          "2021-01-27T00:00:00",
          "2021-01-28T00:00:00",
          "2021-01-29T00:00:00",
          "2021-02-01T00:00:00",
          "2021-02-02T00:00:00",
          "2021-02-03T00:00:00",
          "2021-02-04T00:00:00",
          "2021-02-05T00:00:00",
          "2021-02-08T00:00:00",
          "2021-02-09T00:00:00",
          "2021-02-10T00:00:00",
          "2021-02-11T00:00:00",
          "2021-02-12T00:00:00",
          "2021-02-15T00:00:00",
          "2021-02-16T00:00:00",
          "2021-02-17T00:00:00",
          "2021-02-18T00:00:00",
          "2021-02-19T00:00:00",
          "2021-02-22T00:00:00",
          "2021-02-23T00:00:00",
          "2021-02-24T00:00:00",
          "2021-02-25T00:00:00",
          "2021-02-26T00:00:00",
          "2021-03-01T00:00:00",
          "2021-03-02T00:00:00",
          "2021-03-03T00:00:00",
          "2021-03-04T00:00:00",
          "2021-03-05T00:00:00",
          "2021-03-08T00:00:00",
          "2021-03-09T00:00:00",
          "2021-03-10T00:00:00",
          "2021-03-11T00:00:00",
          "2021-03-12T00:00:00",
          "2021-03-15T00:00:00",
          "2021-03-16T00:00:00",
          "2021-03-17T00:00:00",
          "2021-03-18T00:00:00",
          "2021-03-19T00:00:00",
          "2021-03-22T00:00:00",
          "2021-03-23T00:00:00",
          "2021-03-24T00:00:00",
          "2021-03-25T00:00:00",
          "2021-03-26T00:00:00",
          "2021-03-29T00:00:00",
          "2021-03-30T00:00:00",
          "2021-03-31T00:00:00",
          "2021-04-01T00:00:00",
          "2021-04-06T00:00:00",
          "2021-04-07T00:00:00",
          "2021-04-08T00:00:00",
          "2021-04-09T00:00:00",
          "2021-04-12T00:00:00",
          "2021-04-13T00:00:00",
          "2021-04-14T00:00:00",
          "2021-04-15T00:00:00",
          "2021-04-16T00:00:00",
          "2021-04-19T00:00:00",
          "2021-04-20T00:00:00",
          "2021-04-21T00:00:00",
          "2021-04-22T00:00:00",
          "2021-04-23T00:00:00",
          "2021-04-26T00:00:00",
          "2021-04-27T00:00:00",
          "2021-04-28T00:00:00",
          "2021-04-29T00:00:00",
          "2021-04-30T00:00:00",
          "2021-05-03T00:00:00",
          "2021-05-04T00:00:00",
          "2021-05-05T00:00:00",
          "2021-05-06T00:00:00",
          "2021-05-07T00:00:00",
          "2021-05-10T00:00:00",
          "2021-05-11T00:00:00",
          "2021-05-12T00:00:00",
          "2021-05-13T00:00:00",
          "2021-05-14T00:00:00",
          "2021-05-17T00:00:00",
          "2021-05-18T00:00:00",
          "2021-05-19T00:00:00",
          "2021-05-20T00:00:00",
          "2021-05-21T00:00:00",
          "2021-05-24T00:00:00",
          "2021-05-25T00:00:00",
          "2021-05-26T00:00:00",
          "2021-05-27T00:00:00",
          "2021-05-28T00:00:00",
          "2021-05-31T00:00:00",
          "2021-06-01T00:00:00",
          "2021-06-02T00:00:00",
          "2021-06-03T00:00:00",
          "2021-06-04T00:00:00",
          "2021-06-07T00:00:00",
          "2021-06-08T00:00:00",
          "2021-06-09T00:00:00",
          "2021-06-10T00:00:00",
          "2021-06-11T00:00:00",
          "2021-06-14T00:00:00",
          "2021-06-15T00:00:00",
          "2021-06-16T00:00:00",
          "2021-06-17T00:00:00",
          "2021-06-18T00:00:00",
          "2021-06-21T00:00:00",
          "2021-06-22T00:00:00",
          "2021-06-23T00:00:00",
          "2021-06-24T00:00:00",
          "2021-06-25T00:00:00",
          "2021-06-28T00:00:00",
          "2021-06-29T00:00:00",
          "2021-06-30T00:00:00",
          "2021-07-01T00:00:00",
          "2021-07-02T00:00:00",
          "2021-07-05T00:00:00",
          "2021-07-06T00:00:00",
          "2021-07-07T00:00:00",
          "2021-07-08T00:00:00",
          "2021-07-09T00:00:00",
          "2021-07-12T00:00:00",
          "2021-07-13T00:00:00",
          "2021-07-14T00:00:00",
          "2021-07-15T00:00:00",
          "2021-07-16T00:00:00",
          "2021-07-19T00:00:00",
          "2021-07-20T00:00:00",
          "2021-07-21T00:00:00",
          "2021-07-22T00:00:00",
          "2021-07-23T00:00:00",
          "2021-07-26T00:00:00",
          "2021-07-27T00:00:00",
          "2021-07-28T00:00:00",
          "2021-07-29T00:00:00",
          "2021-07-30T00:00:00",
          "2021-08-02T00:00:00",
          "2021-08-03T00:00:00",
          "2021-08-04T00:00:00",
          "2021-08-05T00:00:00",
          "2021-08-06T00:00:00",
          "2021-08-09T00:00:00",
          "2021-08-10T00:00:00",
          "2021-08-11T00:00:00",
          "2021-08-12T00:00:00",
          "2021-08-13T00:00:00",
          "2021-08-16T00:00:00",
          "2021-08-17T00:00:00",
          "2021-08-18T00:00:00",
          "2021-08-19T00:00:00",
          "2021-08-20T00:00:00",
          "2021-08-23T00:00:00",
          "2021-08-24T00:00:00",
          "2021-08-25T00:00:00",
          "2021-08-26T00:00:00",
          "2021-08-27T00:00:00",
          "2021-08-30T00:00:00",
          "2021-08-31T00:00:00",
          "2021-09-01T00:00:00",
          "2021-09-02T00:00:00",
          "2021-09-03T00:00:00",
          "2021-09-06T00:00:00",
          "2021-09-07T00:00:00",
          "2021-09-08T00:00:00",
          "2021-09-09T00:00:00",
          "2021-09-10T00:00:00",
          "2021-09-13T00:00:00",
          "2021-09-14T00:00:00",
          "2021-09-15T00:00:00",
          "2021-09-16T00:00:00",
          "2021-09-17T00:00:00",
          "2021-09-20T00:00:00",
          "2021-09-21T00:00:00",
          "2021-09-22T00:00:00",
          "2021-09-23T00:00:00",
          "2021-09-24T00:00:00",
          "2021-09-27T00:00:00",
          "2021-09-28T00:00:00",
          "2021-09-29T00:00:00",
          "2021-09-30T00:00:00",
          "2021-10-01T00:00:00",
          "2021-10-04T00:00:00",
          "2021-10-05T00:00:00",
          "2021-10-06T00:00:00",
          "2021-10-07T00:00:00",
          "2021-10-08T00:00:00",
          "2021-10-11T00:00:00",
          "2021-10-12T00:00:00",
          "2021-10-13T00:00:00",
          "2021-10-14T00:00:00",
          "2021-10-15T00:00:00",
          "2021-10-18T00:00:00",
          "2021-10-19T00:00:00",
          "2021-10-20T00:00:00",
          "2021-10-21T00:00:00",
          "2021-10-22T00:00:00",
          "2021-10-25T00:00:00",
          "2021-10-26T00:00:00",
          "2021-10-27T00:00:00",
          "2021-10-28T00:00:00",
          "2021-10-29T00:00:00",
          "2021-11-01T00:00:00",
          "2021-11-02T00:00:00",
          "2021-11-03T00:00:00",
          "2021-11-04T00:00:00",
          "2021-11-05T00:00:00",
          "2021-11-08T00:00:00",
          "2021-11-09T00:00:00",
          "2021-11-10T00:00:00",
          "2021-11-11T00:00:00",
          "2021-11-12T00:00:00",
          "2021-11-15T00:00:00",
          "2021-11-16T00:00:00",
          "2021-11-17T00:00:00",
          "2021-11-18T00:00:00",
          "2021-11-19T00:00:00",
          "2021-11-22T00:00:00",
          "2021-11-23T00:00:00",
          "2021-11-24T00:00:00",
          "2021-11-25T00:00:00",
          "2021-11-26T00:00:00",
          "2021-11-29T00:00:00",
          "2021-11-30T00:00:00",
          "2021-12-01T00:00:00",
          "2021-12-02T00:00:00",
          "2021-12-03T00:00:00",
          "2021-12-06T00:00:00",
          "2021-12-07T00:00:00",
          "2021-12-08T00:00:00",
          "2021-12-09T00:00:00",
          "2021-12-10T00:00:00",
          "2021-12-13T00:00:00",
          "2021-12-14T00:00:00",
          "2021-12-15T00:00:00",
          "2021-12-16T00:00:00",
          "2021-12-17T00:00:00",
          "2021-12-20T00:00:00",
          "2021-12-21T00:00:00",
          "2021-12-22T00:00:00",
          "2021-12-23T00:00:00",
          "2021-12-24T00:00:00",
          "2021-12-27T00:00:00",
          "2021-12-28T00:00:00",
          "2021-12-29T00:00:00",
          "2021-12-30T00:00:00",
          "2021-12-31T00:00:00",
          "2022-01-03T00:00:00",
          "2022-01-04T00:00:00",
          "2022-01-05T00:00:00",
          "2022-01-06T00:00:00",
          "2022-01-07T00:00:00",
          "2022-01-10T00:00:00",
          "2022-01-11T00:00:00",
          "2022-01-12T00:00:00",
          "2022-01-13T00:00:00",
          "2022-01-14T00:00:00",
          "2022-01-17T00:00:00",
          "2022-01-18T00:00:00",
          "2022-01-19T00:00:00",
          "2022-01-20T00:00:00",
          "2022-01-21T00:00:00",
          "2022-01-24T00:00:00",
          "2022-01-25T00:00:00",
          "2022-01-26T00:00:00",
          "2022-01-27T00:00:00",
          "2022-01-28T00:00:00",
          "2022-01-31T00:00:00",
          "2022-02-01T00:00:00",
          "2022-02-02T00:00:00",
          "2022-02-03T00:00:00",
          "2022-02-04T00:00:00",
          "2022-02-07T00:00:00",
          "2022-02-08T00:00:00",
          "2022-02-09T00:00:00",
          "2022-02-10T00:00:00",
          "2022-02-11T00:00:00",
          "2022-02-14T00:00:00",
          "2022-02-15T00:00:00",
          "2022-02-16T00:00:00",
          "2022-02-17T00:00:00",
          "2022-02-18T00:00:00",
          "2022-02-21T00:00:00",
          "2022-02-22T00:00:00",
          "2022-02-23T00:00:00",
          "2022-02-24T00:00:00",
          "2022-02-25T00:00:00",
          "2022-02-28T00:00:00",
          "2022-03-01T00:00:00",
          "2022-03-02T00:00:00",
          "2022-03-03T00:00:00",
          "2022-03-04T00:00:00",
          "2022-03-07T00:00:00",
          "2022-03-08T00:00:00",
          "2022-03-09T00:00:00",
          "2022-03-10T00:00:00",
          "2022-03-11T00:00:00",
          "2022-03-14T00:00:00",
          "2022-03-15T00:00:00",
          "2022-03-16T00:00:00",
          "2022-03-17T00:00:00",
          "2022-03-18T00:00:00",
          "2022-03-21T00:00:00",
          "2022-03-22T00:00:00",
          "2022-03-23T00:00:00",
          "2022-03-24T00:00:00",
          "2022-03-25T00:00:00",
          "2022-03-28T00:00:00",
          "2022-03-29T00:00:00",
          "2022-03-30T00:00:00",
          "2022-03-31T00:00:00",
          "2022-04-01T00:00:00",
          "2022-04-04T00:00:00",
          "2022-04-05T00:00:00",
          "2022-04-06T00:00:00",
          "2022-04-07T00:00:00",
          "2022-04-08T00:00:00",
          "2022-04-11T00:00:00",
          "2022-04-12T00:00:00",
          "2022-04-13T00:00:00",
          "2022-04-14T00:00:00",
          "2022-04-19T00:00:00",
          "2022-04-20T00:00:00",
          "2022-04-21T00:00:00",
          "2022-04-22T00:00:00",
          "2022-04-25T00:00:00",
          "2022-04-26T00:00:00",
          "2022-04-27T00:00:00",
          "2022-04-28T00:00:00",
          "2022-04-29T00:00:00",
          "2022-05-02T00:00:00",
          "2022-05-03T00:00:00",
          "2022-05-04T00:00:00",
          "2022-05-05T00:00:00",
          "2022-05-06T00:00:00",
          "2022-05-09T00:00:00",
          "2022-05-10T00:00:00",
          "2022-05-11T00:00:00",
          "2022-05-12T00:00:00",
          "2022-05-13T00:00:00",
          "2022-05-16T00:00:00",
          "2022-05-17T00:00:00",
          "2022-05-18T00:00:00",
          "2022-05-19T00:00:00",
          "2022-05-20T00:00:00",
          "2022-05-23T00:00:00",
          "2022-05-24T00:00:00",
          "2022-05-25T00:00:00",
          "2022-05-26T00:00:00",
          "2022-05-27T00:00:00",
          "2022-05-30T00:00:00",
          "2022-05-31T00:00:00",
          "2022-06-01T00:00:00",
          "2022-06-02T00:00:00",
          "2022-06-03T00:00:00",
          "2022-06-06T00:00:00",
          "2022-06-07T00:00:00",
          "2022-06-08T00:00:00",
          "2022-06-09T00:00:00",
          "2022-06-10T00:00:00",
          "2022-06-13T00:00:00",
          "2022-06-14T00:00:00",
          "2022-06-15T00:00:00",
          "2022-06-16T00:00:00",
          "2022-06-17T00:00:00",
          "2022-06-20T00:00:00",
          "2022-06-21T00:00:00",
          "2022-06-22T00:00:00",
          "2022-06-23T00:00:00",
          "2022-06-24T00:00:00",
          "2022-06-27T00:00:00",
          "2022-06-28T00:00:00",
          "2022-06-29T00:00:00",
          "2022-06-30T00:00:00",
          "2022-07-01T00:00:00",
          "2022-07-04T00:00:00",
          "2022-07-05T00:00:00",
          "2022-07-06T00:00:00",
          "2022-07-07T00:00:00",
          "2022-07-08T00:00:00",
          "2022-07-11T00:00:00",
          "2022-07-12T00:00:00",
          "2022-07-13T00:00:00",
          "2022-07-14T00:00:00",
          "2022-07-15T00:00:00",
          "2022-07-18T00:00:00",
          "2022-07-19T00:00:00",
          "2022-07-20T00:00:00",
          "2022-07-21T00:00:00",
          "2022-07-22T00:00:00",
          "2022-07-25T00:00:00",
          "2022-07-26T00:00:00",
          "2022-07-27T00:00:00",
          "2022-07-28T00:00:00",
          "2022-07-29T00:00:00",
          "2022-08-01T00:00:00",
          "2022-08-02T00:00:00",
          "2022-08-03T00:00:00",
          "2022-08-04T00:00:00",
          "2022-08-05T00:00:00",
          "2022-08-08T00:00:00",
          "2022-08-09T00:00:00",
          "2022-08-10T00:00:00",
          "2022-08-11T00:00:00",
          "2022-08-12T00:00:00",
          "2022-08-15T00:00:00",
          "2022-08-16T00:00:00",
          "2022-08-17T00:00:00",
          "2022-08-18T00:00:00",
          "2022-08-19T00:00:00",
          "2022-08-22T00:00:00",
          "2022-08-23T00:00:00",
          "2022-08-24T00:00:00",
          "2022-08-25T00:00:00",
          "2022-08-26T00:00:00",
          "2022-08-29T00:00:00",
          "2022-08-30T00:00:00",
          "2022-08-31T00:00:00",
          "2022-09-01T00:00:00",
          "2022-09-02T00:00:00",
          "2022-09-05T00:00:00",
          "2022-09-06T00:00:00",
          "2022-09-07T00:00:00",
          "2022-09-08T00:00:00",
          "2022-09-09T00:00:00",
          "2022-09-12T00:00:00",
          "2022-09-13T00:00:00",
          "2022-09-14T00:00:00",
          "2022-09-15T00:00:00",
          "2022-09-16T00:00:00",
          "2022-09-19T00:00:00",
          "2022-09-20T00:00:00",
          "2022-09-21T00:00:00",
          "2022-09-22T00:00:00",
          "2022-09-23T00:00:00",
          "2022-09-26T00:00:00",
          "2022-09-27T00:00:00",
          "2022-09-28T00:00:00",
          "2022-09-29T00:00:00",
          "2022-09-30T00:00:00",
          "2022-10-03T00:00:00",
          "2022-10-04T00:00:00",
          "2022-10-05T00:00:00",
          "2022-10-06T00:00:00",
          "2022-10-07T00:00:00",
          "2022-10-10T00:00:00",
          "2022-10-11T00:00:00",
          "2022-10-12T00:00:00",
          "2022-10-13T00:00:00",
          "2022-10-14T00:00:00",
          "2022-10-17T00:00:00",
          "2022-10-18T00:00:00",
          "2022-10-19T00:00:00",
          "2022-10-20T00:00:00",
          "2022-10-21T00:00:00",
          "2022-10-24T00:00:00",
          "2022-10-25T00:00:00",
          "2022-10-26T00:00:00",
          "2022-10-27T00:00:00",
          "2022-10-28T00:00:00",
          "2022-10-31T00:00:00",
          "2022-11-01T00:00:00",
          "2022-11-02T00:00:00",
          "2022-11-03T00:00:00",
          "2022-11-04T00:00:00",
          "2022-11-07T00:00:00",
          "2022-11-08T00:00:00",
          "2022-11-09T00:00:00",
          "2022-11-10T00:00:00",
          "2022-11-11T00:00:00",
          "2022-11-14T00:00:00",
          "2022-11-15T00:00:00",
          "2022-11-16T00:00:00",
          "2022-11-17T00:00:00",
          "2022-11-18T00:00:00",
          "2022-11-21T00:00:00",
          "2022-11-22T00:00:00",
          "2022-11-23T00:00:00",
          "2022-11-24T00:00:00",
          "2022-11-25T00:00:00",
          "2022-11-28T00:00:00",
          "2022-11-29T00:00:00",
          "2022-11-30T00:00:00",
          "2022-12-01T00:00:00",
          "2022-12-02T00:00:00",
          "2022-12-05T00:00:00",
          "2022-12-06T00:00:00",
          "2022-12-07T00:00:00",
          "2022-12-08T00:00:00",
          "2022-12-09T00:00:00",
          "2022-12-12T00:00:00",
          "2022-12-13T00:00:00",
          "2022-12-14T00:00:00",
          "2022-12-15T00:00:00",
          "2022-12-16T00:00:00",
          "2022-12-19T00:00:00",
          "2022-12-20T00:00:00",
          "2022-12-21T00:00:00",
          "2022-12-22T00:00:00",
          "2022-12-23T00:00:00",
          "2022-12-27T00:00:00",
          "2022-12-28T00:00:00",
          "2022-12-29T00:00:00",
          "2022-12-30T00:00:00"
         ],
         "y": [
          null,
          null,
          null,
          null,
          null,
          null,
          null,
          null,
          null,
          null,
          null,
          null,
          null,
          null,
          null,
          null,
          null,
          null,
          null,
          null,
          null,
          null,
          null,
          null,
          null,
          null,
          null,
          null,
          null,
          null,
          352.4613952636719,
          null,
          null,
          null,
          null,
          null,
          null,
          null,
          null,
          null,
          null,
          null,
          null,
          null,
          null,
          null,
          null,
          null,
          null,
          null,
          null,
          null,
          null,
          null,
          null,
          null,
          null,
          null,
          null,
          null,
          null,
          null,
          null,
          null,
          null,
          null,
          null,
          null,
          null,
          null,
          null,
          null,
          371.7095031738281,
          null,
          null,
          null,
          null,
          null,
          null,
          null,
          null,
          null,
          null,
          null,
          null,
          null,
          null,
          371.0592956542969,
          null,
          null,
          null,
          null,
          null,
          null,
          null,
          null,
          null,
          null,
          null,
          null,
          null,
          null,
          null,
          null,
          null,
          null,
          null,
          null,
          null,
          null,
          null,
          null,
          null,
          null,
          null,
          null,
          null,
          null,
          null,
          null,
          null,
          null,
          null,
          null,
          null,
          null,
          null,
          null,
          null,
          null,
          null,
          null,
          null,
          null,
          null,
          null,
          null,
          null,
          null,
          null,
          null,
          null,
          null,
          null,
          null,
          null,
          null,
          null,
          null,
          null,
          null,
          null,
          null,
          null,
          null,
          null,
          null,
          null,
          null,
          null,
          null,
          null,
          null,
          null,
          null,
          null,
          null,
          null,
          null,
          null,
          null,
          null,
          null,
          406.9070129394531,
          null,
          null,
          null,
          null,
          null,
          null,
          null,
          null,
          null,
          null,
          null,
          null,
          null,
          null,
          null,
          null,
          null,
          null,
          null,
          null,
          null,
          null,
          null,
          null,
          null,
          null,
          null,
          null,
          null,
          null,
          null,
          null,
          null,
          null,
          null,
          null,
          null,
          null,
          null,
          null,
          null,
          null,
          null,
          null,
          null,
          null,
          null,
          null,
          null,
          null,
          null,
          null,
          null,
          null,
          435.96990966796875,
          null,
          null,
          null,
          null,
          null,
          null,
          null,
          null,
          null,
          null,
          null,
          null,
          null,
          null,
          null,
          null,
          null,
          null,
          null,
          null,
          null,
          null,
          null,
          null,
          null,
          null,
          null,
          null,
          null,
          null,
          437.95660400390625,
          null,
          null,
          null,
          null,
          null,
          null,
          null,
          null,
          null,
          null,
          null,
          null,
          null,
          null,
          null,
          null,
          null,
          null,
          null,
          null,
          null,
          null,
          null,
          null,
          null,
          null,
          null,
          null,
          null,
          null,
          null,
          null,
          null,
          null,
          null,
          null,
          null,
          null,
          null,
          null,
          null,
          null,
          null,
          null,
          null,
          null,
          null,
          null,
          null,
          null,
          null,
          null,
          null,
          null,
          null,
          null,
          null,
          null,
          null,
          null,
          null,
          null,
          null,
          null,
          429.0445861816406,
          null,
          null,
          null,
          null,
          null,
          null,
          null,
          null,
          null,
          null,
          null,
          null,
          null,
          null,
          null,
          null,
          null,
          null,
          null,
          null,
          null,
          null,
          null,
          null,
          null,
          null,
          null,
          null,
          null,
          null,
          null,
          null,
          null,
          null,
          null,
          null,
          402.28338623046875,
          null,
          null,
          null,
          null,
          null,
          null,
          null,
          null,
          null,
          null,
          null,
          null,
          null,
          null,
          null,
          null,
          null,
          null,
          null,
          null,
          null,
          null,
          null,
          null,
          null,
          null,
          null,
          null,
          null,
          null,
          null,
          null,
          null,
          null,
          null,
          null,
          null,
          null,
          null,
          null,
          null,
          null,
          null,
          null,
          null,
          null,
          null,
          null,
          null,
          null,
          null,
          null,
          null,
          null,
          null,
          429.614501953125,
          null,
          null,
          null,
          null,
          null,
          null,
          null,
          null,
          null,
          null,
          null,
          null,
          null,
          null,
          null,
          null,
          null,
          null,
          413.664306640625,
          null,
          null,
          null,
          null,
          null,
          null,
          null,
          null,
          null,
          null,
          null,
          null,
          null,
          null,
          null,
          null,
          null,
          390.5743103027344,
          null,
          null,
          null,
          null,
          null,
          null,
          null,
          null,
          null,
          null,
          null,
          null,
          null,
          null,
          null,
          null,
          null,
          null,
          null,
          null,
          null,
          null,
          null,
          null,
          null,
          null,
          null,
          null,
          null,
          null,
          null,
          null,
          null,
          null,
          null,
          null,
          null,
          null,
          null,
          402.6300048828125,
          null,
          null,
          null,
          null,
          null,
          null,
          null,
          null,
          null,
          null,
          null,
          null,
          null,
          null,
          null,
          null,
          null,
          null,
          null,
          null
         ]
        },
        {
         "line": {
          "width": 2
         },
         "mode": "lines",
         "name": "signal",
         "type": "scatter",
         "x": [
          "2021-01-04T00:00:00",
          "2021-01-05T00:00:00",
          "2021-01-06T00:00:00",
          "2021-01-07T00:00:00",
          "2021-01-08T00:00:00",
          "2021-01-11T00:00:00",
          "2021-01-12T00:00:00",
          "2021-01-13T00:00:00",
          "2021-01-14T00:00:00",
          "2021-01-15T00:00:00",
          "2021-01-18T00:00:00",
          "2021-01-19T00:00:00",
          "2021-01-20T00:00:00",
          "2021-01-21T00:00:00",
          "2021-01-22T00:00:00",
          "2021-01-25T00:00:00",
          "2021-01-26T00:00:00",
          "2021-01-27T00:00:00",
          "2021-01-28T00:00:00",
          "2021-01-29T00:00:00",
          "2021-02-01T00:00:00",
          "2021-02-02T00:00:00",
          "2021-02-03T00:00:00",
          "2021-02-04T00:00:00",
          "2021-02-05T00:00:00",
          "2021-02-08T00:00:00",
          "2021-02-09T00:00:00",
          "2021-02-10T00:00:00",
          "2021-02-11T00:00:00",
          "2021-02-12T00:00:00",
          "2021-02-15T00:00:00",
          "2021-02-16T00:00:00",
          "2021-02-17T00:00:00",
          "2021-02-18T00:00:00",
          "2021-02-19T00:00:00",
          "2021-02-22T00:00:00",
          "2021-02-23T00:00:00",
          "2021-02-24T00:00:00",
          "2021-02-25T00:00:00",
          "2021-02-26T00:00:00",
          "2021-03-01T00:00:00",
          "2021-03-02T00:00:00",
          "2021-03-03T00:00:00",
          "2021-03-04T00:00:00",
          "2021-03-05T00:00:00",
          "2021-03-08T00:00:00",
          "2021-03-09T00:00:00",
          "2021-03-10T00:00:00",
          "2021-03-11T00:00:00",
          "2021-03-12T00:00:00",
          "2021-03-15T00:00:00",
          "2021-03-16T00:00:00",
          "2021-03-17T00:00:00",
          "2021-03-18T00:00:00",
          "2021-03-19T00:00:00",
          "2021-03-22T00:00:00",
          "2021-03-23T00:00:00",
          "2021-03-24T00:00:00",
          "2021-03-25T00:00:00",
          "2021-03-26T00:00:00",
          "2021-03-29T00:00:00",
          "2021-03-30T00:00:00",
          "2021-03-31T00:00:00",
          "2021-04-01T00:00:00",
          "2021-04-06T00:00:00",
          "2021-04-07T00:00:00",
          "2021-04-08T00:00:00",
          "2021-04-09T00:00:00",
          "2021-04-12T00:00:00",
          "2021-04-13T00:00:00",
          "2021-04-14T00:00:00",
          "2021-04-15T00:00:00",
          "2021-04-16T00:00:00",
          "2021-04-19T00:00:00",
          "2021-04-20T00:00:00",
          "2021-04-21T00:00:00",
          "2021-04-22T00:00:00",
          "2021-04-23T00:00:00",
          "2021-04-26T00:00:00",
          "2021-04-27T00:00:00",
          "2021-04-28T00:00:00",
          "2021-04-29T00:00:00",
          "2021-04-30T00:00:00",
          "2021-05-03T00:00:00",
          "2021-05-04T00:00:00",
          "2021-05-05T00:00:00",
          "2021-05-06T00:00:00",
          "2021-05-07T00:00:00",
          "2021-05-10T00:00:00",
          "2021-05-11T00:00:00",
          "2021-05-12T00:00:00",
          "2021-05-13T00:00:00",
          "2021-05-14T00:00:00",
          "2021-05-17T00:00:00",
          "2021-05-18T00:00:00",
          "2021-05-19T00:00:00",
          "2021-05-20T00:00:00",
          "2021-05-21T00:00:00",
          "2021-05-24T00:00:00",
          "2021-05-25T00:00:00",
          "2021-05-26T00:00:00",
          "2021-05-27T00:00:00",
          "2021-05-28T00:00:00",
          "2021-05-31T00:00:00",
          "2021-06-01T00:00:00",
          "2021-06-02T00:00:00",
          "2021-06-03T00:00:00",
          "2021-06-04T00:00:00",
          "2021-06-07T00:00:00",
          "2021-06-08T00:00:00",
          "2021-06-09T00:00:00",
          "2021-06-10T00:00:00",
          "2021-06-11T00:00:00",
          "2021-06-14T00:00:00",
          "2021-06-15T00:00:00",
          "2021-06-16T00:00:00",
          "2021-06-17T00:00:00",
          "2021-06-18T00:00:00",
          "2021-06-21T00:00:00",
          "2021-06-22T00:00:00",
          "2021-06-23T00:00:00",
          "2021-06-24T00:00:00",
          "2021-06-25T00:00:00",
          "2021-06-28T00:00:00",
          "2021-06-29T00:00:00",
          "2021-06-30T00:00:00",
          "2021-07-01T00:00:00",
          "2021-07-02T00:00:00",
          "2021-07-05T00:00:00",
          "2021-07-06T00:00:00",
          "2021-07-07T00:00:00",
          "2021-07-08T00:00:00",
          "2021-07-09T00:00:00",
          "2021-07-12T00:00:00",
          "2021-07-13T00:00:00",
          "2021-07-14T00:00:00",
          "2021-07-15T00:00:00",
          "2021-07-16T00:00:00",
          "2021-07-19T00:00:00",
          "2021-07-20T00:00:00",
          "2021-07-21T00:00:00",
          "2021-07-22T00:00:00",
          "2021-07-23T00:00:00",
          "2021-07-26T00:00:00",
          "2021-07-27T00:00:00",
          "2021-07-28T00:00:00",
          "2021-07-29T00:00:00",
          "2021-07-30T00:00:00",
          "2021-08-02T00:00:00",
          "2021-08-03T00:00:00",
          "2021-08-04T00:00:00",
          "2021-08-05T00:00:00",
          "2021-08-06T00:00:00",
          "2021-08-09T00:00:00",
          "2021-08-10T00:00:00",
          "2021-08-11T00:00:00",
          "2021-08-12T00:00:00",
          "2021-08-13T00:00:00",
          "2021-08-16T00:00:00",
          "2021-08-17T00:00:00",
          "2021-08-18T00:00:00",
          "2021-08-19T00:00:00",
          "2021-08-20T00:00:00",
          "2021-08-23T00:00:00",
          "2021-08-24T00:00:00",
          "2021-08-25T00:00:00",
          "2021-08-26T00:00:00",
          "2021-08-27T00:00:00",
          "2021-08-30T00:00:00",
          "2021-08-31T00:00:00",
          "2021-09-01T00:00:00",
          "2021-09-02T00:00:00",
          "2021-09-03T00:00:00",
          "2021-09-06T00:00:00",
          "2021-09-07T00:00:00",
          "2021-09-08T00:00:00",
          "2021-09-09T00:00:00",
          "2021-09-10T00:00:00",
          "2021-09-13T00:00:00",
          "2021-09-14T00:00:00",
          "2021-09-15T00:00:00",
          "2021-09-16T00:00:00",
          "2021-09-17T00:00:00",
          "2021-09-20T00:00:00",
          "2021-09-21T00:00:00",
          "2021-09-22T00:00:00",
          "2021-09-23T00:00:00",
          "2021-09-24T00:00:00",
          "2021-09-27T00:00:00",
          "2021-09-28T00:00:00",
          "2021-09-29T00:00:00",
          "2021-09-30T00:00:00",
          "2021-10-01T00:00:00",
          "2021-10-04T00:00:00",
          "2021-10-05T00:00:00",
          "2021-10-06T00:00:00",
          "2021-10-07T00:00:00",
          "2021-10-08T00:00:00",
          "2021-10-11T00:00:00",
          "2021-10-12T00:00:00",
          "2021-10-13T00:00:00",
          "2021-10-14T00:00:00",
          "2021-10-15T00:00:00",
          "2021-10-18T00:00:00",
          "2021-10-19T00:00:00",
          "2021-10-20T00:00:00",
          "2021-10-21T00:00:00",
          "2021-10-22T00:00:00",
          "2021-10-25T00:00:00",
          "2021-10-26T00:00:00",
          "2021-10-27T00:00:00",
          "2021-10-28T00:00:00",
          "2021-10-29T00:00:00",
          "2021-11-01T00:00:00",
          "2021-11-02T00:00:00",
          "2021-11-03T00:00:00",
          "2021-11-04T00:00:00",
          "2021-11-05T00:00:00",
          "2021-11-08T00:00:00",
          "2021-11-09T00:00:00",
          "2021-11-10T00:00:00",
          "2021-11-11T00:00:00",
          "2021-11-12T00:00:00",
          "2021-11-15T00:00:00",
          "2021-11-16T00:00:00",
          "2021-11-17T00:00:00",
          "2021-11-18T00:00:00",
          "2021-11-19T00:00:00",
          "2021-11-22T00:00:00",
          "2021-11-23T00:00:00",
          "2021-11-24T00:00:00",
          "2021-11-25T00:00:00",
          "2021-11-26T00:00:00",
          "2021-11-29T00:00:00",
          "2021-11-30T00:00:00",
          "2021-12-01T00:00:00",
          "2021-12-02T00:00:00",
          "2021-12-03T00:00:00",
          "2021-12-06T00:00:00",
          "2021-12-07T00:00:00",
          "2021-12-08T00:00:00",
          "2021-12-09T00:00:00",
          "2021-12-10T00:00:00",
          "2021-12-13T00:00:00",
          "2021-12-14T00:00:00",
          "2021-12-15T00:00:00",
          "2021-12-16T00:00:00",
          "2021-12-17T00:00:00",
          "2021-12-20T00:00:00",
          "2021-12-21T00:00:00",
          "2021-12-22T00:00:00",
          "2021-12-23T00:00:00",
          "2021-12-24T00:00:00",
          "2021-12-27T00:00:00",
          "2021-12-28T00:00:00",
          "2021-12-29T00:00:00",
          "2021-12-30T00:00:00",
          "2021-12-31T00:00:00",
          "2022-01-03T00:00:00",
          "2022-01-04T00:00:00",
          "2022-01-05T00:00:00",
          "2022-01-06T00:00:00",
          "2022-01-07T00:00:00",
          "2022-01-10T00:00:00",
          "2022-01-11T00:00:00",
          "2022-01-12T00:00:00",
          "2022-01-13T00:00:00",
          "2022-01-14T00:00:00",
          "2022-01-17T00:00:00",
          "2022-01-18T00:00:00",
          "2022-01-19T00:00:00",
          "2022-01-20T00:00:00",
          "2022-01-21T00:00:00",
          "2022-01-24T00:00:00",
          "2022-01-25T00:00:00",
          "2022-01-26T00:00:00",
          "2022-01-27T00:00:00",
          "2022-01-28T00:00:00",
          "2022-01-31T00:00:00",
          "2022-02-01T00:00:00",
          "2022-02-02T00:00:00",
          "2022-02-03T00:00:00",
          "2022-02-04T00:00:00",
          "2022-02-07T00:00:00",
          "2022-02-08T00:00:00",
          "2022-02-09T00:00:00",
          "2022-02-10T00:00:00",
          "2022-02-11T00:00:00",
          "2022-02-14T00:00:00",
          "2022-02-15T00:00:00",
          "2022-02-16T00:00:00",
          "2022-02-17T00:00:00",
          "2022-02-18T00:00:00",
          "2022-02-21T00:00:00",
          "2022-02-22T00:00:00",
          "2022-02-23T00:00:00",
          "2022-02-24T00:00:00",
          "2022-02-25T00:00:00",
          "2022-02-28T00:00:00",
          "2022-03-01T00:00:00",
          "2022-03-02T00:00:00",
          "2022-03-03T00:00:00",
          "2022-03-04T00:00:00",
          "2022-03-07T00:00:00",
          "2022-03-08T00:00:00",
          "2022-03-09T00:00:00",
          "2022-03-10T00:00:00",
          "2022-03-11T00:00:00",
          "2022-03-14T00:00:00",
          "2022-03-15T00:00:00",
          "2022-03-16T00:00:00",
          "2022-03-17T00:00:00",
          "2022-03-18T00:00:00",
          "2022-03-21T00:00:00",
          "2022-03-22T00:00:00",
          "2022-03-23T00:00:00",
          "2022-03-24T00:00:00",
          "2022-03-25T00:00:00",
          "2022-03-28T00:00:00",
          "2022-03-29T00:00:00",
          "2022-03-30T00:00:00",
          "2022-03-31T00:00:00",
          "2022-04-01T00:00:00",
          "2022-04-04T00:00:00",
          "2022-04-05T00:00:00",
          "2022-04-06T00:00:00",
          "2022-04-07T00:00:00",
          "2022-04-08T00:00:00",
          "2022-04-11T00:00:00",
          "2022-04-12T00:00:00",
          "2022-04-13T00:00:00",
          "2022-04-14T00:00:00",
          "2022-04-19T00:00:00",
          "2022-04-20T00:00:00",
          "2022-04-21T00:00:00",
          "2022-04-22T00:00:00",
          "2022-04-25T00:00:00",
          "2022-04-26T00:00:00",
          "2022-04-27T00:00:00",
          "2022-04-28T00:00:00",
          "2022-04-29T00:00:00",
          "2022-05-02T00:00:00",
          "2022-05-03T00:00:00",
          "2022-05-04T00:00:00",
          "2022-05-05T00:00:00",
          "2022-05-06T00:00:00",
          "2022-05-09T00:00:00",
          "2022-05-10T00:00:00",
          "2022-05-11T00:00:00",
          "2022-05-12T00:00:00",
          "2022-05-13T00:00:00",
          "2022-05-16T00:00:00",
          "2022-05-17T00:00:00",
          "2022-05-18T00:00:00",
          "2022-05-19T00:00:00",
          "2022-05-20T00:00:00",
          "2022-05-23T00:00:00",
          "2022-05-24T00:00:00",
          "2022-05-25T00:00:00",
          "2022-05-26T00:00:00",
          "2022-05-27T00:00:00",
          "2022-05-30T00:00:00",
          "2022-05-31T00:00:00",
          "2022-06-01T00:00:00",
          "2022-06-02T00:00:00",
          "2022-06-03T00:00:00",
          "2022-06-06T00:00:00",
          "2022-06-07T00:00:00",
          "2022-06-08T00:00:00",
          "2022-06-09T00:00:00",
          "2022-06-10T00:00:00",
          "2022-06-13T00:00:00",
          "2022-06-14T00:00:00",
          "2022-06-15T00:00:00",
          "2022-06-16T00:00:00",
          "2022-06-17T00:00:00",
          "2022-06-20T00:00:00",
          "2022-06-21T00:00:00",
          "2022-06-22T00:00:00",
          "2022-06-23T00:00:00",
          "2022-06-24T00:00:00",
          "2022-06-27T00:00:00",
          "2022-06-28T00:00:00",
          "2022-06-29T00:00:00",
          "2022-06-30T00:00:00",
          "2022-07-01T00:00:00",
          "2022-07-04T00:00:00",
          "2022-07-05T00:00:00",
          "2022-07-06T00:00:00",
          "2022-07-07T00:00:00",
          "2022-07-08T00:00:00",
          "2022-07-11T00:00:00",
          "2022-07-12T00:00:00",
          "2022-07-13T00:00:00",
          "2022-07-14T00:00:00",
          "2022-07-15T00:00:00",
          "2022-07-18T00:00:00",
          "2022-07-19T00:00:00",
          "2022-07-20T00:00:00",
          "2022-07-21T00:00:00",
          "2022-07-22T00:00:00",
          "2022-07-25T00:00:00",
          "2022-07-26T00:00:00",
          "2022-07-27T00:00:00",
          "2022-07-28T00:00:00",
          "2022-07-29T00:00:00",
          "2022-08-01T00:00:00",
          "2022-08-02T00:00:00",
          "2022-08-03T00:00:00",
          "2022-08-04T00:00:00",
          "2022-08-05T00:00:00",
          "2022-08-08T00:00:00",
          "2022-08-09T00:00:00",
          "2022-08-10T00:00:00",
          "2022-08-11T00:00:00",
          "2022-08-12T00:00:00",
          "2022-08-15T00:00:00",
          "2022-08-16T00:00:00",
          "2022-08-17T00:00:00",
          "2022-08-18T00:00:00",
          "2022-08-19T00:00:00",
          "2022-08-22T00:00:00",
          "2022-08-23T00:00:00",
          "2022-08-24T00:00:00",
          "2022-08-25T00:00:00",
          "2022-08-26T00:00:00",
          "2022-08-29T00:00:00",
          "2022-08-30T00:00:00",
          "2022-08-31T00:00:00",
          "2022-09-01T00:00:00",
          "2022-09-02T00:00:00",
          "2022-09-05T00:00:00",
          "2022-09-06T00:00:00",
          "2022-09-07T00:00:00",
          "2022-09-08T00:00:00",
          "2022-09-09T00:00:00",
          "2022-09-12T00:00:00",
          "2022-09-13T00:00:00",
          "2022-09-14T00:00:00",
          "2022-09-15T00:00:00",
          "2022-09-16T00:00:00",
          "2022-09-19T00:00:00",
          "2022-09-20T00:00:00",
          "2022-09-21T00:00:00",
          "2022-09-22T00:00:00",
          "2022-09-23T00:00:00",
          "2022-09-26T00:00:00",
          "2022-09-27T00:00:00",
          "2022-09-28T00:00:00",
          "2022-09-29T00:00:00",
          "2022-09-30T00:00:00",
          "2022-10-03T00:00:00",
          "2022-10-04T00:00:00",
          "2022-10-05T00:00:00",
          "2022-10-06T00:00:00",
          "2022-10-07T00:00:00",
          "2022-10-10T00:00:00",
          "2022-10-11T00:00:00",
          "2022-10-12T00:00:00",
          "2022-10-13T00:00:00",
          "2022-10-14T00:00:00",
          "2022-10-17T00:00:00",
          "2022-10-18T00:00:00",
          "2022-10-19T00:00:00",
          "2022-10-20T00:00:00",
          "2022-10-21T00:00:00",
          "2022-10-24T00:00:00",
          "2022-10-25T00:00:00",
          "2022-10-26T00:00:00",
          "2022-10-27T00:00:00",
          "2022-10-28T00:00:00",
          "2022-10-31T00:00:00",
          "2022-11-01T00:00:00",
          "2022-11-02T00:00:00",
          "2022-11-03T00:00:00",
          "2022-11-04T00:00:00",
          "2022-11-07T00:00:00",
          "2022-11-08T00:00:00",
          "2022-11-09T00:00:00",
          "2022-11-10T00:00:00",
          "2022-11-11T00:00:00",
          "2022-11-14T00:00:00",
          "2022-11-15T00:00:00",
          "2022-11-16T00:00:00",
          "2022-11-17T00:00:00",
          "2022-11-18T00:00:00",
          "2022-11-21T00:00:00",
          "2022-11-22T00:00:00",
          "2022-11-23T00:00:00",
          "2022-11-24T00:00:00",
          "2022-11-25T00:00:00",
          "2022-11-28T00:00:00",
          "2022-11-29T00:00:00",
          "2022-11-30T00:00:00",
          "2022-12-01T00:00:00",
          "2022-12-02T00:00:00",
          "2022-12-05T00:00:00",
          "2022-12-06T00:00:00",
          "2022-12-07T00:00:00",
          "2022-12-08T00:00:00",
          "2022-12-09T00:00:00",
          "2022-12-12T00:00:00",
          "2022-12-13T00:00:00",
          "2022-12-14T00:00:00",
          "2022-12-15T00:00:00",
          "2022-12-16T00:00:00",
          "2022-12-19T00:00:00",
          "2022-12-20T00:00:00",
          "2022-12-21T00:00:00",
          "2022-12-22T00:00:00",
          "2022-12-23T00:00:00",
          "2022-12-27T00:00:00",
          "2022-12-28T00:00:00",
          "2022-12-29T00:00:00",
          "2022-12-30T00:00:00"
         ],
         "xaxis": "x",
         "y": [
          1,
          1,
          1,
          1,
          1,
          1,
          1,
          1,
          1,
          1,
          1,
          1,
          1,
          1,
          1,
          1,
          1,
          1,
          1,
          1,
          1,
          1,
          1,
          1,
          1,
          1,
          1,
          1,
          1,
          1,
          0,
          0,
          0,
          0,
          0,
          0,
          0,
          0,
          0,
          0,
          0,
          0,
          0,
          0,
          1,
          1,
          1,
          1,
          1,
          1,
          1,
          1,
          1,
          1,
          1,
          1,
          1,
          1,
          1,
          1,
          1,
          1,
          1,
          1,
          1,
          1,
          1,
          1,
          1,
          1,
          1,
          1,
          0,
          0,
          1,
          1,
          1,
          1,
          1,
          1,
          1,
          1,
          1,
          1,
          1,
          1,
          1,
          0,
          0,
          0,
          0,
          0,
          0,
          0,
          0,
          1,
          1,
          1,
          1,
          1,
          1,
          1,
          1,
          1,
          1,
          1,
          1,
          1,
          1,
          1,
          1,
          1,
          1,
          1,
          1,
          1,
          1,
          1,
          1,
          1,
          1,
          1,
          1,
          1,
          1,
          1,
          1,
          1,
          1,
          1,
          1,
          1,
          1,
          1,
          1,
          1,
          1,
          1,
          1,
          1,
          1,
          1,
          1,
          1,
          1,
          1,
          1,
          1,
          1,
          1,
          1,
          1,
          1,
          1,
          1,
          1,
          1,
          1,
          1,
          1,
          1,
          1,
          1,
          1,
          1,
          1,
          1,
          1,
          1,
          1,
          1,
          1,
          1,
          0,
          0,
          0,
          0,
          0,
          0,
          0,
          0,
          0,
          0,
          0,
          0,
          0,
          0,
          0,
          0,
          0,
          0,
          0,
          0,
          1,
          1,
          1,
          1,
          1,
          1,
          1,
          1,
          1,
          1,
          1,
          1,
          1,
          1,
          1,
          1,
          1,
          1,
          1,
          1,
          1,
          1,
          1,
          1,
          1,
          1,
          1,
          1,
          1,
          1,
          1,
          1,
          1,
          1,
          1,
          0,
          0,
          0,
          0,
          0,
          0,
          0,
          0,
          0,
          1,
          1,
          1,
          1,
          1,
          1,
          1,
          1,
          1,
          1,
          1,
          1,
          1,
          1,
          1,
          1,
          1,
          1,
          1,
          1,
          1,
          1,
          0,
          0,
          0,
          0,
          0,
          0,
          0,
          0,
          0,
          0,
          0,
          0,
          0,
          0,
          1,
          1,
          1,
          1,
          1,
          1,
          1,
          1,
          1,
          1,
          1,
          1,
          1,
          1,
          1,
          1,
          1,
          1,
          1,
          1,
          1,
          1,
          1,
          1,
          1,
          1,
          1,
          1,
          1,
          1,
          1,
          1,
          1,
          1,
          1,
          1,
          1,
          1,
          1,
          1,
          1,
          1,
          1,
          1,
          1,
          1,
          1,
          1,
          1,
          1,
          1,
          0,
          0,
          0,
          0,
          0,
          0,
          0,
          0,
          0,
          0,
          0,
          0,
          0,
          0,
          0,
          0,
          0,
          0,
          0,
          0,
          0,
          0,
          0,
          0,
          0,
          0,
          0,
          0,
          0,
          0,
          0,
          0,
          0,
          1,
          1,
          1,
          1,
          0,
          0,
          0,
          0,
          0,
          0,
          0,
          0,
          0,
          0,
          0,
          0,
          0,
          0,
          1,
          1,
          1,
          1,
          1,
          1,
          1,
          1,
          1,
          1,
          1,
          1,
          1,
          1,
          1,
          1,
          1,
          1,
          1,
          1,
          1,
          1,
          1,
          1,
          1,
          1,
          1,
          1,
          1,
          1,
          1,
          1,
          1,
          1,
          1,
          1,
          1,
          1,
          1,
          1,
          1,
          1,
          0,
          0,
          0,
          0,
          0,
          0,
          0,
          0,
          0,
          0,
          0,
          0,
          0,
          0,
          0,
          0,
          0,
          0,
          0,
          0,
          0,
          0,
          0,
          0,
          0,
          0,
          0,
          0,
          0,
          0,
          0,
          0,
          0,
          0,
          0,
          0,
          0,
          0,
          0,
          0,
          0,
          1,
          1,
          1,
          1,
          1,
          1,
          1,
          1,
          1,
          1,
          1,
          1,
          1,
          1,
          1,
          1,
          1,
          1,
          1,
          1,
          1,
          1,
          1,
          1,
          1,
          1,
          1,
          1,
          1,
          1,
          1,
          1,
          1,
          1,
          1,
          1,
          0,
          0,
          0,
          0,
          0,
          0,
          0,
          0,
          0,
          0,
          0,
          0,
          0,
          0,
          0,
          0,
          0,
          0,
          0,
          0,
          1
         ],
         "yaxis": "y2"
        }
       ],
       "layout": {
        "height": 500,
        "margin": {
         "b": 40,
         "l": 50,
         "r": 80,
         "t": 50
        },
        "template": {
         "data": {
          "bar": [
           {
            "error_x": {
             "color": "#2a3f5f"
            },
            "error_y": {
             "color": "#2a3f5f"
            },
            "marker": {
             "line": {
              "color": "white",
              "width": 0.5
             },
             "pattern": {
              "fillmode": "overlay",
              "size": 10,
              "solidity": 0.2
             }
            },
            "type": "bar"
           }
          ],
          "barpolar": [
           {
            "marker": {
             "line": {
              "color": "white",
              "width": 0.5
             },
             "pattern": {
              "fillmode": "overlay",
              "size": 10,
              "solidity": 0.2
             }
            },
            "type": "barpolar"
           }
          ],
          "carpet": [
           {
            "aaxis": {
             "endlinecolor": "#2a3f5f",
             "gridcolor": "#C8D4E3",
             "linecolor": "#C8D4E3",
             "minorgridcolor": "#C8D4E3",
             "startlinecolor": "#2a3f5f"
            },
            "baxis": {
             "endlinecolor": "#2a3f5f",
             "gridcolor": "#C8D4E3",
             "linecolor": "#C8D4E3",
             "minorgridcolor": "#C8D4E3",
             "startlinecolor": "#2a3f5f"
            },
            "type": "carpet"
           }
          ],
          "choropleth": [
           {
            "colorbar": {
             "outlinewidth": 0,
             "ticks": ""
            },
            "type": "choropleth"
           }
          ],
          "contour": [
           {
            "colorbar": {
             "outlinewidth": 0,
             "ticks": ""
            },
            "colorscale": [
             [
              0,
              "#0d0887"
             ],
             [
              0.1111111111111111,
              "#46039f"
             ],
             [
              0.2222222222222222,
              "#7201a8"
             ],
             [
              0.3333333333333333,
              "#9c179e"
             ],
             [
              0.4444444444444444,
              "#bd3786"
             ],
             [
              0.5555555555555556,
              "#d8576b"
             ],
             [
              0.6666666666666666,
              "#ed7953"
             ],
             [
              0.7777777777777778,
              "#fb9f3a"
             ],
             [
              0.8888888888888888,
              "#fdca26"
             ],
             [
              1,
              "#f0f921"
             ]
            ],
            "type": "contour"
           }
          ],
          "contourcarpet": [
           {
            "colorbar": {
             "outlinewidth": 0,
             "ticks": ""
            },
            "type": "contourcarpet"
           }
          ],
          "heatmap": [
           {
            "colorbar": {
             "outlinewidth": 0,
             "ticks": ""
            },
            "colorscale": [
             [
              0,
              "#0d0887"
             ],
             [
              0.1111111111111111,
              "#46039f"
             ],
             [
              0.2222222222222222,
              "#7201a8"
             ],
             [
              0.3333333333333333,
              "#9c179e"
             ],
             [
              0.4444444444444444,
              "#bd3786"
             ],
             [
              0.5555555555555556,
              "#d8576b"
             ],
             [
              0.6666666666666666,
              "#ed7953"
             ],
             [
              0.7777777777777778,
              "#fb9f3a"
             ],
             [
              0.8888888888888888,
              "#fdca26"
             ],
             [
              1,
              "#f0f921"
             ]
            ],
            "type": "heatmap"
           }
          ],
          "heatmapgl": [
           {
            "colorbar": {
             "outlinewidth": 0,
             "ticks": ""
            },
            "colorscale": [
             [
              0,
              "#0d0887"
             ],
             [
              0.1111111111111111,
              "#46039f"
             ],
             [
              0.2222222222222222,
              "#7201a8"
             ],
             [
              0.3333333333333333,
              "#9c179e"
             ],
             [
              0.4444444444444444,
              "#bd3786"
             ],
             [
              0.5555555555555556,
              "#d8576b"
             ],
             [
              0.6666666666666666,
              "#ed7953"
             ],
             [
              0.7777777777777778,
              "#fb9f3a"
             ],
             [
              0.8888888888888888,
              "#fdca26"
             ],
             [
              1,
              "#f0f921"
             ]
            ],
            "type": "heatmapgl"
           }
          ],
          "histogram": [
           {
            "marker": {
             "pattern": {
              "fillmode": "overlay",
              "size": 10,
              "solidity": 0.2
             }
            },
            "type": "histogram"
           }
          ],
          "histogram2d": [
           {
            "colorbar": {
             "outlinewidth": 0,
             "ticks": ""
            },
            "colorscale": [
             [
              0,
              "#0d0887"
             ],
             [
              0.1111111111111111,
              "#46039f"
             ],
             [
              0.2222222222222222,
              "#7201a8"
             ],
             [
              0.3333333333333333,
              "#9c179e"
             ],
             [
              0.4444444444444444,
              "#bd3786"
             ],
             [
              0.5555555555555556,
              "#d8576b"
             ],
             [
              0.6666666666666666,
              "#ed7953"
             ],
             [
              0.7777777777777778,
              "#fb9f3a"
             ],
             [
              0.8888888888888888,
              "#fdca26"
             ],
             [
              1,
              "#f0f921"
             ]
            ],
            "type": "histogram2d"
           }
          ],
          "histogram2dcontour": [
           {
            "colorbar": {
             "outlinewidth": 0,
             "ticks": ""
            },
            "colorscale": [
             [
              0,
              "#0d0887"
             ],
             [
              0.1111111111111111,
              "#46039f"
             ],
             [
              0.2222222222222222,
              "#7201a8"
             ],
             [
              0.3333333333333333,
              "#9c179e"
             ],
             [
              0.4444444444444444,
              "#bd3786"
             ],
             [
              0.5555555555555556,
              "#d8576b"
             ],
             [
              0.6666666666666666,
              "#ed7953"
             ],
             [
              0.7777777777777778,
              "#fb9f3a"
             ],
             [
              0.8888888888888888,
              "#fdca26"
             ],
             [
              1,
              "#f0f921"
             ]
            ],
            "type": "histogram2dcontour"
           }
          ],
          "mesh3d": [
           {
            "colorbar": {
             "outlinewidth": 0,
             "ticks": ""
            },
            "type": "mesh3d"
           }
          ],
          "parcoords": [
           {
            "line": {
             "colorbar": {
              "outlinewidth": 0,
              "ticks": ""
             }
            },
            "type": "parcoords"
           }
          ],
          "pie": [
           {
            "automargin": true,
            "type": "pie"
           }
          ],
          "scatter": [
           {
            "fillpattern": {
             "fillmode": "overlay",
             "size": 10,
             "solidity": 0.2
            },
            "type": "scatter"
           }
          ],
          "scatter3d": [
           {
            "line": {
             "colorbar": {
              "outlinewidth": 0,
              "ticks": ""
             }
            },
            "marker": {
             "colorbar": {
              "outlinewidth": 0,
              "ticks": ""
             }
            },
            "type": "scatter3d"
           }
          ],
          "scattercarpet": [
           {
            "marker": {
             "colorbar": {
              "outlinewidth": 0,
              "ticks": ""
             }
            },
            "type": "scattercarpet"
           }
          ],
          "scattergeo": [
           {
            "marker": {
             "colorbar": {
              "outlinewidth": 0,
              "ticks": ""
             }
            },
            "type": "scattergeo"
           }
          ],
          "scattergl": [
           {
            "marker": {
             "colorbar": {
              "outlinewidth": 0,
              "ticks": ""
             }
            },
            "type": "scattergl"
           }
          ],
          "scattermapbox": [
           {
            "marker": {
             "colorbar": {
              "outlinewidth": 0,
              "ticks": ""
             }
            },
            "type": "scattermapbox"
           }
          ],
          "scatterpolar": [
           {
            "marker": {
             "colorbar": {
              "outlinewidth": 0,
              "ticks": ""
             }
            },
            "type": "scatterpolar"
           }
          ],
          "scatterpolargl": [
           {
            "marker": {
             "colorbar": {
              "outlinewidth": 0,
              "ticks": ""
             }
            },
            "type": "scatterpolargl"
           }
          ],
          "scatterternary": [
           {
            "marker": {
             "colorbar": {
              "outlinewidth": 0,
              "ticks": ""
             }
            },
            "type": "scatterternary"
           }
          ],
          "surface": [
           {
            "colorbar": {
             "outlinewidth": 0,
             "ticks": ""
            },
            "colorscale": [
             [
              0,
              "#0d0887"
             ],
             [
              0.1111111111111111,
              "#46039f"
             ],
             [
              0.2222222222222222,
              "#7201a8"
             ],
             [
              0.3333333333333333,
              "#9c179e"
             ],
             [
              0.4444444444444444,
              "#bd3786"
             ],
             [
              0.5555555555555556,
              "#d8576b"
             ],
             [
              0.6666666666666666,
              "#ed7953"
             ],
             [
              0.7777777777777778,
              "#fb9f3a"
             ],
             [
              0.8888888888888888,
              "#fdca26"
             ],
             [
              1,
              "#f0f921"
             ]
            ],
            "type": "surface"
           }
          ],
          "table": [
           {
            "cells": {
             "fill": {
              "color": "#EBF0F8"
             },
             "line": {
              "color": "white"
             }
            },
            "header": {
             "fill": {
              "color": "#C8D4E3"
             },
             "line": {
              "color": "white"
             }
            },
            "type": "table"
           }
          ]
         },
         "layout": {
          "annotationdefaults": {
           "arrowcolor": "#2a3f5f",
           "arrowhead": 0,
           "arrowwidth": 1
          },
          "autotypenumbers": "strict",
          "coloraxis": {
           "colorbar": {
            "outlinewidth": 0,
            "ticks": ""
           }
          },
          "colorscale": {
           "diverging": [
            [
             0,
             "#8e0152"
            ],
            [
             0.1,
             "#c51b7d"
            ],
            [
             0.2,
             "#de77ae"
            ],
            [
             0.3,
             "#f1b6da"
            ],
            [
             0.4,
             "#fde0ef"
            ],
            [
             0.5,
             "#f7f7f7"
            ],
            [
             0.6,
             "#e6f5d0"
            ],
            [
             0.7,
             "#b8e186"
            ],
            [
             0.8,
             "#7fbc41"
            ],
            [
             0.9,
             "#4d9221"
            ],
            [
             1,
             "#276419"
            ]
           ],
           "sequential": [
            [
             0,
             "#0d0887"
            ],
            [
             0.1111111111111111,
             "#46039f"
            ],
            [
             0.2222222222222222,
             "#7201a8"
            ],
            [
             0.3333333333333333,
             "#9c179e"
            ],
            [
             0.4444444444444444,
             "#bd3786"
            ],
            [
             0.5555555555555556,
             "#d8576b"
            ],
            [
             0.6666666666666666,
             "#ed7953"
            ],
            [
             0.7777777777777778,
             "#fb9f3a"
            ],
            [
             0.8888888888888888,
             "#fdca26"
            ],
            [
             1,
             "#f0f921"
            ]
           ],
           "sequentialminus": [
            [
             0,
             "#0d0887"
            ],
            [
             0.1111111111111111,
             "#46039f"
            ],
            [
             0.2222222222222222,
             "#7201a8"
            ],
            [
             0.3333333333333333,
             "#9c179e"
            ],
            [
             0.4444444444444444,
             "#bd3786"
            ],
            [
             0.5555555555555556,
             "#d8576b"
            ],
            [
             0.6666666666666666,
             "#ed7953"
            ],
            [
             0.7777777777777778,
             "#fb9f3a"
            ],
            [
             0.8888888888888888,
             "#fdca26"
            ],
            [
             1,
             "#f0f921"
            ]
           ]
          },
          "colorway": [
           "#636efa",
           "#EF553B",
           "#00cc96",
           "#ab63fa",
           "#FFA15A",
           "#19d3f3",
           "#FF6692",
           "#B6E880",
           "#FF97FF",
           "#FECB52"
          ],
          "font": {
           "color": "#2a3f5f"
          },
          "geo": {
           "bgcolor": "white",
           "lakecolor": "white",
           "landcolor": "white",
           "showlakes": true,
           "showland": true,
           "subunitcolor": "#C8D4E3"
          },
          "hoverlabel": {
           "align": "left"
          },
          "hovermode": "closest",
          "mapbox": {
           "style": "light"
          },
          "paper_bgcolor": "white",
          "plot_bgcolor": "white",
          "polar": {
           "angularaxis": {
            "gridcolor": "#EBF0F8",
            "linecolor": "#EBF0F8",
            "ticks": ""
           },
           "bgcolor": "white",
           "radialaxis": {
            "gridcolor": "#EBF0F8",
            "linecolor": "#EBF0F8",
            "ticks": ""
           }
          },
          "scene": {
           "xaxis": {
            "backgroundcolor": "white",
            "gridcolor": "#DFE8F3",
            "gridwidth": 2,
            "linecolor": "#EBF0F8",
            "showbackground": true,
            "ticks": "",
            "zerolinecolor": "#EBF0F8"
           },
           "yaxis": {
            "backgroundcolor": "white",
            "gridcolor": "#DFE8F3",
            "gridwidth": 2,
            "linecolor": "#EBF0F8",
            "showbackground": true,
            "ticks": "",
            "zerolinecolor": "#EBF0F8"
           },
           "zaxis": {
            "backgroundcolor": "white",
            "gridcolor": "#DFE8F3",
            "gridwidth": 2,
            "linecolor": "#EBF0F8",
            "showbackground": true,
            "ticks": "",
            "zerolinecolor": "#EBF0F8"
           }
          },
          "shapedefaults": {
           "line": {
            "color": "#2a3f5f"
           }
          },
          "ternary": {
           "aaxis": {
            "gridcolor": "#DFE8F3",
            "linecolor": "#A2B1C6",
            "ticks": ""
           },
           "baxis": {
            "gridcolor": "#DFE8F3",
            "linecolor": "#A2B1C6",
            "ticks": ""
           },
           "bgcolor": "white",
           "caxis": {
            "gridcolor": "#DFE8F3",
            "linecolor": "#A2B1C6",
            "ticks": ""
           }
          },
          "title": {
           "x": 0.05
          },
          "xaxis": {
           "automargin": true,
           "gridcolor": "#EBF0F8",
           "linecolor": "#EBF0F8",
           "ticks": "",
           "title": {
            "standoff": 15
           },
           "zerolinecolor": "#EBF0F8",
           "zerolinewidth": 2
          },
          "yaxis": {
           "automargin": true,
           "gridcolor": "#EBF0F8",
           "linecolor": "#EBF0F8",
           "ticks": "",
           "title": {
            "standoff": 15
           },
           "zerolinecolor": "#EBF0F8",
           "zerolinewidth": 2
          }
         }
        },
        "title": {
         "text": "test"
        },
        "width": 1100,
        "xaxis": {
         "anchor": "y",
         "domain": [
          0,
          0.94
         ]
        },
        "yaxis": {
         "anchor": "x",
         "domain": [
          0,
          1
         ]
        },
        "yaxis2": {
         "anchor": "x",
         "overlaying": "y",
         "side": "right"
        }
       }
      }
     },
     "metadata": {},
     "output_type": "display_data"
    }
   ],
   "source": [
    "\n",
    "df_viz = df.loc[\"2021-01-01\":\"2022-12-31\"]\n",
    "\n",
    "fig = make_subplots(specs=[[{\"secondary_y\": True}]])\n",
    "fig.add_trace(go.Scatter(x=df_viz.index, y=df_viz[\"Close\"],mode='lines',name=\"Close\",line=dict(width=2.0)))\n",
    "fig.add_trace(go.Scatter(x=df_viz.index, y=df_viz[\"min\"],mode='markers',name=\"min\",marker_color='green'))\n",
    "fig.add_trace(go.Scatter(x=df_viz.index, y=df_viz[\"max\"],mode='markers',name=\"max\",marker_color='red'))\n",
    "fig.add_trace(go.Scatter(x=df_viz.index, y=df_viz[\"signal\"],mode='lines',name=\"signal\",line=dict(width=2.0)),secondary_y=\"signal\")\n",
    "\n",
    "\n",
    "fig.update_layout(height=500,width=1100,template='plotly_white',title=\"test\", margin=dict(l=50,r=80,t=50,b=40))\n",
    "fig.show()"
   ]
  },
  {
   "attachments": {},
   "cell_type": "markdown",
   "metadata": {},
   "source": [
    "## Linear correlations"
   ]
  },
  {
   "cell_type": "code",
   "execution_count": 129,
   "metadata": {},
   "outputs": [
    {
     "data": {
      "text/plain": [
       "Text(0.5, 1.0, 'Feature Correlation to signal')"
      ]
     },
     "execution_count": 129,
     "metadata": {},
     "output_type": "execute_result"
    },
    {
     "data": {
      "image/png": "[encoded data removed]",
      "text/plain": [
       "<Figure size 900x50 with 1 Axes>"
      ]
     },
     "metadata": {},
     "output_type": "display_data"
    }
   ],
   "source": [
    "df.drop(columns=['min', 'max', 'action'], inplace=True)\n",
    "corr_mat = df.corr().round(2).transpose()\n",
    "shape = corr_mat.shape[0]\n",
    "corr = corr_mat.loc[:, df.columns == \"signal\"].transpose()\n",
    "\n",
    "f, ax = plt.subplots(figsize=(9,0.5))\n",
    "cmap = sns.diverging_palette(220, 10, as_cmap=True)\n",
    "sns.heatmap(corr, vmin=-0.3, vmax=0.3, center=0, cmap=cmap, square=False, lw=2, annot=True, cbar=False)\n",
    "plt.title(f'Feature Correlation to signal')"
   ]
  },
  {
   "attachments": {},
   "cell_type": "markdown",
   "metadata": {},
   "source": [
    "The correlation between baseline variables and the target are minimal\n",
    "\n",
    "This suggests:\n",
    "- high nonlinearity\n",
    "- stable osciliations relative to stationnary values\n",
    "- Feature cannot model the target"
   ]
  },
  {
   "attachments": {},
   "cell_type": "markdown",
   "metadata": {},
   "source": [
    "## Freature engineering\n",
    "\n",
    "Adding new technical indicators\n",
    "- Moving average\n",
    "Smooth the price fluctuation to get the general idea of where the trend is going\n",
    "- [exponential moving average](\"https://www.investopedia.com/terms/e/ema.asp\")\n",
    "> Exponential moving average (EMA) is a type of weighted moving average that give more weight to recent price data.\n",
    "Removes the lag from the simple moving average\n",
    "Recent data is more relevant and react quickly \n",
    "- [Price momentum oscilliator](\"https://www.fidelity.com/learning-center/trading-investing/technical-analysis/technical-indicator-guide/momentum-oscillator#:~:text=The%20Momentum%20Oscillator%20measures%20the,indicator%20that%20oscillates%20around%20100.\")\n",
    "\n",
    ">The Price Momentum Oscillator oscillate around 0 (zero) center line and positive PMO reading would be an indication of a bullish rend, while negative PMO reading would indicate bearish trend. Based on this, one of the way to use the Price Momentum oscillator would be generate Buy and Sell signals on the crossovers of the PMO and zero center line: consider buying when PMO crosses above zero-line and consider selling when PMO crosses below zero-line.\n",
    "\n",
    "- [Rate of Change](\"https://www.investopedia.com/terms/r/rateofchange.asp\")\n",
    "\n",
    "- [Relative Strenght index](\"https://www.fidelity.com/learning-center/trading-investing/technical-analysis/technical-indicator-guide/RSI#:~:text=Description,and%20oversold%20when%20below%2030.\")\n",
    "\n",
    "> The Relative Strength Index (RSI) is a momentum indicator that describes the current price relative to average high and low prices over a previous trading period. This indicator estimates overbought or oversold status and helps spot trend reversals, price pullbacks, and the emergence of bullish or bearish markets.\n",
    "\n",
    "- [stochasti osciliators](\"https://www.investopedia.com/terms/s/stochasticoscillator.asp\")\n"
   ]
  },
  {
   "cell_type": "code",
   "execution_count": 130,
   "metadata": {},
   "outputs": [],
   "source": [
    "# Calculate the moving averages\n",
    "def ma(df, n):\n",
    "    return pd.Series(df['Close'].rolling(n, min_periods=n).mean(), name='MA_' + str(n)) \n",
    "\n",
    "# Calculate exponential moving average\n",
    "# Places greater signigicance on the most recent data points\n",
    "def ema(df, n):\n",
    "    return pd.Series(df['Close'].ewm(span=n, min_periods=n).mean(), name='EMA' + str(n))\n",
    "\n",
    "# Calculation of price momentum\n",
    "def mom(df, n):\n",
    "    return pd.Series(df.diff(n), name='Momentum' + str(n))\n",
    "\n",
    "# Rate of change\n",
    "def roc(df, n):\n",
    "    M = df.diff(n-1)\n",
    "    N = df.shift(n-1)\n",
    "    return pd.Series((M/N)*100, name='ROC_'+ str(n))\n",
    "\n",
    "# Relative Strenght index\n",
    "def rsi(df, periods, ema=True) -> pd.Series:\n",
    "    \"\"\" Returns a pd.Series with the relative strenght index\"\"\"\n",
    "\n",
    "    # Create two series, one for the lower closes and one for the high closes\n",
    "    df_delta = df['Close'].diff()\n",
    "    down = -1 * df_delta.clip(upper=0) # Change the negative values to positive sign\n",
    "    up = df_delta.clip(lower=0)\n",
    "\n",
    "    # Use exponential moving average \n",
    "    ma_up = up.ewm(com=periods-1, adjust=True, min_periods=periods).mean()\n",
    "    ma_down = down.ewm(com=periods-1, adjust=True, min_periods=periods).mean()\n",
    "    rs = ma_up/ma_down\n",
    "    rsi = 100 - (100/(1+rs))\n",
    "\n",
    "    return rsi\n",
    "\n",
    "# stochastic oscillators slow & fast\n",
    "def sto(close, low, high, n,id): \n",
    "    stok = ((close - low.rolling(n).min()) / (high.rolling(n).max() - low.rolling(n).min())) * 100\n",
    "    if(id == 0):\n",
    "        return stok\n",
    "    else:\n",
    "        return stok.rolling(3).mean()"
   ]
  },
  {
   "cell_type": "code",
   "execution_count": 131,
   "metadata": {},
   "outputs": [],
   "source": [
    "def tech_indi(df,tr_id=True):\n",
    "\n",
    "    ''' Moving Average '''\n",
    "    df['MA21'] = ma(df,10)\n",
    "    df['MA63'] = ma(df, 30)\n",
    "    df['MA252'] = ma(df, 200)\n",
    "    lst_MA = ['MA21','MA63','MA252']\n",
    "\n",
    "    ''' Exponentially Weighted Moving Average '''\n",
    "    df['EMA10'] = ema(df, 10)\n",
    "    df['EMA30'] = ema(df, 30)\n",
    "    df['EMA200'] = ema(df, 200)\n",
    "    lst_EMA = ['EMA10','EMA30','EMA200']\n",
    "\n",
    "    ''' Momentum '''\n",
    "    df['MOM10'] = mom(df['Close'], 10)\n",
    "    df['MOM30'] = mom(df['Close'], 30)\n",
    "    lst_MOM = ['MOM10','MOM30']\n",
    "\n",
    "    ''' Relative Strength Index '''\n",
    "    df['RSI10'] = rsi(df, 10)\n",
    "    df['RSI30'] = rsi(df, 30)\n",
    "    df['RSI200'] = rsi(df, 200)\n",
    "    lst_RSI = ['RSI10','RSI30','RSI200']\n",
    "\n",
    "    ''' Slow Stochastic Oscillators '''\n",
    "    df['%K10'] = sto(df['Close'], df['Low'], df['High'],5,0)\n",
    "    df['%K30'] = sto(df['Close'], df['Low'], df['High'],10,0)\n",
    "    df['%K200'] = sto(df['Close'], df['Low'], df['High'], 20,0)\n",
    "    lst_pK = ['%K10','%K30','%K200']\n",
    "\n",
    "    ''' Fast Stochastic Oscillators '''\n",
    "    df['%D10'] = sto(df['Close'], df['Low'], df['High'], 10,1)\n",
    "    df['%D30'] = sto(df['Close'], df['Low'], df['High'], 30,1)\n",
    "    df['%D200'] = sto(df['Close'], df['Low'], df['High'], 200,1)\n",
    "    lst_pD = ['%D10','%D30','%D200']\n",
    "    \n"
   ]
  },
  {
   "cell_type": "code",
   "execution_count": 132,
   "metadata": {},
   "outputs": [],
   "source": [
    "tech_indi(df) # add technical features to training set"
   ]
  },
  {
   "cell_type": "code",
   "execution_count": 133,
   "metadata": {},
   "outputs": [
    {
     "data": {
      "text/plain": [
       "Text(0.5, 1.0, 'Feature Correlation to signal')"
      ]
     },
     "execution_count": 133,
     "metadata": {},
     "output_type": "execute_result"
    },
    {
     "data": {
      "image/png": "[encoded data removed]",
      "text/plain": [
       "<Figure size 1200x50 with 1 Axes>"
      ]
     },
     "metadata": {},
     "output_type": "display_data"
    }
   ],
   "source": [
    "corr_mat = df.corr().round(2).transpose()\n",
    "shape = corr_mat.shape[0]\n",
    "corr = corr_mat.loc[:, df.columns == \"signal\"].transpose()\n",
    "\n",
    "f, ax = plt.subplots(figsize=(12,0.5))\n",
    "cmap = sns.diverging_palette(220, 10, as_cmap=True)\n",
    "sns.heatmap(corr, vmin=-0.3, vmax=0.3, center=0, cmap=cmap, square=False, lw=2, annot=True, cbar=False)\n",
    "plt.title(f'Feature Correlation to signal')"
   ]
  },
  {
   "attachments": {},
   "cell_type": "markdown",
   "metadata": {},
   "source": [
    "## Model Generation"
   ]
  },
  {
   "cell_type": "code",
   "execution_count": 238,
   "metadata": {},
   "outputs": [],
   "source": [
    "from sklearn.model_selection import train_test_split\n",
    "from xgboost import plot_importance, XGBClassifier, XGBRegressor, cv, DMatrix, plot_importance\n",
    "from sklearn.model_selection import cross_val_score, KFold\n",
    "from sklearn import metrics\n",
    "\n",
    "# import packages for hyperparameters tuning\n",
    "from hyperopt import STATUS_OK, Trials, fmin, hp, tpe"
   ]
  },
  {
   "attachments": {},
   "cell_type": "markdown",
   "metadata": {},
   "source": [
    "### Remove missing data"
   ]
  },
  {
   "cell_type": "code",
   "execution_count": 135,
   "metadata": {},
   "outputs": [
    {
     "data": {
      "image/png": "[encoded data removed]",
      "text/plain": [
       "<Figure size 640x480 with 1 Axes>"
      ]
     },
     "metadata": {},
     "output_type": "display_data"
    }
   ],
   "source": [
    "NaN_values = (df.isnull().sum()/len(df)*100).sort_values(ascending=False)\n",
    "\n",
    "cmap = sns.color_palette(\"plasma\")\n",
    "fig, ax = plt.subplots()\n",
    "sns.barplot(x = NaN_values, y=NaN_values.index, edgecolor=\"black\", palette=cmap, ax=ax)\n",
    "\n",
    "plt.title(\"test\", size = 15, fontweight = \"bold\")\n",
    "ax.set_xlim(0,None)\n",
    "plt.show()"
   ]
  },
  {
   "cell_type": "code",
   "execution_count": 136,
   "metadata": {},
   "outputs": [],
   "source": [
    "df.dropna(inplace=True)"
   ]
  },
  {
   "attachments": {},
   "cell_type": "markdown",
   "metadata": {},
   "source": [
    "### Split test and train sets"
   ]
  },
  {
   "cell_type": "code",
   "execution_count": 137,
   "metadata": {},
   "outputs": [],
   "source": [
    "# We split the data into train and evaluation part\n",
    "train_df,eval_df = train_test_split(df,test_size=0.2,shuffle=False)"
   ]
  },
  {
   "cell_type": "code",
   "execution_count": 219,
   "metadata": {},
   "outputs": [],
   "source": [
    "# We split the target and the fetures\n",
    "target = \"signal\"\n",
    "y_train = train_df[target]\n",
    "X_train = train_df.loc[:, train_df.columns != target]\n",
    "\n",
    "y_eval = eval_df[target]\n",
    "X_eval = eval_df.loc[:, eval_df.columns != target]\n",
    "\n",
    "y_tot = pd.concat([y_train, y_eval])\n",
    "X_tot = pd.concat([X_train, X_eval])\n",
    "\n"
   ]
  },
  {
   "attachments": {},
   "cell_type": "markdown",
   "metadata": {},
   "source": [
    "### XGBoost"
   ]
  },
  {
   "cell_type": "code",
   "execution_count": 220,
   "metadata": {},
   "outputs": [
    {
     "data": {
      "text/html": [
       "<div>\n",
       "<style scoped>\n",
       "    .dataframe tbody tr th:only-of-type {\n",
       "        vertical-align: middle;\n",
       "    }\n",
       "\n",
       "    .dataframe tbody tr th {\n",
       "        vertical-align: top;\n",
       "    }\n",
       "\n",
       "    .dataframe thead th {\n",
       "        text-align: right;\n",
       "    }\n",
       "</style>\n",
       "<table border=\"1\" class=\"dataframe\">\n",
       "  <thead>\n",
       "    <tr style=\"text-align: right;\">\n",
       "      <th></th>\n",
       "      <th>train-auc-mean</th>\n",
       "      <th>train-auc-std</th>\n",
       "      <th>test-auc-mean</th>\n",
       "      <th>test-auc-std</th>\n",
       "    </tr>\n",
       "  </thead>\n",
       "  <tbody>\n",
       "    <tr>\n",
       "      <th>45</th>\n",
       "      <td>0.897345</td>\n",
       "      <td>0.006047</td>\n",
       "      <td>0.829502</td>\n",
       "      <td>0.010824</td>\n",
       "    </tr>\n",
       "    <tr>\n",
       "      <th>46</th>\n",
       "      <td>0.899708</td>\n",
       "      <td>0.005099</td>\n",
       "      <td>0.831282</td>\n",
       "      <td>0.009620</td>\n",
       "    </tr>\n",
       "    <tr>\n",
       "      <th>47</th>\n",
       "      <td>0.900323</td>\n",
       "      <td>0.005122</td>\n",
       "      <td>0.831640</td>\n",
       "      <td>0.009253</td>\n",
       "    </tr>\n",
       "    <tr>\n",
       "      <th>48</th>\n",
       "      <td>0.900413</td>\n",
       "      <td>0.005110</td>\n",
       "      <td>0.832045</td>\n",
       "      <td>0.009565</td>\n",
       "    </tr>\n",
       "    <tr>\n",
       "      <th>49</th>\n",
       "      <td>0.901501</td>\n",
       "      <td>0.004466</td>\n",
       "      <td>0.832799</td>\n",
       "      <td>0.009313</td>\n",
       "    </tr>\n",
       "  </tbody>\n",
       "</table>\n",
       "</div>"
      ],
      "text/plain": [
       "    train-auc-mean  train-auc-std  test-auc-mean  test-auc-std\n",
       "45        0.897345       0.006047       0.829502      0.010824\n",
       "46        0.899708       0.005099       0.831282      0.009620\n",
       "47        0.900323       0.005122       0.831640      0.009253\n",
       "48        0.900413       0.005110       0.832045      0.009565\n",
       "49        0.901501       0.004466       0.832799      0.009313"
      ]
     },
     "execution_count": 220,
     "metadata": {},
     "output_type": "execute_result"
    }
   ],
   "source": [
    "# Définition du modèle\n",
    "data_dmatrix = DMatrix(data=X_train,label=y_train)\n",
    "\n",
    "params = {\"objective\":\"binary:logistic\",'colsample_bytree': 0.3,'learning_rate': 0.1,\n",
    "                'max_depth': 5, 'alpha': 10}\n",
    "\n",
    "xgb_cv = cv(\n",
    "    dtrain=data_dmatrix,\n",
    "    nfold=3,\n",
    "    params=params,\n",
    "    num_boost_round=50,\n",
    "    early_stopping_rounds=10,\n",
    "    metrics='auc',\n",
    "    as_pandas=True,\n",
    "    seed=123\n",
    "    )\n",
    "\n",
    "xgb_cv.tail()"
   ]
  },
  {
   "cell_type": "code",
   "execution_count": null,
   "metadata": {},
   "outputs": [],
   "source": [
    "# declare parameters\n",
    "space={\n",
    "    'max_depth': hp.quniform(\"max_depth\", 3, 18, 1),\n",
    "    'gamma': hp.uniform ('gamma', 1,9),\n",
    "    'reg_alpha' : hp.quniform('reg_alpha', 40,180,1),\n",
    "    'reg_lambda' : hp.uniform('reg_lambda', 0,1),\n",
    "    'colsample_bytree' : hp.uniform('colsample_bytree', 0.5,1),\n",
    "    'min_child_weight' : hp.quniform('min_child_weight', 0, 10, 1),\n",
    "    'n_estimators': 180,\n",
    "    'seed': 0\n",
    "    }\n",
    "        \n",
    "def objective(space):\n",
    "    # instantiate the classifier \n",
    "    xgb_clf = XGBClassifier(\n",
    "        n_estimators =space['n_estimators'], \n",
    "        max_depth = int(space['max_depth']), \n",
    "        gamma = space['gamma'],\n",
    "        reg_alpha = int(space['reg_alpha']),\n",
    "        min_child_weight=int(space['min_child_weight']),\n",
    "        colsample_bytree=int(space['colsample_bytree'],\n",
    "        eval_metric=\"auc\",\n",
    "        arly_stopping_rounds=10\n",
    "        )\n",
    "\n",
    "    evaluation = [( X_train, y_train), ( X_eval, y_eval)]\n",
    "\n",
    "    # fit the classifier to the training data\n",
    "    xgb_clf.fit(X_train, y_train,\n",
    "            eval_set=evaluation,verbose=False)\n",
    "    y_pred = xgb_clf.predict(X_test)\n",
    "    roc_auc_score(y_test,y_pred)"
   ]
  },
  {
   "attachments": {},
   "cell_type": "markdown",
   "metadata": {},
   "source": [
    "Bayesian hyperparameter optimization using HYPEROPT\n",
    "\n",
    "Hyperparameter optimization consists in four parts:\n",
    "- initialize the domain space:\n",
    "input values over which we want to search\n",
    "\n",
    "- Define objective function\n",
    "Any function which return a real value that we want to minimize\n",
    "\n",
    "- Optimization algorithm\n",
    "Methode used to construct the surrogate objective function and chose the next value to evaluate\n",
    "\n",
    "- Results\n",
    "Score or value pairs that the algorithm uses to build the model"
   ]
  },
  {
   "cell_type": "code",
   "execution_count": 264,
   "metadata": {},
   "outputs": [
    {
     "name": "stdout",
     "output_type": "stream",
     "text": [
      "\\AUC 0.9227352010028612 for 199 rounds\n"
     ]
    },
    {
     "data": {
      "image/png": "[encoded data removed]",
      "text/plain": [
       "<Figure size 640x480 with 1 Axes>"
      ]
     },
     "metadata": {},
     "output_type": "display_data"
    }
   ],
   "source": [
    "# declare parameters\n",
    "params={\n",
    "    'max_depth': 4,\n",
    "    'learning_rate': 0.1,\n",
    "    'objective': 'binary:logistic',\n",
    "    # 'n_estimators': 200,\n",
    "    'seed': 0\n",
    "    }\n",
    "\n",
    "train_params = {\n",
    "    'eval_metric': [\"error\", \"auc\", \"map\"]\n",
    "}\n",
    "        \n",
    "\n",
    "data_matrix = DMatrix(data=X_tot ,label=y_tot)\n",
    "\n",
    "# instantiate the classifier \n",
    "xgb_cv = cv(\n",
    "    dtrain= data_matrix,\n",
    "    num_boost_round=200,\n",
    "    early_stopping_rounds=10,\n",
    "    metrics=\"auc\",\n",
    "    nfold=5,\n",
    "    params=params\n",
    "    )\n",
    "# evaluation = [( X_train, y_train), ( X_eval, y_eval)]\n",
    "# model.fit(X_train, y_train, eval_set=evaluation, early_stopping_rounds=10, **train_params, verbose=False, )\n",
    "\n",
    "# train_history = model.evals_result()\n",
    "# plt.plot(train_history[\"validation_0\"][\"auc\"], label=\"training data\")\n",
    "# plt.plot(train_history[\"validation_1\"][\"auc\"], label=\"test data\")\n",
    "\n",
    "max_auc = xgb_cv['test-auc-mean'].max()\n",
    "boost_rounds = xgb_cv['test-auc-mean'].argmax()\n",
    "print(\"\\AUC {} for {} rounds\".format(max_auc, boost_rounds))\n",
    "\n",
    "plt.plot(xgb_cv[\"test-auc-mean\"], label=\"test data\")\n",
    "plt.plot(xgb_cv[\"train-auc-mean\"], label=\"train data\")\n",
    "\n",
    "xgb_clf = XGBClassifier(dtrain=data_matrix, params=params, num_boost_round=50, early_stopping_rounds=10, metrics=\"auc\")\n"
   ]
  },
  {
   "cell_type": "code",
   "execution_count": 265,
   "metadata": {},
   "outputs": [
    {
     "data": {
      "text/plain": [
       "[<matplotlib.lines.Line2D at 0x1cc2315dca0>]"
      ]
     },
     "execution_count": 265,
     "metadata": {},
     "output_type": "execute_result"
    },
    {
     "data": {
      "image/png": "[encoded data removed]",
      "text/plain": [
       "<Figure size 640x480 with 1 Axes>"
      ]
     },
     "metadata": {},
     "output_type": "display_data"
    }
   ],
   "source": [
    "params={\n",
    "    'max_depth': 4,\n",
    "    'learning_rate': 0.1,\n",
    "    'objective': 'binary:logistic',\n",
    "    'n_estimators': 200,\n",
    "    'seed': 0\n",
    "    }\n",
    "\n",
    "xgb_clf = XGBClassifier(**params)\n",
    "xgb_clf.fit(X_train, y_train)\n",
    "y_pred = xgb_clf.predict_proba(X_eval)\n",
    "fpr_test, tpr_test, _ = metrics.roc_curve(y_eval, y_pred[:, 1])\n",
    "plt.title(f\"ROC curve, AUC=(test: {auc_test:.4f}, train: {auc_train:.4f})\")\n",
    "plt.plot(fpr_test, tpr_test, label=\"test data\")"
   ]
  },
  {
   "cell_type": "markdown",
   "metadata": {},
   "source": [
    "## Model explicability"
   ]
  },
  {
   "cell_type": "code",
   "execution_count": 303,
   "metadata": {},
   "outputs": [],
   "source": [
    "y = pd.Series([row[1] for row in y_pred], name=\"y\")\n",
    "\n",
    "df_viz_pred = pd.concat([X_eval.reset_index(), y_eval.reset_index(), y], axis=1)"
   ]
  },
  {
   "cell_type": "code",
   "execution_count": 304,
   "metadata": {},
   "outputs": [
    {
     "name": "stdout",
     "output_type": "stream",
     "text": [
      "<class 'pandas.core.frame.DataFrame'>\n",
      "RangeIndex: 654 entries, 0 to 653\n",
      "Data columns (total 27 columns):\n",
      " #   Column     Non-Null Count  Dtype         \n",
      "---  ------     --------------  -----         \n",
      " 0   Date       654 non-null    datetime64[ns]\n",
      " 1   Open       654 non-null    float64       \n",
      " 2   High       654 non-null    float64       \n",
      " 3   Low        654 non-null    float64       \n",
      " 4   Close      654 non-null    float64       \n",
      " 5   Adj Close  654 non-null    float64       \n",
      " 6   Volume     654 non-null    int64         \n",
      " 7   MA21       654 non-null    float64       \n",
      " 8   MA63       654 non-null    float64       \n",
      " 9   MA252      654 non-null    float64       \n",
      " 10  EMA10      654 non-null    float64       \n",
      " 11  EMA30      654 non-null    float64       \n",
      " 12  EMA200     654 non-null    float64       \n",
      " 13  MOM10      654 non-null    float64       \n",
      " 14  MOM30      654 non-null    float64       \n",
      " 15  RSI10      654 non-null    float64       \n",
      " 16  RSI30      654 non-null    float64       \n",
      " 17  RSI200     654 non-null    float64       \n",
      " 18  %K10       654 non-null    float64       \n",
      " 19  %K30       654 non-null    float64       \n",
      " 20  %K200      654 non-null    float64       \n",
      " 21  %D10       654 non-null    float64       \n",
      " 22  %D30       654 non-null    float64       \n",
      " 23  %D200      654 non-null    float64       \n",
      " 24  Date       654 non-null    datetime64[ns]\n",
      " 25  signal     654 non-null    int32         \n",
      " 26  y          654 non-null    float32       \n",
      "dtypes: datetime64[ns](2), float32(1), float64(22), int32(1), int64(1)\n",
      "memory usage: 133.0 KB\n"
     ]
    }
   ],
   "source": [
    "df_viz_pred.info()"
   ]
  },
  {
   "cell_type": "code",
   "execution_count": 298,
   "metadata": {},
   "outputs": [
    {
     "data": {
      "application/vnd.plotly.v1+json": {
       "config": {
        "plotlyServerURL": "https://plot.ly"
       },
       "data": [
        {
         "line": {
          "width": 2
         },
         "mode": "lines",
         "name": "Close",
         "type": "scatter",
         "x": [
          [
           "2020-06-23T00:00:00",
           "2020-06-23T00:00:00"
          ],
          [
           "2020-06-24T00:00:00",
           "2020-06-24T00:00:00"
          ],
          [
           "2020-06-25T00:00:00",
           "2020-06-25T00:00:00"
          ],
          [
           "2020-06-26T00:00:00",
           "2020-06-26T00:00:00"
          ],
          [
           "2020-06-29T00:00:00",
           "2020-06-29T00:00:00"
          ],
          [
           "2020-06-30T00:00:00",
           "2020-06-30T00:00:00"
          ],
          [
           "2020-07-01T00:00:00",
           "2020-07-01T00:00:00"
          ],
          [
           "2020-07-02T00:00:00",
           "2020-07-02T00:00:00"
          ],
          [
           "2020-07-03T00:00:00",
           "2020-07-03T00:00:00"
          ],
          [
           "2020-07-06T00:00:00",
           "2020-07-06T00:00:00"
          ],
          [
           "2020-07-07T00:00:00",
           "2020-07-07T00:00:00"
          ],
          [
           "2020-07-08T00:00:00",
           "2020-07-08T00:00:00"
          ],
          [
           "2020-07-09T00:00:00",
           "2020-07-09T00:00:00"
          ],
          [
           "2020-07-10T00:00:00",
           "2020-07-10T00:00:00"
          ],
          [
           "2020-07-13T00:00:00",
           "2020-07-13T00:00:00"
          ],
          [
           "2020-07-14T00:00:00",
           "2020-07-14T00:00:00"
          ],
          [
           "2020-07-15T00:00:00",
           "2020-07-15T00:00:00"
          ],
          [
           "2020-07-16T00:00:00",
           "2020-07-16T00:00:00"
          ],
          [
           "2020-07-17T00:00:00",
           "2020-07-17T00:00:00"
          ],
          [
           "2020-07-20T00:00:00",
           "2020-07-20T00:00:00"
          ],
          [
           "2020-07-21T00:00:00",
           "2020-07-21T00:00:00"
          ],
          [
           "2020-07-22T00:00:00",
           "2020-07-22T00:00:00"
          ],
          [
           "2020-07-23T00:00:00",
           "2020-07-23T00:00:00"
          ],
          [
           "2020-07-24T00:00:00",
           "2020-07-24T00:00:00"
          ],
          [
           "2020-07-27T00:00:00",
           "2020-07-27T00:00:00"
          ],
          [
           "2020-07-28T00:00:00",
           "2020-07-28T00:00:00"
          ],
          [
           "2020-07-29T00:00:00",
           "2020-07-29T00:00:00"
          ],
          [
           "2020-07-30T00:00:00",
           "2020-07-30T00:00:00"
          ],
          [
           "2020-07-31T00:00:00",
           "2020-07-31T00:00:00"
          ],
          [
           "2020-08-03T00:00:00",
           "2020-08-03T00:00:00"
          ],
          [
           "2020-08-04T00:00:00",
           "2020-08-04T00:00:00"
          ],
          [
           "2020-08-05T00:00:00",
           "2020-08-05T00:00:00"
          ],
          [
           "2020-08-06T00:00:00",
           "2020-08-06T00:00:00"
          ],
          [
           "2020-08-07T00:00:00",
           "2020-08-07T00:00:00"
          ],
          [
           "2020-08-10T00:00:00",
           "2020-08-10T00:00:00"
          ],
          [
           "2020-08-11T00:00:00",
           "2020-08-11T00:00:00"
          ],
          [
           "2020-08-12T00:00:00",
           "2020-08-12T00:00:00"
          ],
          [
           "2020-08-13T00:00:00",
           "2020-08-13T00:00:00"
          ],
          [
           "2020-08-14T00:00:00",
           "2020-08-14T00:00:00"
          ],
          [
           "2020-08-17T00:00:00",
           "2020-08-17T00:00:00"
          ],
          [
           "2020-08-18T00:00:00",
           "2020-08-18T00:00:00"
          ],
          [
           "2020-08-19T00:00:00",
           "2020-08-19T00:00:00"
          ],
          [
           "2020-08-20T00:00:00",
           "2020-08-20T00:00:00"
          ],
          [
           "2020-08-21T00:00:00",
           "2020-08-21T00:00:00"
          ],
          [
           "2020-08-24T00:00:00",
           "2020-08-24T00:00:00"
          ],
          [
           "2020-08-25T00:00:00",
           "2020-08-25T00:00:00"
          ],
          [
           "2020-08-26T00:00:00",
           "2020-08-26T00:00:00"
          ],
          [
           "2020-08-27T00:00:00",
           "2020-08-27T00:00:00"
          ],
          [
           "2020-08-28T00:00:00",
           "2020-08-28T00:00:00"
          ],
          [
           "2020-08-31T00:00:00",
           "2020-08-31T00:00:00"
          ],
          [
           "2020-09-01T00:00:00",
           "2020-09-01T00:00:00"
          ],
          [
           "2020-09-02T00:00:00",
           "2020-09-02T00:00:00"
          ],
          [
           "2020-09-03T00:00:00",
           "2020-09-03T00:00:00"
          ],
          [
           "2020-09-04T00:00:00",
           "2020-09-04T00:00:00"
          ],
          [
           "2020-09-07T00:00:00",
           "2020-09-07T00:00:00"
          ],
          [
           "2020-09-08T00:00:00",
           "2020-09-08T00:00:00"
          ],
          [
           "2020-09-09T00:00:00",
           "2020-09-09T00:00:00"
          ],
          [
           "2020-09-10T00:00:00",
           "2020-09-10T00:00:00"
          ],
          [
           "2020-09-11T00:00:00",
           "2020-09-11T00:00:00"
          ],
          [
           "2020-09-14T00:00:00",
           "2020-09-14T00:00:00"
          ],
          [
           "2020-09-15T00:00:00",
           "2020-09-15T00:00:00"
          ],
          [
           "2020-09-16T00:00:00",
           "2020-09-16T00:00:00"
          ],
          [
           "2020-09-17T00:00:00",
           "2020-09-17T00:00:00"
          ],
          [
           "2020-09-18T00:00:00",
           "2020-09-18T00:00:00"
          ],
          [
           "2020-09-21T00:00:00",
           "2020-09-21T00:00:00"
          ],
          [
           "2020-09-22T00:00:00",
           "2020-09-22T00:00:00"
          ],
          [
           "2020-09-23T00:00:00",
           "2020-09-23T00:00:00"
          ],
          [
           "2020-09-24T00:00:00",
           "2020-09-24T00:00:00"
          ],
          [
           "2020-09-25T00:00:00",
           "2020-09-25T00:00:00"
          ],
          [
           "2020-09-28T00:00:00",
           "2020-09-28T00:00:00"
          ],
          [
           "2020-09-29T00:00:00",
           "2020-09-29T00:00:00"
          ],
          [
           "2020-09-30T00:00:00",
           "2020-09-30T00:00:00"
          ],
          [
           "2020-10-01T00:00:00",
           "2020-10-01T00:00:00"
          ],
          [
           "2020-10-02T00:00:00",
           "2020-10-02T00:00:00"
          ],
          [
           "2020-10-05T00:00:00",
           "2020-10-05T00:00:00"
          ],
          [
           "2020-10-06T00:00:00",
           "2020-10-06T00:00:00"
          ],
          [
           "2020-10-07T00:00:00",
           "2020-10-07T00:00:00"
          ],
          [
           "2020-10-08T00:00:00",
           "2020-10-08T00:00:00"
          ],
          [
           "2020-10-09T00:00:00",
           "2020-10-09T00:00:00"
          ],
          [
           "2020-10-12T00:00:00",
           "2020-10-12T00:00:00"
          ],
          [
           "2020-10-13T00:00:00",
           "2020-10-13T00:00:00"
          ],
          [
           "2020-10-14T00:00:00",
           "2020-10-14T00:00:00"
          ],
          [
           "2020-10-15T00:00:00",
           "2020-10-15T00:00:00"
          ],
          [
           "2020-10-16T00:00:00",
           "2020-10-16T00:00:00"
          ],
          [
           "2020-10-19T00:00:00",
           "2020-10-19T00:00:00"
          ],
          [
           "2020-10-20T00:00:00",
           "2020-10-20T00:00:00"
          ],
          [
           "2020-10-21T00:00:00",
           "2020-10-21T00:00:00"
          ],
          [
           "2020-10-22T00:00:00",
           "2020-10-22T00:00:00"
          ],
          [
           "2020-10-23T00:00:00",
           "2020-10-23T00:00:00"
          ],
          [
           "2020-10-26T00:00:00",
           "2020-10-26T00:00:00"
          ],
          [
           "2020-10-27T00:00:00",
           "2020-10-27T00:00:00"
          ],
          [
           "2020-10-28T00:00:00",
           "2020-10-28T00:00:00"
          ],
          [
           "2020-10-29T00:00:00",
           "2020-10-29T00:00:00"
          ],
          [
           "2020-10-30T00:00:00",
           "2020-10-30T00:00:00"
          ],
          [
           "2020-11-02T00:00:00",
           "2020-11-02T00:00:00"
          ],
          [
           "2020-11-03T00:00:00",
           "2020-11-03T00:00:00"
          ],
          [
           "2020-11-04T00:00:00",
           "2020-11-04T00:00:00"
          ],
          [
           "2020-11-05T00:00:00",
           "2020-11-05T00:00:00"
          ],
          [
           "2020-11-06T00:00:00",
           "2020-11-06T00:00:00"
          ],
          [
           "2020-11-09T00:00:00",
           "2020-11-09T00:00:00"
          ],
          [
           "2020-11-10T00:00:00",
           "2020-11-10T00:00:00"
          ],
          [
           "2020-11-11T00:00:00",
           "2020-11-11T00:00:00"
          ],
          [
           "2020-11-12T00:00:00",
           "2020-11-12T00:00:00"
          ],
          [
           "2020-11-13T00:00:00",
           "2020-11-13T00:00:00"
          ],
          [
           "2020-11-16T00:00:00",
           "2020-11-16T00:00:00"
          ],
          [
           "2020-11-17T00:00:00",
           "2020-11-17T00:00:00"
          ],
          [
           "2020-11-18T00:00:00",
           "2020-11-18T00:00:00"
          ],
          [
           "2020-11-19T00:00:00",
           "2020-11-19T00:00:00"
          ],
          [
           "2020-11-20T00:00:00",
           "2020-11-20T00:00:00"
          ],
          [
           "2020-11-23T00:00:00",
           "2020-11-23T00:00:00"
          ],
          [
           "2020-11-24T00:00:00",
           "2020-11-24T00:00:00"
          ],
          [
           "2020-11-25T00:00:00",
           "2020-11-25T00:00:00"
          ],
          [
           "2020-11-26T00:00:00",
           "2020-11-26T00:00:00"
          ],
          [
           "2020-11-27T00:00:00",
           "2020-11-27T00:00:00"
          ],
          [
           "2020-11-30T00:00:00",
           "2020-11-30T00:00:00"
          ],
          [
           "2020-12-01T00:00:00",
           "2020-12-01T00:00:00"
          ],
          [
           "2020-12-02T00:00:00",
           "2020-12-02T00:00:00"
          ],
          [
           "2020-12-03T00:00:00",
           "2020-12-03T00:00:00"
          ],
          [
           "2020-12-04T00:00:00",
           "2020-12-04T00:00:00"
          ],
          [
           "2020-12-07T00:00:00",
           "2020-12-07T00:00:00"
          ],
          [
           "2020-12-08T00:00:00",
           "2020-12-08T00:00:00"
          ],
          [
           "2020-12-09T00:00:00",
           "2020-12-09T00:00:00"
          ],
          [
           "2020-12-10T00:00:00",
           "2020-12-10T00:00:00"
          ],
          [
           "2020-12-11T00:00:00",
           "2020-12-11T00:00:00"
          ],
          [
           "2020-12-14T00:00:00",
           "2020-12-14T00:00:00"
          ],
          [
           "2020-12-15T00:00:00",
           "2020-12-15T00:00:00"
          ],
          [
           "2020-12-16T00:00:00",
           "2020-12-16T00:00:00"
          ],
          [
           "2020-12-17T00:00:00",
           "2020-12-17T00:00:00"
          ],
          [
           "2020-12-18T00:00:00",
           "2020-12-18T00:00:00"
          ],
          [
           "2020-12-21T00:00:00",
           "2020-12-21T00:00:00"
          ],
          [
           "2020-12-22T00:00:00",
           "2020-12-22T00:00:00"
          ],
          [
           "2020-12-23T00:00:00",
           "2020-12-23T00:00:00"
          ],
          [
           "2020-12-24T00:00:00",
           "2020-12-24T00:00:00"
          ],
          [
           "2020-12-28T00:00:00",
           "2020-12-28T00:00:00"
          ],
          [
           "2020-12-29T00:00:00",
           "2020-12-29T00:00:00"
          ],
          [
           "2020-12-30T00:00:00",
           "2020-12-30T00:00:00"
          ],
          [
           "2020-12-31T00:00:00",
           "2020-12-31T00:00:00"
          ],
          [
           "2021-01-04T00:00:00",
           "2021-01-04T00:00:00"
          ],
          [
           "2021-01-05T00:00:00",
           "2021-01-05T00:00:00"
          ],
          [
           "2021-01-06T00:00:00",
           "2021-01-06T00:00:00"
          ],
          [
           "2021-01-07T00:00:00",
           "2021-01-07T00:00:00"
          ],
          [
           "2021-01-08T00:00:00",
           "2021-01-08T00:00:00"
          ],
          [
           "2021-01-11T00:00:00",
           "2021-01-11T00:00:00"
          ],
          [
           "2021-01-12T00:00:00",
           "2021-01-12T00:00:00"
          ],
          [
           "2021-01-13T00:00:00",
           "2021-01-13T00:00:00"
          ],
          [
           "2021-01-14T00:00:00",
           "2021-01-14T00:00:00"
          ],
          [
           "2021-01-15T00:00:00",
           "2021-01-15T00:00:00"
          ],
          [
           "2021-01-18T00:00:00",
           "2021-01-18T00:00:00"
          ],
          [
           "2021-01-19T00:00:00",
           "2021-01-19T00:00:00"
          ],
          [
           "2021-01-20T00:00:00",
           "2021-01-20T00:00:00"
          ],
          [
           "2021-01-21T00:00:00",
           "2021-01-21T00:00:00"
          ],
          [
           "2021-01-22T00:00:00",
           "2021-01-22T00:00:00"
          ],
          [
           "2021-01-25T00:00:00",
           "2021-01-25T00:00:00"
          ],
          [
           "2021-01-26T00:00:00",
           "2021-01-26T00:00:00"
          ],
          [
           "2021-01-27T00:00:00",
           "2021-01-27T00:00:00"
          ],
          [
           "2021-01-28T00:00:00",
           "2021-01-28T00:00:00"
          ],
          [
           "2021-01-29T00:00:00",
           "2021-01-29T00:00:00"
          ],
          [
           "2021-02-01T00:00:00",
           "2021-02-01T00:00:00"
          ],
          [
           "2021-02-02T00:00:00",
           "2021-02-02T00:00:00"
          ],
          [
           "2021-02-03T00:00:00",
           "2021-02-03T00:00:00"
          ],
          [
           "2021-02-04T00:00:00",
           "2021-02-04T00:00:00"
          ],
          [
           "2021-02-05T00:00:00",
           "2021-02-05T00:00:00"
          ],
          [
           "2021-02-08T00:00:00",
           "2021-02-08T00:00:00"
          ],
          [
           "2021-02-09T00:00:00",
           "2021-02-09T00:00:00"
          ],
          [
           "2021-02-10T00:00:00",
           "2021-02-10T00:00:00"
          ],
          [
           "2021-02-11T00:00:00",
           "2021-02-11T00:00:00"
          ],
          [
           "2021-02-12T00:00:00",
           "2021-02-12T00:00:00"
          ],
          [
           "2021-02-15T00:00:00",
           "2021-02-15T00:00:00"
          ],
          [
           "2021-02-16T00:00:00",
           "2021-02-16T00:00:00"
          ],
          [
           "2021-02-17T00:00:00",
           "2021-02-17T00:00:00"
          ],
          [
           "2021-02-18T00:00:00",
           "2021-02-18T00:00:00"
          ],
          [
           "2021-02-19T00:00:00",
           "2021-02-19T00:00:00"
          ],
          [
           "2021-02-22T00:00:00",
           "2021-02-22T00:00:00"
          ],
          [
           "2021-02-23T00:00:00",
           "2021-02-23T00:00:00"
          ],
          [
           "2021-02-24T00:00:00",
           "2021-02-24T00:00:00"
          ],
          [
           "2021-02-25T00:00:00",
           "2021-02-25T00:00:00"
          ],
          [
           "2021-02-26T00:00:00",
           "2021-02-26T00:00:00"
          ],
          [
           "2021-03-01T00:00:00",
           "2021-03-01T00:00:00"
          ],
          [
           "2021-03-02T00:00:00",
           "2021-03-02T00:00:00"
          ],
          [
           "2021-03-03T00:00:00",
           "2021-03-03T00:00:00"
          ],
          [
           "2021-03-04T00:00:00",
           "2021-03-04T00:00:00"
          ],
          [
           "2021-03-05T00:00:00",
           "2021-03-05T00:00:00"
          ],
          [
           "2021-03-08T00:00:00",
           "2021-03-08T00:00:00"
          ],
          [
           "2021-03-09T00:00:00",
           "2021-03-09T00:00:00"
          ],
          [
           "2021-03-10T00:00:00",
           "2021-03-10T00:00:00"
          ],
          [
           "2021-03-11T00:00:00",
           "2021-03-11T00:00:00"
          ],
          [
           "2021-03-12T00:00:00",
           "2021-03-12T00:00:00"
          ],
          [
           "2021-03-15T00:00:00",
           "2021-03-15T00:00:00"
          ],
          [
           "2021-03-16T00:00:00",
           "2021-03-16T00:00:00"
          ],
          [
           "2021-03-17T00:00:00",
           "2021-03-17T00:00:00"
          ],
          [
           "2021-03-18T00:00:00",
           "2021-03-18T00:00:00"
          ],
          [
           "2021-03-19T00:00:00",
           "2021-03-19T00:00:00"
          ],
          [
           "2021-03-22T00:00:00",
           "2021-03-22T00:00:00"
          ],
          [
           "2021-03-23T00:00:00",
           "2021-03-23T00:00:00"
          ],
          [
           "2021-03-24T00:00:00",
           "2021-03-24T00:00:00"
          ],
          [
           "2021-03-25T00:00:00",
           "2021-03-25T00:00:00"
          ],
          [
           "2021-03-26T00:00:00",
           "2021-03-26T00:00:00"
          ],
          [
           "2021-03-29T00:00:00",
           "2021-03-29T00:00:00"
          ],
          [
           "2021-03-30T00:00:00",
           "2021-03-30T00:00:00"
          ],
          [
           "2021-03-31T00:00:00",
           "2021-03-31T00:00:00"
          ],
          [
           "2021-04-01T00:00:00",
           "2021-04-01T00:00:00"
          ],
          [
           "2021-04-06T00:00:00",
           "2021-04-06T00:00:00"
          ],
          [
           "2021-04-07T00:00:00",
           "2021-04-07T00:00:00"
          ],
          [
           "2021-04-08T00:00:00",
           "2021-04-08T00:00:00"
          ],
          [
           "2021-04-09T00:00:00",
           "2021-04-09T00:00:00"
          ],
          [
           "2021-04-12T00:00:00",
           "2021-04-12T00:00:00"
          ],
          [
           "2021-04-13T00:00:00",
           "2021-04-13T00:00:00"
          ],
          [
           "2021-04-14T00:00:00",
           "2021-04-14T00:00:00"
          ],
          [
           "2021-04-15T00:00:00",
           "2021-04-15T00:00:00"
          ],
          [
           "2021-04-16T00:00:00",
           "2021-04-16T00:00:00"
          ],
          [
           "2021-04-19T00:00:00",
           "2021-04-19T00:00:00"
          ],
          [
           "2021-04-20T00:00:00",
           "2021-04-20T00:00:00"
          ],
          [
           "2021-04-21T00:00:00",
           "2021-04-21T00:00:00"
          ],
          [
           "2021-04-22T00:00:00",
           "2021-04-22T00:00:00"
          ],
          [
           "2021-04-23T00:00:00",
           "2021-04-23T00:00:00"
          ],
          [
           "2021-04-26T00:00:00",
           "2021-04-26T00:00:00"
          ],
          [
           "2021-04-27T00:00:00",
           "2021-04-27T00:00:00"
          ],
          [
           "2021-04-28T00:00:00",
           "2021-04-28T00:00:00"
          ],
          [
           "2021-04-29T00:00:00",
           "2021-04-29T00:00:00"
          ],
          [
           "2021-04-30T00:00:00",
           "2021-04-30T00:00:00"
          ],
          [
           "2021-05-03T00:00:00",
           "2021-05-03T00:00:00"
          ],
          [
           "2021-05-04T00:00:00",
           "2021-05-04T00:00:00"
          ],
          [
           "2021-05-05T00:00:00",
           "2021-05-05T00:00:00"
          ],
          [
           "2021-05-06T00:00:00",
           "2021-05-06T00:00:00"
          ],
          [
           "2021-05-07T00:00:00",
           "2021-05-07T00:00:00"
          ],
          [
           "2021-05-10T00:00:00",
           "2021-05-10T00:00:00"
          ],
          [
           "2021-05-11T00:00:00",
           "2021-05-11T00:00:00"
          ],
          [
           "2021-05-12T00:00:00",
           "2021-05-12T00:00:00"
          ],
          [
           "2021-05-13T00:00:00",
           "2021-05-13T00:00:00"
          ],
          [
           "2021-05-14T00:00:00",
           "2021-05-14T00:00:00"
          ],
          [
           "2021-05-17T00:00:00",
           "2021-05-17T00:00:00"
          ],
          [
           "2021-05-18T00:00:00",
           "2021-05-18T00:00:00"
          ],
          [
           "2021-05-19T00:00:00",
           "2021-05-19T00:00:00"
          ],
          [
           "2021-05-20T00:00:00",
           "2021-05-20T00:00:00"
          ],
          [
           "2021-05-21T00:00:00",
           "2021-05-21T00:00:00"
          ],
          [
           "2021-05-24T00:00:00",
           "2021-05-24T00:00:00"
          ],
          [
           "2021-05-25T00:00:00",
           "2021-05-25T00:00:00"
          ],
          [
           "2021-05-26T00:00:00",
           "2021-05-26T00:00:00"
          ],
          [
           "2021-05-27T00:00:00",
           "2021-05-27T00:00:00"
          ],
          [
           "2021-05-28T00:00:00",
           "2021-05-28T00:00:00"
          ],
          [
           "2021-05-31T00:00:00",
           "2021-05-31T00:00:00"
          ],
          [
           "2021-06-01T00:00:00",
           "2021-06-01T00:00:00"
          ],
          [
           "2021-06-02T00:00:00",
           "2021-06-02T00:00:00"
          ],
          [
           "2021-06-03T00:00:00",
           "2021-06-03T00:00:00"
          ],
          [
           "2021-06-04T00:00:00",
           "2021-06-04T00:00:00"
          ],
          [
           "2021-06-07T00:00:00",
           "2021-06-07T00:00:00"
          ],
          [
           "2021-06-08T00:00:00",
           "2021-06-08T00:00:00"
          ],
          [
           "2021-06-09T00:00:00",
           "2021-06-09T00:00:00"
          ],
          [
           "2021-06-10T00:00:00",
           "2021-06-10T00:00:00"
          ],
          [
           "2021-06-11T00:00:00",
           "2021-06-11T00:00:00"
          ],
          [
           "2021-06-14T00:00:00",
           "2021-06-14T00:00:00"
          ],
          [
           "2021-06-15T00:00:00",
           "2021-06-15T00:00:00"
          ],
          [
           "2021-06-16T00:00:00",
           "2021-06-16T00:00:00"
          ],
          [
           "2021-06-17T00:00:00",
           "2021-06-17T00:00:00"
          ],
          [
           "2021-06-18T00:00:00",
           "2021-06-18T00:00:00"
          ],
          [
           "2021-06-21T00:00:00",
           "2021-06-21T00:00:00"
          ],
          [
           "2021-06-22T00:00:00",
           "2021-06-22T00:00:00"
          ],
          [
           "2021-06-23T00:00:00",
           "2021-06-23T00:00:00"
          ],
          [
           "2021-06-24T00:00:00",
           "2021-06-24T00:00:00"
          ],
          [
           "2021-06-25T00:00:00",
           "2021-06-25T00:00:00"
          ],
          [
           "2021-06-28T00:00:00",
           "2021-06-28T00:00:00"
          ],
          [
           "2021-06-29T00:00:00",
           "2021-06-29T00:00:00"
          ],
          [
           "2021-06-30T00:00:00",
           "2021-06-30T00:00:00"
          ],
          [
           "2021-07-01T00:00:00",
           "2021-07-01T00:00:00"
          ],
          [
           "2021-07-02T00:00:00",
           "2021-07-02T00:00:00"
          ],
          [
           "2021-07-05T00:00:00",
           "2021-07-05T00:00:00"
          ],
          [
           "2021-07-06T00:00:00",
           "2021-07-06T00:00:00"
          ],
          [
           "2021-07-07T00:00:00",
           "2021-07-07T00:00:00"
          ],
          [
           "2021-07-08T00:00:00",
           "2021-07-08T00:00:00"
          ],
          [
           "2021-07-09T00:00:00",
           "2021-07-09T00:00:00"
          ],
          [
           "2021-07-12T00:00:00",
           "2021-07-12T00:00:00"
          ],
          [
           "2021-07-13T00:00:00",
           "2021-07-13T00:00:00"
          ],
          [
           "2021-07-14T00:00:00",
           "2021-07-14T00:00:00"
          ],
          [
           "2021-07-15T00:00:00",
           "2021-07-15T00:00:00"
          ],
          [
           "2021-07-16T00:00:00",
           "2021-07-16T00:00:00"
          ],
          [
           "2021-07-19T00:00:00",
           "2021-07-19T00:00:00"
          ],
          [
           "2021-07-20T00:00:00",
           "2021-07-20T00:00:00"
          ],
          [
           "2021-07-21T00:00:00",
           "2021-07-21T00:00:00"
          ],
          [
           "2021-07-22T00:00:00",
           "2021-07-22T00:00:00"
          ],
          [
           "2021-07-23T00:00:00",
           "2021-07-23T00:00:00"
          ],
          [
           "2021-07-26T00:00:00",
           "2021-07-26T00:00:00"
          ],
          [
           "2021-07-27T00:00:00",
           "2021-07-27T00:00:00"
          ],
          [
           "2021-07-28T00:00:00",
           "2021-07-28T00:00:00"
          ],
          [
           "2021-07-29T00:00:00",
           "2021-07-29T00:00:00"
          ],
          [
           "2021-07-30T00:00:00",
           "2021-07-30T00:00:00"
          ],
          [
           "2021-08-02T00:00:00",
           "2021-08-02T00:00:00"
          ],
          [
           "2021-08-03T00:00:00",
           "2021-08-03T00:00:00"
          ],
          [
           "2021-08-04T00:00:00",
           "2021-08-04T00:00:00"
          ],
          [
           "2021-08-05T00:00:00",
           "2021-08-05T00:00:00"
          ],
          [
           "2021-08-06T00:00:00",
           "2021-08-06T00:00:00"
          ],
          [
           "2021-08-09T00:00:00",
           "2021-08-09T00:00:00"
          ],
          [
           "2021-08-10T00:00:00",
           "2021-08-10T00:00:00"
          ],
          [
           "2021-08-11T00:00:00",
           "2021-08-11T00:00:00"
          ],
          [
           "2021-08-12T00:00:00",
           "2021-08-12T00:00:00"
          ],
          [
           "2021-08-13T00:00:00",
           "2021-08-13T00:00:00"
          ],
          [
           "2021-08-16T00:00:00",
           "2021-08-16T00:00:00"
          ],
          [
           "2021-08-17T00:00:00",
           "2021-08-17T00:00:00"
          ],
          [
           "2021-08-18T00:00:00",
           "2021-08-18T00:00:00"
          ],
          [
           "2021-08-19T00:00:00",
           "2021-08-19T00:00:00"
          ],
          [
           "2021-08-20T00:00:00",
           "2021-08-20T00:00:00"
          ],
          [
           "2021-08-23T00:00:00",
           "2021-08-23T00:00:00"
          ],
          [
           "2021-08-24T00:00:00",
           "2021-08-24T00:00:00"
          ],
          [
           "2021-08-25T00:00:00",
           "2021-08-25T00:00:00"
          ],
          [
           "2021-08-26T00:00:00",
           "2021-08-26T00:00:00"
          ],
          [
           "2021-08-27T00:00:00",
           "2021-08-27T00:00:00"
          ],
          [
           "2021-08-30T00:00:00",
           "2021-08-30T00:00:00"
          ],
          [
           "2021-08-31T00:00:00",
           "2021-08-31T00:00:00"
          ],
          [
           "2021-09-01T00:00:00",
           "2021-09-01T00:00:00"
          ],
          [
           "2021-09-02T00:00:00",
           "2021-09-02T00:00:00"
          ],
          [
           "2021-09-03T00:00:00",
           "2021-09-03T00:00:00"
          ],
          [
           "2021-09-06T00:00:00",
           "2021-09-06T00:00:00"
          ],
          [
           "2021-09-07T00:00:00",
           "2021-09-07T00:00:00"
          ],
          [
           "2021-09-08T00:00:00",
           "2021-09-08T00:00:00"
          ],
          [
           "2021-09-09T00:00:00",
           "2021-09-09T00:00:00"
          ],
          [
           "2021-09-10T00:00:00",
           "2021-09-10T00:00:00"
          ],
          [
           "2021-09-13T00:00:00",
           "2021-09-13T00:00:00"
          ],
          [
           "2021-09-14T00:00:00",
           "2021-09-14T00:00:00"
          ],
          [
           "2021-09-15T00:00:00",
           "2021-09-15T00:00:00"
          ],
          [
           "2021-09-16T00:00:00",
           "2021-09-16T00:00:00"
          ],
          [
           "2021-09-17T00:00:00",
           "2021-09-17T00:00:00"
          ],
          [
           "2021-09-20T00:00:00",
           "2021-09-20T00:00:00"
          ],
          [
           "2021-09-21T00:00:00",
           "2021-09-21T00:00:00"
          ],
          [
           "2021-09-22T00:00:00",
           "2021-09-22T00:00:00"
          ],
          [
           "2021-09-23T00:00:00",
           "2021-09-23T00:00:00"
          ],
          [
           "2021-09-24T00:00:00",
           "2021-09-24T00:00:00"
          ],
          [
           "2021-09-27T00:00:00",
           "2021-09-27T00:00:00"
          ],
          [
           "2021-09-28T00:00:00",
           "2021-09-28T00:00:00"
          ],
          [
           "2021-09-29T00:00:00",
           "2021-09-29T00:00:00"
          ],
          [
           "2021-09-30T00:00:00",
           "2021-09-30T00:00:00"
          ],
          [
           "2021-10-01T00:00:00",
           "2021-10-01T00:00:00"
          ],
          [
           "2021-10-04T00:00:00",
           "2021-10-04T00:00:00"
          ],
          [
           "2021-10-05T00:00:00",
           "2021-10-05T00:00:00"
          ],
          [
           "2021-10-06T00:00:00",
           "2021-10-06T00:00:00"
          ],
          [
           "2021-10-07T00:00:00",
           "2021-10-07T00:00:00"
          ],
          [
           "2021-10-08T00:00:00",
           "2021-10-08T00:00:00"
          ],
          [
           "2021-10-11T00:00:00",
           "2021-10-11T00:00:00"
          ],
          [
           "2021-10-12T00:00:00",
           "2021-10-12T00:00:00"
          ],
          [
           "2021-10-13T00:00:00",
           "2021-10-13T00:00:00"
          ],
          [
           "2021-10-14T00:00:00",
           "2021-10-14T00:00:00"
          ],
          [
           "2021-10-15T00:00:00",
           "2021-10-15T00:00:00"
          ],
          [
           "2021-10-18T00:00:00",
           "2021-10-18T00:00:00"
          ],
          [
           "2021-10-19T00:00:00",
           "2021-10-19T00:00:00"
          ],
          [
           "2021-10-20T00:00:00",
           "2021-10-20T00:00:00"
          ],
          [
           "2021-10-21T00:00:00",
           "2021-10-21T00:00:00"
          ],
          [
           "2021-10-22T00:00:00",
           "2021-10-22T00:00:00"
          ],
          [
           "2021-10-25T00:00:00",
           "2021-10-25T00:00:00"
          ],
          [
           "2021-10-26T00:00:00",
           "2021-10-26T00:00:00"
          ],
          [
           "2021-10-27T00:00:00",
           "2021-10-27T00:00:00"
          ],
          [
           "2021-10-28T00:00:00",
           "2021-10-28T00:00:00"
          ],
          [
           "2021-10-29T00:00:00",
           "2021-10-29T00:00:00"
          ],
          [
           "2021-11-01T00:00:00",
           "2021-11-01T00:00:00"
          ],
          [
           "2021-11-02T00:00:00",
           "2021-11-02T00:00:00"
          ],
          [
           "2021-11-03T00:00:00",
           "2021-11-03T00:00:00"
          ],
          [
           "2021-11-04T00:00:00",
           "2021-11-04T00:00:00"
          ],
          [
           "2021-11-05T00:00:00",
           "2021-11-05T00:00:00"
          ],
          [
           "2021-11-08T00:00:00",
           "2021-11-08T00:00:00"
          ],
          [
           "2021-11-09T00:00:00",
           "2021-11-09T00:00:00"
          ],
          [
           "2021-11-10T00:00:00",
           "2021-11-10T00:00:00"
          ],
          [
           "2021-11-11T00:00:00",
           "2021-11-11T00:00:00"
          ],
          [
           "2021-11-12T00:00:00",
           "2021-11-12T00:00:00"
          ],
          [
           "2021-11-15T00:00:00",
           "2021-11-15T00:00:00"
          ],
          [
           "2021-11-16T00:00:00",
           "2021-11-16T00:00:00"
          ],
          [
           "2021-11-17T00:00:00",
           "2021-11-17T00:00:00"
          ],
          [
           "2021-11-18T00:00:00",
           "2021-11-18T00:00:00"
          ],
          [
           "2021-11-19T00:00:00",
           "2021-11-19T00:00:00"
          ],
          [
           "2021-11-22T00:00:00",
           "2021-11-22T00:00:00"
          ],
          [
           "2021-11-23T00:00:00",
           "2021-11-23T00:00:00"
          ],
          [
           "2021-11-24T00:00:00",
           "2021-11-24T00:00:00"
          ],
          [
           "2021-11-25T00:00:00",
           "2021-11-25T00:00:00"
          ],
          [
           "2021-11-26T00:00:00",
           "2021-11-26T00:00:00"
          ],
          [
           "2021-11-29T00:00:00",
           "2021-11-29T00:00:00"
          ],
          [
           "2021-11-30T00:00:00",
           "2021-11-30T00:00:00"
          ],
          [
           "2021-12-01T00:00:00",
           "2021-12-01T00:00:00"
          ],
          [
           "2021-12-02T00:00:00",
           "2021-12-02T00:00:00"
          ],
          [
           "2021-12-03T00:00:00",
           "2021-12-03T00:00:00"
          ],
          [
           "2021-12-06T00:00:00",
           "2021-12-06T00:00:00"
          ],
          [
           "2021-12-07T00:00:00",
           "2021-12-07T00:00:00"
          ],
          [
           "2021-12-08T00:00:00",
           "2021-12-08T00:00:00"
          ],
          [
           "2021-12-09T00:00:00",
           "2021-12-09T00:00:00"
          ],
          [
           "2021-12-10T00:00:00",
           "2021-12-10T00:00:00"
          ],
          [
           "2021-12-13T00:00:00",
           "2021-12-13T00:00:00"
          ],
          [
           "2021-12-14T00:00:00",
           "2021-12-14T00:00:00"
          ],
          [
           "2021-12-15T00:00:00",
           "2021-12-15T00:00:00"
          ],
          [
           "2021-12-16T00:00:00",
           "2021-12-16T00:00:00"
          ],
          [
           "2021-12-17T00:00:00",
           "2021-12-17T00:00:00"
          ],
          [
           "2021-12-20T00:00:00",
           "2021-12-20T00:00:00"
          ],
          [
           "2021-12-21T00:00:00",
           "2021-12-21T00:00:00"
          ],
          [
           "2021-12-22T00:00:00",
           "2021-12-22T00:00:00"
          ],
          [
           "2021-12-23T00:00:00",
           "2021-12-23T00:00:00"
          ],
          [
           "2021-12-24T00:00:00",
           "2021-12-24T00:00:00"
          ],
          [
           "2021-12-27T00:00:00",
           "2021-12-27T00:00:00"
          ],
          [
           "2021-12-28T00:00:00",
           "2021-12-28T00:00:00"
          ],
          [
           "2021-12-29T00:00:00",
           "2021-12-29T00:00:00"
          ],
          [
           "2021-12-30T00:00:00",
           "2021-12-30T00:00:00"
          ],
          [
           "2021-12-31T00:00:00",
           "2021-12-31T00:00:00"
          ],
          [
           "2022-01-03T00:00:00",
           "2022-01-03T00:00:00"
          ],
          [
           "2022-01-04T00:00:00",
           "2022-01-04T00:00:00"
          ],
          [
           "2022-01-05T00:00:00",
           "2022-01-05T00:00:00"
          ],
          [
           "2022-01-06T00:00:00",
           "2022-01-06T00:00:00"
          ],
          [
           "2022-01-07T00:00:00",
           "2022-01-07T00:00:00"
          ],
          [
           "2022-01-10T00:00:00",
           "2022-01-10T00:00:00"
          ],
          [
           "2022-01-11T00:00:00",
           "2022-01-11T00:00:00"
          ],
          [
           "2022-01-12T00:00:00",
           "2022-01-12T00:00:00"
          ],
          [
           "2022-01-13T00:00:00",
           "2022-01-13T00:00:00"
          ],
          [
           "2022-01-14T00:00:00",
           "2022-01-14T00:00:00"
          ],
          [
           "2022-01-17T00:00:00",
           "2022-01-17T00:00:00"
          ],
          [
           "2022-01-18T00:00:00",
           "2022-01-18T00:00:00"
          ],
          [
           "2022-01-19T00:00:00",
           "2022-01-19T00:00:00"
          ],
          [
           "2022-01-20T00:00:00",
           "2022-01-20T00:00:00"
          ],
          [
           "2022-01-21T00:00:00",
           "2022-01-21T00:00:00"
          ],
          [
           "2022-01-24T00:00:00",
           "2022-01-24T00:00:00"
          ],
          [
           "2022-01-25T00:00:00",
           "2022-01-25T00:00:00"
          ],
          [
           "2022-01-26T00:00:00",
           "2022-01-26T00:00:00"
          ],
          [
           "2022-01-27T00:00:00",
           "2022-01-27T00:00:00"
          ],
          [
           "2022-01-28T00:00:00",
           "2022-01-28T00:00:00"
          ],
          [
           "2022-01-31T00:00:00",
           "2022-01-31T00:00:00"
          ],
          [
           "2022-02-01T00:00:00",
           "2022-02-01T00:00:00"
          ],
          [
           "2022-02-02T00:00:00",
           "2022-02-02T00:00:00"
          ],
          [
           "2022-02-03T00:00:00",
           "2022-02-03T00:00:00"
          ],
          [
           "2022-02-04T00:00:00",
           "2022-02-04T00:00:00"
          ],
          [
           "2022-02-07T00:00:00",
           "2022-02-07T00:00:00"
          ],
          [
           "2022-02-08T00:00:00",
           "2022-02-08T00:00:00"
          ],
          [
           "2022-02-09T00:00:00",
           "2022-02-09T00:00:00"
          ],
          [
           "2022-02-10T00:00:00",
           "2022-02-10T00:00:00"
          ],
          [
           "2022-02-11T00:00:00",
           "2022-02-11T00:00:00"
          ],
          [
           "2022-02-14T00:00:00",
           "2022-02-14T00:00:00"
          ],
          [
           "2022-02-15T00:00:00",
           "2022-02-15T00:00:00"
          ],
          [
           "2022-02-16T00:00:00",
           "2022-02-16T00:00:00"
          ],
          [
           "2022-02-17T00:00:00",
           "2022-02-17T00:00:00"
          ],
          [
           "2022-02-18T00:00:00",
           "2022-02-18T00:00:00"
          ],
          [
           "2022-02-21T00:00:00",
           "2022-02-21T00:00:00"
          ],
          [
           "2022-02-22T00:00:00",
           "2022-02-22T00:00:00"
          ],
          [
           "2022-02-23T00:00:00",
           "2022-02-23T00:00:00"
          ],
          [
           "2022-02-24T00:00:00",
           "2022-02-24T00:00:00"
          ],
          [
           "2022-02-25T00:00:00",
           "2022-02-25T00:00:00"
          ],
          [
           "2022-02-28T00:00:00",
           "2022-02-28T00:00:00"
          ],
          [
           "2022-03-01T00:00:00",
           "2022-03-01T00:00:00"
          ],
          [
           "2022-03-02T00:00:00",
           "2022-03-02T00:00:00"
          ],
          [
           "2022-03-03T00:00:00",
           "2022-03-03T00:00:00"
          ],
          [
           "2022-03-04T00:00:00",
           "2022-03-04T00:00:00"
          ],
          [
           "2022-03-07T00:00:00",
           "2022-03-07T00:00:00"
          ],
          [
           "2022-03-08T00:00:00",
           "2022-03-08T00:00:00"
          ],
          [
           "2022-03-09T00:00:00",
           "2022-03-09T00:00:00"
          ],
          [
           "2022-03-10T00:00:00",
           "2022-03-10T00:00:00"
          ],
          [
           "2022-03-11T00:00:00",
           "2022-03-11T00:00:00"
          ],
          [
           "2022-03-14T00:00:00",
           "2022-03-14T00:00:00"
          ],
          [
           "2022-03-15T00:00:00",
           "2022-03-15T00:00:00"
          ],
          [
           "2022-03-16T00:00:00",
           "2022-03-16T00:00:00"
          ],
          [
           "2022-03-17T00:00:00",
           "2022-03-17T00:00:00"
          ],
          [
           "2022-03-18T00:00:00",
           "2022-03-18T00:00:00"
          ],
          [
           "2022-03-21T00:00:00",
           "2022-03-21T00:00:00"
          ],
          [
           "2022-03-22T00:00:00",
           "2022-03-22T00:00:00"
          ],
          [
           "2022-03-23T00:00:00",
           "2022-03-23T00:00:00"
          ],
          [
           "2022-03-24T00:00:00",
           "2022-03-24T00:00:00"
          ],
          [
           "2022-03-25T00:00:00",
           "2022-03-25T00:00:00"
          ],
          [
           "2022-03-28T00:00:00",
           "2022-03-28T00:00:00"
          ],
          [
           "2022-03-29T00:00:00",
           "2022-03-29T00:00:00"
          ],
          [
           "2022-03-30T00:00:00",
           "2022-03-30T00:00:00"
          ],
          [
           "2022-03-31T00:00:00",
           "2022-03-31T00:00:00"
          ],
          [
           "2022-04-01T00:00:00",
           "2022-04-01T00:00:00"
          ],
          [
           "2022-04-04T00:00:00",
           "2022-04-04T00:00:00"
          ],
          [
           "2022-04-05T00:00:00",
           "2022-04-05T00:00:00"
          ],
          [
           "2022-04-06T00:00:00",
           "2022-04-06T00:00:00"
          ],
          [
           "2022-04-07T00:00:00",
           "2022-04-07T00:00:00"
          ],
          [
           "2022-04-08T00:00:00",
           "2022-04-08T00:00:00"
          ],
          [
           "2022-04-11T00:00:00",
           "2022-04-11T00:00:00"
          ],
          [
           "2022-04-12T00:00:00",
           "2022-04-12T00:00:00"
          ],
          [
           "2022-04-13T00:00:00",
           "2022-04-13T00:00:00"
          ],
          [
           "2022-04-14T00:00:00",
           "2022-04-14T00:00:00"
          ],
          [
           "2022-04-19T00:00:00",
           "2022-04-19T00:00:00"
          ],
          [
           "2022-04-20T00:00:00",
           "2022-04-20T00:00:00"
          ],
          [
           "2022-04-21T00:00:00",
           "2022-04-21T00:00:00"
          ],
          [
           "2022-04-22T00:00:00",
           "2022-04-22T00:00:00"
          ],
          [
           "2022-04-25T00:00:00",
           "2022-04-25T00:00:00"
          ],
          [
           "2022-04-26T00:00:00",
           "2022-04-26T00:00:00"
          ],
          [
           "2022-04-27T00:00:00",
           "2022-04-27T00:00:00"
          ],
          [
           "2022-04-28T00:00:00",
           "2022-04-28T00:00:00"
          ],
          [
           "2022-04-29T00:00:00",
           "2022-04-29T00:00:00"
          ],
          [
           "2022-05-02T00:00:00",
           "2022-05-02T00:00:00"
          ],
          [
           "2022-05-03T00:00:00",
           "2022-05-03T00:00:00"
          ],
          [
           "2022-05-04T00:00:00",
           "2022-05-04T00:00:00"
          ],
          [
           "2022-05-05T00:00:00",
           "2022-05-05T00:00:00"
          ],
          [
           "2022-05-06T00:00:00",
           "2022-05-06T00:00:00"
          ],
          [
           "2022-05-09T00:00:00",
           "2022-05-09T00:00:00"
          ],
          [
           "2022-05-10T00:00:00",
           "2022-05-10T00:00:00"
          ],
          [
           "2022-05-11T00:00:00",
           "2022-05-11T00:00:00"
          ],
          [
           "2022-05-12T00:00:00",
           "2022-05-12T00:00:00"
          ],
          [
           "2022-05-13T00:00:00",
           "2022-05-13T00:00:00"
          ],
          [
           "2022-05-16T00:00:00",
           "2022-05-16T00:00:00"
          ],
          [
           "2022-05-17T00:00:00",
           "2022-05-17T00:00:00"
          ],
          [
           "2022-05-18T00:00:00",
           "2022-05-18T00:00:00"
          ],
          [
           "2022-05-19T00:00:00",
           "2022-05-19T00:00:00"
          ],
          [
           "2022-05-20T00:00:00",
           "2022-05-20T00:00:00"
          ],
          [
           "2022-05-23T00:00:00",
           "2022-05-23T00:00:00"
          ],
          [
           "2022-05-24T00:00:00",
           "2022-05-24T00:00:00"
          ],
          [
           "2022-05-25T00:00:00",
           "2022-05-25T00:00:00"
          ],
          [
           "2022-05-26T00:00:00",
           "2022-05-26T00:00:00"
          ],
          [
           "2022-05-27T00:00:00",
           "2022-05-27T00:00:00"
          ],
          [
           "2022-05-30T00:00:00",
           "2022-05-30T00:00:00"
          ],
          [
           "2022-05-31T00:00:00",
           "2022-05-31T00:00:00"
          ],
          [
           "2022-06-01T00:00:00",
           "2022-06-01T00:00:00"
          ],
          [
           "2022-06-02T00:00:00",
           "2022-06-02T00:00:00"
          ],
          [
           "2022-06-03T00:00:00",
           "2022-06-03T00:00:00"
          ],
          [
           "2022-06-06T00:00:00",
           "2022-06-06T00:00:00"
          ],
          [
           "2022-06-07T00:00:00",
           "2022-06-07T00:00:00"
          ],
          [
           "2022-06-08T00:00:00",
           "2022-06-08T00:00:00"
          ],
          [
           "2022-06-09T00:00:00",
           "2022-06-09T00:00:00"
          ],
          [
           "2022-06-10T00:00:00",
           "2022-06-10T00:00:00"
          ],
          [
           "2022-06-13T00:00:00",
           "2022-06-13T00:00:00"
          ],
          [
           "2022-06-14T00:00:00",
           "2022-06-14T00:00:00"
          ],
          [
           "2022-06-15T00:00:00",
           "2022-06-15T00:00:00"
          ],
          [
           "2022-06-16T00:00:00",
           "2022-06-16T00:00:00"
          ],
          [
           "2022-06-17T00:00:00",
           "2022-06-17T00:00:00"
          ],
          [
           "2022-06-20T00:00:00",
           "2022-06-20T00:00:00"
          ],
          [
           "2022-06-21T00:00:00",
           "2022-06-21T00:00:00"
          ],
          [
           "2022-06-22T00:00:00",
           "2022-06-22T00:00:00"
          ],
          [
           "2022-06-23T00:00:00",
           "2022-06-23T00:00:00"
          ],
          [
           "2022-06-24T00:00:00",
           "2022-06-24T00:00:00"
          ],
          [
           "2022-06-27T00:00:00",
           "2022-06-27T00:00:00"
          ],
          [
           "2022-06-28T00:00:00",
           "2022-06-28T00:00:00"
          ],
          [
           "2022-06-29T00:00:00",
           "2022-06-29T00:00:00"
          ],
          [
           "2022-06-30T00:00:00",
           "2022-06-30T00:00:00"
          ],
          [
           "2022-07-01T00:00:00",
           "2022-07-01T00:00:00"
          ],
          [
           "2022-07-04T00:00:00",
           "2022-07-04T00:00:00"
          ],
          [
           "2022-07-05T00:00:00",
           "2022-07-05T00:00:00"
          ],
          [
           "2022-07-06T00:00:00",
           "2022-07-06T00:00:00"
          ],
          [
           "2022-07-07T00:00:00",
           "2022-07-07T00:00:00"
          ],
          [
           "2022-07-08T00:00:00",
           "2022-07-08T00:00:00"
          ],
          [
           "2022-07-11T00:00:00",
           "2022-07-11T00:00:00"
          ],
          [
           "2022-07-12T00:00:00",
           "2022-07-12T00:00:00"
          ],
          [
           "2022-07-13T00:00:00",
           "2022-07-13T00:00:00"
          ],
          [
           "2022-07-14T00:00:00",
           "2022-07-14T00:00:00"
          ],
          [
           "2022-07-15T00:00:00",
           "2022-07-15T00:00:00"
          ],
          [
           "2022-07-18T00:00:00",
           "2022-07-18T00:00:00"
          ],
          [
           "2022-07-19T00:00:00",
           "2022-07-19T00:00:00"
          ],
          [
           "2022-07-20T00:00:00",
           "2022-07-20T00:00:00"
          ],
          [
           "2022-07-21T00:00:00",
           "2022-07-21T00:00:00"
          ],
          [
           "2022-07-22T00:00:00",
           "2022-07-22T00:00:00"
          ],
          [
           "2022-07-25T00:00:00",
           "2022-07-25T00:00:00"
          ],
          [
           "2022-07-26T00:00:00",
           "2022-07-26T00:00:00"
          ],
          [
           "2022-07-27T00:00:00",
           "2022-07-27T00:00:00"
          ],
          [
           "2022-07-28T00:00:00",
           "2022-07-28T00:00:00"
          ],
          [
           "2022-07-29T00:00:00",
           "2022-07-29T00:00:00"
          ],
          [
           "2022-08-01T00:00:00",
           "2022-08-01T00:00:00"
          ],
          [
           "2022-08-02T00:00:00",
           "2022-08-02T00:00:00"
          ],
          [
           "2022-08-03T00:00:00",
           "2022-08-03T00:00:00"
          ],
          [
           "2022-08-04T00:00:00",
           "2022-08-04T00:00:00"
          ],
          [
           "2022-08-05T00:00:00",
           "2022-08-05T00:00:00"
          ],
          [
           "2022-08-08T00:00:00",
           "2022-08-08T00:00:00"
          ],
          [
           "2022-08-09T00:00:00",
           "2022-08-09T00:00:00"
          ],
          [
           "2022-08-10T00:00:00",
           "2022-08-10T00:00:00"
          ],
          [
           "2022-08-11T00:00:00",
           "2022-08-11T00:00:00"
          ],
          [
           "2022-08-12T00:00:00",
           "2022-08-12T00:00:00"
          ],
          [
           "2022-08-15T00:00:00",
           "2022-08-15T00:00:00"
          ],
          [
           "2022-08-16T00:00:00",
           "2022-08-16T00:00:00"
          ],
          [
           "2022-08-17T00:00:00",
           "2022-08-17T00:00:00"
          ],
          [
           "2022-08-18T00:00:00",
           "2022-08-18T00:00:00"
          ],
          [
           "2022-08-19T00:00:00",
           "2022-08-19T00:00:00"
          ],
          [
           "2022-08-22T00:00:00",
           "2022-08-22T00:00:00"
          ],
          [
           "2022-08-23T00:00:00",
           "2022-08-23T00:00:00"
          ],
          [
           "2022-08-24T00:00:00",
           "2022-08-24T00:00:00"
          ],
          [
           "2022-08-25T00:00:00",
           "2022-08-25T00:00:00"
          ],
          [
           "2022-08-26T00:00:00",
           "2022-08-26T00:00:00"
          ],
          [
           "2022-08-29T00:00:00",
           "2022-08-29T00:00:00"
          ],
          [
           "2022-08-30T00:00:00",
           "2022-08-30T00:00:00"
          ],
          [
           "2022-08-31T00:00:00",
           "2022-08-31T00:00:00"
          ],
          [
           "2022-09-01T00:00:00",
           "2022-09-01T00:00:00"
          ],
          [
           "2022-09-02T00:00:00",
           "2022-09-02T00:00:00"
          ],
          [
           "2022-09-05T00:00:00",
           "2022-09-05T00:00:00"
          ],
          [
           "2022-09-06T00:00:00",
           "2022-09-06T00:00:00"
          ],
          [
           "2022-09-07T00:00:00",
           "2022-09-07T00:00:00"
          ],
          [
           "2022-09-08T00:00:00",
           "2022-09-08T00:00:00"
          ],
          [
           "2022-09-09T00:00:00",
           "2022-09-09T00:00:00"
          ],
          [
           "2022-09-12T00:00:00",
           "2022-09-12T00:00:00"
          ],
          [
           "2022-09-13T00:00:00",
           "2022-09-13T00:00:00"
          ],
          [
           "2022-09-14T00:00:00",
           "2022-09-14T00:00:00"
          ],
          [
           "2022-09-15T00:00:00",
           "2022-09-15T00:00:00"
          ],
          [
           "2022-09-16T00:00:00",
           "2022-09-16T00:00:00"
          ],
          [
           "2022-09-19T00:00:00",
           "2022-09-19T00:00:00"
          ],
          [
           "2022-09-20T00:00:00",
           "2022-09-20T00:00:00"
          ],
          [
           "2022-09-21T00:00:00",
           "2022-09-21T00:00:00"
          ],
          [
           "2022-09-22T00:00:00",
           "2022-09-22T00:00:00"
          ],
          [
           "2022-09-23T00:00:00",
           "2022-09-23T00:00:00"
          ],
          [
           "2022-09-26T00:00:00",
           "2022-09-26T00:00:00"
          ],
          [
           "2022-09-27T00:00:00",
           "2022-09-27T00:00:00"
          ],
          [
           "2022-09-28T00:00:00",
           "2022-09-28T00:00:00"
          ],
          [
           "2022-09-29T00:00:00",
           "2022-09-29T00:00:00"
          ],
          [
           "2022-09-30T00:00:00",
           "2022-09-30T00:00:00"
          ],
          [
           "2022-10-03T00:00:00",
           "2022-10-03T00:00:00"
          ],
          [
           "2022-10-04T00:00:00",
           "2022-10-04T00:00:00"
          ],
          [
           "2022-10-05T00:00:00",
           "2022-10-05T00:00:00"
          ],
          [
           "2022-10-06T00:00:00",
           "2022-10-06T00:00:00"
          ],
          [
           "2022-10-07T00:00:00",
           "2022-10-07T00:00:00"
          ],
          [
           "2022-10-10T00:00:00",
           "2022-10-10T00:00:00"
          ],
          [
           "2022-10-11T00:00:00",
           "2022-10-11T00:00:00"
          ],
          [
           "2022-10-12T00:00:00",
           "2022-10-12T00:00:00"
          ],
          [
           "2022-10-13T00:00:00",
           "2022-10-13T00:00:00"
          ],
          [
           "2022-10-14T00:00:00",
           "2022-10-14T00:00:00"
          ],
          [
           "2022-10-17T00:00:00",
           "2022-10-17T00:00:00"
          ],
          [
           "2022-10-18T00:00:00",
           "2022-10-18T00:00:00"
          ],
          [
           "2022-10-19T00:00:00",
           "2022-10-19T00:00:00"
          ],
          [
           "2022-10-20T00:00:00",
           "2022-10-20T00:00:00"
          ],
          [
           "2022-10-21T00:00:00",
           "2022-10-21T00:00:00"
          ],
          [
           "2022-10-24T00:00:00",
           "2022-10-24T00:00:00"
          ],
          [
           "2022-10-25T00:00:00",
           "2022-10-25T00:00:00"
          ],
          [
           "2022-10-26T00:00:00",
           "2022-10-26T00:00:00"
          ],
          [
           "2022-10-27T00:00:00",
           "2022-10-27T00:00:00"
          ],
          [
           "2022-10-28T00:00:00",
           "2022-10-28T00:00:00"
          ],
          [
           "2022-10-31T00:00:00",
           "2022-10-31T00:00:00"
          ],
          [
           "2022-11-01T00:00:00",
           "2022-11-01T00:00:00"
          ],
          [
           "2022-11-02T00:00:00",
           "2022-11-02T00:00:00"
          ],
          [
           "2022-11-03T00:00:00",
           "2022-11-03T00:00:00"
          ],
          [
           "2022-11-04T00:00:00",
           "2022-11-04T00:00:00"
          ],
          [
           "2022-11-07T00:00:00",
           "2022-11-07T00:00:00"
          ],
          [
           "2022-11-08T00:00:00",
           "2022-11-08T00:00:00"
          ],
          [
           "2022-11-09T00:00:00",
           "2022-11-09T00:00:00"
          ],
          [
           "2022-11-10T00:00:00",
           "2022-11-10T00:00:00"
          ],
          [
           "2022-11-11T00:00:00",
           "2022-11-11T00:00:00"
          ],
          [
           "2022-11-14T00:00:00",
           "2022-11-14T00:00:00"
          ],
          [
           "2022-11-15T00:00:00",
           "2022-11-15T00:00:00"
          ],
          [
           "2022-11-16T00:00:00",
           "2022-11-16T00:00:00"
          ],
          [
           "2022-11-17T00:00:00",
           "2022-11-17T00:00:00"
          ],
          [
           "2022-11-18T00:00:00",
           "2022-11-18T00:00:00"
          ],
          [
           "2022-11-21T00:00:00",
           "2022-11-21T00:00:00"
          ],
          [
           "2022-11-22T00:00:00",
           "2022-11-22T00:00:00"
          ],
          [
           "2022-11-23T00:00:00",
           "2022-11-23T00:00:00"
          ],
          [
           "2022-11-24T00:00:00",
           "2022-11-24T00:00:00"
          ],
          [
           "2022-11-25T00:00:00",
           "2022-11-25T00:00:00"
          ],
          [
           "2022-11-28T00:00:00",
           "2022-11-28T00:00:00"
          ],
          [
           "2022-11-29T00:00:00",
           "2022-11-29T00:00:00"
          ],
          [
           "2022-11-30T00:00:00",
           "2022-11-30T00:00:00"
          ],
          [
           "2022-12-01T00:00:00",
           "2022-12-01T00:00:00"
          ],
          [
           "2022-12-02T00:00:00",
           "2022-12-02T00:00:00"
          ],
          [
           "2022-12-05T00:00:00",
           "2022-12-05T00:00:00"
          ],
          [
           "2022-12-06T00:00:00",
           "2022-12-06T00:00:00"
          ],
          [
           "2022-12-07T00:00:00",
           "2022-12-07T00:00:00"
          ],
          [
           "2022-12-08T00:00:00",
           "2022-12-08T00:00:00"
          ],
          [
           "2022-12-09T00:00:00",
           "2022-12-09T00:00:00"
          ],
          [
           "2022-12-12T00:00:00",
           "2022-12-12T00:00:00"
          ],
          [
           "2022-12-13T00:00:00",
           "2022-12-13T00:00:00"
          ],
          [
           "2022-12-14T00:00:00",
           "2022-12-14T00:00:00"
          ],
          [
           "2022-12-15T00:00:00",
           "2022-12-15T00:00:00"
          ],
          [
           "2022-12-16T00:00:00",
           "2022-12-16T00:00:00"
          ],
          [
           "2022-12-19T00:00:00",
           "2022-12-19T00:00:00"
          ],
          [
           "2022-12-20T00:00:00",
           "2022-12-20T00:00:00"
          ],
          [
           "2022-12-21T00:00:00",
           "2022-12-21T00:00:00"
          ],
          [
           "2022-12-22T00:00:00",
           "2022-12-22T00:00:00"
          ],
          [
           "2022-12-23T00:00:00",
           "2022-12-23T00:00:00"
          ],
          [
           "2022-12-27T00:00:00",
           "2022-12-27T00:00:00"
          ],
          [
           "2022-12-28T00:00:00",
           "2022-12-28T00:00:00"
          ],
          [
           "2022-12-29T00:00:00",
           "2022-12-29T00:00:00"
          ],
          [
           "2022-12-30T00:00:00",
           "2022-12-30T00:00:00"
          ],
          [
           "2023-01-02T00:00:00",
           "2023-01-02T00:00:00"
          ],
          [
           "2023-01-03T00:00:00",
           "2023-01-03T00:00:00"
          ]
         ],
         "y": [
          295.82708740234375,
          288.3055114746094,
          288.5,
          288.1622009277344,
          288.5621032714844,
          290.7499084472656,
          292.4259033203125,
          297.1275939941406,
          295.0502014160156,
          299.0215148925781,
          298.73388671875,
          294.6789855957031,
          293.84130859375,
          296.67889404296875,
          301.4049072265625,
          295.7430114746094,
          300.24481201171875,
          298.70709228515625,
          299.28271484375,
          301,
          302.8811950683594,
          299.568603515625,
          299.64959716796875,
          294.4117126464844,
          292.2301025390625,
          294.3096008300781,
          293.65771484375,
          290.8815002441406,
          290,
          296.139892578125,
          296.2096862792969,
          296.0950927734375,
          296.08599853515625,
          298.7065124511719,
          299.4501953125,
          301.8345031738281,
          303.418701171875,
          302.6816101074219,
          301.47930908203125,
          301.83489990234375,
          300.8251037597656,
          302.5423889160156,
          301.2066955566406,
          303.0802917480469,
          305.9103088378906,
          306.07958984375,
          308.4075927734375,
          310.4241943359375,
          307.9173889160156,
          306.8146057128906,
          307.8164978027344,
          313.28179931640625,
          307.54669189453125,
          301.095703125,
          305.3857116699219,
          300.00909423828125,
          303.2987976074219,
          302.1025085449219,
          300.14019775390625,
          302.6199951171875,
          305.13848876953125,
          306.1430969238281,
          302.30828857421875,
          299.31878662109375,
          293.19580078125,
          296.7536926269531,
          299.322998046875,
          295.7518005371094,
          297.8476867675781,
          304.0474853515625,
          301.5205078125,
          303.3291015625,
          304.0939025878906,
          302.88330078125,
          304.7113037109375,
          305.67041015625,
          306.3407897949219,
          308.4100036621094,
          310.026611328125,
          314.31219482421875,
          315.3999938964844,
          313.92999267578125,
          310.5047912597656,
          313.36151123046875,
          310.2349853515625,
          307.0989074707031,
          305.48858642578125,
          305.5209045410156,
          306.8934020996094,
          302.0516052246094,
          301.88128662109375,
          295.5263977050781,
          297.4112854003906,
          295.3533935546875,
          299.3908996582031,
          304.4100036621094,
          311.03948974609375,
          313.5828857421875,
          311.7226867675781,
          322.6893005371094,
          318.3608093261719,
          322.7486877441406,
          319.8999938964844,
          319.6199951171875,
          324.752197265625,
          323.67999267578125,
          324.3699951171875,
          321.3977966308594,
          321.5,
          322.1997985839844,
          326.90179443359375,
          326.1413879394531,
          326.52630615234375,
          326.6534118652344,
          322.9547119140625,
          326.1506042480469,
          324.52459716796875,
          324.5763854980469,
          326.4112854003906,
          326.4010009765625,
          327.5273132324219,
          328.1419982910156,
          326.1883850097656,
          323.96148681640625,
          325.7091064453125,
          325.3138122558594,
          327.5903015136719,
          327.58990478515625,
          327.0151062011719,
          322.9291076660156,
          326.2184143066406,
          326.5101013183594,
          327.8139953613281,
          329.6741027832031,
          329.85650634765625,
          329.08428955078125,
          328.6885070800781,
          327.29010009765625,
          327.6839904785156,
          332.5303955078125,
          334.63848876953125,
          337.0273132324219,
          338.3598937988281,
          338.0751953125,
          338.8756103515625,
          340.6243896484375,
          337.8829040527344,
          338.3641052246094,
          337.918701171875,
          342.4789123535156,
          342.6400146484375,
          340.033203125,
          339.4797058105469,
          341.2121887207031,
          336.9656066894531,
          337.56329345703125,
          330.7618103027344,
          334.993408203125,
          342.20001220703125,
          342.6651916503906,
          345.6642150878906,
          346.80828857421875,
          348.13250732421875,
          347.7323913574219,
          346.69879150390625,
          348.2795104980469,
          349.4309997558594,
          352.4613952636719,
          351.4580993652344,
          350.3399963378906,
          348.2908020019531,
          349.5799865722656,
          346.0790100097656,
          343.5513916015625,
          346.81060791015625,
          343.36749267578125,
          341.0456848144531,
          347.5710144042969,
          345.6747131347656,
          344.94000244140625,
          342.21319580078125,
          338.3887939453125,
          349.3572082519531,
          350.8742980957031,
          352.1000061035156,
          354.06719970703125,
          352.65240478515625,
          354.7239990234375,
          358.10699462890625,
          355.8821105957031,
          357.1062927246094,
          354.42449951171875,
          355.1451110839844,
          355.9014892578125,
          355.3900146484375,
          354.4017028808594,
          357.7934875488281,
          359.1820983886719,
          360.95330810546875,
          361.6300048828125,
          363.4519958496094,
          366.89849853515625,
          365.0610046386719,
          367,
          368.0242004394531,
          368.0028076171875,
          368.6400146484375,
          368.6355895996094,
          370.54119873046875,
          371.7095031738281,
          369.36700439453125,
          364.3641052246094,
          367.25469970703125,
          369.7710876464844,
          368.6242980957031,
          369.6318054199219,
          369.110595703125,
          368.9879150390625,
          368.13531494140625,
          369.02789306640625,
          369.95001220703125,
          365.2023010253906,
          370.4501953125,
          368.5799865722656,
          371.0592956542969,
          370.4639892578125,
          363.33990478515625,
          362.0152893066406,
          362.31988525390625,
          365.6877136230469,
          364.27410888671875,
          364.5,
          358.076904296875,
          364.5190124511719,
          366.3081970214844,
          367.9718933105469,
          366.41009521484375,
          368.0791015625,
          369.14520263671875,
          370.4342041015625,
          367.8713073730469,
          368.8020935058594,
          370.55859375,
          371.1893005371094,
          372.2297058105469,
          372.04998779296875,
          372.25311279296875,
          372.9309997558594,
          373.8900146484375,
          376.3735046386719,
          375.9482116699219,
          376.3048095703125,
          377.2300109863281,
          380.8230895996094,
          377.414794921875,
          379.21661376953125,
          381.3393859863281,
          379.9092102050781,
          382.5504150390625,
          383.2698059082031,
          383.0069885253906,
          384.9200134277344,
          384.9678039550781,
          386.048095703125,
          388.41241455078125,
          389.5491943359375,
          388.3716125488281,
          391.1155090332031,
          385.70440673828125,
          390.01519775390625,
          391.4115905761719,
          393.5483093261719,
          391.8363037109375,
          390.65899658203125,
          389.24969482421875,
          381.57000732421875,
          386.7554016113281,
          389.6542053222656,
          391.4578857421875,
          395.7825012207031,
          395.0965881347656,
          391.4088134765625,
          394.2799072265625,
          394.3688049316406,
          392.37908935546875,
          393.93280029296875,
          393.20001220703125,
          395.1661071777344,
          396.69061279296875,
          399.0376892089844,
          399.565185546875,
          400.935302734375,
          401.21868896484375,
          401.8660888671875,
          401.4468078613281,
          400.03118896484375,
          401.276611328125,
          401.3799133300781,
          397.26019287109375,
          399.79681396484375,
          402.5513000488281,
          402.9413146972656,
          403.3070068359375,
          401.92120361328125,
          403.1365051269531,
          405.0574035644531,
          404.2455139160156,
          404.0365905761719,
          404.8301086425781,
          404.4075927734375,
          406.9070129394531,
          404.9414978027344,
          403.4273986816406,
          404.1813049316406,
          402.11761474609375,
          401.56988525390625,
          401,
          399.980712890625,
          401.9800109863281,
          400.76611328125,
          393.57659912109375,
          396.4142150878906,
          398.61090087890625,
          402.3265075683594,
          401.4866943359375,
          401.7063903808594,
          394.36041259765625,
          397.5086975097656,
          396.3962097167969,
          394.1026916503906,
          389.6964111328125,
          396.18170166015625,
          393.5841979980469,
          402.20001220703125,
          400.4103088378906,
          401.45001220703125,
          398.6600036621094,
          397.44000244140625,
          403.8982849121094,
          407.0549011230469,
          407.2699890136719,
          409.45318603515625,
          410.77850341796875,
          410.05120849609375,
          411.0660095214844,
          413.4599914550781,
          416.435302734375,
          414.5625915527344,
          413.2698974609375,
          417.1520080566406,
          418.0530090332031,
          419.5296936035156,
          419.54510498046875,
          423.909912109375,
          426.0903015136719,
          425.037109375,
          423.6119079589844,
          425.1300048828125,
          425.4914855957031,
          428.2267150878906,
          430.0119934082031,
          433.82000732421875,
          433.50421142578125,
          432.0299987792969,
          433.6000061035156,
          435.96990966796875,
          430.0299987792969,
          433.7406921386719,
          434.902099609375,
          420.2900085449219,
          425.0199890136719,
          419.7427062988281,
          424.2298889160156,
          416.7898864746094,
          415.677001953125,
          420.4154052734375,
          431.6600036621094,
          427.1600036621094,
          429.7174072265625,
          427.2880859375,
          426.5874938964844,
          422.69580078125,
          422.8529052734375,
          428.4053039550781,
          425.4195861816406,
          415.889892578125,
          423.0653076171875,
          427.1954040527344,
          431.9057922363281,
          431.56561279296875,
          434.44970703125,
          436.79998779296875,
          434.91259765625,
          437.0380859375,
          434.9754943847656,
          435.9898986816406,
          437.95660400390625,
          436.6000061035156,
          429.9147033691406,
          426.76708984375,
          420.91778564453125,
          426.14459228515625,
          428.3505859375,
          427.06988525390625,
          421.1044921875,
          424.5535888671875,
          419.8966979980469,
          418.13519287109375,
          421.5596923828125,
          411.82989501953125,
          395.1344909667969,
          399.54949951171875,
          407.5502014160156,
          409.7383117675781,
          405.3077087402344,
          413.2698974609375,
          416.3160095214844,
          417.48968505859375,
          409.6199951171875,
          405.07000732421875,
          408.0726013183594,
          409.98638916015625,
          415.6299133300781,
          413.0799865722656,
          410.5054016113281,
          406.2774963378906,
          409.8196105957031,
          408.010009765625,
          406.24969482421875,
          401.26470947265625,
          396.898193359375,
          398.08709716796875,
          395.5606994628906,
          390.41650390625,
          402.6943054199219,
          404.6614990234375,
          402.210693359375,
          406.3138122558594,
          405.83599853515625,
          401.96728515625,
          400.0000915527344,
          391.44439697265625,
          397.35009765625,
          394.4607849121094,
          398.5889892578125,
          394.42919921875,
          398.1098937988281,
          405.79998779296875,
          407.34759521484375,
          413.7674865722656,
          416.69000244140625,
          421.01458740234375,
          420.2204895019531,
          419.97979736328125,
          422.3388977050781,
          423.53369140625,
          426.3609924316406,
          424.7026062011719,
          423.98150634765625,
          422.67999267578125,
          427.5459899902344,
          429.0445861816406,
          420.7969055175781,
          419.431396484375,
          425.47698974609375,
          419.1980895996094,
          421.2738037109375,
          419.08349609375,
          421.9486999511719,
          422.1221923828125,
          422.6600036621094,
          422.9903869628906,
          412.6322021484375,
          405.82000732421875,
          406.00860595703125,
          409.4696960449219,
          412.0141906738281,
          412.6582946777344,
          404.15679931640625,
          410.0787048339844,
          404.7716979980469,
          405.57000732421875,
          399.9432067871094,
          389.5505065917969,
          387.01190185546875,
          391.75360107421875,
          388.41241455078125,
          397.2699890136719,
          395.7799987792969,
          398.2799987792969,
          392.4024963378906,
          384.6440124511719,
          383.9866027832031,
          388.3526916503906,
          379.5188903808594,
          386.43670654296875,
          392.0159912109375,
          399.5766906738281,
          402.28338623046875,
          396.2379150390625,
          397.9407043457031,
          398.91259765625,
          397.69970703125,
          401.1471862792969,
          399.89208984375,
          400.5627136230469,
          396.83050537109375,
          384.9339904785156,
          375.4851989746094,
          372.6575012207031,
          375.5220947265625,
          364.69000244140625,
          364.6059875488281,
          366.4028015136719,
          370.5098876953125,
          369.81298828125,
          370.5227966308594,
          379.1453857421875,
          380.6000061035156,
          380.55419921875,
          377.2589111328125,
          373.4429016113281,
          375.252685546875,
          377.25201416015625,
          376.1199035644531,
          384.760009765625,
          392.3309020996094,
          394.3340148925781,
          392.07659912109375,
          393.0270080566406,
          386.8277893066406,
          383.6954040527344,
          390.71270751953125,
          392.4360046386719,
          392.8077087402344,
          398.206298828125,
          399.330810546875,
          398.9018859863281,
          398.9317932128906,
          398.1659851074219,
          402.37200927734375,
          407.714111328125,
          411.2294921875,
          412.2025146484375,
          412.3877868652344,
          416.4877014160156,
          414.9389953613281,
          414.077392578125,
          417.0047912597656,
          412.4996032714844,
          416.2007141113281,
          418.8965148925781,
          422.6991882324219,
          427.54058837890625,
          429.614501953125,
          425.83551025390625,
          429.1943054199219,
          426.6310119628906,
          424.0210876464844,
          421.20001220703125,
          422.78741455078125,
          424.5624084472656,
          418.7255859375,
          411.4053955078125,
          407.1134033203125,
          403.5846862792969,
          400.97869873046875,
          406.6249084472656,
          403.99249267578125,
          403.70001220703125,
          401.96270751953125,
          407.7322998046875,
          410.7651062011719,
          413.664306640625,
          406.45001220703125,
          403.297607421875,
          400.97509765625,
          393.4367980957031,
          394.6099853515625,
          394.09759521484375,
          398.680908203125,
          390.1553039550781,
          385.60009765625,
          386.4836120605469,
          386.3941955566406,
          387.6698913574219,
          378.1856994628906,
          380.84149169921875,
          380.6600036621094,
          388.1686096191406,
          387.5835876464844,
          390.5743103027344,
          382.6108093261719,
          380.81280517578125,
          378.3785095214844,
          377.0804138183594,
          377.6272888183594,
          378.58538818359375,
          382.3507995605469,
          383.50140380859375,
          384.8122863769531,
          385.45709228515625,
          383.7580871582031,
          388.17999267578125,
          392.0387878417969,
          392.6249084472656,
          391.5331115722656,
          394.55950927734375,
          397.1400146484375,
          398.2828063964844,
          395.764892578125,
          391.5199890136719,
          388.13580322265625,
          389.8216857910156,
          393.5574035644531,
          389.17291259765625,
          397.9562072753906,
          396.92559814453125,
          398.35888671875,
          400.6438903808594,
          395.1164855957031,
          393.3888854980469,
          396.23291015625,
          397.6072998046875,
          400.45550537109375,
          401.6626892089844,
          402.3039855957031,
          401.794189453125,
          398.7847900390625,
          396.30999755859375,
          398.8500061035156,
          402.6300048828125,
          401.18951416015625,
          397.6878967285156,
          392.2799987792969,
          389.7925109863281,
          390.7073059082031,
          392.59698486328125,
          391.15350341796875,
          396.69580078125,
          396.0260009765625,
          382.18170166015625,
          379.26800537109375,
          377.6148986816406,
          376.29058837890625,
          382.91009521484375,
          377.12310791015625,
          377.75640869140625,
          378.1527099609375,
          376.0712890625,
          378.989990234375,
          375.1888122558594,
          383.7455139160156,
          380.01470947265625
         ]
        },
        {
         "line": {
          "width": 2
         },
         "mode": "lines",
         "name": "signal",
         "type": "scatter",
         "x": [
          [
           "2020-06-23T00:00:00",
           "2020-06-23T00:00:00"
          ],
          [
           "2020-06-24T00:00:00",
           "2020-06-24T00:00:00"
          ],
          [
           "2020-06-25T00:00:00",
           "2020-06-25T00:00:00"
          ],
          [
           "2020-06-26T00:00:00",
           "2020-06-26T00:00:00"
          ],
          [
           "2020-06-29T00:00:00",
           "2020-06-29T00:00:00"
          ],
          [
           "2020-06-30T00:00:00",
           "2020-06-30T00:00:00"
          ],
          [
           "2020-07-01T00:00:00",
           "2020-07-01T00:00:00"
          ],
          [
           "2020-07-02T00:00:00",
           "2020-07-02T00:00:00"
          ],
          [
           "2020-07-03T00:00:00",
           "2020-07-03T00:00:00"
          ],
          [
           "2020-07-06T00:00:00",
           "2020-07-06T00:00:00"
          ],
          [
           "2020-07-07T00:00:00",
           "2020-07-07T00:00:00"
          ],
          [
           "2020-07-08T00:00:00",
           "2020-07-08T00:00:00"
          ],
          [
           "2020-07-09T00:00:00",
           "2020-07-09T00:00:00"
          ],
          [
           "2020-07-10T00:00:00",
           "2020-07-10T00:00:00"
          ],
          [
           "2020-07-13T00:00:00",
           "2020-07-13T00:00:00"
          ],
          [
           "2020-07-14T00:00:00",
           "2020-07-14T00:00:00"
          ],
          [
           "2020-07-15T00:00:00",
           "2020-07-15T00:00:00"
          ],
          [
           "2020-07-16T00:00:00",
           "2020-07-16T00:00:00"
          ],
          [
           "2020-07-17T00:00:00",
           "2020-07-17T00:00:00"
          ],
          [
           "2020-07-20T00:00:00",
           "2020-07-20T00:00:00"
          ],
          [
           "2020-07-21T00:00:00",
           "2020-07-21T00:00:00"
          ],
          [
           "2020-07-22T00:00:00",
           "2020-07-22T00:00:00"
          ],
          [
           "2020-07-23T00:00:00",
           "2020-07-23T00:00:00"
          ],
          [
           "2020-07-24T00:00:00",
           "2020-07-24T00:00:00"
          ],
          [
           "2020-07-27T00:00:00",
           "2020-07-27T00:00:00"
          ],
          [
           "2020-07-28T00:00:00",
           "2020-07-28T00:00:00"
          ],
          [
           "2020-07-29T00:00:00",
           "2020-07-29T00:00:00"
          ],
          [
           "2020-07-30T00:00:00",
           "2020-07-30T00:00:00"
          ],
          [
           "2020-07-31T00:00:00",
           "2020-07-31T00:00:00"
          ],
          [
           "2020-08-03T00:00:00",
           "2020-08-03T00:00:00"
          ],
          [
           "2020-08-04T00:00:00",
           "2020-08-04T00:00:00"
          ],
          [
           "2020-08-05T00:00:00",
           "2020-08-05T00:00:00"
          ],
          [
           "2020-08-06T00:00:00",
           "2020-08-06T00:00:00"
          ],
          [
           "2020-08-07T00:00:00",
           "2020-08-07T00:00:00"
          ],
          [
           "2020-08-10T00:00:00",
           "2020-08-10T00:00:00"
          ],
          [
           "2020-08-11T00:00:00",
           "2020-08-11T00:00:00"
          ],
          [
           "2020-08-12T00:00:00",
           "2020-08-12T00:00:00"
          ],
          [
           "2020-08-13T00:00:00",
           "2020-08-13T00:00:00"
          ],
          [
           "2020-08-14T00:00:00",
           "2020-08-14T00:00:00"
          ],
          [
           "2020-08-17T00:00:00",
           "2020-08-17T00:00:00"
          ],
          [
           "2020-08-18T00:00:00",
           "2020-08-18T00:00:00"
          ],
          [
           "2020-08-19T00:00:00",
           "2020-08-19T00:00:00"
          ],
          [
           "2020-08-20T00:00:00",
           "2020-08-20T00:00:00"
          ],
          [
           "2020-08-21T00:00:00",
           "2020-08-21T00:00:00"
          ],
          [
           "2020-08-24T00:00:00",
           "2020-08-24T00:00:00"
          ],
          [
           "2020-08-25T00:00:00",
           "2020-08-25T00:00:00"
          ],
          [
           "2020-08-26T00:00:00",
           "2020-08-26T00:00:00"
          ],
          [
           "2020-08-27T00:00:00",
           "2020-08-27T00:00:00"
          ],
          [
           "2020-08-28T00:00:00",
           "2020-08-28T00:00:00"
          ],
          [
           "2020-08-31T00:00:00",
           "2020-08-31T00:00:00"
          ],
          [
           "2020-09-01T00:00:00",
           "2020-09-01T00:00:00"
          ],
          [
           "2020-09-02T00:00:00",
           "2020-09-02T00:00:00"
          ],
          [
           "2020-09-03T00:00:00",
           "2020-09-03T00:00:00"
          ],
          [
           "2020-09-04T00:00:00",
           "2020-09-04T00:00:00"
          ],
          [
           "2020-09-07T00:00:00",
           "2020-09-07T00:00:00"
          ],
          [
           "2020-09-08T00:00:00",
           "2020-09-08T00:00:00"
          ],
          [
           "2020-09-09T00:00:00",
           "2020-09-09T00:00:00"
          ],
          [
           "2020-09-10T00:00:00",
           "2020-09-10T00:00:00"
          ],
          [
           "2020-09-11T00:00:00",
           "2020-09-11T00:00:00"
          ],
          [
           "2020-09-14T00:00:00",
           "2020-09-14T00:00:00"
          ],
          [
           "2020-09-15T00:00:00",
           "2020-09-15T00:00:00"
          ],
          [
           "2020-09-16T00:00:00",
           "2020-09-16T00:00:00"
          ],
          [
           "2020-09-17T00:00:00",
           "2020-09-17T00:00:00"
          ],
          [
           "2020-09-18T00:00:00",
           "2020-09-18T00:00:00"
          ],
          [
           "2020-09-21T00:00:00",
           "2020-09-21T00:00:00"
          ],
          [
           "2020-09-22T00:00:00",
           "2020-09-22T00:00:00"
          ],
          [
           "2020-09-23T00:00:00",
           "2020-09-23T00:00:00"
          ],
          [
           "2020-09-24T00:00:00",
           "2020-09-24T00:00:00"
          ],
          [
           "2020-09-25T00:00:00",
           "2020-09-25T00:00:00"
          ],
          [
           "2020-09-28T00:00:00",
           "2020-09-28T00:00:00"
          ],
          [
           "2020-09-29T00:00:00",
           "2020-09-29T00:00:00"
          ],
          [
           "2020-09-30T00:00:00",
           "2020-09-30T00:00:00"
          ],
          [
           "2020-10-01T00:00:00",
           "2020-10-01T00:00:00"
          ],
          [
           "2020-10-02T00:00:00",
           "2020-10-02T00:00:00"
          ],
          [
           "2020-10-05T00:00:00",
           "2020-10-05T00:00:00"
          ],
          [
           "2020-10-06T00:00:00",
           "2020-10-06T00:00:00"
          ],
          [
           "2020-10-07T00:00:00",
           "2020-10-07T00:00:00"
          ],
          [
           "2020-10-08T00:00:00",
           "2020-10-08T00:00:00"
          ],
          [
           "2020-10-09T00:00:00",
           "2020-10-09T00:00:00"
          ],
          [
           "2020-10-12T00:00:00",
           "2020-10-12T00:00:00"
          ],
          [
           "2020-10-13T00:00:00",
           "2020-10-13T00:00:00"
          ],
          [
           "2020-10-14T00:00:00",
           "2020-10-14T00:00:00"
          ],
          [
           "2020-10-15T00:00:00",
           "2020-10-15T00:00:00"
          ],
          [
           "2020-10-16T00:00:00",
           "2020-10-16T00:00:00"
          ],
          [
           "2020-10-19T00:00:00",
           "2020-10-19T00:00:00"
          ],
          [
           "2020-10-20T00:00:00",
           "2020-10-20T00:00:00"
          ],
          [
           "2020-10-21T00:00:00",
           "2020-10-21T00:00:00"
          ],
          [
           "2020-10-22T00:00:00",
           "2020-10-22T00:00:00"
          ],
          [
           "2020-10-23T00:00:00",
           "2020-10-23T00:00:00"
          ],
          [
           "2020-10-26T00:00:00",
           "2020-10-26T00:00:00"
          ],
          [
           "2020-10-27T00:00:00",
           "2020-10-27T00:00:00"
          ],
          [
           "2020-10-28T00:00:00",
           "2020-10-28T00:00:00"
          ],
          [
           "2020-10-29T00:00:00",
           "2020-10-29T00:00:00"
          ],
          [
           "2020-10-30T00:00:00",
           "2020-10-30T00:00:00"
          ],
          [
           "2020-11-02T00:00:00",
           "2020-11-02T00:00:00"
          ],
          [
           "2020-11-03T00:00:00",
           "2020-11-03T00:00:00"
          ],
          [
           "2020-11-04T00:00:00",
           "2020-11-04T00:00:00"
          ],
          [
           "2020-11-05T00:00:00",
           "2020-11-05T00:00:00"
          ],
          [
           "2020-11-06T00:00:00",
           "2020-11-06T00:00:00"
          ],
          [
           "2020-11-09T00:00:00",
           "2020-11-09T00:00:00"
          ],
          [
           "2020-11-10T00:00:00",
           "2020-11-10T00:00:00"
          ],
          [
           "2020-11-11T00:00:00",
           "2020-11-11T00:00:00"
          ],
          [
           "2020-11-12T00:00:00",
           "2020-11-12T00:00:00"
          ],
          [
           "2020-11-13T00:00:00",
           "2020-11-13T00:00:00"
          ],
          [
           "2020-11-16T00:00:00",
           "2020-11-16T00:00:00"
          ],
          [
           "2020-11-17T00:00:00",
           "2020-11-17T00:00:00"
          ],
          [
           "2020-11-18T00:00:00",
           "2020-11-18T00:00:00"
          ],
          [
           "2020-11-19T00:00:00",
           "2020-11-19T00:00:00"
          ],
          [
           "2020-11-20T00:00:00",
           "2020-11-20T00:00:00"
          ],
          [
           "2020-11-23T00:00:00",
           "2020-11-23T00:00:00"
          ],
          [
           "2020-11-24T00:00:00",
           "2020-11-24T00:00:00"
          ],
          [
           "2020-11-25T00:00:00",
           "2020-11-25T00:00:00"
          ],
          [
           "2020-11-26T00:00:00",
           "2020-11-26T00:00:00"
          ],
          [
           "2020-11-27T00:00:00",
           "2020-11-27T00:00:00"
          ],
          [
           "2020-11-30T00:00:00",
           "2020-11-30T00:00:00"
          ],
          [
           "2020-12-01T00:00:00",
           "2020-12-01T00:00:00"
          ],
          [
           "2020-12-02T00:00:00",
           "2020-12-02T00:00:00"
          ],
          [
           "2020-12-03T00:00:00",
           "2020-12-03T00:00:00"
          ],
          [
           "2020-12-04T00:00:00",
           "2020-12-04T00:00:00"
          ],
          [
           "2020-12-07T00:00:00",
           "2020-12-07T00:00:00"
          ],
          [
           "2020-12-08T00:00:00",
           "2020-12-08T00:00:00"
          ],
          [
           "2020-12-09T00:00:00",
           "2020-12-09T00:00:00"
          ],
          [
           "2020-12-10T00:00:00",
           "2020-12-10T00:00:00"
          ],
          [
           "2020-12-11T00:00:00",
           "2020-12-11T00:00:00"
          ],
          [
           "2020-12-14T00:00:00",
           "2020-12-14T00:00:00"
          ],
          [
           "2020-12-15T00:00:00",
           "2020-12-15T00:00:00"
          ],
          [
           "2020-12-16T00:00:00",
           "2020-12-16T00:00:00"
          ],
          [
           "2020-12-17T00:00:00",
           "2020-12-17T00:00:00"
          ],
          [
           "2020-12-18T00:00:00",
           "2020-12-18T00:00:00"
          ],
          [
           "2020-12-21T00:00:00",
           "2020-12-21T00:00:00"
          ],
          [
           "2020-12-22T00:00:00",
           "2020-12-22T00:00:00"
          ],
          [
           "2020-12-23T00:00:00",
           "2020-12-23T00:00:00"
          ],
          [
           "2020-12-24T00:00:00",
           "2020-12-24T00:00:00"
          ],
          [
           "2020-12-28T00:00:00",
           "2020-12-28T00:00:00"
          ],
          [
           "2020-12-29T00:00:00",
           "2020-12-29T00:00:00"
          ],
          [
           "2020-12-30T00:00:00",
           "2020-12-30T00:00:00"
          ],
          [
           "2020-12-31T00:00:00",
           "2020-12-31T00:00:00"
          ],
          [
           "2021-01-04T00:00:00",
           "2021-01-04T00:00:00"
          ],
          [
           "2021-01-05T00:00:00",
           "2021-01-05T00:00:00"
          ],
          [
           "2021-01-06T00:00:00",
           "2021-01-06T00:00:00"
          ],
          [
           "2021-01-07T00:00:00",
           "2021-01-07T00:00:00"
          ],
          [
           "2021-01-08T00:00:00",
           "2021-01-08T00:00:00"
          ],
          [
           "2021-01-11T00:00:00",
           "2021-01-11T00:00:00"
          ],
          [
           "2021-01-12T00:00:00",
           "2021-01-12T00:00:00"
          ],
          [
           "2021-01-13T00:00:00",
           "2021-01-13T00:00:00"
          ],
          [
           "2021-01-14T00:00:00",
           "2021-01-14T00:00:00"
          ],
          [
           "2021-01-15T00:00:00",
           "2021-01-15T00:00:00"
          ],
          [
           "2021-01-18T00:00:00",
           "2021-01-18T00:00:00"
          ],
          [
           "2021-01-19T00:00:00",
           "2021-01-19T00:00:00"
          ],
          [
           "2021-01-20T00:00:00",
           "2021-01-20T00:00:00"
          ],
          [
           "2021-01-21T00:00:00",
           "2021-01-21T00:00:00"
          ],
          [
           "2021-01-22T00:00:00",
           "2021-01-22T00:00:00"
          ],
          [
           "2021-01-25T00:00:00",
           "2021-01-25T00:00:00"
          ],
          [
           "2021-01-26T00:00:00",
           "2021-01-26T00:00:00"
          ],
          [
           "2021-01-27T00:00:00",
           "2021-01-27T00:00:00"
          ],
          [
           "2021-01-28T00:00:00",
           "2021-01-28T00:00:00"
          ],
          [
           "2021-01-29T00:00:00",
           "2021-01-29T00:00:00"
          ],
          [
           "2021-02-01T00:00:00",
           "2021-02-01T00:00:00"
          ],
          [
           "2021-02-02T00:00:00",
           "2021-02-02T00:00:00"
          ],
          [
           "2021-02-03T00:00:00",
           "2021-02-03T00:00:00"
          ],
          [
           "2021-02-04T00:00:00",
           "2021-02-04T00:00:00"
          ],
          [
           "2021-02-05T00:00:00",
           "2021-02-05T00:00:00"
          ],
          [
           "2021-02-08T00:00:00",
           "2021-02-08T00:00:00"
          ],
          [
           "2021-02-09T00:00:00",
           "2021-02-09T00:00:00"
          ],
          [
           "2021-02-10T00:00:00",
           "2021-02-10T00:00:00"
          ],
          [
           "2021-02-11T00:00:00",
           "2021-02-11T00:00:00"
          ],
          [
           "2021-02-12T00:00:00",
           "2021-02-12T00:00:00"
          ],
          [
           "2021-02-15T00:00:00",
           "2021-02-15T00:00:00"
          ],
          [
           "2021-02-16T00:00:00",
           "2021-02-16T00:00:00"
          ],
          [
           "2021-02-17T00:00:00",
           "2021-02-17T00:00:00"
          ],
          [
           "2021-02-18T00:00:00",
           "2021-02-18T00:00:00"
          ],
          [
           "2021-02-19T00:00:00",
           "2021-02-19T00:00:00"
          ],
          [
           "2021-02-22T00:00:00",
           "2021-02-22T00:00:00"
          ],
          [
           "2021-02-23T00:00:00",
           "2021-02-23T00:00:00"
          ],
          [
           "2021-02-24T00:00:00",
           "2021-02-24T00:00:00"
          ],
          [
           "2021-02-25T00:00:00",
           "2021-02-25T00:00:00"
          ],
          [
           "2021-02-26T00:00:00",
           "2021-02-26T00:00:00"
          ],
          [
           "2021-03-01T00:00:00",
           "2021-03-01T00:00:00"
          ],
          [
           "2021-03-02T00:00:00",
           "2021-03-02T00:00:00"
          ],
          [
           "2021-03-03T00:00:00",
           "2021-03-03T00:00:00"
          ],
          [
           "2021-03-04T00:00:00",
           "2021-03-04T00:00:00"
          ],
          [
           "2021-03-05T00:00:00",
           "2021-03-05T00:00:00"
          ],
          [
           "2021-03-08T00:00:00",
           "2021-03-08T00:00:00"
          ],
          [
           "2021-03-09T00:00:00",
           "2021-03-09T00:00:00"
          ],
          [
           "2021-03-10T00:00:00",
           "2021-03-10T00:00:00"
          ],
          [
           "2021-03-11T00:00:00",
           "2021-03-11T00:00:00"
          ],
          [
           "2021-03-12T00:00:00",
           "2021-03-12T00:00:00"
          ],
          [
           "2021-03-15T00:00:00",
           "2021-03-15T00:00:00"
          ],
          [
           "2021-03-16T00:00:00",
           "2021-03-16T00:00:00"
          ],
          [
           "2021-03-17T00:00:00",
           "2021-03-17T00:00:00"
          ],
          [
           "2021-03-18T00:00:00",
           "2021-03-18T00:00:00"
          ],
          [
           "2021-03-19T00:00:00",
           "2021-03-19T00:00:00"
          ],
          [
           "2021-03-22T00:00:00",
           "2021-03-22T00:00:00"
          ],
          [
           "2021-03-23T00:00:00",
           "2021-03-23T00:00:00"
          ],
          [
           "2021-03-24T00:00:00",
           "2021-03-24T00:00:00"
          ],
          [
           "2021-03-25T00:00:00",
           "2021-03-25T00:00:00"
          ],
          [
           "2021-03-26T00:00:00",
           "2021-03-26T00:00:00"
          ],
          [
           "2021-03-29T00:00:00",
           "2021-03-29T00:00:00"
          ],
          [
           "2021-03-30T00:00:00",
           "2021-03-30T00:00:00"
          ],
          [
           "2021-03-31T00:00:00",
           "2021-03-31T00:00:00"
          ],
          [
           "2021-04-01T00:00:00",
           "2021-04-01T00:00:00"
          ],
          [
           "2021-04-06T00:00:00",
           "2021-04-06T00:00:00"
          ],
          [
           "2021-04-07T00:00:00",
           "2021-04-07T00:00:00"
          ],
          [
           "2021-04-08T00:00:00",
           "2021-04-08T00:00:00"
          ],
          [
           "2021-04-09T00:00:00",
           "2021-04-09T00:00:00"
          ],
          [
           "2021-04-12T00:00:00",
           "2021-04-12T00:00:00"
          ],
          [
           "2021-04-13T00:00:00",
           "2021-04-13T00:00:00"
          ],
          [
           "2021-04-14T00:00:00",
           "2021-04-14T00:00:00"
          ],
          [
           "2021-04-15T00:00:00",
           "2021-04-15T00:00:00"
          ],
          [
           "2021-04-16T00:00:00",
           "2021-04-16T00:00:00"
          ],
          [
           "2021-04-19T00:00:00",
           "2021-04-19T00:00:00"
          ],
          [
           "2021-04-20T00:00:00",
           "2021-04-20T00:00:00"
          ],
          [
           "2021-04-21T00:00:00",
           "2021-04-21T00:00:00"
          ],
          [
           "2021-04-22T00:00:00",
           "2021-04-22T00:00:00"
          ],
          [
           "2021-04-23T00:00:00",
           "2021-04-23T00:00:00"
          ],
          [
           "2021-04-26T00:00:00",
           "2021-04-26T00:00:00"
          ],
          [
           "2021-04-27T00:00:00",
           "2021-04-27T00:00:00"
          ],
          [
           "2021-04-28T00:00:00",
           "2021-04-28T00:00:00"
          ],
          [
           "2021-04-29T00:00:00",
           "2021-04-29T00:00:00"
          ],
          [
           "2021-04-30T00:00:00",
           "2021-04-30T00:00:00"
          ],
          [
           "2021-05-03T00:00:00",
           "2021-05-03T00:00:00"
          ],
          [
           "2021-05-04T00:00:00",
           "2021-05-04T00:00:00"
          ],
          [
           "2021-05-05T00:00:00",
           "2021-05-05T00:00:00"
          ],
          [
           "2021-05-06T00:00:00",
           "2021-05-06T00:00:00"
          ],
          [
           "2021-05-07T00:00:00",
           "2021-05-07T00:00:00"
          ],
          [
           "2021-05-10T00:00:00",
           "2021-05-10T00:00:00"
          ],
          [
           "2021-05-11T00:00:00",
           "2021-05-11T00:00:00"
          ],
          [
           "2021-05-12T00:00:00",
           "2021-05-12T00:00:00"
          ],
          [
           "2021-05-13T00:00:00",
           "2021-05-13T00:00:00"
          ],
          [
           "2021-05-14T00:00:00",
           "2021-05-14T00:00:00"
          ],
          [
           "2021-05-17T00:00:00",
           "2021-05-17T00:00:00"
          ],
          [
           "2021-05-18T00:00:00",
           "2021-05-18T00:00:00"
          ],
          [
           "2021-05-19T00:00:00",
           "2021-05-19T00:00:00"
          ],
          [
           "2021-05-20T00:00:00",
           "2021-05-20T00:00:00"
          ],
          [
           "2021-05-21T00:00:00",
           "2021-05-21T00:00:00"
          ],
          [
           "2021-05-24T00:00:00",
           "2021-05-24T00:00:00"
          ],
          [
           "2021-05-25T00:00:00",
           "2021-05-25T00:00:00"
          ],
          [
           "2021-05-26T00:00:00",
           "2021-05-26T00:00:00"
          ],
          [
           "2021-05-27T00:00:00",
           "2021-05-27T00:00:00"
          ],
          [
           "2021-05-28T00:00:00",
           "2021-05-28T00:00:00"
          ],
          [
           "2021-05-31T00:00:00",
           "2021-05-31T00:00:00"
          ],
          [
           "2021-06-01T00:00:00",
           "2021-06-01T00:00:00"
          ],
          [
           "2021-06-02T00:00:00",
           "2021-06-02T00:00:00"
          ],
          [
           "2021-06-03T00:00:00",
           "2021-06-03T00:00:00"
          ],
          [
           "2021-06-04T00:00:00",
           "2021-06-04T00:00:00"
          ],
          [
           "2021-06-07T00:00:00",
           "2021-06-07T00:00:00"
          ],
          [
           "2021-06-08T00:00:00",
           "2021-06-08T00:00:00"
          ],
          [
           "2021-06-09T00:00:00",
           "2021-06-09T00:00:00"
          ],
          [
           "2021-06-10T00:00:00",
           "2021-06-10T00:00:00"
          ],
          [
           "2021-06-11T00:00:00",
           "2021-06-11T00:00:00"
          ],
          [
           "2021-06-14T00:00:00",
           "2021-06-14T00:00:00"
          ],
          [
           "2021-06-15T00:00:00",
           "2021-06-15T00:00:00"
          ],
          [
           "2021-06-16T00:00:00",
           "2021-06-16T00:00:00"
          ],
          [
           "2021-06-17T00:00:00",
           "2021-06-17T00:00:00"
          ],
          [
           "2021-06-18T00:00:00",
           "2021-06-18T00:00:00"
          ],
          [
           "2021-06-21T00:00:00",
           "2021-06-21T00:00:00"
          ],
          [
           "2021-06-22T00:00:00",
           "2021-06-22T00:00:00"
          ],
          [
           "2021-06-23T00:00:00",
           "2021-06-23T00:00:00"
          ],
          [
           "2021-06-24T00:00:00",
           "2021-06-24T00:00:00"
          ],
          [
           "2021-06-25T00:00:00",
           "2021-06-25T00:00:00"
          ],
          [
           "2021-06-28T00:00:00",
           "2021-06-28T00:00:00"
          ],
          [
           "2021-06-29T00:00:00",
           "2021-06-29T00:00:00"
          ],
          [
           "2021-06-30T00:00:00",
           "2021-06-30T00:00:00"
          ],
          [
           "2021-07-01T00:00:00",
           "2021-07-01T00:00:00"
          ],
          [
           "2021-07-02T00:00:00",
           "2021-07-02T00:00:00"
          ],
          [
           "2021-07-05T00:00:00",
           "2021-07-05T00:00:00"
          ],
          [
           "2021-07-06T00:00:00",
           "2021-07-06T00:00:00"
          ],
          [
           "2021-07-07T00:00:00",
           "2021-07-07T00:00:00"
          ],
          [
           "2021-07-08T00:00:00",
           "2021-07-08T00:00:00"
          ],
          [
           "2021-07-09T00:00:00",
           "2021-07-09T00:00:00"
          ],
          [
           "2021-07-12T00:00:00",
           "2021-07-12T00:00:00"
          ],
          [
           "2021-07-13T00:00:00",
           "2021-07-13T00:00:00"
          ],
          [
           "2021-07-14T00:00:00",
           "2021-07-14T00:00:00"
          ],
          [
           "2021-07-15T00:00:00",
           "2021-07-15T00:00:00"
          ],
          [
           "2021-07-16T00:00:00",
           "2021-07-16T00:00:00"
          ],
          [
           "2021-07-19T00:00:00",
           "2021-07-19T00:00:00"
          ],
          [
           "2021-07-20T00:00:00",
           "2021-07-20T00:00:00"
          ],
          [
           "2021-07-21T00:00:00",
           "2021-07-21T00:00:00"
          ],
          [
           "2021-07-22T00:00:00",
           "2021-07-22T00:00:00"
          ],
          [
           "2021-07-23T00:00:00",
           "2021-07-23T00:00:00"
          ],
          [
           "2021-07-26T00:00:00",
           "2021-07-26T00:00:00"
          ],
          [
           "2021-07-27T00:00:00",
           "2021-07-27T00:00:00"
          ],
          [
           "2021-07-28T00:00:00",
           "2021-07-28T00:00:00"
          ],
          [
           "2021-07-29T00:00:00",
           "2021-07-29T00:00:00"
          ],
          [
           "2021-07-30T00:00:00",
           "2021-07-30T00:00:00"
          ],
          [
           "2021-08-02T00:00:00",
           "2021-08-02T00:00:00"
          ],
          [
           "2021-08-03T00:00:00",
           "2021-08-03T00:00:00"
          ],
          [
           "2021-08-04T00:00:00",
           "2021-08-04T00:00:00"
          ],
          [
           "2021-08-05T00:00:00",
           "2021-08-05T00:00:00"
          ],
          [
           "2021-08-06T00:00:00",
           "2021-08-06T00:00:00"
          ],
          [
           "2021-08-09T00:00:00",
           "2021-08-09T00:00:00"
          ],
          [
           "2021-08-10T00:00:00",
           "2021-08-10T00:00:00"
          ],
          [
           "2021-08-11T00:00:00",
           "2021-08-11T00:00:00"
          ],
          [
           "2021-08-12T00:00:00",
           "2021-08-12T00:00:00"
          ],
          [
           "2021-08-13T00:00:00",
           "2021-08-13T00:00:00"
          ],
          [
           "2021-08-16T00:00:00",
           "2021-08-16T00:00:00"
          ],
          [
           "2021-08-17T00:00:00",
           "2021-08-17T00:00:00"
          ],
          [
           "2021-08-18T00:00:00",
           "2021-08-18T00:00:00"
          ],
          [
           "2021-08-19T00:00:00",
           "2021-08-19T00:00:00"
          ],
          [
           "2021-08-20T00:00:00",
           "2021-08-20T00:00:00"
          ],
          [
           "2021-08-23T00:00:00",
           "2021-08-23T00:00:00"
          ],
          [
           "2021-08-24T00:00:00",
           "2021-08-24T00:00:00"
          ],
          [
           "2021-08-25T00:00:00",
           "2021-08-25T00:00:00"
          ],
          [
           "2021-08-26T00:00:00",
           "2021-08-26T00:00:00"
          ],
          [
           "2021-08-27T00:00:00",
           "2021-08-27T00:00:00"
          ],
          [
           "2021-08-30T00:00:00",
           "2021-08-30T00:00:00"
          ],
          [
           "2021-08-31T00:00:00",
           "2021-08-31T00:00:00"
          ],
          [
           "2021-09-01T00:00:00",
           "2021-09-01T00:00:00"
          ],
          [
           "2021-09-02T00:00:00",
           "2021-09-02T00:00:00"
          ],
          [
           "2021-09-03T00:00:00",
           "2021-09-03T00:00:00"
          ],
          [
           "2021-09-06T00:00:00",
           "2021-09-06T00:00:00"
          ],
          [
           "2021-09-07T00:00:00",
           "2021-09-07T00:00:00"
          ],
          [
           "2021-09-08T00:00:00",
           "2021-09-08T00:00:00"
          ],
          [
           "2021-09-09T00:00:00",
           "2021-09-09T00:00:00"
          ],
          [
           "2021-09-10T00:00:00",
           "2021-09-10T00:00:00"
          ],
          [
           "2021-09-13T00:00:00",
           "2021-09-13T00:00:00"
          ],
          [
           "2021-09-14T00:00:00",
           "2021-09-14T00:00:00"
          ],
          [
           "2021-09-15T00:00:00",
           "2021-09-15T00:00:00"
          ],
          [
           "2021-09-16T00:00:00",
           "2021-09-16T00:00:00"
          ],
          [
           "2021-09-17T00:00:00",
           "2021-09-17T00:00:00"
          ],
          [
           "2021-09-20T00:00:00",
           "2021-09-20T00:00:00"
          ],
          [
           "2021-09-21T00:00:00",
           "2021-09-21T00:00:00"
          ],
          [
           "2021-09-22T00:00:00",
           "2021-09-22T00:00:00"
          ],
          [
           "2021-09-23T00:00:00",
           "2021-09-23T00:00:00"
          ],
          [
           "2021-09-24T00:00:00",
           "2021-09-24T00:00:00"
          ],
          [
           "2021-09-27T00:00:00",
           "2021-09-27T00:00:00"
          ],
          [
           "2021-09-28T00:00:00",
           "2021-09-28T00:00:00"
          ],
          [
           "2021-09-29T00:00:00",
           "2021-09-29T00:00:00"
          ],
          [
           "2021-09-30T00:00:00",
           "2021-09-30T00:00:00"
          ],
          [
           "2021-10-01T00:00:00",
           "2021-10-01T00:00:00"
          ],
          [
           "2021-10-04T00:00:00",
           "2021-10-04T00:00:00"
          ],
          [
           "2021-10-05T00:00:00",
           "2021-10-05T00:00:00"
          ],
          [
           "2021-10-06T00:00:00",
           "2021-10-06T00:00:00"
          ],
          [
           "2021-10-07T00:00:00",
           "2021-10-07T00:00:00"
          ],
          [
           "2021-10-08T00:00:00",
           "2021-10-08T00:00:00"
          ],
          [
           "2021-10-11T00:00:00",
           "2021-10-11T00:00:00"
          ],
          [
           "2021-10-12T00:00:00",
           "2021-10-12T00:00:00"
          ],
          [
           "2021-10-13T00:00:00",
           "2021-10-13T00:00:00"
          ],
          [
           "2021-10-14T00:00:00",
           "2021-10-14T00:00:00"
          ],
          [
           "2021-10-15T00:00:00",
           "2021-10-15T00:00:00"
          ],
          [
           "2021-10-18T00:00:00",
           "2021-10-18T00:00:00"
          ],
          [
           "2021-10-19T00:00:00",
           "2021-10-19T00:00:00"
          ],
          [
           "2021-10-20T00:00:00",
           "2021-10-20T00:00:00"
          ],
          [
           "2021-10-21T00:00:00",
           "2021-10-21T00:00:00"
          ],
          [
           "2021-10-22T00:00:00",
           "2021-10-22T00:00:00"
          ],
          [
           "2021-10-25T00:00:00",
           "2021-10-25T00:00:00"
          ],
          [
           "2021-10-26T00:00:00",
           "2021-10-26T00:00:00"
          ],
          [
           "2021-10-27T00:00:00",
           "2021-10-27T00:00:00"
          ],
          [
           "2021-10-28T00:00:00",
           "2021-10-28T00:00:00"
          ],
          [
           "2021-10-29T00:00:00",
           "2021-10-29T00:00:00"
          ],
          [
           "2021-11-01T00:00:00",
           "2021-11-01T00:00:00"
          ],
          [
           "2021-11-02T00:00:00",
           "2021-11-02T00:00:00"
          ],
          [
           "2021-11-03T00:00:00",
           "2021-11-03T00:00:00"
          ],
          [
           "2021-11-04T00:00:00",
           "2021-11-04T00:00:00"
          ],
          [
           "2021-11-05T00:00:00",
           "2021-11-05T00:00:00"
          ],
          [
           "2021-11-08T00:00:00",
           "2021-11-08T00:00:00"
          ],
          [
           "2021-11-09T00:00:00",
           "2021-11-09T00:00:00"
          ],
          [
           "2021-11-10T00:00:00",
           "2021-11-10T00:00:00"
          ],
          [
           "2021-11-11T00:00:00",
           "2021-11-11T00:00:00"
          ],
          [
           "2021-11-12T00:00:00",
           "2021-11-12T00:00:00"
          ],
          [
           "2021-11-15T00:00:00",
           "2021-11-15T00:00:00"
          ],
          [
           "2021-11-16T00:00:00",
           "2021-11-16T00:00:00"
          ],
          [
           "2021-11-17T00:00:00",
           "2021-11-17T00:00:00"
          ],
          [
           "2021-11-18T00:00:00",
           "2021-11-18T00:00:00"
          ],
          [
           "2021-11-19T00:00:00",
           "2021-11-19T00:00:00"
          ],
          [
           "2021-11-22T00:00:00",
           "2021-11-22T00:00:00"
          ],
          [
           "2021-11-23T00:00:00",
           "2021-11-23T00:00:00"
          ],
          [
           "2021-11-24T00:00:00",
           "2021-11-24T00:00:00"
          ],
          [
           "2021-11-25T00:00:00",
           "2021-11-25T00:00:00"
          ],
          [
           "2021-11-26T00:00:00",
           "2021-11-26T00:00:00"
          ],
          [
           "2021-11-29T00:00:00",
           "2021-11-29T00:00:00"
          ],
          [
           "2021-11-30T00:00:00",
           "2021-11-30T00:00:00"
          ],
          [
           "2021-12-01T00:00:00",
           "2021-12-01T00:00:00"
          ],
          [
           "2021-12-02T00:00:00",
           "2021-12-02T00:00:00"
          ],
          [
           "2021-12-03T00:00:00",
           "2021-12-03T00:00:00"
          ],
          [
           "2021-12-06T00:00:00",
           "2021-12-06T00:00:00"
          ],
          [
           "2021-12-07T00:00:00",
           "2021-12-07T00:00:00"
          ],
          [
           "2021-12-08T00:00:00",
           "2021-12-08T00:00:00"
          ],
          [
           "2021-12-09T00:00:00",
           "2021-12-09T00:00:00"
          ],
          [
           "2021-12-10T00:00:00",
           "2021-12-10T00:00:00"
          ],
          [
           "2021-12-13T00:00:00",
           "2021-12-13T00:00:00"
          ],
          [
           "2021-12-14T00:00:00",
           "2021-12-14T00:00:00"
          ],
          [
           "2021-12-15T00:00:00",
           "2021-12-15T00:00:00"
          ],
          [
           "2021-12-16T00:00:00",
           "2021-12-16T00:00:00"
          ],
          [
           "2021-12-17T00:00:00",
           "2021-12-17T00:00:00"
          ],
          [
           "2021-12-20T00:00:00",
           "2021-12-20T00:00:00"
          ],
          [
           "2021-12-21T00:00:00",
           "2021-12-21T00:00:00"
          ],
          [
           "2021-12-22T00:00:00",
           "2021-12-22T00:00:00"
          ],
          [
           "2021-12-23T00:00:00",
           "2021-12-23T00:00:00"
          ],
          [
           "2021-12-24T00:00:00",
           "2021-12-24T00:00:00"
          ],
          [
           "2021-12-27T00:00:00",
           "2021-12-27T00:00:00"
          ],
          [
           "2021-12-28T00:00:00",
           "2021-12-28T00:00:00"
          ],
          [
           "2021-12-29T00:00:00",
           "2021-12-29T00:00:00"
          ],
          [
           "2021-12-30T00:00:00",
           "2021-12-30T00:00:00"
          ],
          [
           "2021-12-31T00:00:00",
           "2021-12-31T00:00:00"
          ],
          [
           "2022-01-03T00:00:00",
           "2022-01-03T00:00:00"
          ],
          [
           "2022-01-04T00:00:00",
           "2022-01-04T00:00:00"
          ],
          [
           "2022-01-05T00:00:00",
           "2022-01-05T00:00:00"
          ],
          [
           "2022-01-06T00:00:00",
           "2022-01-06T00:00:00"
          ],
          [
           "2022-01-07T00:00:00",
           "2022-01-07T00:00:00"
          ],
          [
           "2022-01-10T00:00:00",
           "2022-01-10T00:00:00"
          ],
          [
           "2022-01-11T00:00:00",
           "2022-01-11T00:00:00"
          ],
          [
           "2022-01-12T00:00:00",
           "2022-01-12T00:00:00"
          ],
          [
           "2022-01-13T00:00:00",
           "2022-01-13T00:00:00"
          ],
          [
           "2022-01-14T00:00:00",
           "2022-01-14T00:00:00"
          ],
          [
           "2022-01-17T00:00:00",
           "2022-01-17T00:00:00"
          ],
          [
           "2022-01-18T00:00:00",
           "2022-01-18T00:00:00"
          ],
          [
           "2022-01-19T00:00:00",
           "2022-01-19T00:00:00"
          ],
          [
           "2022-01-20T00:00:00",
           "2022-01-20T00:00:00"
          ],
          [
           "2022-01-21T00:00:00",
           "2022-01-21T00:00:00"
          ],
          [
           "2022-01-24T00:00:00",
           "2022-01-24T00:00:00"
          ],
          [
           "2022-01-25T00:00:00",
           "2022-01-25T00:00:00"
          ],
          [
           "2022-01-26T00:00:00",
           "2022-01-26T00:00:00"
          ],
          [
           "2022-01-27T00:00:00",
           "2022-01-27T00:00:00"
          ],
          [
           "2022-01-28T00:00:00",
           "2022-01-28T00:00:00"
          ],
          [
           "2022-01-31T00:00:00",
           "2022-01-31T00:00:00"
          ],
          [
           "2022-02-01T00:00:00",
           "2022-02-01T00:00:00"
          ],
          [
           "2022-02-02T00:00:00",
           "2022-02-02T00:00:00"
          ],
          [
           "2022-02-03T00:00:00",
           "2022-02-03T00:00:00"
          ],
          [
           "2022-02-04T00:00:00",
           "2022-02-04T00:00:00"
          ],
          [
           "2022-02-07T00:00:00",
           "2022-02-07T00:00:00"
          ],
          [
           "2022-02-08T00:00:00",
           "2022-02-08T00:00:00"
          ],
          [
           "2022-02-09T00:00:00",
           "2022-02-09T00:00:00"
          ],
          [
           "2022-02-10T00:00:00",
           "2022-02-10T00:00:00"
          ],
          [
           "2022-02-11T00:00:00",
           "2022-02-11T00:00:00"
          ],
          [
           "2022-02-14T00:00:00",
           "2022-02-14T00:00:00"
          ],
          [
           "2022-02-15T00:00:00",
           "2022-02-15T00:00:00"
          ],
          [
           "2022-02-16T00:00:00",
           "2022-02-16T00:00:00"
          ],
          [
           "2022-02-17T00:00:00",
           "2022-02-17T00:00:00"
          ],
          [
           "2022-02-18T00:00:00",
           "2022-02-18T00:00:00"
          ],
          [
           "2022-02-21T00:00:00",
           "2022-02-21T00:00:00"
          ],
          [
           "2022-02-22T00:00:00",
           "2022-02-22T00:00:00"
          ],
          [
           "2022-02-23T00:00:00",
           "2022-02-23T00:00:00"
          ],
          [
           "2022-02-24T00:00:00",
           "2022-02-24T00:00:00"
          ],
          [
           "2022-02-25T00:00:00",
           "2022-02-25T00:00:00"
          ],
          [
           "2022-02-28T00:00:00",
           "2022-02-28T00:00:00"
          ],
          [
           "2022-03-01T00:00:00",
           "2022-03-01T00:00:00"
          ],
          [
           "2022-03-02T00:00:00",
           "2022-03-02T00:00:00"
          ],
          [
           "2022-03-03T00:00:00",
           "2022-03-03T00:00:00"
          ],
          [
           "2022-03-04T00:00:00",
           "2022-03-04T00:00:00"
          ],
          [
           "2022-03-07T00:00:00",
           "2022-03-07T00:00:00"
          ],
          [
           "2022-03-08T00:00:00",
           "2022-03-08T00:00:00"
          ],
          [
           "2022-03-09T00:00:00",
           "2022-03-09T00:00:00"
          ],
          [
           "2022-03-10T00:00:00",
           "2022-03-10T00:00:00"
          ],
          [
           "2022-03-11T00:00:00",
           "2022-03-11T00:00:00"
          ],
          [
           "2022-03-14T00:00:00",
           "2022-03-14T00:00:00"
          ],
          [
           "2022-03-15T00:00:00",
           "2022-03-15T00:00:00"
          ],
          [
           "2022-03-16T00:00:00",
           "2022-03-16T00:00:00"
          ],
          [
           "2022-03-17T00:00:00",
           "2022-03-17T00:00:00"
          ],
          [
           "2022-03-18T00:00:00",
           "2022-03-18T00:00:00"
          ],
          [
           "2022-03-21T00:00:00",
           "2022-03-21T00:00:00"
          ],
          [
           "2022-03-22T00:00:00",
           "2022-03-22T00:00:00"
          ],
          [
           "2022-03-23T00:00:00",
           "2022-03-23T00:00:00"
          ],
          [
           "2022-03-24T00:00:00",
           "2022-03-24T00:00:00"
          ],
          [
           "2022-03-25T00:00:00",
           "2022-03-25T00:00:00"
          ],
          [
           "2022-03-28T00:00:00",
           "2022-03-28T00:00:00"
          ],
          [
           "2022-03-29T00:00:00",
           "2022-03-29T00:00:00"
          ],
          [
           "2022-03-30T00:00:00",
           "2022-03-30T00:00:00"
          ],
          [
           "2022-03-31T00:00:00",
           "2022-03-31T00:00:00"
          ],
          [
           "2022-04-01T00:00:00",
           "2022-04-01T00:00:00"
          ],
          [
           "2022-04-04T00:00:00",
           "2022-04-04T00:00:00"
          ],
          [
           "2022-04-05T00:00:00",
           "2022-04-05T00:00:00"
          ],
          [
           "2022-04-06T00:00:00",
           "2022-04-06T00:00:00"
          ],
          [
           "2022-04-07T00:00:00",
           "2022-04-07T00:00:00"
          ],
          [
           "2022-04-08T00:00:00",
           "2022-04-08T00:00:00"
          ],
          [
           "2022-04-11T00:00:00",
           "2022-04-11T00:00:00"
          ],
          [
           "2022-04-12T00:00:00",
           "2022-04-12T00:00:00"
          ],
          [
           "2022-04-13T00:00:00",
           "2022-04-13T00:00:00"
          ],
          [
           "2022-04-14T00:00:00",
           "2022-04-14T00:00:00"
          ],
          [
           "2022-04-19T00:00:00",
           "2022-04-19T00:00:00"
          ],
          [
           "2022-04-20T00:00:00",
           "2022-04-20T00:00:00"
          ],
          [
           "2022-04-21T00:00:00",
           "2022-04-21T00:00:00"
          ],
          [
           "2022-04-22T00:00:00",
           "2022-04-22T00:00:00"
          ],
          [
           "2022-04-25T00:00:00",
           "2022-04-25T00:00:00"
          ],
          [
           "2022-04-26T00:00:00",
           "2022-04-26T00:00:00"
          ],
          [
           "2022-04-27T00:00:00",
           "2022-04-27T00:00:00"
          ],
          [
           "2022-04-28T00:00:00",
           "2022-04-28T00:00:00"
          ],
          [
           "2022-04-29T00:00:00",
           "2022-04-29T00:00:00"
          ],
          [
           "2022-05-02T00:00:00",
           "2022-05-02T00:00:00"
          ],
          [
           "2022-05-03T00:00:00",
           "2022-05-03T00:00:00"
          ],
          [
           "2022-05-04T00:00:00",
           "2022-05-04T00:00:00"
          ],
          [
           "2022-05-05T00:00:00",
           "2022-05-05T00:00:00"
          ],
          [
           "2022-05-06T00:00:00",
           "2022-05-06T00:00:00"
          ],
          [
           "2022-05-09T00:00:00",
           "2022-05-09T00:00:00"
          ],
          [
           "2022-05-10T00:00:00",
           "2022-05-10T00:00:00"
          ],
          [
           "2022-05-11T00:00:00",
           "2022-05-11T00:00:00"
          ],
          [
           "2022-05-12T00:00:00",
           "2022-05-12T00:00:00"
          ],
          [
           "2022-05-13T00:00:00",
           "2022-05-13T00:00:00"
          ],
          [
           "2022-05-16T00:00:00",
           "2022-05-16T00:00:00"
          ],
          [
           "2022-05-17T00:00:00",
           "2022-05-17T00:00:00"
          ],
          [
           "2022-05-18T00:00:00",
           "2022-05-18T00:00:00"
          ],
          [
           "2022-05-19T00:00:00",
           "2022-05-19T00:00:00"
          ],
          [
           "2022-05-20T00:00:00",
           "2022-05-20T00:00:00"
          ],
          [
           "2022-05-23T00:00:00",
           "2022-05-23T00:00:00"
          ],
          [
           "2022-05-24T00:00:00",
           "2022-05-24T00:00:00"
          ],
          [
           "2022-05-25T00:00:00",
           "2022-05-25T00:00:00"
          ],
          [
           "2022-05-26T00:00:00",
           "2022-05-26T00:00:00"
          ],
          [
           "2022-05-27T00:00:00",
           "2022-05-27T00:00:00"
          ],
          [
           "2022-05-30T00:00:00",
           "2022-05-30T00:00:00"
          ],
          [
           "2022-05-31T00:00:00",
           "2022-05-31T00:00:00"
          ],
          [
           "2022-06-01T00:00:00",
           "2022-06-01T00:00:00"
          ],
          [
           "2022-06-02T00:00:00",
           "2022-06-02T00:00:00"
          ],
          [
           "2022-06-03T00:00:00",
           "2022-06-03T00:00:00"
          ],
          [
           "2022-06-06T00:00:00",
           "2022-06-06T00:00:00"
          ],
          [
           "2022-06-07T00:00:00",
           "2022-06-07T00:00:00"
          ],
          [
           "2022-06-08T00:00:00",
           "2022-06-08T00:00:00"
          ],
          [
           "2022-06-09T00:00:00",
           "2022-06-09T00:00:00"
          ],
          [
           "2022-06-10T00:00:00",
           "2022-06-10T00:00:00"
          ],
          [
           "2022-06-13T00:00:00",
           "2022-06-13T00:00:00"
          ],
          [
           "2022-06-14T00:00:00",
           "2022-06-14T00:00:00"
          ],
          [
           "2022-06-15T00:00:00",
           "2022-06-15T00:00:00"
          ],
          [
           "2022-06-16T00:00:00",
           "2022-06-16T00:00:00"
          ],
          [
           "2022-06-17T00:00:00",
           "2022-06-17T00:00:00"
          ],
          [
           "2022-06-20T00:00:00",
           "2022-06-20T00:00:00"
          ],
          [
           "2022-06-21T00:00:00",
           "2022-06-21T00:00:00"
          ],
          [
           "2022-06-22T00:00:00",
           "2022-06-22T00:00:00"
          ],
          [
           "2022-06-23T00:00:00",
           "2022-06-23T00:00:00"
          ],
          [
           "2022-06-24T00:00:00",
           "2022-06-24T00:00:00"
          ],
          [
           "2022-06-27T00:00:00",
           "2022-06-27T00:00:00"
          ],
          [
           "2022-06-28T00:00:00",
           "2022-06-28T00:00:00"
          ],
          [
           "2022-06-29T00:00:00",
           "2022-06-29T00:00:00"
          ],
          [
           "2022-06-30T00:00:00",
           "2022-06-30T00:00:00"
          ],
          [
           "2022-07-01T00:00:00",
           "2022-07-01T00:00:00"
          ],
          [
           "2022-07-04T00:00:00",
           "2022-07-04T00:00:00"
          ],
          [
           "2022-07-05T00:00:00",
           "2022-07-05T00:00:00"
          ],
          [
           "2022-07-06T00:00:00",
           "2022-07-06T00:00:00"
          ],
          [
           "2022-07-07T00:00:00",
           "2022-07-07T00:00:00"
          ],
          [
           "2022-07-08T00:00:00",
           "2022-07-08T00:00:00"
          ],
          [
           "2022-07-11T00:00:00",
           "2022-07-11T00:00:00"
          ],
          [
           "2022-07-12T00:00:00",
           "2022-07-12T00:00:00"
          ],
          [
           "2022-07-13T00:00:00",
           "2022-07-13T00:00:00"
          ],
          [
           "2022-07-14T00:00:00",
           "2022-07-14T00:00:00"
          ],
          [
           "2022-07-15T00:00:00",
           "2022-07-15T00:00:00"
          ],
          [
           "2022-07-18T00:00:00",
           "2022-07-18T00:00:00"
          ],
          [
           "2022-07-19T00:00:00",
           "2022-07-19T00:00:00"
          ],
          [
           "2022-07-20T00:00:00",
           "2022-07-20T00:00:00"
          ],
          [
           "2022-07-21T00:00:00",
           "2022-07-21T00:00:00"
          ],
          [
           "2022-07-22T00:00:00",
           "2022-07-22T00:00:00"
          ],
          [
           "2022-07-25T00:00:00",
           "2022-07-25T00:00:00"
          ],
          [
           "2022-07-26T00:00:00",
           "2022-07-26T00:00:00"
          ],
          [
           "2022-07-27T00:00:00",
           "2022-07-27T00:00:00"
          ],
          [
           "2022-07-28T00:00:00",
           "2022-07-28T00:00:00"
          ],
          [
           "2022-07-29T00:00:00",
           "2022-07-29T00:00:00"
          ],
          [
           "2022-08-01T00:00:00",
           "2022-08-01T00:00:00"
          ],
          [
           "2022-08-02T00:00:00",
           "2022-08-02T00:00:00"
          ],
          [
           "2022-08-03T00:00:00",
           "2022-08-03T00:00:00"
          ],
          [
           "2022-08-04T00:00:00",
           "2022-08-04T00:00:00"
          ],
          [
           "2022-08-05T00:00:00",
           "2022-08-05T00:00:00"
          ],
          [
           "2022-08-08T00:00:00",
           "2022-08-08T00:00:00"
          ],
          [
           "2022-08-09T00:00:00",
           "2022-08-09T00:00:00"
          ],
          [
           "2022-08-10T00:00:00",
           "2022-08-10T00:00:00"
          ],
          [
           "2022-08-11T00:00:00",
           "2022-08-11T00:00:00"
          ],
          [
           "2022-08-12T00:00:00",
           "2022-08-12T00:00:00"
          ],
          [
           "2022-08-15T00:00:00",
           "2022-08-15T00:00:00"
          ],
          [
           "2022-08-16T00:00:00",
           "2022-08-16T00:00:00"
          ],
          [
           "2022-08-17T00:00:00",
           "2022-08-17T00:00:00"
          ],
          [
           "2022-08-18T00:00:00",
           "2022-08-18T00:00:00"
          ],
          [
           "2022-08-19T00:00:00",
           "2022-08-19T00:00:00"
          ],
          [
           "2022-08-22T00:00:00",
           "2022-08-22T00:00:00"
          ],
          [
           "2022-08-23T00:00:00",
           "2022-08-23T00:00:00"
          ],
          [
           "2022-08-24T00:00:00",
           "2022-08-24T00:00:00"
          ],
          [
           "2022-08-25T00:00:00",
           "2022-08-25T00:00:00"
          ],
          [
           "2022-08-26T00:00:00",
           "2022-08-26T00:00:00"
          ],
          [
           "2022-08-29T00:00:00",
           "2022-08-29T00:00:00"
          ],
          [
           "2022-08-30T00:00:00",
           "2022-08-30T00:00:00"
          ],
          [
           "2022-08-31T00:00:00",
           "2022-08-31T00:00:00"
          ],
          [
           "2022-09-01T00:00:00",
           "2022-09-01T00:00:00"
          ],
          [
           "2022-09-02T00:00:00",
           "2022-09-02T00:00:00"
          ],
          [
           "2022-09-05T00:00:00",
           "2022-09-05T00:00:00"
          ],
          [
           "2022-09-06T00:00:00",
           "2022-09-06T00:00:00"
          ],
          [
           "2022-09-07T00:00:00",
           "2022-09-07T00:00:00"
          ],
          [
           "2022-09-08T00:00:00",
           "2022-09-08T00:00:00"
          ],
          [
           "2022-09-09T00:00:00",
           "2022-09-09T00:00:00"
          ],
          [
           "2022-09-12T00:00:00",
           "2022-09-12T00:00:00"
          ],
          [
           "2022-09-13T00:00:00",
           "2022-09-13T00:00:00"
          ],
          [
           "2022-09-14T00:00:00",
           "2022-09-14T00:00:00"
          ],
          [
           "2022-09-15T00:00:00",
           "2022-09-15T00:00:00"
          ],
          [
           "2022-09-16T00:00:00",
           "2022-09-16T00:00:00"
          ],
          [
           "2022-09-19T00:00:00",
           "2022-09-19T00:00:00"
          ],
          [
           "2022-09-20T00:00:00",
           "2022-09-20T00:00:00"
          ],
          [
           "2022-09-21T00:00:00",
           "2022-09-21T00:00:00"
          ],
          [
           "2022-09-22T00:00:00",
           "2022-09-22T00:00:00"
          ],
          [
           "2022-09-23T00:00:00",
           "2022-09-23T00:00:00"
          ],
          [
           "2022-09-26T00:00:00",
           "2022-09-26T00:00:00"
          ],
          [
           "2022-09-27T00:00:00",
           "2022-09-27T00:00:00"
          ],
          [
           "2022-09-28T00:00:00",
           "2022-09-28T00:00:00"
          ],
          [
           "2022-09-29T00:00:00",
           "2022-09-29T00:00:00"
          ],
          [
           "2022-09-30T00:00:00",
           "2022-09-30T00:00:00"
          ],
          [
           "2022-10-03T00:00:00",
           "2022-10-03T00:00:00"
          ],
          [
           "2022-10-04T00:00:00",
           "2022-10-04T00:00:00"
          ],
          [
           "2022-10-05T00:00:00",
           "2022-10-05T00:00:00"
          ],
          [
           "2022-10-06T00:00:00",
           "2022-10-06T00:00:00"
          ],
          [
           "2022-10-07T00:00:00",
           "2022-10-07T00:00:00"
          ],
          [
           "2022-10-10T00:00:00",
           "2022-10-10T00:00:00"
          ],
          [
           "2022-10-11T00:00:00",
           "2022-10-11T00:00:00"
          ],
          [
           "2022-10-12T00:00:00",
           "2022-10-12T00:00:00"
          ],
          [
           "2022-10-13T00:00:00",
           "2022-10-13T00:00:00"
          ],
          [
           "2022-10-14T00:00:00",
           "2022-10-14T00:00:00"
          ],
          [
           "2022-10-17T00:00:00",
           "2022-10-17T00:00:00"
          ],
          [
           "2022-10-18T00:00:00",
           "2022-10-18T00:00:00"
          ],
          [
           "2022-10-19T00:00:00",
           "2022-10-19T00:00:00"
          ],
          [
           "2022-10-20T00:00:00",
           "2022-10-20T00:00:00"
          ],
          [
           "2022-10-21T00:00:00",
           "2022-10-21T00:00:00"
          ],
          [
           "2022-10-24T00:00:00",
           "2022-10-24T00:00:00"
          ],
          [
           "2022-10-25T00:00:00",
           "2022-10-25T00:00:00"
          ],
          [
           "2022-10-26T00:00:00",
           "2022-10-26T00:00:00"
          ],
          [
           "2022-10-27T00:00:00",
           "2022-10-27T00:00:00"
          ],
          [
           "2022-10-28T00:00:00",
           "2022-10-28T00:00:00"
          ],
          [
           "2022-10-31T00:00:00",
           "2022-10-31T00:00:00"
          ],
          [
           "2022-11-01T00:00:00",
           "2022-11-01T00:00:00"
          ],
          [
           "2022-11-02T00:00:00",
           "2022-11-02T00:00:00"
          ],
          [
           "2022-11-03T00:00:00",
           "2022-11-03T00:00:00"
          ],
          [
           "2022-11-04T00:00:00",
           "2022-11-04T00:00:00"
          ],
          [
           "2022-11-07T00:00:00",
           "2022-11-07T00:00:00"
          ],
          [
           "2022-11-08T00:00:00",
           "2022-11-08T00:00:00"
          ],
          [
           "2022-11-09T00:00:00",
           "2022-11-09T00:00:00"
          ],
          [
           "2022-11-10T00:00:00",
           "2022-11-10T00:00:00"
          ],
          [
           "2022-11-11T00:00:00",
           "2022-11-11T00:00:00"
          ],
          [
           "2022-11-14T00:00:00",
           "2022-11-14T00:00:00"
          ],
          [
           "2022-11-15T00:00:00",
           "2022-11-15T00:00:00"
          ],
          [
           "2022-11-16T00:00:00",
           "2022-11-16T00:00:00"
          ],
          [
           "2022-11-17T00:00:00",
           "2022-11-17T00:00:00"
          ],
          [
           "2022-11-18T00:00:00",
           "2022-11-18T00:00:00"
          ],
          [
           "2022-11-21T00:00:00",
           "2022-11-21T00:00:00"
          ],
          [
           "2022-11-22T00:00:00",
           "2022-11-22T00:00:00"
          ],
          [
           "2022-11-23T00:00:00",
           "2022-11-23T00:00:00"
          ],
          [
           "2022-11-24T00:00:00",
           "2022-11-24T00:00:00"
          ],
          [
           "2022-11-25T00:00:00",
           "2022-11-25T00:00:00"
          ],
          [
           "2022-11-28T00:00:00",
           "2022-11-28T00:00:00"
          ],
          [
           "2022-11-29T00:00:00",
           "2022-11-29T00:00:00"
          ],
          [
           "2022-11-30T00:00:00",
           "2022-11-30T00:00:00"
          ],
          [
           "2022-12-01T00:00:00",
           "2022-12-01T00:00:00"
          ],
          [
           "2022-12-02T00:00:00",
           "2022-12-02T00:00:00"
          ],
          [
           "2022-12-05T00:00:00",
           "2022-12-05T00:00:00"
          ],
          [
           "2022-12-06T00:00:00",
           "2022-12-06T00:00:00"
          ],
          [
           "2022-12-07T00:00:00",
           "2022-12-07T00:00:00"
          ],
          [
           "2022-12-08T00:00:00",
           "2022-12-08T00:00:00"
          ],
          [
           "2022-12-09T00:00:00",
           "2022-12-09T00:00:00"
          ],
          [
           "2022-12-12T00:00:00",
           "2022-12-12T00:00:00"
          ],
          [
           "2022-12-13T00:00:00",
           "2022-12-13T00:00:00"
          ],
          [
           "2022-12-14T00:00:00",
           "2022-12-14T00:00:00"
          ],
          [
           "2022-12-15T00:00:00",
           "2022-12-15T00:00:00"
          ],
          [
           "2022-12-16T00:00:00",
           "2022-12-16T00:00:00"
          ],
          [
           "2022-12-19T00:00:00",
           "2022-12-19T00:00:00"
          ],
          [
           "2022-12-20T00:00:00",
           "2022-12-20T00:00:00"
          ],
          [
           "2022-12-21T00:00:00",
           "2022-12-21T00:00:00"
          ],
          [
           "2022-12-22T00:00:00",
           "2022-12-22T00:00:00"
          ],
          [
           "2022-12-23T00:00:00",
           "2022-12-23T00:00:00"
          ],
          [
           "2022-12-27T00:00:00",
           "2022-12-27T00:00:00"
          ],
          [
           "2022-12-28T00:00:00",
           "2022-12-28T00:00:00"
          ],
          [
           "2022-12-29T00:00:00",
           "2022-12-29T00:00:00"
          ],
          [
           "2022-12-30T00:00:00",
           "2022-12-30T00:00:00"
          ],
          [
           "2023-01-02T00:00:00",
           "2023-01-02T00:00:00"
          ],
          [
           "2023-01-03T00:00:00",
           "2023-01-03T00:00:00"
          ]
         ],
         "xaxis": "x",
         "y": [
          1,
          1,
          1,
          1,
          1,
          1,
          1,
          1,
          1,
          1,
          1,
          1,
          1,
          1,
          1,
          1,
          1,
          1,
          1,
          1,
          0,
          0,
          0,
          0,
          0,
          0,
          0,
          0,
          1,
          1,
          1,
          1,
          1,
          1,
          1,
          1,
          1,
          1,
          1,
          1,
          1,
          1,
          1,
          1,
          1,
          1,
          1,
          1,
          1,
          1,
          1,
          0,
          0,
          0,
          0,
          0,
          0,
          0,
          0,
          0,
          0,
          0,
          0,
          0,
          1,
          1,
          1,
          1,
          1,
          1,
          1,
          1,
          1,
          1,
          1,
          1,
          1,
          1,
          1,
          1,
          0,
          0,
          0,
          0,
          0,
          0,
          0,
          0,
          0,
          0,
          0,
          0,
          0,
          1,
          1,
          1,
          1,
          1,
          1,
          1,
          1,
          1,
          1,
          1,
          1,
          1,
          1,
          1,
          1,
          1,
          1,
          1,
          1,
          1,
          1,
          1,
          1,
          1,
          1,
          1,
          1,
          0,
          0,
          0,
          0,
          0,
          0,
          0,
          0,
          1,
          1,
          1,
          1,
          1,
          1,
          1,
          1,
          1,
          1,
          1,
          1,
          1,
          1,
          1,
          1,
          1,
          1,
          1,
          1,
          1,
          1,
          1,
          1,
          1,
          1,
          1,
          1,
          1,
          1,
          1,
          1,
          1,
          1,
          1,
          1,
          1,
          1,
          0,
          0,
          0,
          0,
          0,
          0,
          0,
          0,
          0,
          0,
          0,
          0,
          0,
          0,
          1,
          1,
          1,
          1,
          1,
          1,
          1,
          1,
          1,
          1,
          1,
          1,
          1,
          1,
          1,
          1,
          1,
          1,
          1,
          1,
          1,
          1,
          1,
          1,
          1,
          1,
          1,
          1,
          0,
          0,
          1,
          1,
          1,
          1,
          1,
          1,
          1,
          1,
          1,
          1,
          1,
          1,
          1,
          0,
          0,
          0,
          0,
          0,
          0,
          0,
          0,
          1,
          1,
          1,
          1,
          1,
          1,
          1,
          1,
          1,
          1,
          1,
          1,
          1,
          1,
          1,
          1,
          1,
          1,
          1,
          1,
          1,
          1,
          1,
          1,
          1,
          1,
          1,
          1,
          1,
          1,
          1,
          1,
          1,
          1,
          1,
          1,
          1,
          1,
          1,
          1,
          1,
          1,
          1,
          1,
          1,
          1,
          1,
          1,
          1,
          1,
          1,
          1,
          1,
          1,
          1,
          1,
          1,
          1,
          1,
          1,
          1,
          1,
          1,
          1,
          1,
          1,
          1,
          1,
          1,
          1,
          1,
          1,
          1,
          1,
          1,
          1,
          1,
          1,
          0,
          0,
          0,
          0,
          0,
          0,
          0,
          0,
          0,
          0,
          0,
          0,
          0,
          0,
          0,
          0,
          0,
          0,
          0,
          0,
          1,
          1,
          1,
          1,
          1,
          1,
          1,
          1,
          1,
          1,
          1,
          1,
          1,
          1,
          1,
          1,
          1,
          1,
          1,
          1,
          1,
          1,
          1,
          1,
          1,
          1,
          1,
          1,
          1,
          1,
          1,
          1,
          1,
          1,
          1,
          0,
          0,
          0,
          0,
          0,
          0,
          0,
          0,
          0,
          1,
          1,
          1,
          1,
          1,
          1,
          1,
          1,
          1,
          1,
          1,
          1,
          1,
          1,
          1,
          1,
          1,
          1,
          1,
          1,
          1,
          1,
          0,
          0,
          0,
          0,
          0,
          0,
          0,
          0,
          0,
          0,
          0,
          0,
          0,
          0,
          1,
          1,
          1,
          1,
          1,
          1,
          1,
          1,
          1,
          1,
          1,
          1,
          1,
          1,
          1,
          1,
          1,
          1,
          1,
          1,
          1,
          1,
          1,
          1,
          1,
          1,
          1,
          1,
          1,
          1,
          1,
          1,
          1,
          1,
          1,
          1,
          1,
          1,
          1,
          1,
          1,
          1,
          1,
          1,
          1,
          1,
          1,
          1,
          1,
          1,
          1,
          0,
          0,
          0,
          0,
          0,
          0,
          0,
          0,
          0,
          0,
          0,
          0,
          0,
          0,
          0,
          0,
          0,
          0,
          0,
          0,
          0,
          0,
          0,
          0,
          0,
          0,
          0,
          0,
          0,
          0,
          0,
          0,
          0,
          1,
          1,
          1,
          1,
          0,
          0,
          0,
          0,
          0,
          0,
          0,
          0,
          0,
          0,
          0,
          0,
          0,
          0,
          1,
          1,
          1,
          1,
          1,
          1,
          1,
          1,
          1,
          1,
          1,
          1,
          1,
          1,
          1,
          1,
          1,
          1,
          1,
          1,
          1,
          1,
          1,
          1,
          1,
          1,
          1,
          1,
          1,
          1,
          1,
          1,
          1,
          1,
          1,
          1,
          1,
          1,
          1,
          1,
          1,
          1,
          0,
          0,
          0,
          0,
          0,
          0,
          0,
          0,
          0,
          0,
          0,
          0,
          0,
          0,
          0,
          0,
          0,
          0,
          0,
          0,
          0,
          0,
          0,
          0,
          0,
          0,
          0,
          0,
          0,
          0,
          0,
          0,
          0,
          0,
          0,
          0,
          0,
          0,
          0,
          0,
          0,
          1,
          1,
          1,
          1,
          1,
          1,
          1,
          1,
          1,
          1,
          1,
          1,
          1,
          1,
          1,
          1,
          1,
          1,
          1,
          1,
          1,
          1,
          1,
          1,
          1,
          1,
          1,
          1,
          1,
          1,
          1,
          1,
          1,
          1,
          1,
          1,
          0,
          0,
          0,
          0,
          0,
          0,
          0,
          0,
          0,
          0,
          0,
          0,
          0,
          0,
          0,
          0,
          0,
          0,
          0,
          0,
          1,
          0,
          0
         ],
         "yaxis": "y2"
        },
        {
         "line": {
          "width": 2
         },
         "mode": "lines",
         "name": "pred",
         "type": "scatter",
         "x": [
          [
           "2020-06-23T00:00:00",
           "2020-06-23T00:00:00"
          ],
          [
           "2020-06-24T00:00:00",
           "2020-06-24T00:00:00"
          ],
          [
           "2020-06-25T00:00:00",
           "2020-06-25T00:00:00"
          ],
          [
           "2020-06-26T00:00:00",
           "2020-06-26T00:00:00"
          ],
          [
           "2020-06-29T00:00:00",
           "2020-06-29T00:00:00"
          ],
          [
           "2020-06-30T00:00:00",
           "2020-06-30T00:00:00"
          ],
          [
           "2020-07-01T00:00:00",
           "2020-07-01T00:00:00"
          ],
          [
           "2020-07-02T00:00:00",
           "2020-07-02T00:00:00"
          ],
          [
           "2020-07-03T00:00:00",
           "2020-07-03T00:00:00"
          ],
          [
           "2020-07-06T00:00:00",
           "2020-07-06T00:00:00"
          ],
          [
           "2020-07-07T00:00:00",
           "2020-07-07T00:00:00"
          ],
          [
           "2020-07-08T00:00:00",
           "2020-07-08T00:00:00"
          ],
          [
           "2020-07-09T00:00:00",
           "2020-07-09T00:00:00"
          ],
          [
           "2020-07-10T00:00:00",
           "2020-07-10T00:00:00"
          ],
          [
           "2020-07-13T00:00:00",
           "2020-07-13T00:00:00"
          ],
          [
           "2020-07-14T00:00:00",
           "2020-07-14T00:00:00"
          ],
          [
           "2020-07-15T00:00:00",
           "2020-07-15T00:00:00"
          ],
          [
           "2020-07-16T00:00:00",
           "2020-07-16T00:00:00"
          ],
          [
           "2020-07-17T00:00:00",
           "2020-07-17T00:00:00"
          ],
          [
           "2020-07-20T00:00:00",
           "2020-07-20T00:00:00"
          ],
          [
           "2020-07-21T00:00:00",
           "2020-07-21T00:00:00"
          ],
          [
           "2020-07-22T00:00:00",
           "2020-07-22T00:00:00"
          ],
          [
           "2020-07-23T00:00:00",
           "2020-07-23T00:00:00"
          ],
          [
           "2020-07-24T00:00:00",
           "2020-07-24T00:00:00"
          ],
          [
           "2020-07-27T00:00:00",
           "2020-07-27T00:00:00"
          ],
          [
           "2020-07-28T00:00:00",
           "2020-07-28T00:00:00"
          ],
          [
           "2020-07-29T00:00:00",
           "2020-07-29T00:00:00"
          ],
          [
           "2020-07-30T00:00:00",
           "2020-07-30T00:00:00"
          ],
          [
           "2020-07-31T00:00:00",
           "2020-07-31T00:00:00"
          ],
          [
           "2020-08-03T00:00:00",
           "2020-08-03T00:00:00"
          ],
          [
           "2020-08-04T00:00:00",
           "2020-08-04T00:00:00"
          ],
          [
           "2020-08-05T00:00:00",
           "2020-08-05T00:00:00"
          ],
          [
           "2020-08-06T00:00:00",
           "2020-08-06T00:00:00"
          ],
          [
           "2020-08-07T00:00:00",
           "2020-08-07T00:00:00"
          ],
          [
           "2020-08-10T00:00:00",
           "2020-08-10T00:00:00"
          ],
          [
           "2020-08-11T00:00:00",
           "2020-08-11T00:00:00"
          ],
          [
           "2020-08-12T00:00:00",
           "2020-08-12T00:00:00"
          ],
          [
           "2020-08-13T00:00:00",
           "2020-08-13T00:00:00"
          ],
          [
           "2020-08-14T00:00:00",
           "2020-08-14T00:00:00"
          ],
          [
           "2020-08-17T00:00:00",
           "2020-08-17T00:00:00"
          ],
          [
           "2020-08-18T00:00:00",
           "2020-08-18T00:00:00"
          ],
          [
           "2020-08-19T00:00:00",
           "2020-08-19T00:00:00"
          ],
          [
           "2020-08-20T00:00:00",
           "2020-08-20T00:00:00"
          ],
          [
           "2020-08-21T00:00:00",
           "2020-08-21T00:00:00"
          ],
          [
           "2020-08-24T00:00:00",
           "2020-08-24T00:00:00"
          ],
          [
           "2020-08-25T00:00:00",
           "2020-08-25T00:00:00"
          ],
          [
           "2020-08-26T00:00:00",
           "2020-08-26T00:00:00"
          ],
          [
           "2020-08-27T00:00:00",
           "2020-08-27T00:00:00"
          ],
          [
           "2020-08-28T00:00:00",
           "2020-08-28T00:00:00"
          ],
          [
           "2020-08-31T00:00:00",
           "2020-08-31T00:00:00"
          ],
          [
           "2020-09-01T00:00:00",
           "2020-09-01T00:00:00"
          ],
          [
           "2020-09-02T00:00:00",
           "2020-09-02T00:00:00"
          ],
          [
           "2020-09-03T00:00:00",
           "2020-09-03T00:00:00"
          ],
          [
           "2020-09-04T00:00:00",
           "2020-09-04T00:00:00"
          ],
          [
           "2020-09-07T00:00:00",
           "2020-09-07T00:00:00"
          ],
          [
           "2020-09-08T00:00:00",
           "2020-09-08T00:00:00"
          ],
          [
           "2020-09-09T00:00:00",
           "2020-09-09T00:00:00"
          ],
          [
           "2020-09-10T00:00:00",
           "2020-09-10T00:00:00"
          ],
          [
           "2020-09-11T00:00:00",
           "2020-09-11T00:00:00"
          ],
          [
           "2020-09-14T00:00:00",
           "2020-09-14T00:00:00"
          ],
          [
           "2020-09-15T00:00:00",
           "2020-09-15T00:00:00"
          ],
          [
           "2020-09-16T00:00:00",
           "2020-09-16T00:00:00"
          ],
          [
           "2020-09-17T00:00:00",
           "2020-09-17T00:00:00"
          ],
          [
           "2020-09-18T00:00:00",
           "2020-09-18T00:00:00"
          ],
          [
           "2020-09-21T00:00:00",
           "2020-09-21T00:00:00"
          ],
          [
           "2020-09-22T00:00:00",
           "2020-09-22T00:00:00"
          ],
          [
           "2020-09-23T00:00:00",
           "2020-09-23T00:00:00"
          ],
          [
           "2020-09-24T00:00:00",
           "2020-09-24T00:00:00"
          ],
          [
           "2020-09-25T00:00:00",
           "2020-09-25T00:00:00"
          ],
          [
           "2020-09-28T00:00:00",
           "2020-09-28T00:00:00"
          ],
          [
           "2020-09-29T00:00:00",
           "2020-09-29T00:00:00"
          ],
          [
           "2020-09-30T00:00:00",
           "2020-09-30T00:00:00"
          ],
          [
           "2020-10-01T00:00:00",
           "2020-10-01T00:00:00"
          ],
          [
           "2020-10-02T00:00:00",
           "2020-10-02T00:00:00"
          ],
          [
           "2020-10-05T00:00:00",
           "2020-10-05T00:00:00"
          ],
          [
           "2020-10-06T00:00:00",
           "2020-10-06T00:00:00"
          ],
          [
           "2020-10-07T00:00:00",
           "2020-10-07T00:00:00"
          ],
          [
           "2020-10-08T00:00:00",
           "2020-10-08T00:00:00"
          ],
          [
           "2020-10-09T00:00:00",
           "2020-10-09T00:00:00"
          ],
          [
           "2020-10-12T00:00:00",
           "2020-10-12T00:00:00"
          ],
          [
           "2020-10-13T00:00:00",
           "2020-10-13T00:00:00"
          ],
          [
           "2020-10-14T00:00:00",
           "2020-10-14T00:00:00"
          ],
          [
           "2020-10-15T00:00:00",
           "2020-10-15T00:00:00"
          ],
          [
           "2020-10-16T00:00:00",
           "2020-10-16T00:00:00"
          ],
          [
           "2020-10-19T00:00:00",
           "2020-10-19T00:00:00"
          ],
          [
           "2020-10-20T00:00:00",
           "2020-10-20T00:00:00"
          ],
          [
           "2020-10-21T00:00:00",
           "2020-10-21T00:00:00"
          ],
          [
           "2020-10-22T00:00:00",
           "2020-10-22T00:00:00"
          ],
          [
           "2020-10-23T00:00:00",
           "2020-10-23T00:00:00"
          ],
          [
           "2020-10-26T00:00:00",
           "2020-10-26T00:00:00"
          ],
          [
           "2020-10-27T00:00:00",
           "2020-10-27T00:00:00"
          ],
          [
           "2020-10-28T00:00:00",
           "2020-10-28T00:00:00"
          ],
          [
           "2020-10-29T00:00:00",
           "2020-10-29T00:00:00"
          ],
          [
           "2020-10-30T00:00:00",
           "2020-10-30T00:00:00"
          ],
          [
           "2020-11-02T00:00:00",
           "2020-11-02T00:00:00"
          ],
          [
           "2020-11-03T00:00:00",
           "2020-11-03T00:00:00"
          ],
          [
           "2020-11-04T00:00:00",
           "2020-11-04T00:00:00"
          ],
          [
           "2020-11-05T00:00:00",
           "2020-11-05T00:00:00"
          ],
          [
           "2020-11-06T00:00:00",
           "2020-11-06T00:00:00"
          ],
          [
           "2020-11-09T00:00:00",
           "2020-11-09T00:00:00"
          ],
          [
           "2020-11-10T00:00:00",
           "2020-11-10T00:00:00"
          ],
          [
           "2020-11-11T00:00:00",
           "2020-11-11T00:00:00"
          ],
          [
           "2020-11-12T00:00:00",
           "2020-11-12T00:00:00"
          ],
          [
           "2020-11-13T00:00:00",
           "2020-11-13T00:00:00"
          ],
          [
           "2020-11-16T00:00:00",
           "2020-11-16T00:00:00"
          ],
          [
           "2020-11-17T00:00:00",
           "2020-11-17T00:00:00"
          ],
          [
           "2020-11-18T00:00:00",
           "2020-11-18T00:00:00"
          ],
          [
           "2020-11-19T00:00:00",
           "2020-11-19T00:00:00"
          ],
          [
           "2020-11-20T00:00:00",
           "2020-11-20T00:00:00"
          ],
          [
           "2020-11-23T00:00:00",
           "2020-11-23T00:00:00"
          ],
          [
           "2020-11-24T00:00:00",
           "2020-11-24T00:00:00"
          ],
          [
           "2020-11-25T00:00:00",
           "2020-11-25T00:00:00"
          ],
          [
           "2020-11-26T00:00:00",
           "2020-11-26T00:00:00"
          ],
          [
           "2020-11-27T00:00:00",
           "2020-11-27T00:00:00"
          ],
          [
           "2020-11-30T00:00:00",
           "2020-11-30T00:00:00"
          ],
          [
           "2020-12-01T00:00:00",
           "2020-12-01T00:00:00"
          ],
          [
           "2020-12-02T00:00:00",
           "2020-12-02T00:00:00"
          ],
          [
           "2020-12-03T00:00:00",
           "2020-12-03T00:00:00"
          ],
          [
           "2020-12-04T00:00:00",
           "2020-12-04T00:00:00"
          ],
          [
           "2020-12-07T00:00:00",
           "2020-12-07T00:00:00"
          ],
          [
           "2020-12-08T00:00:00",
           "2020-12-08T00:00:00"
          ],
          [
           "2020-12-09T00:00:00",
           "2020-12-09T00:00:00"
          ],
          [
           "2020-12-10T00:00:00",
           "2020-12-10T00:00:00"
          ],
          [
           "2020-12-11T00:00:00",
           "2020-12-11T00:00:00"
          ],
          [
           "2020-12-14T00:00:00",
           "2020-12-14T00:00:00"
          ],
          [
           "2020-12-15T00:00:00",
           "2020-12-15T00:00:00"
          ],
          [
           "2020-12-16T00:00:00",
           "2020-12-16T00:00:00"
          ],
          [
           "2020-12-17T00:00:00",
           "2020-12-17T00:00:00"
          ],
          [
           "2020-12-18T00:00:00",
           "2020-12-18T00:00:00"
          ],
          [
           "2020-12-21T00:00:00",
           "2020-12-21T00:00:00"
          ],
          [
           "2020-12-22T00:00:00",
           "2020-12-22T00:00:00"
          ],
          [
           "2020-12-23T00:00:00",
           "2020-12-23T00:00:00"
          ],
          [
           "2020-12-24T00:00:00",
           "2020-12-24T00:00:00"
          ],
          [
           "2020-12-28T00:00:00",
           "2020-12-28T00:00:00"
          ],
          [
           "2020-12-29T00:00:00",
           "2020-12-29T00:00:00"
          ],
          [
           "2020-12-30T00:00:00",
           "2020-12-30T00:00:00"
          ],
          [
           "2020-12-31T00:00:00",
           "2020-12-31T00:00:00"
          ],
          [
           "2021-01-04T00:00:00",
           "2021-01-04T00:00:00"
          ],
          [
           "2021-01-05T00:00:00",
           "2021-01-05T00:00:00"
          ],
          [
           "2021-01-06T00:00:00",
           "2021-01-06T00:00:00"
          ],
          [
           "2021-01-07T00:00:00",
           "2021-01-07T00:00:00"
          ],
          [
           "2021-01-08T00:00:00",
           "2021-01-08T00:00:00"
          ],
          [
           "2021-01-11T00:00:00",
           "2021-01-11T00:00:00"
          ],
          [
           "2021-01-12T00:00:00",
           "2021-01-12T00:00:00"
          ],
          [
           "2021-01-13T00:00:00",
           "2021-01-13T00:00:00"
          ],
          [
           "2021-01-14T00:00:00",
           "2021-01-14T00:00:00"
          ],
          [
           "2021-01-15T00:00:00",
           "2021-01-15T00:00:00"
          ],
          [
           "2021-01-18T00:00:00",
           "2021-01-18T00:00:00"
          ],
          [
           "2021-01-19T00:00:00",
           "2021-01-19T00:00:00"
          ],
          [
           "2021-01-20T00:00:00",
           "2021-01-20T00:00:00"
          ],
          [
           "2021-01-21T00:00:00",
           "2021-01-21T00:00:00"
          ],
          [
           "2021-01-22T00:00:00",
           "2021-01-22T00:00:00"
          ],
          [
           "2021-01-25T00:00:00",
           "2021-01-25T00:00:00"
          ],
          [
           "2021-01-26T00:00:00",
           "2021-01-26T00:00:00"
          ],
          [
           "2021-01-27T00:00:00",
           "2021-01-27T00:00:00"
          ],
          [
           "2021-01-28T00:00:00",
           "2021-01-28T00:00:00"
          ],
          [
           "2021-01-29T00:00:00",
           "2021-01-29T00:00:00"
          ],
          [
           "2021-02-01T00:00:00",
           "2021-02-01T00:00:00"
          ],
          [
           "2021-02-02T00:00:00",
           "2021-02-02T00:00:00"
          ],
          [
           "2021-02-03T00:00:00",
           "2021-02-03T00:00:00"
          ],
          [
           "2021-02-04T00:00:00",
           "2021-02-04T00:00:00"
          ],
          [
           "2021-02-05T00:00:00",
           "2021-02-05T00:00:00"
          ],
          [
           "2021-02-08T00:00:00",
           "2021-02-08T00:00:00"
          ],
          [
           "2021-02-09T00:00:00",
           "2021-02-09T00:00:00"
          ],
          [
           "2021-02-10T00:00:00",
           "2021-02-10T00:00:00"
          ],
          [
           "2021-02-11T00:00:00",
           "2021-02-11T00:00:00"
          ],
          [
           "2021-02-12T00:00:00",
           "2021-02-12T00:00:00"
          ],
          [
           "2021-02-15T00:00:00",
           "2021-02-15T00:00:00"
          ],
          [
           "2021-02-16T00:00:00",
           "2021-02-16T00:00:00"
          ],
          [
           "2021-02-17T00:00:00",
           "2021-02-17T00:00:00"
          ],
          [
           "2021-02-18T00:00:00",
           "2021-02-18T00:00:00"
          ],
          [
           "2021-02-19T00:00:00",
           "2021-02-19T00:00:00"
          ],
          [
           "2021-02-22T00:00:00",
           "2021-02-22T00:00:00"
          ],
          [
           "2021-02-23T00:00:00",
           "2021-02-23T00:00:00"
          ],
          [
           "2021-02-24T00:00:00",
           "2021-02-24T00:00:00"
          ],
          [
           "2021-02-25T00:00:00",
           "2021-02-25T00:00:00"
          ],
          [
           "2021-02-26T00:00:00",
           "2021-02-26T00:00:00"
          ],
          [
           "2021-03-01T00:00:00",
           "2021-03-01T00:00:00"
          ],
          [
           "2021-03-02T00:00:00",
           "2021-03-02T00:00:00"
          ],
          [
           "2021-03-03T00:00:00",
           "2021-03-03T00:00:00"
          ],
          [
           "2021-03-04T00:00:00",
           "2021-03-04T00:00:00"
          ],
          [
           "2021-03-05T00:00:00",
           "2021-03-05T00:00:00"
          ],
          [
           "2021-03-08T00:00:00",
           "2021-03-08T00:00:00"
          ],
          [
           "2021-03-09T00:00:00",
           "2021-03-09T00:00:00"
          ],
          [
           "2021-03-10T00:00:00",
           "2021-03-10T00:00:00"
          ],
          [
           "2021-03-11T00:00:00",
           "2021-03-11T00:00:00"
          ],
          [
           "2021-03-12T00:00:00",
           "2021-03-12T00:00:00"
          ],
          [
           "2021-03-15T00:00:00",
           "2021-03-15T00:00:00"
          ],
          [
           "2021-03-16T00:00:00",
           "2021-03-16T00:00:00"
          ],
          [
           "2021-03-17T00:00:00",
           "2021-03-17T00:00:00"
          ],
          [
           "2021-03-18T00:00:00",
           "2021-03-18T00:00:00"
          ],
          [
           "2021-03-19T00:00:00",
           "2021-03-19T00:00:00"
          ],
          [
           "2021-03-22T00:00:00",
           "2021-03-22T00:00:00"
          ],
          [
           "2021-03-23T00:00:00",
           "2021-03-23T00:00:00"
          ],
          [
           "2021-03-24T00:00:00",
           "2021-03-24T00:00:00"
          ],
          [
           "2021-03-25T00:00:00",
           "2021-03-25T00:00:00"
          ],
          [
           "2021-03-26T00:00:00",
           "2021-03-26T00:00:00"
          ],
          [
           "2021-03-29T00:00:00",
           "2021-03-29T00:00:00"
          ],
          [
           "2021-03-30T00:00:00",
           "2021-03-30T00:00:00"
          ],
          [
           "2021-03-31T00:00:00",
           "2021-03-31T00:00:00"
          ],
          [
           "2021-04-01T00:00:00",
           "2021-04-01T00:00:00"
          ],
          [
           "2021-04-06T00:00:00",
           "2021-04-06T00:00:00"
          ],
          [
           "2021-04-07T00:00:00",
           "2021-04-07T00:00:00"
          ],
          [
           "2021-04-08T00:00:00",
           "2021-04-08T00:00:00"
          ],
          [
           "2021-04-09T00:00:00",
           "2021-04-09T00:00:00"
          ],
          [
           "2021-04-12T00:00:00",
           "2021-04-12T00:00:00"
          ],
          [
           "2021-04-13T00:00:00",
           "2021-04-13T00:00:00"
          ],
          [
           "2021-04-14T00:00:00",
           "2021-04-14T00:00:00"
          ],
          [
           "2021-04-15T00:00:00",
           "2021-04-15T00:00:00"
          ],
          [
           "2021-04-16T00:00:00",
           "2021-04-16T00:00:00"
          ],
          [
           "2021-04-19T00:00:00",
           "2021-04-19T00:00:00"
          ],
          [
           "2021-04-20T00:00:00",
           "2021-04-20T00:00:00"
          ],
          [
           "2021-04-21T00:00:00",
           "2021-04-21T00:00:00"
          ],
          [
           "2021-04-22T00:00:00",
           "2021-04-22T00:00:00"
          ],
          [
           "2021-04-23T00:00:00",
           "2021-04-23T00:00:00"
          ],
          [
           "2021-04-26T00:00:00",
           "2021-04-26T00:00:00"
          ],
          [
           "2021-04-27T00:00:00",
           "2021-04-27T00:00:00"
          ],
          [
           "2021-04-28T00:00:00",
           "2021-04-28T00:00:00"
          ],
          [
           "2021-04-29T00:00:00",
           "2021-04-29T00:00:00"
          ],
          [
           "2021-04-30T00:00:00",
           "2021-04-30T00:00:00"
          ],
          [
           "2021-05-03T00:00:00",
           "2021-05-03T00:00:00"
          ],
          [
           "2021-05-04T00:00:00",
           "2021-05-04T00:00:00"
          ],
          [
           "2021-05-05T00:00:00",
           "2021-05-05T00:00:00"
          ],
          [
           "2021-05-06T00:00:00",
           "2021-05-06T00:00:00"
          ],
          [
           "2021-05-07T00:00:00",
           "2021-05-07T00:00:00"
          ],
          [
           "2021-05-10T00:00:00",
           "2021-05-10T00:00:00"
          ],
          [
           "2021-05-11T00:00:00",
           "2021-05-11T00:00:00"
          ],
          [
           "2021-05-12T00:00:00",
           "2021-05-12T00:00:00"
          ],
          [
           "2021-05-13T00:00:00",
           "2021-05-13T00:00:00"
          ],
          [
           "2021-05-14T00:00:00",
           "2021-05-14T00:00:00"
          ],
          [
           "2021-05-17T00:00:00",
           "2021-05-17T00:00:00"
          ],
          [
           "2021-05-18T00:00:00",
           "2021-05-18T00:00:00"
          ],
          [
           "2021-05-19T00:00:00",
           "2021-05-19T00:00:00"
          ],
          [
           "2021-05-20T00:00:00",
           "2021-05-20T00:00:00"
          ],
          [
           "2021-05-21T00:00:00",
           "2021-05-21T00:00:00"
          ],
          [
           "2021-05-24T00:00:00",
           "2021-05-24T00:00:00"
          ],
          [
           "2021-05-25T00:00:00",
           "2021-05-25T00:00:00"
          ],
          [
           "2021-05-26T00:00:00",
           "2021-05-26T00:00:00"
          ],
          [
           "2021-05-27T00:00:00",
           "2021-05-27T00:00:00"
          ],
          [
           "2021-05-28T00:00:00",
           "2021-05-28T00:00:00"
          ],
          [
           "2021-05-31T00:00:00",
           "2021-05-31T00:00:00"
          ],
          [
           "2021-06-01T00:00:00",
           "2021-06-01T00:00:00"
          ],
          [
           "2021-06-02T00:00:00",
           "2021-06-02T00:00:00"
          ],
          [
           "2021-06-03T00:00:00",
           "2021-06-03T00:00:00"
          ],
          [
           "2021-06-04T00:00:00",
           "2021-06-04T00:00:00"
          ],
          [
           "2021-06-07T00:00:00",
           "2021-06-07T00:00:00"
          ],
          [
           "2021-06-08T00:00:00",
           "2021-06-08T00:00:00"
          ],
          [
           "2021-06-09T00:00:00",
           "2021-06-09T00:00:00"
          ],
          [
           "2021-06-10T00:00:00",
           "2021-06-10T00:00:00"
          ],
          [
           "2021-06-11T00:00:00",
           "2021-06-11T00:00:00"
          ],
          [
           "2021-06-14T00:00:00",
           "2021-06-14T00:00:00"
          ],
          [
           "2021-06-15T00:00:00",
           "2021-06-15T00:00:00"
          ],
          [
           "2021-06-16T00:00:00",
           "2021-06-16T00:00:00"
          ],
          [
           "2021-06-17T00:00:00",
           "2021-06-17T00:00:00"
          ],
          [
           "2021-06-18T00:00:00",
           "2021-06-18T00:00:00"
          ],
          [
           "2021-06-21T00:00:00",
           "2021-06-21T00:00:00"
          ],
          [
           "2021-06-22T00:00:00",
           "2021-06-22T00:00:00"
          ],
          [
           "2021-06-23T00:00:00",
           "2021-06-23T00:00:00"
          ],
          [
           "2021-06-24T00:00:00",
           "2021-06-24T00:00:00"
          ],
          [
           "2021-06-25T00:00:00",
           "2021-06-25T00:00:00"
          ],
          [
           "2021-06-28T00:00:00",
           "2021-06-28T00:00:00"
          ],
          [
           "2021-06-29T00:00:00",
           "2021-06-29T00:00:00"
          ],
          [
           "2021-06-30T00:00:00",
           "2021-06-30T00:00:00"
          ],
          [
           "2021-07-01T00:00:00",
           "2021-07-01T00:00:00"
          ],
          [
           "2021-07-02T00:00:00",
           "2021-07-02T00:00:00"
          ],
          [
           "2021-07-05T00:00:00",
           "2021-07-05T00:00:00"
          ],
          [
           "2021-07-06T00:00:00",
           "2021-07-06T00:00:00"
          ],
          [
           "2021-07-07T00:00:00",
           "2021-07-07T00:00:00"
          ],
          [
           "2021-07-08T00:00:00",
           "2021-07-08T00:00:00"
          ],
          [
           "2021-07-09T00:00:00",
           "2021-07-09T00:00:00"
          ],
          [
           "2021-07-12T00:00:00",
           "2021-07-12T00:00:00"
          ],
          [
           "2021-07-13T00:00:00",
           "2021-07-13T00:00:00"
          ],
          [
           "2021-07-14T00:00:00",
           "2021-07-14T00:00:00"
          ],
          [
           "2021-07-15T00:00:00",
           "2021-07-15T00:00:00"
          ],
          [
           "2021-07-16T00:00:00",
           "2021-07-16T00:00:00"
          ],
          [
           "2021-07-19T00:00:00",
           "2021-07-19T00:00:00"
          ],
          [
           "2021-07-20T00:00:00",
           "2021-07-20T00:00:00"
          ],
          [
           "2021-07-21T00:00:00",
           "2021-07-21T00:00:00"
          ],
          [
           "2021-07-22T00:00:00",
           "2021-07-22T00:00:00"
          ],
          [
           "2021-07-23T00:00:00",
           "2021-07-23T00:00:00"
          ],
          [
           "2021-07-26T00:00:00",
           "2021-07-26T00:00:00"
          ],
          [
           "2021-07-27T00:00:00",
           "2021-07-27T00:00:00"
          ],
          [
           "2021-07-28T00:00:00",
           "2021-07-28T00:00:00"
          ],
          [
           "2021-07-29T00:00:00",
           "2021-07-29T00:00:00"
          ],
          [
           "2021-07-30T00:00:00",
           "2021-07-30T00:00:00"
          ],
          [
           "2021-08-02T00:00:00",
           "2021-08-02T00:00:00"
          ],
          [
           "2021-08-03T00:00:00",
           "2021-08-03T00:00:00"
          ],
          [
           "2021-08-04T00:00:00",
           "2021-08-04T00:00:00"
          ],
          [
           "2021-08-05T00:00:00",
           "2021-08-05T00:00:00"
          ],
          [
           "2021-08-06T00:00:00",
           "2021-08-06T00:00:00"
          ],
          [
           "2021-08-09T00:00:00",
           "2021-08-09T00:00:00"
          ],
          [
           "2021-08-10T00:00:00",
           "2021-08-10T00:00:00"
          ],
          [
           "2021-08-11T00:00:00",
           "2021-08-11T00:00:00"
          ],
          [
           "2021-08-12T00:00:00",
           "2021-08-12T00:00:00"
          ],
          [
           "2021-08-13T00:00:00",
           "2021-08-13T00:00:00"
          ],
          [
           "2021-08-16T00:00:00",
           "2021-08-16T00:00:00"
          ],
          [
           "2021-08-17T00:00:00",
           "2021-08-17T00:00:00"
          ],
          [
           "2021-08-18T00:00:00",
           "2021-08-18T00:00:00"
          ],
          [
           "2021-08-19T00:00:00",
           "2021-08-19T00:00:00"
          ],
          [
           "2021-08-20T00:00:00",
           "2021-08-20T00:00:00"
          ],
          [
           "2021-08-23T00:00:00",
           "2021-08-23T00:00:00"
          ],
          [
           "2021-08-24T00:00:00",
           "2021-08-24T00:00:00"
          ],
          [
           "2021-08-25T00:00:00",
           "2021-08-25T00:00:00"
          ],
          [
           "2021-08-26T00:00:00",
           "2021-08-26T00:00:00"
          ],
          [
           "2021-08-27T00:00:00",
           "2021-08-27T00:00:00"
          ],
          [
           "2021-08-30T00:00:00",
           "2021-08-30T00:00:00"
          ],
          [
           "2021-08-31T00:00:00",
           "2021-08-31T00:00:00"
          ],
          [
           "2021-09-01T00:00:00",
           "2021-09-01T00:00:00"
          ],
          [
           "2021-09-02T00:00:00",
           "2021-09-02T00:00:00"
          ],
          [
           "2021-09-03T00:00:00",
           "2021-09-03T00:00:00"
          ],
          [
           "2021-09-06T00:00:00",
           "2021-09-06T00:00:00"
          ],
          [
           "2021-09-07T00:00:00",
           "2021-09-07T00:00:00"
          ],
          [
           "2021-09-08T00:00:00",
           "2021-09-08T00:00:00"
          ],
          [
           "2021-09-09T00:00:00",
           "2021-09-09T00:00:00"
          ],
          [
           "2021-09-10T00:00:00",
           "2021-09-10T00:00:00"
          ],
          [
           "2021-09-13T00:00:00",
           "2021-09-13T00:00:00"
          ],
          [
           "2021-09-14T00:00:00",
           "2021-09-14T00:00:00"
          ],
          [
           "2021-09-15T00:00:00",
           "2021-09-15T00:00:00"
          ],
          [
           "2021-09-16T00:00:00",
           "2021-09-16T00:00:00"
          ],
          [
           "2021-09-17T00:00:00",
           "2021-09-17T00:00:00"
          ],
          [
           "2021-09-20T00:00:00",
           "2021-09-20T00:00:00"
          ],
          [
           "2021-09-21T00:00:00",
           "2021-09-21T00:00:00"
          ],
          [
           "2021-09-22T00:00:00",
           "2021-09-22T00:00:00"
          ],
          [
           "2021-09-23T00:00:00",
           "2021-09-23T00:00:00"
          ],
          [
           "2021-09-24T00:00:00",
           "2021-09-24T00:00:00"
          ],
          [
           "2021-09-27T00:00:00",
           "2021-09-27T00:00:00"
          ],
          [
           "2021-09-28T00:00:00",
           "2021-09-28T00:00:00"
          ],
          [
           "2021-09-29T00:00:00",
           "2021-09-29T00:00:00"
          ],
          [
           "2021-09-30T00:00:00",
           "2021-09-30T00:00:00"
          ],
          [
           "2021-10-01T00:00:00",
           "2021-10-01T00:00:00"
          ],
          [
           "2021-10-04T00:00:00",
           "2021-10-04T00:00:00"
          ],
          [
           "2021-10-05T00:00:00",
           "2021-10-05T00:00:00"
          ],
          [
           "2021-10-06T00:00:00",
           "2021-10-06T00:00:00"
          ],
          [
           "2021-10-07T00:00:00",
           "2021-10-07T00:00:00"
          ],
          [
           "2021-10-08T00:00:00",
           "2021-10-08T00:00:00"
          ],
          [
           "2021-10-11T00:00:00",
           "2021-10-11T00:00:00"
          ],
          [
           "2021-10-12T00:00:00",
           "2021-10-12T00:00:00"
          ],
          [
           "2021-10-13T00:00:00",
           "2021-10-13T00:00:00"
          ],
          [
           "2021-10-14T00:00:00",
           "2021-10-14T00:00:00"
          ],
          [
           "2021-10-15T00:00:00",
           "2021-10-15T00:00:00"
          ],
          [
           "2021-10-18T00:00:00",
           "2021-10-18T00:00:00"
          ],
          [
           "2021-10-19T00:00:00",
           "2021-10-19T00:00:00"
          ],
          [
           "2021-10-20T00:00:00",
           "2021-10-20T00:00:00"
          ],
          [
           "2021-10-21T00:00:00",
           "2021-10-21T00:00:00"
          ],
          [
           "2021-10-22T00:00:00",
           "2021-10-22T00:00:00"
          ],
          [
           "2021-10-25T00:00:00",
           "2021-10-25T00:00:00"
          ],
          [
           "2021-10-26T00:00:00",
           "2021-10-26T00:00:00"
          ],
          [
           "2021-10-27T00:00:00",
           "2021-10-27T00:00:00"
          ],
          [
           "2021-10-28T00:00:00",
           "2021-10-28T00:00:00"
          ],
          [
           "2021-10-29T00:00:00",
           "2021-10-29T00:00:00"
          ],
          [
           "2021-11-01T00:00:00",
           "2021-11-01T00:00:00"
          ],
          [
           "2021-11-02T00:00:00",
           "2021-11-02T00:00:00"
          ],
          [
           "2021-11-03T00:00:00",
           "2021-11-03T00:00:00"
          ],
          [
           "2021-11-04T00:00:00",
           "2021-11-04T00:00:00"
          ],
          [
           "2021-11-05T00:00:00",
           "2021-11-05T00:00:00"
          ],
          [
           "2021-11-08T00:00:00",
           "2021-11-08T00:00:00"
          ],
          [
           "2021-11-09T00:00:00",
           "2021-11-09T00:00:00"
          ],
          [
           "2021-11-10T00:00:00",
           "2021-11-10T00:00:00"
          ],
          [
           "2021-11-11T00:00:00",
           "2021-11-11T00:00:00"
          ],
          [
           "2021-11-12T00:00:00",
           "2021-11-12T00:00:00"
          ],
          [
           "2021-11-15T00:00:00",
           "2021-11-15T00:00:00"
          ],
          [
           "2021-11-16T00:00:00",
           "2021-11-16T00:00:00"
          ],
          [
           "2021-11-17T00:00:00",
           "2021-11-17T00:00:00"
          ],
          [
           "2021-11-18T00:00:00",
           "2021-11-18T00:00:00"
          ],
          [
           "2021-11-19T00:00:00",
           "2021-11-19T00:00:00"
          ],
          [
           "2021-11-22T00:00:00",
           "2021-11-22T00:00:00"
          ],
          [
           "2021-11-23T00:00:00",
           "2021-11-23T00:00:00"
          ],
          [
           "2021-11-24T00:00:00",
           "2021-11-24T00:00:00"
          ],
          [
           "2021-11-25T00:00:00",
           "2021-11-25T00:00:00"
          ],
          [
           "2021-11-26T00:00:00",
           "2021-11-26T00:00:00"
          ],
          [
           "2021-11-29T00:00:00",
           "2021-11-29T00:00:00"
          ],
          [
           "2021-11-30T00:00:00",
           "2021-11-30T00:00:00"
          ],
          [
           "2021-12-01T00:00:00",
           "2021-12-01T00:00:00"
          ],
          [
           "2021-12-02T00:00:00",
           "2021-12-02T00:00:00"
          ],
          [
           "2021-12-03T00:00:00",
           "2021-12-03T00:00:00"
          ],
          [
           "2021-12-06T00:00:00",
           "2021-12-06T00:00:00"
          ],
          [
           "2021-12-07T00:00:00",
           "2021-12-07T00:00:00"
          ],
          [
           "2021-12-08T00:00:00",
           "2021-12-08T00:00:00"
          ],
          [
           "2021-12-09T00:00:00",
           "2021-12-09T00:00:00"
          ],
          [
           "2021-12-10T00:00:00",
           "2021-12-10T00:00:00"
          ],
          [
           "2021-12-13T00:00:00",
           "2021-12-13T00:00:00"
          ],
          [
           "2021-12-14T00:00:00",
           "2021-12-14T00:00:00"
          ],
          [
           "2021-12-15T00:00:00",
           "2021-12-15T00:00:00"
          ],
          [
           "2021-12-16T00:00:00",
           "2021-12-16T00:00:00"
          ],
          [
           "2021-12-17T00:00:00",
           "2021-12-17T00:00:00"
          ],
          [
           "2021-12-20T00:00:00",
           "2021-12-20T00:00:00"
          ],
          [
           "2021-12-21T00:00:00",
           "2021-12-21T00:00:00"
          ],
          [
           "2021-12-22T00:00:00",
           "2021-12-22T00:00:00"
          ],
          [
           "2021-12-23T00:00:00",
           "2021-12-23T00:00:00"
          ],
          [
           "2021-12-24T00:00:00",
           "2021-12-24T00:00:00"
          ],
          [
           "2021-12-27T00:00:00",
           "2021-12-27T00:00:00"
          ],
          [
           "2021-12-28T00:00:00",
           "2021-12-28T00:00:00"
          ],
          [
           "2021-12-29T00:00:00",
           "2021-12-29T00:00:00"
          ],
          [
           "2021-12-30T00:00:00",
           "2021-12-30T00:00:00"
          ],
          [
           "2021-12-31T00:00:00",
           "2021-12-31T00:00:00"
          ],
          [
           "2022-01-03T00:00:00",
           "2022-01-03T00:00:00"
          ],
          [
           "2022-01-04T00:00:00",
           "2022-01-04T00:00:00"
          ],
          [
           "2022-01-05T00:00:00",
           "2022-01-05T00:00:00"
          ],
          [
           "2022-01-06T00:00:00",
           "2022-01-06T00:00:00"
          ],
          [
           "2022-01-07T00:00:00",
           "2022-01-07T00:00:00"
          ],
          [
           "2022-01-10T00:00:00",
           "2022-01-10T00:00:00"
          ],
          [
           "2022-01-11T00:00:00",
           "2022-01-11T00:00:00"
          ],
          [
           "2022-01-12T00:00:00",
           "2022-01-12T00:00:00"
          ],
          [
           "2022-01-13T00:00:00",
           "2022-01-13T00:00:00"
          ],
          [
           "2022-01-14T00:00:00",
           "2022-01-14T00:00:00"
          ],
          [
           "2022-01-17T00:00:00",
           "2022-01-17T00:00:00"
          ],
          [
           "2022-01-18T00:00:00",
           "2022-01-18T00:00:00"
          ],
          [
           "2022-01-19T00:00:00",
           "2022-01-19T00:00:00"
          ],
          [
           "2022-01-20T00:00:00",
           "2022-01-20T00:00:00"
          ],
          [
           "2022-01-21T00:00:00",
           "2022-01-21T00:00:00"
          ],
          [
           "2022-01-24T00:00:00",
           "2022-01-24T00:00:00"
          ],
          [
           "2022-01-25T00:00:00",
           "2022-01-25T00:00:00"
          ],
          [
           "2022-01-26T00:00:00",
           "2022-01-26T00:00:00"
          ],
          [
           "2022-01-27T00:00:00",
           "2022-01-27T00:00:00"
          ],
          [
           "2022-01-28T00:00:00",
           "2022-01-28T00:00:00"
          ],
          [
           "2022-01-31T00:00:00",
           "2022-01-31T00:00:00"
          ],
          [
           "2022-02-01T00:00:00",
           "2022-02-01T00:00:00"
          ],
          [
           "2022-02-02T00:00:00",
           "2022-02-02T00:00:00"
          ],
          [
           "2022-02-03T00:00:00",
           "2022-02-03T00:00:00"
          ],
          [
           "2022-02-04T00:00:00",
           "2022-02-04T00:00:00"
          ],
          [
           "2022-02-07T00:00:00",
           "2022-02-07T00:00:00"
          ],
          [
           "2022-02-08T00:00:00",
           "2022-02-08T00:00:00"
          ],
          [
           "2022-02-09T00:00:00",
           "2022-02-09T00:00:00"
          ],
          [
           "2022-02-10T00:00:00",
           "2022-02-10T00:00:00"
          ],
          [
           "2022-02-11T00:00:00",
           "2022-02-11T00:00:00"
          ],
          [
           "2022-02-14T00:00:00",
           "2022-02-14T00:00:00"
          ],
          [
           "2022-02-15T00:00:00",
           "2022-02-15T00:00:00"
          ],
          [
           "2022-02-16T00:00:00",
           "2022-02-16T00:00:00"
          ],
          [
           "2022-02-17T00:00:00",
           "2022-02-17T00:00:00"
          ],
          [
           "2022-02-18T00:00:00",
           "2022-02-18T00:00:00"
          ],
          [
           "2022-02-21T00:00:00",
           "2022-02-21T00:00:00"
          ],
          [
           "2022-02-22T00:00:00",
           "2022-02-22T00:00:00"
          ],
          [
           "2022-02-23T00:00:00",
           "2022-02-23T00:00:00"
          ],
          [
           "2022-02-24T00:00:00",
           "2022-02-24T00:00:00"
          ],
          [
           "2022-02-25T00:00:00",
           "2022-02-25T00:00:00"
          ],
          [
           "2022-02-28T00:00:00",
           "2022-02-28T00:00:00"
          ],
          [
           "2022-03-01T00:00:00",
           "2022-03-01T00:00:00"
          ],
          [
           "2022-03-02T00:00:00",
           "2022-03-02T00:00:00"
          ],
          [
           "2022-03-03T00:00:00",
           "2022-03-03T00:00:00"
          ],
          [
           "2022-03-04T00:00:00",
           "2022-03-04T00:00:00"
          ],
          [
           "2022-03-07T00:00:00",
           "2022-03-07T00:00:00"
          ],
          [
           "2022-03-08T00:00:00",
           "2022-03-08T00:00:00"
          ],
          [
           "2022-03-09T00:00:00",
           "2022-03-09T00:00:00"
          ],
          [
           "2022-03-10T00:00:00",
           "2022-03-10T00:00:00"
          ],
          [
           "2022-03-11T00:00:00",
           "2022-03-11T00:00:00"
          ],
          [
           "2022-03-14T00:00:00",
           "2022-03-14T00:00:00"
          ],
          [
           "2022-03-15T00:00:00",
           "2022-03-15T00:00:00"
          ],
          [
           "2022-03-16T00:00:00",
           "2022-03-16T00:00:00"
          ],
          [
           "2022-03-17T00:00:00",
           "2022-03-17T00:00:00"
          ],
          [
           "2022-03-18T00:00:00",
           "2022-03-18T00:00:00"
          ],
          [
           "2022-03-21T00:00:00",
           "2022-03-21T00:00:00"
          ],
          [
           "2022-03-22T00:00:00",
           "2022-03-22T00:00:00"
          ],
          [
           "2022-03-23T00:00:00",
           "2022-03-23T00:00:00"
          ],
          [
           "2022-03-24T00:00:00",
           "2022-03-24T00:00:00"
          ],
          [
           "2022-03-25T00:00:00",
           "2022-03-25T00:00:00"
          ],
          [
           "2022-03-28T00:00:00",
           "2022-03-28T00:00:00"
          ],
          [
           "2022-03-29T00:00:00",
           "2022-03-29T00:00:00"
          ],
          [
           "2022-03-30T00:00:00",
           "2022-03-30T00:00:00"
          ],
          [
           "2022-03-31T00:00:00",
           "2022-03-31T00:00:00"
          ],
          [
           "2022-04-01T00:00:00",
           "2022-04-01T00:00:00"
          ],
          [
           "2022-04-04T00:00:00",
           "2022-04-04T00:00:00"
          ],
          [
           "2022-04-05T00:00:00",
           "2022-04-05T00:00:00"
          ],
          [
           "2022-04-06T00:00:00",
           "2022-04-06T00:00:00"
          ],
          [
           "2022-04-07T00:00:00",
           "2022-04-07T00:00:00"
          ],
          [
           "2022-04-08T00:00:00",
           "2022-04-08T00:00:00"
          ],
          [
           "2022-04-11T00:00:00",
           "2022-04-11T00:00:00"
          ],
          [
           "2022-04-12T00:00:00",
           "2022-04-12T00:00:00"
          ],
          [
           "2022-04-13T00:00:00",
           "2022-04-13T00:00:00"
          ],
          [
           "2022-04-14T00:00:00",
           "2022-04-14T00:00:00"
          ],
          [
           "2022-04-19T00:00:00",
           "2022-04-19T00:00:00"
          ],
          [
           "2022-04-20T00:00:00",
           "2022-04-20T00:00:00"
          ],
          [
           "2022-04-21T00:00:00",
           "2022-04-21T00:00:00"
          ],
          [
           "2022-04-22T00:00:00",
           "2022-04-22T00:00:00"
          ],
          [
           "2022-04-25T00:00:00",
           "2022-04-25T00:00:00"
          ],
          [
           "2022-04-26T00:00:00",
           "2022-04-26T00:00:00"
          ],
          [
           "2022-04-27T00:00:00",
           "2022-04-27T00:00:00"
          ],
          [
           "2022-04-28T00:00:00",
           "2022-04-28T00:00:00"
          ],
          [
           "2022-04-29T00:00:00",
           "2022-04-29T00:00:00"
          ],
          [
           "2022-05-02T00:00:00",
           "2022-05-02T00:00:00"
          ],
          [
           "2022-05-03T00:00:00",
           "2022-05-03T00:00:00"
          ],
          [
           "2022-05-04T00:00:00",
           "2022-05-04T00:00:00"
          ],
          [
           "2022-05-05T00:00:00",
           "2022-05-05T00:00:00"
          ],
          [
           "2022-05-06T00:00:00",
           "2022-05-06T00:00:00"
          ],
          [
           "2022-05-09T00:00:00",
           "2022-05-09T00:00:00"
          ],
          [
           "2022-05-10T00:00:00",
           "2022-05-10T00:00:00"
          ],
          [
           "2022-05-11T00:00:00",
           "2022-05-11T00:00:00"
          ],
          [
           "2022-05-12T00:00:00",
           "2022-05-12T00:00:00"
          ],
          [
           "2022-05-13T00:00:00",
           "2022-05-13T00:00:00"
          ],
          [
           "2022-05-16T00:00:00",
           "2022-05-16T00:00:00"
          ],
          [
           "2022-05-17T00:00:00",
           "2022-05-17T00:00:00"
          ],
          [
           "2022-05-18T00:00:00",
           "2022-05-18T00:00:00"
          ],
          [
           "2022-05-19T00:00:00",
           "2022-05-19T00:00:00"
          ],
          [
           "2022-05-20T00:00:00",
           "2022-05-20T00:00:00"
          ],
          [
           "2022-05-23T00:00:00",
           "2022-05-23T00:00:00"
          ],
          [
           "2022-05-24T00:00:00",
           "2022-05-24T00:00:00"
          ],
          [
           "2022-05-25T00:00:00",
           "2022-05-25T00:00:00"
          ],
          [
           "2022-05-26T00:00:00",
           "2022-05-26T00:00:00"
          ],
          [
           "2022-05-27T00:00:00",
           "2022-05-27T00:00:00"
          ],
          [
           "2022-05-30T00:00:00",
           "2022-05-30T00:00:00"
          ],
          [
           "2022-05-31T00:00:00",
           "2022-05-31T00:00:00"
          ],
          [
           "2022-06-01T00:00:00",
           "2022-06-01T00:00:00"
          ],
          [
           "2022-06-02T00:00:00",
           "2022-06-02T00:00:00"
          ],
          [
           "2022-06-03T00:00:00",
           "2022-06-03T00:00:00"
          ],
          [
           "2022-06-06T00:00:00",
           "2022-06-06T00:00:00"
          ],
          [
           "2022-06-07T00:00:00",
           "2022-06-07T00:00:00"
          ],
          [
           "2022-06-08T00:00:00",
           "2022-06-08T00:00:00"
          ],
          [
           "2022-06-09T00:00:00",
           "2022-06-09T00:00:00"
          ],
          [
           "2022-06-10T00:00:00",
           "2022-06-10T00:00:00"
          ],
          [
           "2022-06-13T00:00:00",
           "2022-06-13T00:00:00"
          ],
          [
           "2022-06-14T00:00:00",
           "2022-06-14T00:00:00"
          ],
          [
           "2022-06-15T00:00:00",
           "2022-06-15T00:00:00"
          ],
          [
           "2022-06-16T00:00:00",
           "2022-06-16T00:00:00"
          ],
          [
           "2022-06-17T00:00:00",
           "2022-06-17T00:00:00"
          ],
          [
           "2022-06-20T00:00:00",
           "2022-06-20T00:00:00"
          ],
          [
           "2022-06-21T00:00:00",
           "2022-06-21T00:00:00"
          ],
          [
           "2022-06-22T00:00:00",
           "2022-06-22T00:00:00"
          ],
          [
           "2022-06-23T00:00:00",
           "2022-06-23T00:00:00"
          ],
          [
           "2022-06-24T00:00:00",
           "2022-06-24T00:00:00"
          ],
          [
           "2022-06-27T00:00:00",
           "2022-06-27T00:00:00"
          ],
          [
           "2022-06-28T00:00:00",
           "2022-06-28T00:00:00"
          ],
          [
           "2022-06-29T00:00:00",
           "2022-06-29T00:00:00"
          ],
          [
           "2022-06-30T00:00:00",
           "2022-06-30T00:00:00"
          ],
          [
           "2022-07-01T00:00:00",
           "2022-07-01T00:00:00"
          ],
          [
           "2022-07-04T00:00:00",
           "2022-07-04T00:00:00"
          ],
          [
           "2022-07-05T00:00:00",
           "2022-07-05T00:00:00"
          ],
          [
           "2022-07-06T00:00:00",
           "2022-07-06T00:00:00"
          ],
          [
           "2022-07-07T00:00:00",
           "2022-07-07T00:00:00"
          ],
          [
           "2022-07-08T00:00:00",
           "2022-07-08T00:00:00"
          ],
          [
           "2022-07-11T00:00:00",
           "2022-07-11T00:00:00"
          ],
          [
           "2022-07-12T00:00:00",
           "2022-07-12T00:00:00"
          ],
          [
           "2022-07-13T00:00:00",
           "2022-07-13T00:00:00"
          ],
          [
           "2022-07-14T00:00:00",
           "2022-07-14T00:00:00"
          ],
          [
           "2022-07-15T00:00:00",
           "2022-07-15T00:00:00"
          ],
          [
           "2022-07-18T00:00:00",
           "2022-07-18T00:00:00"
          ],
          [
           "2022-07-19T00:00:00",
           "2022-07-19T00:00:00"
          ],
          [
           "2022-07-20T00:00:00",
           "2022-07-20T00:00:00"
          ],
          [
           "2022-07-21T00:00:00",
           "2022-07-21T00:00:00"
          ],
          [
           "2022-07-22T00:00:00",
           "2022-07-22T00:00:00"
          ],
          [
           "2022-07-25T00:00:00",
           "2022-07-25T00:00:00"
          ],
          [
           "2022-07-26T00:00:00",
           "2022-07-26T00:00:00"
          ],
          [
           "2022-07-27T00:00:00",
           "2022-07-27T00:00:00"
          ],
          [
           "2022-07-28T00:00:00",
           "2022-07-28T00:00:00"
          ],
          [
           "2022-07-29T00:00:00",
           "2022-07-29T00:00:00"
          ],
          [
           "2022-08-01T00:00:00",
           "2022-08-01T00:00:00"
          ],
          [
           "2022-08-02T00:00:00",
           "2022-08-02T00:00:00"
          ],
          [
           "2022-08-03T00:00:00",
           "2022-08-03T00:00:00"
          ],
          [
           "2022-08-04T00:00:00",
           "2022-08-04T00:00:00"
          ],
          [
           "2022-08-05T00:00:00",
           "2022-08-05T00:00:00"
          ],
          [
           "2022-08-08T00:00:00",
           "2022-08-08T00:00:00"
          ],
          [
           "2022-08-09T00:00:00",
           "2022-08-09T00:00:00"
          ],
          [
           "2022-08-10T00:00:00",
           "2022-08-10T00:00:00"
          ],
          [
           "2022-08-11T00:00:00",
           "2022-08-11T00:00:00"
          ],
          [
           "2022-08-12T00:00:00",
           "2022-08-12T00:00:00"
          ],
          [
           "2022-08-15T00:00:00",
           "2022-08-15T00:00:00"
          ],
          [
           "2022-08-16T00:00:00",
           "2022-08-16T00:00:00"
          ],
          [
           "2022-08-17T00:00:00",
           "2022-08-17T00:00:00"
          ],
          [
           "2022-08-18T00:00:00",
           "2022-08-18T00:00:00"
          ],
          [
           "2022-08-19T00:00:00",
           "2022-08-19T00:00:00"
          ],
          [
           "2022-08-22T00:00:00",
           "2022-08-22T00:00:00"
          ],
          [
           "2022-08-23T00:00:00",
           "2022-08-23T00:00:00"
          ],
          [
           "2022-08-24T00:00:00",
           "2022-08-24T00:00:00"
          ],
          [
           "2022-08-25T00:00:00",
           "2022-08-25T00:00:00"
          ],
          [
           "2022-08-26T00:00:00",
           "2022-08-26T00:00:00"
          ],
          [
           "2022-08-29T00:00:00",
           "2022-08-29T00:00:00"
          ],
          [
           "2022-08-30T00:00:00",
           "2022-08-30T00:00:00"
          ],
          [
           "2022-08-31T00:00:00",
           "2022-08-31T00:00:00"
          ],
          [
           "2022-09-01T00:00:00",
           "2022-09-01T00:00:00"
          ],
          [
           "2022-09-02T00:00:00",
           "2022-09-02T00:00:00"
          ],
          [
           "2022-09-05T00:00:00",
           "2022-09-05T00:00:00"
          ],
          [
           "2022-09-06T00:00:00",
           "2022-09-06T00:00:00"
          ],
          [
           "2022-09-07T00:00:00",
           "2022-09-07T00:00:00"
          ],
          [
           "2022-09-08T00:00:00",
           "2022-09-08T00:00:00"
          ],
          [
           "2022-09-09T00:00:00",
           "2022-09-09T00:00:00"
          ],
          [
           "2022-09-12T00:00:00",
           "2022-09-12T00:00:00"
          ],
          [
           "2022-09-13T00:00:00",
           "2022-09-13T00:00:00"
          ],
          [
           "2022-09-14T00:00:00",
           "2022-09-14T00:00:00"
          ],
          [
           "2022-09-15T00:00:00",
           "2022-09-15T00:00:00"
          ],
          [
           "2022-09-16T00:00:00",
           "2022-09-16T00:00:00"
          ],
          [
           "2022-09-19T00:00:00",
           "2022-09-19T00:00:00"
          ],
          [
           "2022-09-20T00:00:00",
           "2022-09-20T00:00:00"
          ],
          [
           "2022-09-21T00:00:00",
           "2022-09-21T00:00:00"
          ],
          [
           "2022-09-22T00:00:00",
           "2022-09-22T00:00:00"
          ],
          [
           "2022-09-23T00:00:00",
           "2022-09-23T00:00:00"
          ],
          [
           "2022-09-26T00:00:00",
           "2022-09-26T00:00:00"
          ],
          [
           "2022-09-27T00:00:00",
           "2022-09-27T00:00:00"
          ],
          [
           "2022-09-28T00:00:00",
           "2022-09-28T00:00:00"
          ],
          [
           "2022-09-29T00:00:00",
           "2022-09-29T00:00:00"
          ],
          [
           "2022-09-30T00:00:00",
           "2022-09-30T00:00:00"
          ],
          [
           "2022-10-03T00:00:00",
           "2022-10-03T00:00:00"
          ],
          [
           "2022-10-04T00:00:00",
           "2022-10-04T00:00:00"
          ],
          [
           "2022-10-05T00:00:00",
           "2022-10-05T00:00:00"
          ],
          [
           "2022-10-06T00:00:00",
           "2022-10-06T00:00:00"
          ],
          [
           "2022-10-07T00:00:00",
           "2022-10-07T00:00:00"
          ],
          [
           "2022-10-10T00:00:00",
           "2022-10-10T00:00:00"
          ],
          [
           "2022-10-11T00:00:00",
           "2022-10-11T00:00:00"
          ],
          [
           "2022-10-12T00:00:00",
           "2022-10-12T00:00:00"
          ],
          [
           "2022-10-13T00:00:00",
           "2022-10-13T00:00:00"
          ],
          [
           "2022-10-14T00:00:00",
           "2022-10-14T00:00:00"
          ],
          [
           "2022-10-17T00:00:00",
           "2022-10-17T00:00:00"
          ],
          [
           "2022-10-18T00:00:00",
           "2022-10-18T00:00:00"
          ],
          [
           "2022-10-19T00:00:00",
           "2022-10-19T00:00:00"
          ],
          [
           "2022-10-20T00:00:00",
           "2022-10-20T00:00:00"
          ],
          [
           "2022-10-21T00:00:00",
           "2022-10-21T00:00:00"
          ],
          [
           "2022-10-24T00:00:00",
           "2022-10-24T00:00:00"
          ],
          [
           "2022-10-25T00:00:00",
           "2022-10-25T00:00:00"
          ],
          [
           "2022-10-26T00:00:00",
           "2022-10-26T00:00:00"
          ],
          [
           "2022-10-27T00:00:00",
           "2022-10-27T00:00:00"
          ],
          [
           "2022-10-28T00:00:00",
           "2022-10-28T00:00:00"
          ],
          [
           "2022-10-31T00:00:00",
           "2022-10-31T00:00:00"
          ],
          [
           "2022-11-01T00:00:00",
           "2022-11-01T00:00:00"
          ],
          [
           "2022-11-02T00:00:00",
           "2022-11-02T00:00:00"
          ],
          [
           "2022-11-03T00:00:00",
           "2022-11-03T00:00:00"
          ],
          [
           "2022-11-04T00:00:00",
           "2022-11-04T00:00:00"
          ],
          [
           "2022-11-07T00:00:00",
           "2022-11-07T00:00:00"
          ],
          [
           "2022-11-08T00:00:00",
           "2022-11-08T00:00:00"
          ],
          [
           "2022-11-09T00:00:00",
           "2022-11-09T00:00:00"
          ],
          [
           "2022-11-10T00:00:00",
           "2022-11-10T00:00:00"
          ],
          [
           "2022-11-11T00:00:00",
           "2022-11-11T00:00:00"
          ],
          [
           "2022-11-14T00:00:00",
           "2022-11-14T00:00:00"
          ],
          [
           "2022-11-15T00:00:00",
           "2022-11-15T00:00:00"
          ],
          [
           "2022-11-16T00:00:00",
           "2022-11-16T00:00:00"
          ],
          [
           "2022-11-17T00:00:00",
           "2022-11-17T00:00:00"
          ],
          [
           "2022-11-18T00:00:00",
           "2022-11-18T00:00:00"
          ],
          [
           "2022-11-21T00:00:00",
           "2022-11-21T00:00:00"
          ],
          [
           "2022-11-22T00:00:00",
           "2022-11-22T00:00:00"
          ],
          [
           "2022-11-23T00:00:00",
           "2022-11-23T00:00:00"
          ],
          [
           "2022-11-24T00:00:00",
           "2022-11-24T00:00:00"
          ],
          [
           "2022-11-25T00:00:00",
           "2022-11-25T00:00:00"
          ],
          [
           "2022-11-28T00:00:00",
           "2022-11-28T00:00:00"
          ],
          [
           "2022-11-29T00:00:00",
           "2022-11-29T00:00:00"
          ],
          [
           "2022-11-30T00:00:00",
           "2022-11-30T00:00:00"
          ],
          [
           "2022-12-01T00:00:00",
           "2022-12-01T00:00:00"
          ],
          [
           "2022-12-02T00:00:00",
           "2022-12-02T00:00:00"
          ],
          [
           "2022-12-05T00:00:00",
           "2022-12-05T00:00:00"
          ],
          [
           "2022-12-06T00:00:00",
           "2022-12-06T00:00:00"
          ],
          [
           "2022-12-07T00:00:00",
           "2022-12-07T00:00:00"
          ],
          [
           "2022-12-08T00:00:00",
           "2022-12-08T00:00:00"
          ],
          [
           "2022-12-09T00:00:00",
           "2022-12-09T00:00:00"
          ],
          [
           "2022-12-12T00:00:00",
           "2022-12-12T00:00:00"
          ],
          [
           "2022-12-13T00:00:00",
           "2022-12-13T00:00:00"
          ],
          [
           "2022-12-14T00:00:00",
           "2022-12-14T00:00:00"
          ],
          [
           "2022-12-15T00:00:00",
           "2022-12-15T00:00:00"
          ],
          [
           "2022-12-16T00:00:00",
           "2022-12-16T00:00:00"
          ],
          [
           "2022-12-19T00:00:00",
           "2022-12-19T00:00:00"
          ],
          [
           "2022-12-20T00:00:00",
           "2022-12-20T00:00:00"
          ],
          [
           "2022-12-21T00:00:00",
           "2022-12-21T00:00:00"
          ],
          [
           "2022-12-22T00:00:00",
           "2022-12-22T00:00:00"
          ],
          [
           "2022-12-23T00:00:00",
           "2022-12-23T00:00:00"
          ],
          [
           "2022-12-27T00:00:00",
           "2022-12-27T00:00:00"
          ],
          [
           "2022-12-28T00:00:00",
           "2022-12-28T00:00:00"
          ],
          [
           "2022-12-29T00:00:00",
           "2022-12-29T00:00:00"
          ],
          [
           "2022-12-30T00:00:00",
           "2022-12-30T00:00:00"
          ],
          [
           "2023-01-02T00:00:00",
           "2023-01-02T00:00:00"
          ],
          [
           "2023-01-03T00:00:00",
           "2023-01-03T00:00:00"
          ]
         ],
         "xaxis": "x",
         "y": [
          0.8986533284187317,
          0.9073814153671265,
          0.946697473526001,
          0.9584334492683411,
          0.9409645795822144,
          0.9614636898040771,
          0.9776581525802612,
          0.9858629107475281,
          0.9787358641624451,
          0.9800666570663452,
          0.9810686707496643,
          0.9792441725730896,
          0.9735723733901978,
          0.9693204760551453,
          0.9875463843345642,
          0.9779080748558044,
          0.9804521203041077,
          0.9787063002586365,
          0.9765753149986267,
          0.9918698072433472,
          0.9893430471420288,
          0.9839032888412476,
          0.9558130502700806,
          0.9004284143447876,
          0.894075334072113,
          0.9297476410865784,
          0.9071090817451477,
          0.8920584321022034,
          0.9041191935539246,
          0.9868416786193848,
          0.9859780073165894,
          0.9890677332878113,
          0.9902918934822083,
          0.9831607937812805,
          0.9755223989486694,
          0.9631117582321167,
          0.987062394618988,
          0.9935571551322937,
          0.9882130026817322,
          0.9841437339782715,
          0.9854696989059448,
          0.9868729710578918,
          0.9857457876205444,
          0.9888479709625244,
          0.991753339767456,
          0.9854705333709717,
          0.9964895844459534,
          0.9931513071060181,
          0.990715742111206,
          0.9873458743095398,
          0.9883804321289062,
          0.9919297695159912,
          0.9881282448768616,
          0.9697006940841675,
          0.9784702062606812,
          0.9421526789665222,
          0.9856369495391846,
          0.9647136926651001,
          0.9570773839950562,
          0.9750440120697021,
          0.9927735924720764,
          0.9947920441627502,
          0.9852156639099121,
          0.7878545522689819,
          0.8731537461280823,
          0.968923032283783,
          0.9770030975341797,
          0.9573079347610474,
          0.9812095761299133,
          0.9894343018531799,
          0.9938520193099976,
          0.9960294961929321,
          0.9942499399185181,
          0.9891510009765625,
          0.9931150078773499,
          0.9908174276351929,
          0.993811309337616,
          0.9963914752006531,
          0.9974629878997803,
          0.9969209432601929,
          0.9981820583343506,
          0.987572431564331,
          0.9901094436645508,
          0.9738354682922363,
          0.9853799939155579,
          0.9778984785079956,
          0.9343178272247314,
          0.9799374938011169,
          0.9869577884674072,
          0.875320315361023,
          0.8866211175918579,
          0.832216203212738,
          0.9336321353912354,
          0.9158433675765991,
          0.9621865749359131,
          0.9920821189880371,
          0.9928764700889587,
          0.9935092329978943,
          0.9830482006072998,
          0.9876111149787903,
          0.9878553748130798,
          0.9898064732551575,
          0.981950044631958,
          0.981950044631958,
          0.9908447861671448,
          0.9940595626831055,
          0.9923478364944458,
          0.9850584268569946,
          0.9730110168457031,
          0.9925703406333923,
          0.9938030242919922,
          0.9858340620994568,
          0.9823575019836426,
          0.9865823984146118,
          0.9883699417114258,
          0.9826943278312683,
          0.9822421073913574,
          0.9774291515350342,
          0.9847221970558167,
          0.980248749256134,
          0.956378698348999,
          0.932316780090332,
          0.9751803874969482,
          0.9802631735801697,
          0.9723343253135681,
          0.9723343253135681,
          0.9908368587493896,
          0.9857351183891296,
          0.9884729981422424,
          0.9925240874290466,
          0.9934258460998535,
          0.9926714897155762,
          0.6707216501235962,
          0.8344340324401855,
          0.5765246152877808,
          0.6287230253219604,
          0.49878618121147156,
          0.41355836391448975,
          0.484147846698761,
          0.7820670008659363,
          0.8055174350738525,
          0.7047020792961121,
          0.7300863862037659,
          0.7595746517181396,
          0.7308671474456787,
          0.721185028553009,
          0.5147755742073059,
          0.4454505145549774,
          0.460559219121933,
          0.6133521199226379,
          0.5805392265319824,
          0.3419005572795868,
          0.2948208749294281,
          0.412402480840683,
          0.3237287998199463,
          0.5949752926826477,
          0.1694745272397995,
          0.6376402974128723,
          0.5630563497543335,
          0.4010290205478668,
          0.37263670563697815,
          0.2984966039657593,
          0.3013817071914673,
          0.3938917815685272,
          0.3758210837841034,
          0.23642964661121368,
          0.23277583718299866,
          0.2602449953556061,
          0.15126435458660126,
          0.2185082733631134,
          0.09855537116527557,
          0.0762135460972786,
          0.12504537403583527,
          0.3706752061843872,
          0.26004156470298767,
          0.3631453514099121,
          0.3932545781135559,
          0.8406128287315369,
          0.5778675079345703,
          0.5232579112052917,
          0.4630786180496216,
          0.08732964843511581,
          0.6728634238243103,
          0.6576805710792542,
          0.46921244263648987,
          0.6164546608924866,
          0.26658615469932556,
          0.3953631818294525,
          0.5360438227653503,
          0.3253767788410187,
          0.48171621561050415,
          0.3740764856338501,
          0.2947884202003479,
          0.2540677487850189,
          0.1252201348543167,
          0.1252201348543167,
          0.4003353714942932,
          0.34073886275291443,
          0.5316689610481262,
          0.44809475541114807,
          0.42824769020080566,
          0.599381148815155,
          0.2571873366832733,
          0.5948533415794373,
          0.5379648208618164,
          0.33556661009788513,
          0.3082578778266907,
          0.4747786819934845,
          0.18945209681987762,
          0.087433360517025,
          0.11787969619035721,
          0.0661453977227211,
          0.10632822662591934,
          0.1493872106075287,
          0.09204208105802536,
          0.18325002491474152,
          0.12729161977767944,
          0.0911061018705368,
          0.22972190380096436,
          0.13010987639427185,
          0.18399271368980408,
          0.022668318822979927,
          0.3016216456890106,
          0.09992474317550659,
          0.4485563337802887,
          0.27009648084640503,
          0.06379032135009766,
          0.06483818590641022,
          0.21040646731853485,
          0.6394557356834412,
          0.3976505994796753,
          0.1403144896030426,
          0.06436052918434143,
          0.47364503145217896,
          0.6876313090324402,
          0.784467339515686,
          0.3383873701095581,
          0.6236670017242432,
          0.48161908984184265,
          0.605042040348053,
          0.34447136521339417,
          0.2883601486682892,
          0.4701060354709625,
          0.4822748601436615,
          0.3542962372303009,
          0.2475476861000061,
          0.27148380875587463,
          0.2901054620742798,
          0.33117231726646423,
          0.601753294467926,
          0.46320512890815735,
          0.42704230546951294,
          0.5586991906166077,
          0.44157662987709045,
          0.19163303077220917,
          0.37990790605545044,
          0.4468655288219452,
          0.2886279225349426,
          0.1339123249053955,
          0.36458396911621094,
          0.21362707018852234,
          0.5043298006057739,
          0.2605438232421875,
          0.39912712574005127,
          0.22030071914196014,
          0.2988896071910858,
          0.36723557114601135,
          0.11648952215909958,
          0.09498216211795807,
          0.15462616086006165,
          0.12835641205310822,
          0.0677952915430069,
          0.10858021676540375,
          0.11512957513332367,
          0.08990296721458435,
          0.053656235337257385,
          0.28968143463134766,
          0.41040506958961487,
          0.27380889654159546,
          0.24407051503658295,
          0.23612059652805328,
          0.2429877072572708,
          0.26725199818611145,
          0.35527968406677246,
          0.23711636662483215,
          0.36397045850753784,
          0.20991049706935883,
          0.295293390750885,
          0.47561541199684143,
          0.28079953789711,
          0.26865026354789734,
          0.3213927447795868,
          0.24499136209487915,
          0.30228257179260254,
          0.3221057951450348,
          0.2245742380619049,
          0.19424453377723694,
          0.21390417218208313,
          0.09332506358623505,
          0.27462494373321533,
          0.3807555139064789,
          0.3640111982822418,
          0.360421746969223,
          0.26608896255493164,
          0.3829582929611206,
          0.1332443207502365,
          0.3867270350456238,
          0.29436343908309937,
          0.2180156707763672,
          0.307715505361557,
          0.37416738271713257,
          0.12594008445739746,
          0.16285300254821777,
          0.1557539999485016,
          0.08660729974508286,
          0.11510073393583298,
          0.11510073393583298,
          0.08682666718959808,
          0.17900997400283813,
          0.030738838016986847,
          0.02514333464205265,
          0.0921643003821373,
          0.2910171449184418,
          0.3819209039211273,
          0.22931557893753052,
          0.21286262571811676,
          0.045650601387023926,
          0.32892149686813354,
          0.10385146737098694,
          0.08054233342409134,
          0.03942188620567322,
          0.16621646285057068,
          0.06952100247144699,
          0.4537460207939148,
          0.3488771319389343,
          0.4313284754753113,
          0.2881619334220886,
          0.1837492287158966,
          0.5938000082969666,
          0.5899121761322021,
          0.7443643808364868,
          0.48535579442977905,
          0.5797785520553589,
          0.3569478988647461,
          0.3225415050983429,
          0.6326670050621033,
          0.6834951043128967,
          0.45711544156074524,
          0.15724599361419678,
          0.4378810524940491,
          0.34173670411109924,
          0.5748701691627502,
          0.5328724980354309,
          0.44951730966567993,
          0.20065532624721527,
          0.42262494564056396,
          0.10391073673963547,
          0.3916684091091156,
          0.35158514976501465,
          0.1775447577238083,
          0.05843508616089821,
          0.027318479493260384,
          0.021423356607556343,
          0.11748874187469482,
          0.054316043853759766,
          0.03416241705417633,
          0.07349707186222076,
          0.058128658682107925,
          0.041912224143743515,
          0.04284072667360306,
          0.2717451751232147,
          0.03728814050555229,
          0.24059267342090607,
          0.05841918662190437,
          0.03544977679848671,
          0.15035542845726013,
          0.5111804604530334,
          0.556236207485199,
          0.5962238907814026,
          0.3281155824661255,
          0.2940791845321655,
          0.14592178165912628,
          0.27909862995147705,
          0.36179885268211365,
          0.16722488403320312,
          0.036565687507390976,
          0.22612354159355164,
          0.32720425724983215,
          0.5084834694862366,
          0.5052005648612976,
          0.5239636898040771,
          0.47874128818511963,
          0.3651248812675476,
          0.4125159680843353,
          0.2273177057504654,
          0.4052102267742157,
          0.36925116181373596,
          0.23314154148101807,
          0.07276968657970428,
          0.13466916978359222,
          0.04485628008842468,
          0.16668125987052917,
          0.3441482484340668,
          0.4191443622112274,
          0.046392012387514114,
          0.04879756271839142,
          0.03131899610161781,
          0.05073222890496254,
          0.1338871717453003,
          0.08740514516830444,
          0.022100409492850304,
          0.04649963229894638,
          0.17702607810497284,
          0.11443383246660233,
          0.1498578041791916,
          0.5882715582847595,
          0.6019575595855713,
          0.35874083638191223,
          0.14890530705451965,
          0.18251845240592957,
          0.16017769277095795,
          0.14195889234542847,
          0.24694345891475677,
          0.2090170830488205,
          0.10589371621608734,
          0.06819048523902893,
          0.12613548338413239,
          0.12613548338413239,
          0.04884367436170578,
          0.02580566704273224,
          0.01919347234070301,
          0.06085173785686493,
          0.04500357061624527,
          0.07646701484918594,
          0.37731850147247314,
          0.49470552802085876,
          0.2599342167377472,
          0.38635897636413574,
          0.2519364058971405,
          0.2103811800479889,
          0.22628451883792877,
          0.08917596936225891,
          0.279082715511322,
          0.1045161634683609,
          0.17154555022716522,
          0.039176955819129944,
          0.1170545145869255,
          0.4838102459907532,
          0.5102535486221313,
          0.726023256778717,
          0.7497534155845642,
          0.689907431602478,
          0.5921235084533691,
          0.6087002754211426,
          0.5241571068763733,
          0.6807459592819214,
          0.6650702357292175,
          0.5843057632446289,
          0.48797622323036194,
          0.2078392207622528,
          0.0924728661775589,
          0.15588495135307312,
          0.18914300203323364,
          0.06905434280633926,
          0.16662240028381348,
          0.13717041909694672,
          0.2310813069343567,
          0.22731684148311615,
          0.27199500799179077,
          0.1980677843093872,
          0.2377568930387497,
          0.2999573349952698,
          0.06782788038253784,
          0.07167351990938187,
          0.05764762684702873,
          0.14864185452461243,
          0.24494808912277222,
          0.3022034168243408,
          0.02629087306559086,
          0.07322147488594055,
          0.053091395646333694,
          0.09903111308813095,
          0.04753326624631882,
          0.030694106593728065,
          0.019618505612015724,
          0.04118085652589798,
          0.03614289313554764,
          0.10209738463163376,
          0.08147167414426804,
          0.12099660933017731,
          0.049334313720464706,
          0.02506376802921295,
          0.024758988991379738,
          0.07580573111772537,
          0.016776764765381813,
          0.07420936971902847,
          0.1606411635875702,
          0.386871874332428,
          0.3820136785507202,
          0.19835786521434784,
          0.23814234137535095,
          0.3218097984790802,
          0.3601972162723541,
          0.3516053855419159,
          0.3875648081302643,
          0.4178644120693207,
          0.18754979968070984,
          0.02066301740705967,
          0.018779253587126732,
          0.013982159085571766,
          0.029331693425774574,
          0.023674311116337776,
          0.025622978806495667,
          0.02956486865878105,
          0.04055146127939224,
          0.03693811222910881,
          0.028066566213965416,
          0.4756022095680237,
          0.2920703589916229,
          0.21236947178840637,
          0.24982845783233643,
          0.14309583604335785,
          0.12177836149930954,
          0.13569258153438568,
          0.1533726006746292,
          0.49962952733039856,
          0.6427121758460999,
          0.8342220187187195,
          0.6229097247123718,
          0.6539552211761475,
          0.33297857642173767,
          0.17406798899173737,
          0.3656644821166992,
          0.4796559512615204,
          0.5067636370658875,
          0.7350042462348938,
          0.6059935688972473,
          0.28623735904693604,
          0.22859136760234833,
          0.1754074990749359,
          0.10058239847421646,
          0.17289075255393982,
          0.06786569207906723,
          0.07715208828449249,
          0.0658809170126915,
          0.08810222148895264,
          0.21706978976726532,
          0.2735650837421417,
          0.18308104574680328,
          0.0949428454041481,
          0.151353120803833,
          0.19405241310596466,
          0.28470057249069214,
          0.13355284929275513,
          0.18315280973911285,
          0.26705479621887207,
          0.35251158475875854,
          0.24518504738807678,
          0.1772659718990326,
          0.2014048844575882,
          0.2103748470544815,
          0.2178228199481964,
          0.14271855354309082,
          0.07859697192907333,
          0.05315684154629707,
          0.043784815818071365,
          0.02736329473555088,
          0.10156510025262833,
          0.07754901796579361,
          0.05677613615989685,
          0.05175940692424774,
          0.07864712923765182,
          0.5493443608283997,
          0.47771987318992615,
          0.18830041587352753,
          0.10215094685554504,
          0.04642103612422943,
          0.02667219378054142,
          0.04138174653053284,
          0.03962387517094612,
          0.057940077036619186,
          0.03898963704705238,
          0.03136406093835831,
          0.023896431550383568,
          0.021163152530789375,
          0.04489336535334587,
          0.032316070050001144,
          0.04189729318022728,
          0.04259010776877403,
          0.2017667591571808,
          0.36216264963150024,
          0.5302034020423889,
          0.18519912660121918,
          0.18075625598430634,
          0.047021690756082535,
          0.017598947510123253,
          0.08824995905160904,
          0.08737563341856003,
          0.14091113209724426,
          0.10293380171060562,
          0.2699565291404724,
          0.19249479472637177,
          0.26691749691963196,
          0.3133430480957031,
          0.7442505955696106,
          0.7332608103752136,
          0.6619957089424133,
          0.6873562932014465,
          0.3279852569103241,
          0.3235757052898407,
          0.12423109263181686,
          0.0835035964846611,
          0.11073309928178787,
          0.1729743927717209,
          0.18941155076026917,
          0.08180848509073257,
          0.16158604621887207,
          0.18841367959976196,
          0.1539316624403,
          0.3802444636821747,
          0.11267247051000595,
          0.10508096218109131,
          0.15781041979789734,
          0.1588708907365799,
          0.14753767848014832,
          0.04892220348119736,
          0.06488139182329178,
          0.07678886502981186,
          0.10636717081069946,
          0.1366848647594452,
          0.12365113943815231,
          0.2775077223777771,
          0.10521604120731354,
          0.11532516032457352,
          0.03214406222105026,
          0.03401555120944977,
          0.06986550986766815,
          0.08338122069835663,
          0.06953632831573486,
          0.12381115555763245,
          0.12860992550849915,
          0.028807692229747772,
          0.03718879818916321,
          0.03028239868581295,
          0.02325219288468361,
          0.04351677745580673,
          0.01981094852089882,
          0.02201119065284729,
          0.01843937672674656,
          0.02237936109304428,
          0.04968193173408508,
          0.03233423829078674,
          0.37093064188957214,
          0.11147440969944
         ],
         "yaxis": "y2"
        }
       ],
       "layout": {
        "height": 500,
        "margin": {
         "b": 40,
         "l": 50,
         "r": 80,
         "t": 50
        },
        "template": {
         "data": {
          "bar": [
           {
            "error_x": {
             "color": "#2a3f5f"
            },
            "error_y": {
             "color": "#2a3f5f"
            },
            "marker": {
             "line": {
              "color": "white",
              "width": 0.5
             },
             "pattern": {
              "fillmode": "overlay",
              "size": 10,
              "solidity": 0.2
             }
            },
            "type": "bar"
           }
          ],
          "barpolar": [
           {
            "marker": {
             "line": {
              "color": "white",
              "width": 0.5
             },
             "pattern": {
              "fillmode": "overlay",
              "size": 10,
              "solidity": 0.2
             }
            },
            "type": "barpolar"
           }
          ],
          "carpet": [
           {
            "aaxis": {
             "endlinecolor": "#2a3f5f",
             "gridcolor": "#C8D4E3",
             "linecolor": "#C8D4E3",
             "minorgridcolor": "#C8D4E3",
             "startlinecolor": "#2a3f5f"
            },
            "baxis": {
             "endlinecolor": "#2a3f5f",
             "gridcolor": "#C8D4E3",
             "linecolor": "#C8D4E3",
             "minorgridcolor": "#C8D4E3",
             "startlinecolor": "#2a3f5f"
            },
            "type": "carpet"
           }
          ],
          "choropleth": [
           {
            "colorbar": {
             "outlinewidth": 0,
             "ticks": ""
            },
            "type": "choropleth"
           }
          ],
          "contour": [
           {
            "colorbar": {
             "outlinewidth": 0,
             "ticks": ""
            },
            "colorscale": [
             [
              0,
              "#0d0887"
             ],
             [
              0.1111111111111111,
              "#46039f"
             ],
             [
              0.2222222222222222,
              "#7201a8"
             ],
             [
              0.3333333333333333,
              "#9c179e"
             ],
             [
              0.4444444444444444,
              "#bd3786"
             ],
             [
              0.5555555555555556,
              "#d8576b"
             ],
             [
              0.6666666666666666,
              "#ed7953"
             ],
             [
              0.7777777777777778,
              "#fb9f3a"
             ],
             [
              0.8888888888888888,
              "#fdca26"
             ],
             [
              1,
              "#f0f921"
             ]
            ],
            "type": "contour"
           }
          ],
          "contourcarpet": [
           {
            "colorbar": {
             "outlinewidth": 0,
             "ticks": ""
            },
            "type": "contourcarpet"
           }
          ],
          "heatmap": [
           {
            "colorbar": {
             "outlinewidth": 0,
             "ticks": ""
            },
            "colorscale": [
             [
              0,
              "#0d0887"
             ],
             [
              0.1111111111111111,
              "#46039f"
             ],
             [
              0.2222222222222222,
              "#7201a8"
             ],
             [
              0.3333333333333333,
              "#9c179e"
             ],
             [
              0.4444444444444444,
              "#bd3786"
             ],
             [
              0.5555555555555556,
              "#d8576b"
             ],
             [
              0.6666666666666666,
              "#ed7953"
             ],
             [
              0.7777777777777778,
              "#fb9f3a"
             ],
             [
              0.8888888888888888,
              "#fdca26"
             ],
             [
              1,
              "#f0f921"
             ]
            ],
            "type": "heatmap"
           }
          ],
          "heatmapgl": [
           {
            "colorbar": {
             "outlinewidth": 0,
             "ticks": ""
            },
            "colorscale": [
             [
              0,
              "#0d0887"
             ],
             [
              0.1111111111111111,
              "#46039f"
             ],
             [
              0.2222222222222222,
              "#7201a8"
             ],
             [
              0.3333333333333333,
              "#9c179e"
             ],
             [
              0.4444444444444444,
              "#bd3786"
             ],
             [
              0.5555555555555556,
              "#d8576b"
             ],
             [
              0.6666666666666666,
              "#ed7953"
             ],
             [
              0.7777777777777778,
              "#fb9f3a"
             ],
             [
              0.8888888888888888,
              "#fdca26"
             ],
             [
              1,
              "#f0f921"
             ]
            ],
            "type": "heatmapgl"
           }
          ],
          "histogram": [
           {
            "marker": {
             "pattern": {
              "fillmode": "overlay",
              "size": 10,
              "solidity": 0.2
             }
            },
            "type": "histogram"
           }
          ],
          "histogram2d": [
           {
            "colorbar": {
             "outlinewidth": 0,
             "ticks": ""
            },
            "colorscale": [
             [
              0,
              "#0d0887"
             ],
             [
              0.1111111111111111,
              "#46039f"
             ],
             [
              0.2222222222222222,
              "#7201a8"
             ],
             [
              0.3333333333333333,
              "#9c179e"
             ],
             [
              0.4444444444444444,
              "#bd3786"
             ],
             [
              0.5555555555555556,
              "#d8576b"
             ],
             [
              0.6666666666666666,
              "#ed7953"
             ],
             [
              0.7777777777777778,
              "#fb9f3a"
             ],
             [
              0.8888888888888888,
              "#fdca26"
             ],
             [
              1,
              "#f0f921"
             ]
            ],
            "type": "histogram2d"
           }
          ],
          "histogram2dcontour": [
           {
            "colorbar": {
             "outlinewidth": 0,
             "ticks": ""
            },
            "colorscale": [
             [
              0,
              "#0d0887"
             ],
             [
              0.1111111111111111,
              "#46039f"
             ],
             [
              0.2222222222222222,
              "#7201a8"
             ],
             [
              0.3333333333333333,
              "#9c179e"
             ],
             [
              0.4444444444444444,
              "#bd3786"
             ],
             [
              0.5555555555555556,
              "#d8576b"
             ],
             [
              0.6666666666666666,
              "#ed7953"
             ],
             [
              0.7777777777777778,
              "#fb9f3a"
             ],
             [
              0.8888888888888888,
              "#fdca26"
             ],
             [
              1,
              "#f0f921"
             ]
            ],
            "type": "histogram2dcontour"
           }
          ],
          "mesh3d": [
           {
            "colorbar": {
             "outlinewidth": 0,
             "ticks": ""
            },
            "type": "mesh3d"
           }
          ],
          "parcoords": [
           {
            "line": {
             "colorbar": {
              "outlinewidth": 0,
              "ticks": ""
             }
            },
            "type": "parcoords"
           }
          ],
          "pie": [
           {
            "automargin": true,
            "type": "pie"
           }
          ],
          "scatter": [
           {
            "fillpattern": {
             "fillmode": "overlay",
             "size": 10,
             "solidity": 0.2
            },
            "type": "scatter"
           }
          ],
          "scatter3d": [
           {
            "line": {
             "colorbar": {
              "outlinewidth": 0,
              "ticks": ""
             }
            },
            "marker": {
             "colorbar": {
              "outlinewidth": 0,
              "ticks": ""
             }
            },
            "type": "scatter3d"
           }
          ],
          "scattercarpet": [
           {
            "marker": {
             "colorbar": {
              "outlinewidth": 0,
              "ticks": ""
             }
            },
            "type": "scattercarpet"
           }
          ],
          "scattergeo": [
           {
            "marker": {
             "colorbar": {
              "outlinewidth": 0,
              "ticks": ""
             }
            },
            "type": "scattergeo"
           }
          ],
          "scattergl": [
           {
            "marker": {
             "colorbar": {
              "outlinewidth": 0,
              "ticks": ""
             }
            },
            "type": "scattergl"
           }
          ],
          "scattermapbox": [
           {
            "marker": {
             "colorbar": {
              "outlinewidth": 0,
              "ticks": ""
             }
            },
            "type": "scattermapbox"
           }
          ],
          "scatterpolar": [
           {
            "marker": {
             "colorbar": {
              "outlinewidth": 0,
              "ticks": ""
             }
            },
            "type": "scatterpolar"
           }
          ],
          "scatterpolargl": [
           {
            "marker": {
             "colorbar": {
              "outlinewidth": 0,
              "ticks": ""
             }
            },
            "type": "scatterpolargl"
           }
          ],
          "scatterternary": [
           {
            "marker": {
             "colorbar": {
              "outlinewidth": 0,
              "ticks": ""
             }
            },
            "type": "scatterternary"
           }
          ],
          "surface": [
           {
            "colorbar": {
             "outlinewidth": 0,
             "ticks": ""
            },
            "colorscale": [
             [
              0,
              "#0d0887"
             ],
             [
              0.1111111111111111,
              "#46039f"
             ],
             [
              0.2222222222222222,
              "#7201a8"
             ],
             [
              0.3333333333333333,
              "#9c179e"
             ],
             [
              0.4444444444444444,
              "#bd3786"
             ],
             [
              0.5555555555555556,
              "#d8576b"
             ],
             [
              0.6666666666666666,
              "#ed7953"
             ],
             [
              0.7777777777777778,
              "#fb9f3a"
             ],
             [
              0.8888888888888888,
              "#fdca26"
             ],
             [
              1,
              "#f0f921"
             ]
            ],
            "type": "surface"
           }
          ],
          "table": [
           {
            "cells": {
             "fill": {
              "color": "#EBF0F8"
             },
             "line": {
              "color": "white"
             }
            },
            "header": {
             "fill": {
              "color": "#C8D4E3"
             },
             "line": {
              "color": "white"
             }
            },
            "type": "table"
           }
          ]
         },
         "layout": {
          "annotationdefaults": {
           "arrowcolor": "#2a3f5f",
           "arrowhead": 0,
           "arrowwidth": 1
          },
          "autotypenumbers": "strict",
          "coloraxis": {
           "colorbar": {
            "outlinewidth": 0,
            "ticks": ""
           }
          },
          "colorscale": {
           "diverging": [
            [
             0,
             "#8e0152"
            ],
            [
             0.1,
             "#c51b7d"
            ],
            [
             0.2,
             "#de77ae"
            ],
            [
             0.3,
             "#f1b6da"
            ],
            [
             0.4,
             "#fde0ef"
            ],
            [
             0.5,
             "#f7f7f7"
            ],
            [
             0.6,
             "#e6f5d0"
            ],
            [
             0.7,
             "#b8e186"
            ],
            [
             0.8,
             "#7fbc41"
            ],
            [
             0.9,
             "#4d9221"
            ],
            [
             1,
             "#276419"
            ]
           ],
           "sequential": [
            [
             0,
             "#0d0887"
            ],
            [
             0.1111111111111111,
             "#46039f"
            ],
            [
             0.2222222222222222,
             "#7201a8"
            ],
            [
             0.3333333333333333,
             "#9c179e"
            ],
            [
             0.4444444444444444,
             "#bd3786"
            ],
            [
             0.5555555555555556,
             "#d8576b"
            ],
            [
             0.6666666666666666,
             "#ed7953"
            ],
            [
             0.7777777777777778,
             "#fb9f3a"
            ],
            [
             0.8888888888888888,
             "#fdca26"
            ],
            [
             1,
             "#f0f921"
            ]
           ],
           "sequentialminus": [
            [
             0,
             "#0d0887"
            ],
            [
             0.1111111111111111,
             "#46039f"
            ],
            [
             0.2222222222222222,
             "#7201a8"
            ],
            [
             0.3333333333333333,
             "#9c179e"
            ],
            [
             0.4444444444444444,
             "#bd3786"
            ],
            [
             0.5555555555555556,
             "#d8576b"
            ],
            [
             0.6666666666666666,
             "#ed7953"
            ],
            [
             0.7777777777777778,
             "#fb9f3a"
            ],
            [
             0.8888888888888888,
             "#fdca26"
            ],
            [
             1,
             "#f0f921"
            ]
           ]
          },
          "colorway": [
           "#636efa",
           "#EF553B",
           "#00cc96",
           "#ab63fa",
           "#FFA15A",
           "#19d3f3",
           "#FF6692",
           "#B6E880",
           "#FF97FF",
           "#FECB52"
          ],
          "font": {
           "color": "#2a3f5f"
          },
          "geo": {
           "bgcolor": "white",
           "lakecolor": "white",
           "landcolor": "white",
           "showlakes": true,
           "showland": true,
           "subunitcolor": "#C8D4E3"
          },
          "hoverlabel": {
           "align": "left"
          },
          "hovermode": "closest",
          "mapbox": {
           "style": "light"
          },
          "paper_bgcolor": "white",
          "plot_bgcolor": "white",
          "polar": {
           "angularaxis": {
            "gridcolor": "#EBF0F8",
            "linecolor": "#EBF0F8",
            "ticks": ""
           },
           "bgcolor": "white",
           "radialaxis": {
            "gridcolor": "#EBF0F8",
            "linecolor": "#EBF0F8",
            "ticks": ""
           }
          },
          "scene": {
           "xaxis": {
            "backgroundcolor": "white",
            "gridcolor": "#DFE8F3",
            "gridwidth": 2,
            "linecolor": "#EBF0F8",
            "showbackground": true,
            "ticks": "",
            "zerolinecolor": "#EBF0F8"
           },
           "yaxis": {
            "backgroundcolor": "white",
            "gridcolor": "#DFE8F3",
            "gridwidth": 2,
            "linecolor": "#EBF0F8",
            "showbackground": true,
            "ticks": "",
            "zerolinecolor": "#EBF0F8"
           },
           "zaxis": {
            "backgroundcolor": "white",
            "gridcolor": "#DFE8F3",
            "gridwidth": 2,
            "linecolor": "#EBF0F8",
            "showbackground": true,
            "ticks": "",
            "zerolinecolor": "#EBF0F8"
           }
          },
          "shapedefaults": {
           "line": {
            "color": "#2a3f5f"
           }
          },
          "ternary": {
           "aaxis": {
            "gridcolor": "#DFE8F3",
            "linecolor": "#A2B1C6",
            "ticks": ""
           },
           "baxis": {
            "gridcolor": "#DFE8F3",
            "linecolor": "#A2B1C6",
            "ticks": ""
           },
           "bgcolor": "white",
           "caxis": {
            "gridcolor": "#DFE8F3",
            "linecolor": "#A2B1C6",
            "ticks": ""
           }
          },
          "title": {
           "x": 0.05
          },
          "xaxis": {
           "automargin": true,
           "gridcolor": "#EBF0F8",
           "linecolor": "#EBF0F8",
           "ticks": "",
           "title": {
            "standoff": 15
           },
           "zerolinecolor": "#EBF0F8",
           "zerolinewidth": 2
          },
          "yaxis": {
           "automargin": true,
           "gridcolor": "#EBF0F8",
           "linecolor": "#EBF0F8",
           "ticks": "",
           "title": {
            "standoff": 15
           },
           "zerolinecolor": "#EBF0F8",
           "zerolinewidth": 2
          }
         }
        },
        "title": {
         "text": "test"
        },
        "width": 1100,
        "xaxis": {
         "anchor": "y",
         "domain": [
          0,
          0.94
         ]
        },
        "yaxis": {
         "anchor": "x",
         "domain": [
          0,
          1
         ]
        },
        "yaxis2": {
         "anchor": "x",
         "overlaying": "y",
         "side": "right"
        }
       }
      }
     },
     "metadata": {},
     "output_type": "display_data"
    }
   ],
   "source": [
    "\n",
    "fig = make_subplots(specs=[[{\"secondary_y\": True}]])\n",
    "fig.add_trace(go.Scatter(x=df_viz_pred[\"Date\"], y=df_viz_pred[\"Close\"],mode='lines',name=\"Close\",line=dict(width=2.0)))\n",
    "\n",
    "fig.add_trace(go.Scatter(x=df_viz_pred[\"Date\"], y=df_viz_pred[\"signal\"],mode='lines',name=\"signal\",line=dict(width=2.0)),secondary_y=\"signal\")\n",
    "fig.add_trace(go.Scatter(x=df_viz_pred[\"Date\"], y=df_viz_pred[\"y\"],mode='lines',name=\"pred\",line=dict(width=2.0)), secondary_y=\"signal\")\n",
    "\n",
    "\n",
    "fig.update_layout(height=500,width=1100,template='plotly_white',title=\"test\", margin=dict(l=50,r=80,t=50,b=40))\n",
    "fig.show()"
   ]
  },
  {
   "cell_type": "code",
   "execution_count": 266,
   "metadata": {},
   "outputs": [
    {
     "data": {
      "image/png": "[encoded data removed]",
      "text/plain": [
       "<Figure size 640x480 with 1 Axes>"
      ]
     },
     "metadata": {},
     "output_type": "display_data"
    },
    {
     "data": {
      "text/plain": [
       "<Figure size 1600x1200 with 0 Axes>"
      ]
     },
     "metadata": {},
     "output_type": "display_data"
    }
   ],
   "source": [
    "plot_importance(xgb_clf)\n",
    "plt.figure(figsize = (16, 12))\n",
    "plt.show()"
   ]
  },
  {
   "cell_type": "markdown",
   "metadata": {},
   "source": [
    "## WIP"
   ]
  },
  {
   "attachments": {},
   "cell_type": "markdown",
   "metadata": {},
   "source": [
    "### LDA"
   ]
  },
  {
   "cell_type": "code",
   "execution_count": 169,
   "metadata": {},
   "outputs": [
    {
     "name": "stdout",
     "output_type": "stream",
     "text": [
      "Scores : [0.84886128 0.86542443 0.85714286 0.87784679 0.86514523]\n",
      "Moyenne des scores : 0.8628841181069216\n"
     ]
    }
   ],
   "source": [
    "from sklearn.discriminant_analysis import LinearDiscriminantAnalysis\n",
    "from sklearn.model_selection import cross_val_score, KFold\n",
    "\n",
    "\n",
    "# Définition du modèle\n",
    "model = LinearDiscriminantAnalysis()\n",
    "\n",
    "# Définition de l'objet de validation croisée\n",
    "cv = KFold(n_splits=5, shuffle=True ,random_state=10)\n",
    "\n",
    "# Calcul des scores de validation croisée\n",
    "scores = cross_val_score(model, X_train, y_train, cv=cv)\n",
    "\n",
    "# Affichage des scores\n",
    "print(\"Scores :\", scores)\n",
    "print(\"Moyenne des scores :\", scores.mean())"
   ]
  },
  {
   "cell_type": "code",
   "execution_count": 140,
   "metadata": {},
   "outputs": [
    {
     "data": {
      "text/html": [
       "<style>#sk-container-id-6 {color: black;background-color: white;}#sk-container-id-6 pre{padding: 0;}#sk-container-id-6 div.sk-toggleable {background-color: white;}#sk-container-id-6 label.sk-toggleable__label {cursor: pointer;display: block;width: 100%;margin-bottom: 0;padding: 0.3em;box-sizing: border-box;text-align: center;}#sk-container-id-6 label.sk-toggleable__label-arrow:before {content: \"▸\";float: left;margin-right: 0.25em;color: #696969;}#sk-container-id-6 label.sk-toggleable__label-arrow:hover:before {color: black;}#sk-container-id-6 div.sk-estimator:hover label.sk-toggleable__label-arrow:before {color: black;}#sk-container-id-6 div.sk-toggleable__content {max-height: 0;max-width: 0;overflow: hidden;text-align: left;background-color: #f0f8ff;}#sk-container-id-6 div.sk-toggleable__content pre {margin: 0.2em;color: black;border-radius: 0.25em;background-color: #f0f8ff;}#sk-container-id-6 input.sk-toggleable__control:checked~div.sk-toggleable__content {max-height: 200px;max-width: 100%;overflow: auto;}#sk-container-id-6 input.sk-toggleable__control:checked~label.sk-toggleable__label-arrow:before {content: \"▾\";}#sk-container-id-6 div.sk-estimator input.sk-toggleable__control:checked~label.sk-toggleable__label {background-color: #d4ebff;}#sk-container-id-6 div.sk-label input.sk-toggleable__control:checked~label.sk-toggleable__label {background-color: #d4ebff;}#sk-container-id-6 input.sk-hidden--visually {border: 0;clip: rect(1px 1px 1px 1px);clip: rect(1px, 1px, 1px, 1px);height: 1px;margin: -1px;overflow: hidden;padding: 0;position: absolute;width: 1px;}#sk-container-id-6 div.sk-estimator {font-family: monospace;background-color: #f0f8ff;border: 1px dotted black;border-radius: 0.25em;box-sizing: border-box;margin-bottom: 0.5em;}#sk-container-id-6 div.sk-estimator:hover {background-color: #d4ebff;}#sk-container-id-6 div.sk-parallel-item::after {content: \"\";width: 100%;border-bottom: 1px solid gray;flex-grow: 1;}#sk-container-id-6 div.sk-label:hover label.sk-toggleable__label {background-color: #d4ebff;}#sk-container-id-6 div.sk-serial::before {content: \"\";position: absolute;border-left: 1px solid gray;box-sizing: border-box;top: 0;bottom: 0;left: 50%;z-index: 0;}#sk-container-id-6 div.sk-serial {display: flex;flex-direction: column;align-items: center;background-color: white;padding-right: 0.2em;padding-left: 0.2em;position: relative;}#sk-container-id-6 div.sk-item {position: relative;z-index: 1;}#sk-container-id-6 div.sk-parallel {display: flex;align-items: stretch;justify-content: center;background-color: white;position: relative;}#sk-container-id-6 div.sk-item::before, #sk-container-id-6 div.sk-parallel-item::before {content: \"\";position: absolute;border-left: 1px solid gray;box-sizing: border-box;top: 0;bottom: 0;left: 50%;z-index: -1;}#sk-container-id-6 div.sk-parallel-item {display: flex;flex-direction: column;z-index: 1;position: relative;background-color: white;}#sk-container-id-6 div.sk-parallel-item:first-child::after {align-self: flex-end;width: 50%;}#sk-container-id-6 div.sk-parallel-item:last-child::after {align-self: flex-start;width: 50%;}#sk-container-id-6 div.sk-parallel-item:only-child::after {width: 0;}#sk-container-id-6 div.sk-dashed-wrapped {border: 1px dashed gray;margin: 0 0.4em 0.5em 0.4em;box-sizing: border-box;padding-bottom: 0.4em;background-color: white;}#sk-container-id-6 div.sk-label label {font-family: monospace;font-weight: bold;display: inline-block;line-height: 1.2em;}#sk-container-id-6 div.sk-label-container {text-align: center;}#sk-container-id-6 div.sk-container {/* jupyter's `normalize.less` sets `[hidden] { display: none; }` but bootstrap.min.css set `[hidden] { display: none !important; }` so we also need the `!important` here to be able to override the default hidden behavior on the sphinx rendered scikit-learn.org. See: https://github.com/scikit-learn/scikit-learn/issues/21755 */display: inline-block !important;position: relative;}#sk-container-id-6 div.sk-text-repr-fallback {display: none;}</style><div id=\"sk-container-id-6\" class=\"sk-top-container\"><div class=\"sk-text-repr-fallback\"><pre>XGBClassifier(base_score=0.5, booster=&#x27;gbtree&#x27;, callbacks=None,\n",
       "              colsample_bylevel=1, colsample_bynode=1, colsample_bytree=1,\n",
       "              early_stopping_rounds=None, enable_categorical=False,\n",
       "              eval_metric=&#x27;logloss&#x27;, feature_types=None, gamma=0, gpu_id=-1,\n",
       "              grow_policy=&#x27;depthwise&#x27;, importance_type=None,\n",
       "              interaction_constraints=&#x27;&#x27;, learning_rate=0.300000012,\n",
       "              max_bin=256, max_cat_threshold=64, max_cat_to_onehot=4,\n",
       "              max_delta_step=0, max_depth=6, max_leaves=0, min_child_weight=1,\n",
       "              missing=nan, monotone_constraints=&#x27;()&#x27;, n_estimators=25, n_jobs=0,\n",
       "              num_parallel_tree=1, predictor=&#x27;auto&#x27;, random_state=0, ...)</pre><b>In a Jupyter environment, please rerun this cell to show the HTML representation or trust the notebook. <br />On GitHub, the HTML representation is unable to render, please try loading this page with nbviewer.org.</b></div><div class=\"sk-container\" hidden><div class=\"sk-item\"><div class=\"sk-estimator sk-toggleable\"><input class=\"sk-toggleable__control sk-hidden--visually\" id=\"sk-estimator-id-6\" type=\"checkbox\" checked><label for=\"sk-estimator-id-6\" class=\"sk-toggleable__label sk-toggleable__label-arrow\">XGBClassifier</label><div class=\"sk-toggleable__content\"><pre>XGBClassifier(base_score=0.5, booster=&#x27;gbtree&#x27;, callbacks=None,\n",
       "              colsample_bylevel=1, colsample_bynode=1, colsample_bytree=1,\n",
       "              early_stopping_rounds=None, enable_categorical=False,\n",
       "              eval_metric=&#x27;logloss&#x27;, feature_types=None, gamma=0, gpu_id=-1,\n",
       "              grow_policy=&#x27;depthwise&#x27;, importance_type=None,\n",
       "              interaction_constraints=&#x27;&#x27;, learning_rate=0.300000012,\n",
       "              max_bin=256, max_cat_threshold=64, max_cat_to_onehot=4,\n",
       "              max_delta_step=0, max_depth=6, max_leaves=0, min_child_weight=1,\n",
       "              missing=nan, monotone_constraints=&#x27;()&#x27;, n_estimators=25, n_jobs=0,\n",
       "              num_parallel_tree=1, predictor=&#x27;auto&#x27;, random_state=0, ...)</pre></div></div></div></div></div>"
      ],
      "text/plain": [
       "XGBClassifier(base_score=0.5, booster='gbtree', callbacks=None,\n",
       "              colsample_bylevel=1, colsample_bynode=1, colsample_bytree=1,\n",
       "              early_stopping_rounds=None, enable_categorical=False,\n",
       "              eval_metric='logloss', feature_types=None, gamma=0, gpu_id=-1,\n",
       "              grow_policy='depthwise', importance_type=None,\n",
       "              interaction_constraints='', learning_rate=0.300000012,\n",
       "              max_bin=256, max_cat_threshold=64, max_cat_to_onehot=4,\n",
       "              max_delta_step=0, max_depth=6, max_leaves=0, min_child_weight=1,\n",
       "              missing=nan, monotone_constraints='()', n_estimators=25, n_jobs=0,\n",
       "              num_parallel_tree=1, predictor='auto', random_state=0, ...)"
      ]
     },
     "execution_count": 140,
     "metadata": {},
     "output_type": "execute_result"
    }
   ],
   "source": [
    "model.fit(X_train, y_train)"
   ]
  },
  {
   "attachments": {},
   "cell_type": "markdown",
   "metadata": {},
   "source": [
    "### RL"
   ]
  },
  {
   "cell_type": "code",
   "execution_count": 147,
   "metadata": {},
   "outputs": [],
   "source": [
    "import tensorflow as tf\n",
    "import numpy as np\n"
   ]
  },
  {
   "cell_type": "code",
   "execution_count": 191,
   "metadata": {},
   "outputs": [
    {
     "name": "stdout",
     "output_type": "stream",
     "text": [
      "Epoch 1/100\n",
      "82/82 [==============================] - 2s 6ms/step - loss: 12.8906 - val_loss: 9.9887\n",
      "Epoch 2/100\n",
      "82/82 [==============================] - 0s 3ms/step - loss: 9.2236 - val_loss: 25.4259\n",
      "Epoch 3/100\n",
      "82/82 [==============================] - 0s 4ms/step - loss: 14.5046 - val_loss: 26.0004\n",
      "Epoch 4/100\n",
      "82/82 [==============================] - 0s 4ms/step - loss: 7.5682 - val_loss: 95.1298\n",
      "Epoch 5/100\n",
      "82/82 [==============================] - 0s 4ms/step - loss: 6.3921 - val_loss: 7.1962\n",
      "Epoch 6/100\n",
      "82/82 [==============================] - 0s 4ms/step - loss: 4.1386 - val_loss: 35.4948\n",
      "Epoch 7/100\n",
      "82/82 [==============================] - 0s 3ms/step - loss: 4.3074 - val_loss: 20.9328\n",
      "Epoch 8/100\n",
      "82/82 [==============================] - 0s 4ms/step - loss: 5.1513 - val_loss: 52.3045\n",
      "Epoch 9/100\n",
      "82/82 [==============================] - 0s 3ms/step - loss: 6.9785 - val_loss: 4.9382\n",
      "Epoch 10/100\n",
      "82/82 [==============================] - 0s 4ms/step - loss: 2.8475 - val_loss: 3.0637\n",
      "Epoch 11/100\n",
      "82/82 [==============================] - 0s 5ms/step - loss: 1.4510 - val_loss: 15.3996\n",
      "Epoch 12/100\n",
      "82/82 [==============================] - 0s 5ms/step - loss: 2.3129 - val_loss: 3.9881\n",
      "Epoch 13/100\n",
      "82/82 [==============================] - 0s 3ms/step - loss: 1.2187 - val_loss: 11.4126\n",
      "Epoch 14/100\n",
      "82/82 [==============================] - 0s 4ms/step - loss: 1.3376 - val_loss: 2.7505\n",
      "Epoch 15/100\n",
      "82/82 [==============================] - 0s 3ms/step - loss: 1.2000 - val_loss: 6.3290\n",
      "Epoch 16/100\n",
      "82/82 [==============================] - 0s 3ms/step - loss: 2.0472 - val_loss: 41.8983\n",
      "Epoch 17/100\n",
      "82/82 [==============================] - 0s 3ms/step - loss: 1.7313 - val_loss: 12.1936\n",
      "Epoch 18/100\n",
      "82/82 [==============================] - 0s 4ms/step - loss: 1.7726 - val_loss: 3.3838\n",
      "Epoch 19/100\n",
      "82/82 [==============================] - 0s 4ms/step - loss: 1.2009 - val_loss: 1.0945\n",
      "Epoch 20/100\n",
      "82/82 [==============================] - 0s 3ms/step - loss: 0.8291 - val_loss: 1.4604\n",
      "Epoch 21/100\n",
      "82/82 [==============================] - 0s 4ms/step - loss: 1.4588 - val_loss: 2.4545\n",
      "Epoch 22/100\n",
      "82/82 [==============================] - 0s 3ms/step - loss: 0.9296 - val_loss: 1.2833\n",
      "Epoch 23/100\n",
      "82/82 [==============================] - 0s 3ms/step - loss: 1.1428 - val_loss: 3.8341\n",
      "Epoch 24/100\n",
      "82/82 [==============================] - 0s 3ms/step - loss: 0.8690 - val_loss: 1.6557\n",
      "Epoch 25/100\n",
      "82/82 [==============================] - 0s 4ms/step - loss: 1.0061 - val_loss: 2.6252\n",
      "Epoch 26/100\n",
      "82/82 [==============================] - 0s 4ms/step - loss: 1.1272 - val_loss: 1.8826\n",
      "Epoch 27/100\n",
      "82/82 [==============================] - 0s 4ms/step - loss: 0.8599 - val_loss: 0.9289\n",
      "Epoch 28/100\n",
      "82/82 [==============================] - 0s 4ms/step - loss: 0.9259 - val_loss: 4.2366\n",
      "Epoch 29/100\n",
      "82/82 [==============================] - 0s 4ms/step - loss: 0.6838 - val_loss: 1.0419\n",
      "Epoch 30/100\n",
      "82/82 [==============================] - 0s 4ms/step - loss: 0.6389 - val_loss: 1.2574\n",
      "Epoch 31/100\n",
      "82/82 [==============================] - 0s 4ms/step - loss: 0.6270 - val_loss: 0.9313\n",
      "Epoch 32/100\n",
      "82/82 [==============================] - 0s 4ms/step - loss: 0.6464 - val_loss: 1.4622\n",
      "Epoch 33/100\n",
      "82/82 [==============================] - 0s 4ms/step - loss: 0.7275 - val_loss: 3.0213\n",
      "Epoch 34/100\n",
      "82/82 [==============================] - 0s 4ms/step - loss: 0.6403 - val_loss: 0.8667\n",
      "Epoch 35/100\n",
      "82/82 [==============================] - 0s 3ms/step - loss: 0.6469 - val_loss: 0.8917\n",
      "Epoch 36/100\n",
      "82/82 [==============================] - 0s 3ms/step - loss: 0.5878 - val_loss: 0.9631\n",
      "Epoch 37/100\n",
      "82/82 [==============================] - 0s 4ms/step - loss: 0.5993 - val_loss: 0.5922\n",
      "Epoch 38/100\n",
      "82/82 [==============================] - 0s 4ms/step - loss: 0.5857 - val_loss: 0.6495\n",
      "Epoch 39/100\n",
      "82/82 [==============================] - 0s 4ms/step - loss: 0.6213 - val_loss: 0.8664\n",
      "Epoch 40/100\n",
      "82/82 [==============================] - 0s 5ms/step - loss: 0.7399 - val_loss: 0.8570\n",
      "Epoch 41/100\n",
      "82/82 [==============================] - 0s 4ms/step - loss: 0.6082 - val_loss: 1.3669\n",
      "Epoch 42/100\n",
      "82/82 [==============================] - 0s 3ms/step - loss: 0.7232 - val_loss: 1.0145\n",
      "Epoch 43/100\n",
      "82/82 [==============================] - 0s 4ms/step - loss: 0.6300 - val_loss: 1.1551\n",
      "Epoch 44/100\n",
      "82/82 [==============================] - 0s 4ms/step - loss: 0.6233 - val_loss: 0.9194\n",
      "Epoch 45/100\n",
      "82/82 [==============================] - 0s 3ms/step - loss: 0.5917 - val_loss: 0.6263\n",
      "Epoch 46/100\n",
      "82/82 [==============================] - 0s 4ms/step - loss: 0.5871 - val_loss: 0.6668\n",
      "Epoch 47/100\n",
      "82/82 [==============================] - 0s 4ms/step - loss: 0.5940 - val_loss: 0.6661\n",
      "Epoch 48/100\n",
      "82/82 [==============================] - 0s 4ms/step - loss: 0.6653 - val_loss: 3.1605\n",
      "Epoch 49/100\n",
      "82/82 [==============================] - 0s 4ms/step - loss: 0.6601 - val_loss: 1.2990\n",
      "Epoch 50/100\n",
      "82/82 [==============================] - 0s 4ms/step - loss: 0.6306 - val_loss: 0.9550\n",
      "Epoch 51/100\n",
      "82/82 [==============================] - 0s 4ms/step - loss: 0.5878 - val_loss: 0.6191\n",
      "Epoch 52/100\n",
      "82/82 [==============================] - 0s 4ms/step - loss: 0.5751 - val_loss: 0.6118\n",
      "Epoch 53/100\n",
      "82/82 [==============================] - 0s 4ms/step - loss: 0.5773 - val_loss: 0.6349\n",
      "Epoch 54/100\n",
      "82/82 [==============================] - 0s 4ms/step - loss: 0.6158 - val_loss: 0.6382\n",
      "Epoch 55/100\n",
      "82/82 [==============================] - 0s 4ms/step - loss: 0.5838 - val_loss: 0.6185\n",
      "Epoch 56/100\n",
      "82/82 [==============================] - 0s 3ms/step - loss: 0.5756 - val_loss: 0.5873\n",
      "Epoch 57/100\n",
      "82/82 [==============================] - 0s 4ms/step - loss: 0.5785 - val_loss: 0.6216\n",
      "Epoch 58/100\n",
      "82/82 [==============================] - 0s 4ms/step - loss: 0.5912 - val_loss: 0.5744\n",
      "Epoch 59/100\n",
      "82/82 [==============================] - 0s 4ms/step - loss: 0.5888 - val_loss: 0.5600\n",
      "Epoch 60/100\n",
      "82/82 [==============================] - 0s 4ms/step - loss: 0.5699 - val_loss: 0.5743\n",
      "Epoch 61/100\n",
      "82/82 [==============================] - 0s 4ms/step - loss: 0.5721 - val_loss: 0.5935\n",
      "Epoch 62/100\n",
      "82/82 [==============================] - 0s 5ms/step - loss: 0.5725 - val_loss: 0.6036\n",
      "Epoch 63/100\n",
      "82/82 [==============================] - 0s 3ms/step - loss: 0.5692 - val_loss: 0.5991\n",
      "Epoch 64/100\n",
      "82/82 [==============================] - 0s 4ms/step - loss: 0.5756 - val_loss: 0.5704\n",
      "Epoch 65/100\n",
      "82/82 [==============================] - 0s 3ms/step - loss: 0.5712 - val_loss: 0.6899\n",
      "Epoch 66/100\n",
      "82/82 [==============================] - 0s 4ms/step - loss: 0.5659 - val_loss: 0.5650\n",
      "Epoch 67/100\n",
      "82/82 [==============================] - 0s 4ms/step - loss: 0.5784 - val_loss: 0.6170\n",
      "Epoch 68/100\n",
      "82/82 [==============================] - 0s 4ms/step - loss: 0.5692 - val_loss: 0.5733\n",
      "Epoch 69/100\n",
      "82/82 [==============================] - 0s 4ms/step - loss: 0.5660 - val_loss: 0.5876\n",
      "Epoch 70/100\n",
      "82/82 [==============================] - 0s 4ms/step - loss: 0.5661 - val_loss: 0.6058\n",
      "Epoch 71/100\n",
      "82/82 [==============================] - 0s 4ms/step - loss: 0.5822 - val_loss: 0.5757\n",
      "Epoch 72/100\n",
      "82/82 [==============================] - 0s 5ms/step - loss: 0.5785 - val_loss: 0.5711\n",
      "Epoch 73/100\n",
      "82/82 [==============================] - 0s 4ms/step - loss: 0.5684 - val_loss: 0.5699\n",
      "Epoch 74/100\n",
      "82/82 [==============================] - 0s 5ms/step - loss: 0.5644 - val_loss: 0.6216\n",
      "Epoch 75/100\n",
      "82/82 [==============================] - 0s 4ms/step - loss: 0.5700 - val_loss: 0.5673\n",
      "Epoch 76/100\n",
      "82/82 [==============================] - 0s 4ms/step - loss: 0.5646 - val_loss: 0.5634\n",
      "Epoch 77/100\n",
      "82/82 [==============================] - 0s 4ms/step - loss: 0.5728 - val_loss: 0.5897\n",
      "Epoch 78/100\n",
      "82/82 [==============================] - 0s 3ms/step - loss: 0.5693 - val_loss: 0.5629\n",
      "Epoch 79/100\n",
      "82/82 [==============================] - 0s 3ms/step - loss: 0.5690 - val_loss: 0.6274\n",
      "Epoch 80/100\n",
      "82/82 [==============================] - 0s 3ms/step - loss: 0.5680 - val_loss: 0.5732\n",
      "Epoch 81/100\n",
      "82/82 [==============================] - 0s 3ms/step - loss: 0.5682 - val_loss: 0.5620\n",
      "Epoch 82/100\n",
      "82/82 [==============================] - 0s 4ms/step - loss: 0.5733 - val_loss: 0.5674\n",
      "Epoch 83/100\n",
      "82/82 [==============================] - 0s 4ms/step - loss: 0.5761 - val_loss: 0.6043\n",
      "Epoch 84/100\n",
      "82/82 [==============================] - 0s 5ms/step - loss: 0.5718 - val_loss: 0.5662\n",
      "Epoch 85/100\n",
      "82/82 [==============================] - 0s 3ms/step - loss: 0.5636 - val_loss: 0.5910\n",
      "Epoch 86/100\n",
      "82/82 [==============================] - 0s 3ms/step - loss: 0.5637 - val_loss: 0.5913\n",
      "Epoch 87/100\n",
      "82/82 [==============================] - 0s 4ms/step - loss: 0.5651 - val_loss: 0.5685\n",
      "Epoch 88/100\n",
      "82/82 [==============================] - 0s 3ms/step - loss: 0.5680 - val_loss: 0.5692\n",
      "Epoch 89/100\n",
      "82/82 [==============================] - 0s 3ms/step - loss: 0.5696 - val_loss: 0.6457\n",
      "Epoch 90/100\n",
      "82/82 [==============================] - 0s 4ms/step - loss: 0.5667 - val_loss: 0.5599\n",
      "Epoch 91/100\n",
      "82/82 [==============================] - 0s 4ms/step - loss: 0.5645 - val_loss: 0.5628\n",
      "Epoch 92/100\n",
      "82/82 [==============================] - 0s 4ms/step - loss: 0.5801 - val_loss: 0.5882\n",
      "Epoch 93/100\n",
      "82/82 [==============================] - 0s 3ms/step - loss: 0.5670 - val_loss: 0.5523\n",
      "Epoch 94/100\n",
      "82/82 [==============================] - 0s 4ms/step - loss: 0.5653 - val_loss: 0.5650\n",
      "Epoch 95/100\n",
      "82/82 [==============================] - 0s 4ms/step - loss: 0.5609 - val_loss: 0.6466\n",
      "Epoch 96/100\n",
      "82/82 [==============================] - 0s 5ms/step - loss: 0.5713 - val_loss: 0.5550\n",
      "Epoch 97/100\n",
      "82/82 [==============================] - 0s 3ms/step - loss: 0.5595 - val_loss: 0.5675\n",
      "Epoch 98/100\n",
      "82/82 [==============================] - 0s 4ms/step - loss: 0.5582 - val_loss: 0.5701\n",
      "Epoch 99/100\n",
      "82/82 [==============================] - 0s 4ms/step - loss: 0.5701 - val_loss: 0.5648\n",
      "Epoch 100/100\n",
      "82/82 [==============================] - 0s 3ms/step - loss: 0.5641 - val_loss: 0.5637\n"
     ]
    },
    {
     "data": {
      "text/plain": [
       "<keras.callbacks.History at 0x1cc1f93dcd0>"
      ]
     },
     "execution_count": 191,
     "metadata": {},
     "output_type": "execute_result"
    }
   ],
   "source": [
    "input_dim = X_train.shape[1]\n",
    "output_dim = 1\n",
    "\n",
    "hidden_units = [128, 64, 32]\n",
    "\n",
    "model = tf.keras.Sequential()\n",
    "model.add(tf.keras.layers.Dense(hidden_units[0], input_dim=input_dim, activation='relu'))\n",
    "model.add(tf.keras.layers.Dense(hidden_units[1], activation='relu'))\n",
    "model.add(tf.keras.layers.Dense(hidden_units[2], activation='relu'))\n",
    "model.add(tf.keras.layers.Dense(output_dim, activation='sigmoid'))\n",
    "\n",
    "model.compile(optimizer='adam', loss='binary_crossentropy')\n",
    "\n",
    "model.fit(X_train, y_train, validation_data=(X_test, y_test), epochs=100)"
   ]
  },
  {
   "cell_type": "code",
   "execution_count": 192,
   "metadata": {},
   "outputs": [
    {
     "name": "stdout",
     "output_type": "stream",
     "text": [
      "82/82 [==============================] - 0s 2ms/step\n"
     ]
    }
   ],
   "source": [
    "predictions = model.predict(X_train)"
   ]
  },
  {
   "cell_type": "code",
   "execution_count": 193,
   "metadata": {},
   "outputs": [],
   "source": [
    "df[\"pred\"] =  pd.Series(predictions.flatten())"
   ]
  },
  {
   "cell_type": "code",
   "execution_count": 194,
   "metadata": {},
   "outputs": [
    {
     "data": {
      "application/vnd.plotly.v1+json": {
       "config": {
        "plotlyServerURL": "https://plot.ly"
       },
       "data": [
        {
         "line": {
          "width": 2
         },
         "mode": "lines",
         "name": "Close",
         "type": "scatter",
         "x": [
          "2021-01-04T00:00:00",
          "2021-01-05T00:00:00",
          "2021-01-06T00:00:00",
          "2021-01-07T00:00:00",
          "2021-01-08T00:00:00",
          "2021-01-11T00:00:00",
          "2021-01-12T00:00:00",
          "2021-01-13T00:00:00",
          "2021-01-14T00:00:00",
          "2021-01-15T00:00:00",
          "2021-01-18T00:00:00",
          "2021-01-19T00:00:00",
          "2021-01-20T00:00:00",
          "2021-01-21T00:00:00",
          "2021-01-22T00:00:00",
          "2021-01-25T00:00:00",
          "2021-01-26T00:00:00",
          "2021-01-27T00:00:00",
          "2021-01-28T00:00:00",
          "2021-01-29T00:00:00",
          "2021-02-01T00:00:00",
          "2021-02-02T00:00:00",
          "2021-02-03T00:00:00",
          "2021-02-04T00:00:00",
          "2021-02-05T00:00:00",
          "2021-02-08T00:00:00",
          "2021-02-09T00:00:00",
          "2021-02-10T00:00:00",
          "2021-02-11T00:00:00",
          "2021-02-12T00:00:00",
          "2021-02-15T00:00:00",
          "2021-02-16T00:00:00",
          "2021-02-17T00:00:00",
          "2021-02-18T00:00:00",
          "2021-02-19T00:00:00",
          "2021-02-22T00:00:00",
          "2021-02-23T00:00:00",
          "2021-02-24T00:00:00",
          "2021-02-25T00:00:00",
          "2021-02-26T00:00:00",
          "2021-03-01T00:00:00",
          "2021-03-02T00:00:00",
          "2021-03-03T00:00:00",
          "2021-03-04T00:00:00",
          "2021-03-05T00:00:00",
          "2021-03-08T00:00:00",
          "2021-03-09T00:00:00",
          "2021-03-10T00:00:00",
          "2021-03-11T00:00:00",
          "2021-03-12T00:00:00",
          "2021-03-15T00:00:00",
          "2021-03-16T00:00:00",
          "2021-03-17T00:00:00",
          "2021-03-18T00:00:00",
          "2021-03-19T00:00:00",
          "2021-03-22T00:00:00",
          "2021-03-23T00:00:00",
          "2021-03-24T00:00:00",
          "2021-03-25T00:00:00",
          "2021-03-26T00:00:00",
          "2021-03-29T00:00:00",
          "2021-03-30T00:00:00",
          "2021-03-31T00:00:00",
          "2021-04-01T00:00:00",
          "2021-04-06T00:00:00",
          "2021-04-07T00:00:00",
          "2021-04-08T00:00:00",
          "2021-04-09T00:00:00",
          "2021-04-12T00:00:00",
          "2021-04-13T00:00:00",
          "2021-04-14T00:00:00",
          "2021-04-15T00:00:00",
          "2021-04-16T00:00:00",
          "2021-04-19T00:00:00",
          "2021-04-20T00:00:00",
          "2021-04-21T00:00:00",
          "2021-04-22T00:00:00",
          "2021-04-23T00:00:00",
          "2021-04-26T00:00:00",
          "2021-04-27T00:00:00",
          "2021-04-28T00:00:00",
          "2021-04-29T00:00:00",
          "2021-04-30T00:00:00",
          "2021-05-03T00:00:00",
          "2021-05-04T00:00:00",
          "2021-05-05T00:00:00",
          "2021-05-06T00:00:00",
          "2021-05-07T00:00:00",
          "2021-05-10T00:00:00",
          "2021-05-11T00:00:00",
          "2021-05-12T00:00:00",
          "2021-05-13T00:00:00",
          "2021-05-14T00:00:00",
          "2021-05-17T00:00:00",
          "2021-05-18T00:00:00",
          "2021-05-19T00:00:00",
          "2021-05-20T00:00:00",
          "2021-05-21T00:00:00",
          "2021-05-24T00:00:00",
          "2021-05-25T00:00:00",
          "2021-05-26T00:00:00",
          "2021-05-27T00:00:00",
          "2021-05-28T00:00:00",
          "2021-05-31T00:00:00",
          "2021-06-01T00:00:00",
          "2021-06-02T00:00:00",
          "2021-06-03T00:00:00",
          "2021-06-04T00:00:00",
          "2021-06-07T00:00:00",
          "2021-06-08T00:00:00",
          "2021-06-09T00:00:00",
          "2021-06-10T00:00:00",
          "2021-06-11T00:00:00",
          "2021-06-14T00:00:00",
          "2021-06-15T00:00:00",
          "2021-06-16T00:00:00",
          "2021-06-17T00:00:00",
          "2021-06-18T00:00:00",
          "2021-06-21T00:00:00",
          "2021-06-22T00:00:00",
          "2021-06-23T00:00:00",
          "2021-06-24T00:00:00",
          "2021-06-25T00:00:00",
          "2021-06-28T00:00:00",
          "2021-06-29T00:00:00",
          "2021-06-30T00:00:00",
          "2021-07-01T00:00:00",
          "2021-07-02T00:00:00",
          "2021-07-05T00:00:00",
          "2021-07-06T00:00:00",
          "2021-07-07T00:00:00",
          "2021-07-08T00:00:00",
          "2021-07-09T00:00:00",
          "2021-07-12T00:00:00",
          "2021-07-13T00:00:00",
          "2021-07-14T00:00:00",
          "2021-07-15T00:00:00",
          "2021-07-16T00:00:00",
          "2021-07-19T00:00:00",
          "2021-07-20T00:00:00",
          "2021-07-21T00:00:00",
          "2021-07-22T00:00:00",
          "2021-07-23T00:00:00",
          "2021-07-26T00:00:00",
          "2021-07-27T00:00:00",
          "2021-07-28T00:00:00",
          "2021-07-29T00:00:00",
          "2021-07-30T00:00:00",
          "2021-08-02T00:00:00",
          "2021-08-03T00:00:00",
          "2021-08-04T00:00:00",
          "2021-08-05T00:00:00",
          "2021-08-06T00:00:00",
          "2021-08-09T00:00:00",
          "2021-08-10T00:00:00",
          "2021-08-11T00:00:00",
          "2021-08-12T00:00:00",
          "2021-08-13T00:00:00",
          "2021-08-16T00:00:00",
          "2021-08-17T00:00:00",
          "2021-08-18T00:00:00",
          "2021-08-19T00:00:00",
          "2021-08-20T00:00:00",
          "2021-08-23T00:00:00",
          "2021-08-24T00:00:00",
          "2021-08-25T00:00:00",
          "2021-08-26T00:00:00",
          "2021-08-27T00:00:00",
          "2021-08-30T00:00:00",
          "2021-08-31T00:00:00",
          "2021-09-01T00:00:00",
          "2021-09-02T00:00:00",
          "2021-09-03T00:00:00",
          "2021-09-06T00:00:00",
          "2021-09-07T00:00:00",
          "2021-09-08T00:00:00",
          "2021-09-09T00:00:00",
          "2021-09-10T00:00:00",
          "2021-09-13T00:00:00",
          "2021-09-14T00:00:00",
          "2021-09-15T00:00:00",
          "2021-09-16T00:00:00",
          "2021-09-17T00:00:00",
          "2021-09-20T00:00:00",
          "2021-09-21T00:00:00",
          "2021-09-22T00:00:00",
          "2021-09-23T00:00:00",
          "2021-09-24T00:00:00",
          "2021-09-27T00:00:00",
          "2021-09-28T00:00:00",
          "2021-09-29T00:00:00",
          "2021-09-30T00:00:00",
          "2021-10-01T00:00:00",
          "2021-10-04T00:00:00",
          "2021-10-05T00:00:00",
          "2021-10-06T00:00:00",
          "2021-10-07T00:00:00",
          "2021-10-08T00:00:00",
          "2021-10-11T00:00:00",
          "2021-10-12T00:00:00",
          "2021-10-13T00:00:00",
          "2021-10-14T00:00:00",
          "2021-10-15T00:00:00",
          "2021-10-18T00:00:00",
          "2021-10-19T00:00:00",
          "2021-10-20T00:00:00",
          "2021-10-21T00:00:00",
          "2021-10-22T00:00:00",
          "2021-10-25T00:00:00",
          "2021-10-26T00:00:00",
          "2021-10-27T00:00:00",
          "2021-10-28T00:00:00",
          "2021-10-29T00:00:00",
          "2021-11-01T00:00:00",
          "2021-11-02T00:00:00",
          "2021-11-03T00:00:00",
          "2021-11-04T00:00:00",
          "2021-11-05T00:00:00",
          "2021-11-08T00:00:00",
          "2021-11-09T00:00:00",
          "2021-11-10T00:00:00",
          "2021-11-11T00:00:00",
          "2021-11-12T00:00:00",
          "2021-11-15T00:00:00",
          "2021-11-16T00:00:00",
          "2021-11-17T00:00:00",
          "2021-11-18T00:00:00",
          "2021-11-19T00:00:00",
          "2021-11-22T00:00:00",
          "2021-11-23T00:00:00",
          "2021-11-24T00:00:00",
          "2021-11-25T00:00:00",
          "2021-11-26T00:00:00",
          "2021-11-29T00:00:00",
          "2021-11-30T00:00:00",
          "2021-12-01T00:00:00",
          "2021-12-02T00:00:00",
          "2021-12-03T00:00:00",
          "2021-12-06T00:00:00",
          "2021-12-07T00:00:00",
          "2021-12-08T00:00:00",
          "2021-12-09T00:00:00",
          "2021-12-10T00:00:00",
          "2021-12-13T00:00:00",
          "2021-12-14T00:00:00",
          "2021-12-15T00:00:00",
          "2021-12-16T00:00:00",
          "2021-12-17T00:00:00",
          "2021-12-20T00:00:00",
          "2021-12-21T00:00:00",
          "2021-12-22T00:00:00",
          "2021-12-23T00:00:00",
          "2021-12-24T00:00:00",
          "2021-12-27T00:00:00",
          "2021-12-28T00:00:00",
          "2021-12-29T00:00:00",
          "2021-12-30T00:00:00",
          "2021-12-31T00:00:00",
          "2022-01-03T00:00:00",
          "2022-01-04T00:00:00",
          "2022-01-05T00:00:00",
          "2022-01-06T00:00:00",
          "2022-01-07T00:00:00",
          "2022-01-10T00:00:00",
          "2022-01-11T00:00:00",
          "2022-01-12T00:00:00",
          "2022-01-13T00:00:00",
          "2022-01-14T00:00:00",
          "2022-01-17T00:00:00",
          "2022-01-18T00:00:00",
          "2022-01-19T00:00:00",
          "2022-01-20T00:00:00",
          "2022-01-21T00:00:00",
          "2022-01-24T00:00:00",
          "2022-01-25T00:00:00",
          "2022-01-26T00:00:00",
          "2022-01-27T00:00:00",
          "2022-01-28T00:00:00",
          "2022-01-31T00:00:00",
          "2022-02-01T00:00:00",
          "2022-02-02T00:00:00",
          "2022-02-03T00:00:00",
          "2022-02-04T00:00:00",
          "2022-02-07T00:00:00",
          "2022-02-08T00:00:00",
          "2022-02-09T00:00:00",
          "2022-02-10T00:00:00",
          "2022-02-11T00:00:00",
          "2022-02-14T00:00:00",
          "2022-02-15T00:00:00",
          "2022-02-16T00:00:00",
          "2022-02-17T00:00:00",
          "2022-02-18T00:00:00",
          "2022-02-21T00:00:00",
          "2022-02-22T00:00:00",
          "2022-02-23T00:00:00",
          "2022-02-24T00:00:00",
          "2022-02-25T00:00:00",
          "2022-02-28T00:00:00",
          "2022-03-01T00:00:00",
          "2022-03-02T00:00:00",
          "2022-03-03T00:00:00",
          "2022-03-04T00:00:00",
          "2022-03-07T00:00:00",
          "2022-03-08T00:00:00",
          "2022-03-09T00:00:00",
          "2022-03-10T00:00:00",
          "2022-03-11T00:00:00",
          "2022-03-14T00:00:00",
          "2022-03-15T00:00:00",
          "2022-03-16T00:00:00",
          "2022-03-17T00:00:00",
          "2022-03-18T00:00:00",
          "2022-03-21T00:00:00",
          "2022-03-22T00:00:00",
          "2022-03-23T00:00:00",
          "2022-03-24T00:00:00",
          "2022-03-25T00:00:00",
          "2022-03-28T00:00:00",
          "2022-03-29T00:00:00",
          "2022-03-30T00:00:00",
          "2022-03-31T00:00:00",
          "2022-04-01T00:00:00",
          "2022-04-04T00:00:00",
          "2022-04-05T00:00:00",
          "2022-04-06T00:00:00",
          "2022-04-07T00:00:00",
          "2022-04-08T00:00:00",
          "2022-04-11T00:00:00",
          "2022-04-12T00:00:00",
          "2022-04-13T00:00:00",
          "2022-04-14T00:00:00",
          "2022-04-19T00:00:00",
          "2022-04-20T00:00:00",
          "2022-04-21T00:00:00",
          "2022-04-22T00:00:00",
          "2022-04-25T00:00:00",
          "2022-04-26T00:00:00",
          "2022-04-27T00:00:00",
          "2022-04-28T00:00:00",
          "2022-04-29T00:00:00",
          "2022-05-02T00:00:00",
          "2022-05-03T00:00:00",
          "2022-05-04T00:00:00",
          "2022-05-05T00:00:00",
          "2022-05-06T00:00:00",
          "2022-05-09T00:00:00",
          "2022-05-10T00:00:00",
          "2022-05-11T00:00:00",
          "2022-05-12T00:00:00",
          "2022-05-13T00:00:00",
          "2022-05-16T00:00:00",
          "2022-05-17T00:00:00",
          "2022-05-18T00:00:00",
          "2022-05-19T00:00:00",
          "2022-05-20T00:00:00",
          "2022-05-23T00:00:00",
          "2022-05-24T00:00:00",
          "2022-05-25T00:00:00",
          "2022-05-26T00:00:00",
          "2022-05-27T00:00:00",
          "2022-05-30T00:00:00",
          "2022-05-31T00:00:00",
          "2022-06-01T00:00:00",
          "2022-06-02T00:00:00",
          "2022-06-03T00:00:00",
          "2022-06-06T00:00:00",
          "2022-06-07T00:00:00",
          "2022-06-08T00:00:00",
          "2022-06-09T00:00:00",
          "2022-06-10T00:00:00",
          "2022-06-13T00:00:00",
          "2022-06-14T00:00:00",
          "2022-06-15T00:00:00",
          "2022-06-16T00:00:00",
          "2022-06-17T00:00:00",
          "2022-06-20T00:00:00",
          "2022-06-21T00:00:00",
          "2022-06-22T00:00:00",
          "2022-06-23T00:00:00",
          "2022-06-24T00:00:00",
          "2022-06-27T00:00:00",
          "2022-06-28T00:00:00",
          "2022-06-29T00:00:00",
          "2022-06-30T00:00:00",
          "2022-07-01T00:00:00",
          "2022-07-04T00:00:00",
          "2022-07-05T00:00:00",
          "2022-07-06T00:00:00",
          "2022-07-07T00:00:00",
          "2022-07-08T00:00:00",
          "2022-07-11T00:00:00",
          "2022-07-12T00:00:00",
          "2022-07-13T00:00:00",
          "2022-07-14T00:00:00",
          "2022-07-15T00:00:00",
          "2022-07-18T00:00:00",
          "2022-07-19T00:00:00",
          "2022-07-20T00:00:00",
          "2022-07-21T00:00:00",
          "2022-07-22T00:00:00",
          "2022-07-25T00:00:00",
          "2022-07-26T00:00:00",
          "2022-07-27T00:00:00",
          "2022-07-28T00:00:00",
          "2022-07-29T00:00:00",
          "2022-08-01T00:00:00",
          "2022-08-02T00:00:00",
          "2022-08-03T00:00:00",
          "2022-08-04T00:00:00",
          "2022-08-05T00:00:00",
          "2022-08-08T00:00:00",
          "2022-08-09T00:00:00",
          "2022-08-10T00:00:00",
          "2022-08-11T00:00:00",
          "2022-08-12T00:00:00",
          "2022-08-15T00:00:00",
          "2022-08-16T00:00:00",
          "2022-08-17T00:00:00",
          "2022-08-18T00:00:00",
          "2022-08-19T00:00:00",
          "2022-08-22T00:00:00",
          "2022-08-23T00:00:00",
          "2022-08-24T00:00:00",
          "2022-08-25T00:00:00",
          "2022-08-26T00:00:00",
          "2022-08-29T00:00:00",
          "2022-08-30T00:00:00",
          "2022-08-31T00:00:00",
          "2022-09-01T00:00:00",
          "2022-09-02T00:00:00",
          "2022-09-05T00:00:00",
          "2022-09-06T00:00:00",
          "2022-09-07T00:00:00",
          "2022-09-08T00:00:00",
          "2022-09-09T00:00:00",
          "2022-09-12T00:00:00",
          "2022-09-13T00:00:00",
          "2022-09-14T00:00:00",
          "2022-09-15T00:00:00",
          "2022-09-16T00:00:00",
          "2022-09-19T00:00:00",
          "2022-09-20T00:00:00",
          "2022-09-21T00:00:00",
          "2022-09-22T00:00:00",
          "2022-09-23T00:00:00",
          "2022-09-26T00:00:00",
          "2022-09-27T00:00:00",
          "2022-09-28T00:00:00",
          "2022-09-29T00:00:00",
          "2022-09-30T00:00:00",
          "2022-10-03T00:00:00",
          "2022-10-04T00:00:00",
          "2022-10-05T00:00:00",
          "2022-10-06T00:00:00",
          "2022-10-07T00:00:00",
          "2022-10-10T00:00:00",
          "2022-10-11T00:00:00",
          "2022-10-12T00:00:00",
          "2022-10-13T00:00:00",
          "2022-10-14T00:00:00",
          "2022-10-17T00:00:00",
          "2022-10-18T00:00:00",
          "2022-10-19T00:00:00",
          "2022-10-20T00:00:00",
          "2022-10-21T00:00:00",
          "2022-10-24T00:00:00",
          "2022-10-25T00:00:00",
          "2022-10-26T00:00:00",
          "2022-10-27T00:00:00",
          "2022-10-28T00:00:00",
          "2022-10-31T00:00:00",
          "2022-11-01T00:00:00",
          "2022-11-02T00:00:00",
          "2022-11-03T00:00:00",
          "2022-11-04T00:00:00",
          "2022-11-07T00:00:00",
          "2022-11-08T00:00:00",
          "2022-11-09T00:00:00",
          "2022-11-10T00:00:00",
          "2022-11-11T00:00:00",
          "2022-11-14T00:00:00",
          "2022-11-15T00:00:00",
          "2022-11-16T00:00:00",
          "2022-11-17T00:00:00",
          "2022-11-18T00:00:00",
          "2022-11-21T00:00:00",
          "2022-11-22T00:00:00",
          "2022-11-23T00:00:00",
          "2022-11-24T00:00:00",
          "2022-11-25T00:00:00",
          "2022-11-28T00:00:00",
          "2022-11-29T00:00:00",
          "2022-11-30T00:00:00",
          "2022-12-01T00:00:00",
          "2022-12-02T00:00:00",
          "2022-12-05T00:00:00",
          "2022-12-06T00:00:00",
          "2022-12-07T00:00:00",
          "2022-12-08T00:00:00",
          "2022-12-09T00:00:00",
          "2022-12-12T00:00:00",
          "2022-12-13T00:00:00",
          "2022-12-14T00:00:00",
          "2022-12-15T00:00:00",
          "2022-12-16T00:00:00",
          "2022-12-19T00:00:00",
          "2022-12-20T00:00:00",
          "2022-12-21T00:00:00",
          "2022-12-22T00:00:00",
          "2022-12-23T00:00:00",
          "2022-12-27T00:00:00",
          "2022-12-28T00:00:00",
          "2022-12-29T00:00:00",
          "2022-12-30T00:00:00"
         ],
         "y": [
          327.29010009765625,
          327.6839904785156,
          332.5303955078125,
          334.63848876953125,
          337.0273132324219,
          338.3598937988281,
          338.0751953125,
          338.8756103515625,
          340.6243896484375,
          337.8829040527344,
          338.3641052246094,
          337.918701171875,
          342.4789123535156,
          342.6400146484375,
          340.033203125,
          339.4797058105469,
          341.2121887207031,
          336.9656066894531,
          337.56329345703125,
          330.7618103027344,
          334.993408203125,
          342.20001220703125,
          342.6651916503906,
          345.6642150878906,
          346.80828857421875,
          348.13250732421875,
          347.7323913574219,
          346.69879150390625,
          348.2795104980469,
          349.4309997558594,
          352.4613952636719,
          351.4580993652344,
          350.3399963378906,
          348.2908020019531,
          349.5799865722656,
          346.0790100097656,
          343.5513916015625,
          346.81060791015625,
          343.36749267578125,
          341.0456848144531,
          347.5710144042969,
          345.6747131347656,
          344.94000244140625,
          342.21319580078125,
          338.3887939453125,
          349.3572082519531,
          350.8742980957031,
          352.1000061035156,
          354.06719970703125,
          352.65240478515625,
          354.7239990234375,
          358.10699462890625,
          355.8821105957031,
          357.1062927246094,
          354.42449951171875,
          355.1451110839844,
          355.9014892578125,
          355.3900146484375,
          354.4017028808594,
          357.7934875488281,
          359.1820983886719,
          360.95330810546875,
          361.6300048828125,
          363.4519958496094,
          366.89849853515625,
          365.0610046386719,
          367,
          368.0242004394531,
          368.0028076171875,
          368.6400146484375,
          368.6355895996094,
          370.54119873046875,
          371.7095031738281,
          369.36700439453125,
          364.3641052246094,
          367.25469970703125,
          369.7710876464844,
          368.6242980957031,
          369.6318054199219,
          369.110595703125,
          368.9879150390625,
          368.13531494140625,
          369.02789306640625,
          369.95001220703125,
          365.2023010253906,
          370.4501953125,
          368.5799865722656,
          371.0592956542969,
          370.4639892578125,
          363.33990478515625,
          362.0152893066406,
          362.31988525390625,
          365.6877136230469,
          364.27410888671875,
          364.5,
          358.076904296875,
          364.5190124511719,
          366.3081970214844,
          367.9718933105469,
          366.41009521484375,
          368.0791015625,
          369.14520263671875,
          370.4342041015625,
          367.8713073730469,
          368.8020935058594,
          370.55859375,
          371.1893005371094,
          372.2297058105469,
          372.04998779296875,
          372.25311279296875,
          372.9309997558594,
          373.8900146484375,
          376.3735046386719,
          375.9482116699219,
          376.3048095703125,
          377.2300109863281,
          380.8230895996094,
          377.414794921875,
          379.21661376953125,
          381.3393859863281,
          379.9092102050781,
          382.5504150390625,
          383.2698059082031,
          383.0069885253906,
          384.9200134277344,
          384.9678039550781,
          386.048095703125,
          388.41241455078125,
          389.5491943359375,
          388.3716125488281,
          391.1155090332031,
          385.70440673828125,
          390.01519775390625,
          391.4115905761719,
          393.5483093261719,
          391.8363037109375,
          390.65899658203125,
          389.24969482421875,
          381.57000732421875,
          386.7554016113281,
          389.6542053222656,
          391.4578857421875,
          395.7825012207031,
          395.0965881347656,
          391.4088134765625,
          394.2799072265625,
          394.3688049316406,
          392.37908935546875,
          393.93280029296875,
          393.20001220703125,
          395.1661071777344,
          396.69061279296875,
          399.0376892089844,
          399.565185546875,
          400.935302734375,
          401.21868896484375,
          401.8660888671875,
          401.4468078613281,
          400.03118896484375,
          401.276611328125,
          401.3799133300781,
          397.26019287109375,
          399.79681396484375,
          402.5513000488281,
          402.9413146972656,
          403.3070068359375,
          401.92120361328125,
          403.1365051269531,
          405.0574035644531,
          404.2455139160156,
          404.0365905761719,
          404.8301086425781,
          404.4075927734375,
          406.9070129394531,
          404.9414978027344,
          403.4273986816406,
          404.1813049316406,
          402.11761474609375,
          401.56988525390625,
          401,
          399.980712890625,
          401.9800109863281,
          400.76611328125,
          393.57659912109375,
          396.4142150878906,
          398.61090087890625,
          402.3265075683594,
          401.4866943359375,
          401.7063903808594,
          394.36041259765625,
          397.5086975097656,
          396.3962097167969,
          394.1026916503906,
          389.6964111328125,
          396.18170166015625,
          393.5841979980469,
          402.20001220703125,
          400.4103088378906,
          401.45001220703125,
          398.6600036621094,
          397.44000244140625,
          403.8982849121094,
          407.0549011230469,
          407.2699890136719,
          409.45318603515625,
          410.77850341796875,
          410.05120849609375,
          411.0660095214844,
          413.4599914550781,
          416.435302734375,
          414.5625915527344,
          413.2698974609375,
          417.1520080566406,
          418.0530090332031,
          419.5296936035156,
          419.54510498046875,
          423.909912109375,
          426.0903015136719,
          425.037109375,
          423.6119079589844,
          425.1300048828125,
          425.4914855957031,
          428.2267150878906,
          430.0119934082031,
          433.82000732421875,
          433.50421142578125,
          432.0299987792969,
          433.6000061035156,
          435.96990966796875,
          430.0299987792969,
          433.7406921386719,
          434.902099609375,
          420.2900085449219,
          425.0199890136719,
          419.7427062988281,
          424.2298889160156,
          416.7898864746094,
          415.677001953125,
          420.4154052734375,
          431.6600036621094,
          427.1600036621094,
          429.7174072265625,
          427.2880859375,
          426.5874938964844,
          422.69580078125,
          422.8529052734375,
          428.4053039550781,
          425.4195861816406,
          415.889892578125,
          423.0653076171875,
          427.1954040527344,
          431.9057922363281,
          431.56561279296875,
          434.44970703125,
          436.79998779296875,
          434.91259765625,
          437.0380859375,
          434.9754943847656,
          435.9898986816406,
          437.95660400390625,
          436.6000061035156,
          429.9147033691406,
          426.76708984375,
          420.91778564453125,
          426.14459228515625,
          428.3505859375,
          427.06988525390625,
          421.1044921875,
          424.5535888671875,
          419.8966979980469,
          418.13519287109375,
          421.5596923828125,
          411.82989501953125,
          395.1344909667969,
          399.54949951171875,
          407.5502014160156,
          409.7383117675781,
          405.3077087402344,
          413.2698974609375,
          416.3160095214844,
          417.48968505859375,
          409.6199951171875,
          405.07000732421875,
          408.0726013183594,
          409.98638916015625,
          415.6299133300781,
          413.0799865722656,
          410.5054016113281,
          406.2774963378906,
          409.8196105957031,
          408.010009765625,
          406.24969482421875,
          401.26470947265625,
          396.898193359375,
          398.08709716796875,
          395.5606994628906,
          390.41650390625,
          402.6943054199219,
          404.6614990234375,
          402.210693359375,
          406.3138122558594,
          405.83599853515625,
          401.96728515625,
          400.0000915527344,
          391.44439697265625,
          397.35009765625,
          394.4607849121094,
          398.5889892578125,
          394.42919921875,
          398.1098937988281,
          405.79998779296875,
          407.34759521484375,
          413.7674865722656,
          416.69000244140625,
          421.01458740234375,
          420.2204895019531,
          419.97979736328125,
          422.3388977050781,
          423.53369140625,
          426.3609924316406,
          424.7026062011719,
          423.98150634765625,
          422.67999267578125,
          427.5459899902344,
          429.0445861816406,
          420.7969055175781,
          419.431396484375,
          425.47698974609375,
          419.1980895996094,
          421.2738037109375,
          419.08349609375,
          421.9486999511719,
          422.1221923828125,
          422.6600036621094,
          422.9903869628906,
          412.6322021484375,
          405.82000732421875,
          406.00860595703125,
          409.4696960449219,
          412.0141906738281,
          412.6582946777344,
          404.15679931640625,
          410.0787048339844,
          404.7716979980469,
          405.57000732421875,
          399.9432067871094,
          389.5505065917969,
          387.01190185546875,
          391.75360107421875,
          388.41241455078125,
          397.2699890136719,
          395.7799987792969,
          398.2799987792969,
          392.4024963378906,
          384.6440124511719,
          383.9866027832031,
          388.3526916503906,
          379.5188903808594,
          386.43670654296875,
          392.0159912109375,
          399.5766906738281,
          402.28338623046875,
          396.2379150390625,
          397.9407043457031,
          398.91259765625,
          397.69970703125,
          401.1471862792969,
          399.89208984375,
          400.5627136230469,
          396.83050537109375,
          384.9339904785156,
          375.4851989746094,
          372.6575012207031,
          375.5220947265625,
          364.69000244140625,
          364.6059875488281,
          366.4028015136719,
          370.5098876953125,
          369.81298828125,
          370.5227966308594,
          379.1453857421875,
          380.6000061035156,
          380.55419921875,
          377.2589111328125,
          373.4429016113281,
          375.252685546875,
          377.25201416015625,
          376.1199035644531,
          384.760009765625,
          392.3309020996094,
          394.3340148925781,
          392.07659912109375,
          393.0270080566406,
          386.8277893066406,
          383.6954040527344,
          390.71270751953125,
          392.4360046386719,
          392.8077087402344,
          398.206298828125,
          399.330810546875,
          398.9018859863281,
          398.9317932128906,
          398.1659851074219,
          402.37200927734375,
          407.714111328125,
          411.2294921875,
          412.2025146484375,
          412.3877868652344,
          416.4877014160156,
          414.9389953613281,
          414.077392578125,
          417.0047912597656,
          412.4996032714844,
          416.2007141113281,
          418.8965148925781,
          422.6991882324219,
          427.54058837890625,
          429.614501953125,
          425.83551025390625,
          429.1943054199219,
          426.6310119628906,
          424.0210876464844,
          421.20001220703125,
          422.78741455078125,
          424.5624084472656,
          418.7255859375,
          411.4053955078125,
          407.1134033203125,
          403.5846862792969,
          400.97869873046875,
          406.6249084472656,
          403.99249267578125,
          403.70001220703125,
          401.96270751953125,
          407.7322998046875,
          410.7651062011719,
          413.664306640625,
          406.45001220703125,
          403.297607421875,
          400.97509765625,
          393.4367980957031,
          394.6099853515625,
          394.09759521484375,
          398.680908203125,
          390.1553039550781,
          385.60009765625,
          386.4836120605469,
          386.3941955566406,
          387.6698913574219,
          378.1856994628906,
          380.84149169921875,
          380.6600036621094,
          388.1686096191406,
          387.5835876464844,
          390.5743103027344,
          382.6108093261719,
          380.81280517578125,
          378.3785095214844,
          377.0804138183594,
          377.6272888183594,
          378.58538818359375,
          382.3507995605469,
          383.50140380859375,
          384.8122863769531,
          385.45709228515625,
          383.7580871582031,
          388.17999267578125,
          392.0387878417969,
          392.6249084472656,
          391.5331115722656,
          394.55950927734375,
          397.1400146484375,
          398.2828063964844,
          395.764892578125,
          391.5199890136719,
          388.13580322265625,
          389.8216857910156,
          393.5574035644531,
          389.17291259765625,
          397.9562072753906,
          396.92559814453125,
          398.35888671875,
          400.6438903808594,
          395.1164855957031,
          393.3888854980469,
          396.23291015625,
          397.6072998046875,
          400.45550537109375,
          401.6626892089844,
          402.3039855957031,
          401.794189453125,
          398.7847900390625,
          396.30999755859375,
          398.8500061035156,
          402.6300048828125,
          401.18951416015625,
          397.6878967285156,
          392.2799987792969,
          389.7925109863281,
          390.7073059082031,
          392.59698486328125,
          391.15350341796875,
          396.69580078125,
          396.0260009765625,
          382.18170166015625,
          379.26800537109375,
          377.6148986816406,
          376.29058837890625,
          382.91009521484375,
          377.12310791015625,
          377.75640869140625,
          378.1527099609375,
          376.0712890625,
          378.989990234375,
          375.1888122558594
         ]
        },
        {
         "line": {
          "width": 2
         },
         "mode": "lines",
         "name": "signal",
         "type": "scatter",
         "x": [
          "2021-01-04T00:00:00",
          "2021-01-05T00:00:00",
          "2021-01-06T00:00:00",
          "2021-01-07T00:00:00",
          "2021-01-08T00:00:00",
          "2021-01-11T00:00:00",
          "2021-01-12T00:00:00",
          "2021-01-13T00:00:00",
          "2021-01-14T00:00:00",
          "2021-01-15T00:00:00",
          "2021-01-18T00:00:00",
          "2021-01-19T00:00:00",
          "2021-01-20T00:00:00",
          "2021-01-21T00:00:00",
          "2021-01-22T00:00:00",
          "2021-01-25T00:00:00",
          "2021-01-26T00:00:00",
          "2021-01-27T00:00:00",
          "2021-01-28T00:00:00",
          "2021-01-29T00:00:00",
          "2021-02-01T00:00:00",
          "2021-02-02T00:00:00",
          "2021-02-03T00:00:00",
          "2021-02-04T00:00:00",
          "2021-02-05T00:00:00",
          "2021-02-08T00:00:00",
          "2021-02-09T00:00:00",
          "2021-02-10T00:00:00",
          "2021-02-11T00:00:00",
          "2021-02-12T00:00:00",
          "2021-02-15T00:00:00",
          "2021-02-16T00:00:00",
          "2021-02-17T00:00:00",
          "2021-02-18T00:00:00",
          "2021-02-19T00:00:00",
          "2021-02-22T00:00:00",
          "2021-02-23T00:00:00",
          "2021-02-24T00:00:00",
          "2021-02-25T00:00:00",
          "2021-02-26T00:00:00",
          "2021-03-01T00:00:00",
          "2021-03-02T00:00:00",
          "2021-03-03T00:00:00",
          "2021-03-04T00:00:00",
          "2021-03-05T00:00:00",
          "2021-03-08T00:00:00",
          "2021-03-09T00:00:00",
          "2021-03-10T00:00:00",
          "2021-03-11T00:00:00",
          "2021-03-12T00:00:00",
          "2021-03-15T00:00:00",
          "2021-03-16T00:00:00",
          "2021-03-17T00:00:00",
          "2021-03-18T00:00:00",
          "2021-03-19T00:00:00",
          "2021-03-22T00:00:00",
          "2021-03-23T00:00:00",
          "2021-03-24T00:00:00",
          "2021-03-25T00:00:00",
          "2021-03-26T00:00:00",
          "2021-03-29T00:00:00",
          "2021-03-30T00:00:00",
          "2021-03-31T00:00:00",
          "2021-04-01T00:00:00",
          "2021-04-06T00:00:00",
          "2021-04-07T00:00:00",
          "2021-04-08T00:00:00",
          "2021-04-09T00:00:00",
          "2021-04-12T00:00:00",
          "2021-04-13T00:00:00",
          "2021-04-14T00:00:00",
          "2021-04-15T00:00:00",
          "2021-04-16T00:00:00",
          "2021-04-19T00:00:00",
          "2021-04-20T00:00:00",
          "2021-04-21T00:00:00",
          "2021-04-22T00:00:00",
          "2021-04-23T00:00:00",
          "2021-04-26T00:00:00",
          "2021-04-27T00:00:00",
          "2021-04-28T00:00:00",
          "2021-04-29T00:00:00",
          "2021-04-30T00:00:00",
          "2021-05-03T00:00:00",
          "2021-05-04T00:00:00",
          "2021-05-05T00:00:00",
          "2021-05-06T00:00:00",
          "2021-05-07T00:00:00",
          "2021-05-10T00:00:00",
          "2021-05-11T00:00:00",
          "2021-05-12T00:00:00",
          "2021-05-13T00:00:00",
          "2021-05-14T00:00:00",
          "2021-05-17T00:00:00",
          "2021-05-18T00:00:00",
          "2021-05-19T00:00:00",
          "2021-05-20T00:00:00",
          "2021-05-21T00:00:00",
          "2021-05-24T00:00:00",
          "2021-05-25T00:00:00",
          "2021-05-26T00:00:00",
          "2021-05-27T00:00:00",
          "2021-05-28T00:00:00",
          "2021-05-31T00:00:00",
          "2021-06-01T00:00:00",
          "2021-06-02T00:00:00",
          "2021-06-03T00:00:00",
          "2021-06-04T00:00:00",
          "2021-06-07T00:00:00",
          "2021-06-08T00:00:00",
          "2021-06-09T00:00:00",
          "2021-06-10T00:00:00",
          "2021-06-11T00:00:00",
          "2021-06-14T00:00:00",
          "2021-06-15T00:00:00",
          "2021-06-16T00:00:00",
          "2021-06-17T00:00:00",
          "2021-06-18T00:00:00",
          "2021-06-21T00:00:00",
          "2021-06-22T00:00:00",
          "2021-06-23T00:00:00",
          "2021-06-24T00:00:00",
          "2021-06-25T00:00:00",
          "2021-06-28T00:00:00",
          "2021-06-29T00:00:00",
          "2021-06-30T00:00:00",
          "2021-07-01T00:00:00",
          "2021-07-02T00:00:00",
          "2021-07-05T00:00:00",
          "2021-07-06T00:00:00",
          "2021-07-07T00:00:00",
          "2021-07-08T00:00:00",
          "2021-07-09T00:00:00",
          "2021-07-12T00:00:00",
          "2021-07-13T00:00:00",
          "2021-07-14T00:00:00",
          "2021-07-15T00:00:00",
          "2021-07-16T00:00:00",
          "2021-07-19T00:00:00",
          "2021-07-20T00:00:00",
          "2021-07-21T00:00:00",
          "2021-07-22T00:00:00",
          "2021-07-23T00:00:00",
          "2021-07-26T00:00:00",
          "2021-07-27T00:00:00",
          "2021-07-28T00:00:00",
          "2021-07-29T00:00:00",
          "2021-07-30T00:00:00",
          "2021-08-02T00:00:00",
          "2021-08-03T00:00:00",
          "2021-08-04T00:00:00",
          "2021-08-05T00:00:00",
          "2021-08-06T00:00:00",
          "2021-08-09T00:00:00",
          "2021-08-10T00:00:00",
          "2021-08-11T00:00:00",
          "2021-08-12T00:00:00",
          "2021-08-13T00:00:00",
          "2021-08-16T00:00:00",
          "2021-08-17T00:00:00",
          "2021-08-18T00:00:00",
          "2021-08-19T00:00:00",
          "2021-08-20T00:00:00",
          "2021-08-23T00:00:00",
          "2021-08-24T00:00:00",
          "2021-08-25T00:00:00",
          "2021-08-26T00:00:00",
          "2021-08-27T00:00:00",
          "2021-08-30T00:00:00",
          "2021-08-31T00:00:00",
          "2021-09-01T00:00:00",
          "2021-09-02T00:00:00",
          "2021-09-03T00:00:00",
          "2021-09-06T00:00:00",
          "2021-09-07T00:00:00",
          "2021-09-08T00:00:00",
          "2021-09-09T00:00:00",
          "2021-09-10T00:00:00",
          "2021-09-13T00:00:00",
          "2021-09-14T00:00:00",
          "2021-09-15T00:00:00",
          "2021-09-16T00:00:00",
          "2021-09-17T00:00:00",
          "2021-09-20T00:00:00",
          "2021-09-21T00:00:00",
          "2021-09-22T00:00:00",
          "2021-09-23T00:00:00",
          "2021-09-24T00:00:00",
          "2021-09-27T00:00:00",
          "2021-09-28T00:00:00",
          "2021-09-29T00:00:00",
          "2021-09-30T00:00:00",
          "2021-10-01T00:00:00",
          "2021-10-04T00:00:00",
          "2021-10-05T00:00:00",
          "2021-10-06T00:00:00",
          "2021-10-07T00:00:00",
          "2021-10-08T00:00:00",
          "2021-10-11T00:00:00",
          "2021-10-12T00:00:00",
          "2021-10-13T00:00:00",
          "2021-10-14T00:00:00",
          "2021-10-15T00:00:00",
          "2021-10-18T00:00:00",
          "2021-10-19T00:00:00",
          "2021-10-20T00:00:00",
          "2021-10-21T00:00:00",
          "2021-10-22T00:00:00",
          "2021-10-25T00:00:00",
          "2021-10-26T00:00:00",
          "2021-10-27T00:00:00",
          "2021-10-28T00:00:00",
          "2021-10-29T00:00:00",
          "2021-11-01T00:00:00",
          "2021-11-02T00:00:00",
          "2021-11-03T00:00:00",
          "2021-11-04T00:00:00",
          "2021-11-05T00:00:00",
          "2021-11-08T00:00:00",
          "2021-11-09T00:00:00",
          "2021-11-10T00:00:00",
          "2021-11-11T00:00:00",
          "2021-11-12T00:00:00",
          "2021-11-15T00:00:00",
          "2021-11-16T00:00:00",
          "2021-11-17T00:00:00",
          "2021-11-18T00:00:00",
          "2021-11-19T00:00:00",
          "2021-11-22T00:00:00",
          "2021-11-23T00:00:00",
          "2021-11-24T00:00:00",
          "2021-11-25T00:00:00",
          "2021-11-26T00:00:00",
          "2021-11-29T00:00:00",
          "2021-11-30T00:00:00",
          "2021-12-01T00:00:00",
          "2021-12-02T00:00:00",
          "2021-12-03T00:00:00",
          "2021-12-06T00:00:00",
          "2021-12-07T00:00:00",
          "2021-12-08T00:00:00",
          "2021-12-09T00:00:00",
          "2021-12-10T00:00:00",
          "2021-12-13T00:00:00",
          "2021-12-14T00:00:00",
          "2021-12-15T00:00:00",
          "2021-12-16T00:00:00",
          "2021-12-17T00:00:00",
          "2021-12-20T00:00:00",
          "2021-12-21T00:00:00",
          "2021-12-22T00:00:00",
          "2021-12-23T00:00:00",
          "2021-12-24T00:00:00",
          "2021-12-27T00:00:00",
          "2021-12-28T00:00:00",
          "2021-12-29T00:00:00",
          "2021-12-30T00:00:00",
          "2021-12-31T00:00:00",
          "2022-01-03T00:00:00",
          "2022-01-04T00:00:00",
          "2022-01-05T00:00:00",
          "2022-01-06T00:00:00",
          "2022-01-07T00:00:00",
          "2022-01-10T00:00:00",
          "2022-01-11T00:00:00",
          "2022-01-12T00:00:00",
          "2022-01-13T00:00:00",
          "2022-01-14T00:00:00",
          "2022-01-17T00:00:00",
          "2022-01-18T00:00:00",
          "2022-01-19T00:00:00",
          "2022-01-20T00:00:00",
          "2022-01-21T00:00:00",
          "2022-01-24T00:00:00",
          "2022-01-25T00:00:00",
          "2022-01-26T00:00:00",
          "2022-01-27T00:00:00",
          "2022-01-28T00:00:00",
          "2022-01-31T00:00:00",
          "2022-02-01T00:00:00",
          "2022-02-02T00:00:00",
          "2022-02-03T00:00:00",
          "2022-02-04T00:00:00",
          "2022-02-07T00:00:00",
          "2022-02-08T00:00:00",
          "2022-02-09T00:00:00",
          "2022-02-10T00:00:00",
          "2022-02-11T00:00:00",
          "2022-02-14T00:00:00",
          "2022-02-15T00:00:00",
          "2022-02-16T00:00:00",
          "2022-02-17T00:00:00",
          "2022-02-18T00:00:00",
          "2022-02-21T00:00:00",
          "2022-02-22T00:00:00",
          "2022-02-23T00:00:00",
          "2022-02-24T00:00:00",
          "2022-02-25T00:00:00",
          "2022-02-28T00:00:00",
          "2022-03-01T00:00:00",
          "2022-03-02T00:00:00",
          "2022-03-03T00:00:00",
          "2022-03-04T00:00:00",
          "2022-03-07T00:00:00",
          "2022-03-08T00:00:00",
          "2022-03-09T00:00:00",
          "2022-03-10T00:00:00",
          "2022-03-11T00:00:00",
          "2022-03-14T00:00:00",
          "2022-03-15T00:00:00",
          "2022-03-16T00:00:00",
          "2022-03-17T00:00:00",
          "2022-03-18T00:00:00",
          "2022-03-21T00:00:00",
          "2022-03-22T00:00:00",
          "2022-03-23T00:00:00",
          "2022-03-24T00:00:00",
          "2022-03-25T00:00:00",
          "2022-03-28T00:00:00",
          "2022-03-29T00:00:00",
          "2022-03-30T00:00:00",
          "2022-03-31T00:00:00",
          "2022-04-01T00:00:00",
          "2022-04-04T00:00:00",
          "2022-04-05T00:00:00",
          "2022-04-06T00:00:00",
          "2022-04-07T00:00:00",
          "2022-04-08T00:00:00",
          "2022-04-11T00:00:00",
          "2022-04-12T00:00:00",
          "2022-04-13T00:00:00",
          "2022-04-14T00:00:00",
          "2022-04-19T00:00:00",
          "2022-04-20T00:00:00",
          "2022-04-21T00:00:00",
          "2022-04-22T00:00:00",
          "2022-04-25T00:00:00",
          "2022-04-26T00:00:00",
          "2022-04-27T00:00:00",
          "2022-04-28T00:00:00",
          "2022-04-29T00:00:00",
          "2022-05-02T00:00:00",
          "2022-05-03T00:00:00",
          "2022-05-04T00:00:00",
          "2022-05-05T00:00:00",
          "2022-05-06T00:00:00",
          "2022-05-09T00:00:00",
          "2022-05-10T00:00:00",
          "2022-05-11T00:00:00",
          "2022-05-12T00:00:00",
          "2022-05-13T00:00:00",
          "2022-05-16T00:00:00",
          "2022-05-17T00:00:00",
          "2022-05-18T00:00:00",
          "2022-05-19T00:00:00",
          "2022-05-20T00:00:00",
          "2022-05-23T00:00:00",
          "2022-05-24T00:00:00",
          "2022-05-25T00:00:00",
          "2022-05-26T00:00:00",
          "2022-05-27T00:00:00",
          "2022-05-30T00:00:00",
          "2022-05-31T00:00:00",
          "2022-06-01T00:00:00",
          "2022-06-02T00:00:00",
          "2022-06-03T00:00:00",
          "2022-06-06T00:00:00",
          "2022-06-07T00:00:00",
          "2022-06-08T00:00:00",
          "2022-06-09T00:00:00",
          "2022-06-10T00:00:00",
          "2022-06-13T00:00:00",
          "2022-06-14T00:00:00",
          "2022-06-15T00:00:00",
          "2022-06-16T00:00:00",
          "2022-06-17T00:00:00",
          "2022-06-20T00:00:00",
          "2022-06-21T00:00:00",
          "2022-06-22T00:00:00",
          "2022-06-23T00:00:00",
          "2022-06-24T00:00:00",
          "2022-06-27T00:00:00",
          "2022-06-28T00:00:00",
          "2022-06-29T00:00:00",
          "2022-06-30T00:00:00",
          "2022-07-01T00:00:00",
          "2022-07-04T00:00:00",
          "2022-07-05T00:00:00",
          "2022-07-06T00:00:00",
          "2022-07-07T00:00:00",
          "2022-07-08T00:00:00",
          "2022-07-11T00:00:00",
          "2022-07-12T00:00:00",
          "2022-07-13T00:00:00",
          "2022-07-14T00:00:00",
          "2022-07-15T00:00:00",
          "2022-07-18T00:00:00",
          "2022-07-19T00:00:00",
          "2022-07-20T00:00:00",
          "2022-07-21T00:00:00",
          "2022-07-22T00:00:00",
          "2022-07-25T00:00:00",
          "2022-07-26T00:00:00",
          "2022-07-27T00:00:00",
          "2022-07-28T00:00:00",
          "2022-07-29T00:00:00",
          "2022-08-01T00:00:00",
          "2022-08-02T00:00:00",
          "2022-08-03T00:00:00",
          "2022-08-04T00:00:00",
          "2022-08-05T00:00:00",
          "2022-08-08T00:00:00",
          "2022-08-09T00:00:00",
          "2022-08-10T00:00:00",
          "2022-08-11T00:00:00",
          "2022-08-12T00:00:00",
          "2022-08-15T00:00:00",
          "2022-08-16T00:00:00",
          "2022-08-17T00:00:00",
          "2022-08-18T00:00:00",
          "2022-08-19T00:00:00",
          "2022-08-22T00:00:00",
          "2022-08-23T00:00:00",
          "2022-08-24T00:00:00",
          "2022-08-25T00:00:00",
          "2022-08-26T00:00:00",
          "2022-08-29T00:00:00",
          "2022-08-30T00:00:00",
          "2022-08-31T00:00:00",
          "2022-09-01T00:00:00",
          "2022-09-02T00:00:00",
          "2022-09-05T00:00:00",
          "2022-09-06T00:00:00",
          "2022-09-07T00:00:00",
          "2022-09-08T00:00:00",
          "2022-09-09T00:00:00",
          "2022-09-12T00:00:00",
          "2022-09-13T00:00:00",
          "2022-09-14T00:00:00",
          "2022-09-15T00:00:00",
          "2022-09-16T00:00:00",
          "2022-09-19T00:00:00",
          "2022-09-20T00:00:00",
          "2022-09-21T00:00:00",
          "2022-09-22T00:00:00",
          "2022-09-23T00:00:00",
          "2022-09-26T00:00:00",
          "2022-09-27T00:00:00",
          "2022-09-28T00:00:00",
          "2022-09-29T00:00:00",
          "2022-09-30T00:00:00",
          "2022-10-03T00:00:00",
          "2022-10-04T00:00:00",
          "2022-10-05T00:00:00",
          "2022-10-06T00:00:00",
          "2022-10-07T00:00:00",
          "2022-10-10T00:00:00",
          "2022-10-11T00:00:00",
          "2022-10-12T00:00:00",
          "2022-10-13T00:00:00",
          "2022-10-14T00:00:00",
          "2022-10-17T00:00:00",
          "2022-10-18T00:00:00",
          "2022-10-19T00:00:00",
          "2022-10-20T00:00:00",
          "2022-10-21T00:00:00",
          "2022-10-24T00:00:00",
          "2022-10-25T00:00:00",
          "2022-10-26T00:00:00",
          "2022-10-27T00:00:00",
          "2022-10-28T00:00:00",
          "2022-10-31T00:00:00",
          "2022-11-01T00:00:00",
          "2022-11-02T00:00:00",
          "2022-11-03T00:00:00",
          "2022-11-04T00:00:00",
          "2022-11-07T00:00:00",
          "2022-11-08T00:00:00",
          "2022-11-09T00:00:00",
          "2022-11-10T00:00:00",
          "2022-11-11T00:00:00",
          "2022-11-14T00:00:00",
          "2022-11-15T00:00:00",
          "2022-11-16T00:00:00",
          "2022-11-17T00:00:00",
          "2022-11-18T00:00:00",
          "2022-11-21T00:00:00",
          "2022-11-22T00:00:00",
          "2022-11-23T00:00:00",
          "2022-11-24T00:00:00",
          "2022-11-25T00:00:00",
          "2022-11-28T00:00:00",
          "2022-11-29T00:00:00",
          "2022-11-30T00:00:00",
          "2022-12-01T00:00:00",
          "2022-12-02T00:00:00",
          "2022-12-05T00:00:00",
          "2022-12-06T00:00:00",
          "2022-12-07T00:00:00",
          "2022-12-08T00:00:00",
          "2022-12-09T00:00:00",
          "2022-12-12T00:00:00",
          "2022-12-13T00:00:00",
          "2022-12-14T00:00:00",
          "2022-12-15T00:00:00",
          "2022-12-16T00:00:00",
          "2022-12-19T00:00:00",
          "2022-12-20T00:00:00",
          "2022-12-21T00:00:00",
          "2022-12-22T00:00:00",
          "2022-12-23T00:00:00",
          "2022-12-27T00:00:00",
          "2022-12-28T00:00:00",
          "2022-12-29T00:00:00",
          "2022-12-30T00:00:00"
         ],
         "xaxis": "x",
         "y": [
          1,
          1,
          1,
          1,
          1,
          1,
          1,
          1,
          1,
          1,
          1,
          1,
          1,
          1,
          1,
          1,
          1,
          1,
          1,
          1,
          1,
          1,
          1,
          1,
          1,
          1,
          1,
          1,
          1,
          1,
          0,
          0,
          0,
          0,
          0,
          0,
          0,
          0,
          0,
          0,
          0,
          0,
          0,
          0,
          1,
          1,
          1,
          1,
          1,
          1,
          1,
          1,
          1,
          1,
          1,
          1,
          1,
          1,
          1,
          1,
          1,
          1,
          1,
          1,
          1,
          1,
          1,
          1,
          1,
          1,
          1,
          1,
          0,
          0,
          1,
          1,
          1,
          1,
          1,
          1,
          1,
          1,
          1,
          1,
          1,
          1,
          1,
          0,
          0,
          0,
          0,
          0,
          0,
          0,
          0,
          1,
          1,
          1,
          1,
          1,
          1,
          1,
          1,
          1,
          1,
          1,
          1,
          1,
          1,
          1,
          1,
          1,
          1,
          1,
          1,
          1,
          1,
          1,
          1,
          1,
          1,
          1,
          1,
          1,
          1,
          1,
          1,
          1,
          1,
          1,
          1,
          1,
          1,
          1,
          1,
          1,
          1,
          1,
          1,
          1,
          1,
          1,
          1,
          1,
          1,
          1,
          1,
          1,
          1,
          1,
          1,
          1,
          1,
          1,
          1,
          1,
          1,
          1,
          1,
          1,
          1,
          1,
          1,
          1,
          1,
          1,
          1,
          1,
          1,
          1,
          1,
          1,
          1,
          0,
          0,
          0,
          0,
          0,
          0,
          0,
          0,
          0,
          0,
          0,
          0,
          0,
          0,
          0,
          0,
          0,
          0,
          0,
          0,
          1,
          1,
          1,
          1,
          1,
          1,
          1,
          1,
          1,
          1,
          1,
          1,
          1,
          1,
          1,
          1,
          1,
          1,
          1,
          1,
          1,
          1,
          1,
          1,
          1,
          1,
          1,
          1,
          1,
          1,
          1,
          1,
          1,
          1,
          1,
          0,
          0,
          0,
          0,
          0,
          0,
          0,
          0,
          0,
          1,
          1,
          1,
          1,
          1,
          1,
          1,
          1,
          1,
          1,
          1,
          1,
          1,
          1,
          1,
          1,
          1,
          1,
          1,
          1,
          1,
          1,
          0,
          0,
          0,
          0,
          0,
          0,
          0,
          0,
          0,
          0,
          0,
          0,
          0,
          0,
          1,
          1,
          1,
          1,
          1,
          1,
          1,
          1,
          1,
          1,
          1,
          1,
          1,
          1,
          1,
          1,
          1,
          1,
          1,
          1,
          1,
          1,
          1,
          1,
          1,
          1,
          1,
          1,
          1,
          1,
          1,
          1,
          1,
          1,
          1,
          1,
          1,
          1,
          1,
          1,
          1,
          1,
          1,
          1,
          1,
          1,
          1,
          1,
          1,
          1,
          1,
          0,
          0,
          0,
          0,
          0,
          0,
          0,
          0,
          0,
          0,
          0,
          0,
          0,
          0,
          0,
          0,
          0,
          0,
          0,
          0,
          0,
          0,
          0,
          0,
          0,
          0,
          0,
          0,
          0,
          0,
          0,
          0,
          0,
          1,
          1,
          1,
          1,
          0,
          0,
          0,
          0,
          0,
          0,
          0,
          0,
          0,
          0,
          0,
          0,
          0,
          0,
          1,
          1,
          1,
          1,
          1,
          1,
          1,
          1,
          1,
          1,
          1,
          1,
          1,
          1,
          1,
          1,
          1,
          1,
          1,
          1,
          1,
          1,
          1,
          1,
          1,
          1,
          1,
          1,
          1,
          1,
          1,
          1,
          1,
          1,
          1,
          1,
          1,
          1,
          1,
          1,
          1,
          1,
          0,
          0,
          0,
          0,
          0,
          0,
          0,
          0,
          0,
          0,
          0,
          0,
          0,
          0,
          0,
          0,
          0,
          0,
          0,
          0,
          0,
          0,
          0,
          0,
          0,
          0,
          0,
          0,
          0,
          0,
          0,
          0,
          0,
          0,
          0,
          0,
          0,
          0,
          0,
          0,
          0,
          1,
          1,
          1,
          1,
          1,
          1,
          1,
          1,
          1,
          1,
          1,
          1,
          1,
          1,
          1,
          1,
          1,
          1,
          1,
          1,
          1,
          1,
          1,
          1,
          1,
          1,
          1,
          1,
          1,
          1,
          1,
          1,
          1,
          1,
          1,
          1,
          0,
          0,
          0,
          0,
          0,
          0,
          0,
          0,
          0,
          0,
          0,
          0,
          0,
          0,
          0,
          0,
          0,
          0,
          0,
          0,
          1
         ],
         "yaxis": "y2"
        },
        {
         "line": {
          "width": 2
         },
         "mode": "lines",
         "name": "pred",
         "type": "scatter",
         "x": [
          "2021-01-04T00:00:00",
          "2021-01-05T00:00:00",
          "2021-01-06T00:00:00",
          "2021-01-07T00:00:00",
          "2021-01-08T00:00:00",
          "2021-01-11T00:00:00",
          "2021-01-12T00:00:00",
          "2021-01-13T00:00:00",
          "2021-01-14T00:00:00",
          "2021-01-15T00:00:00",
          "2021-01-18T00:00:00",
          "2021-01-19T00:00:00",
          "2021-01-20T00:00:00",
          "2021-01-21T00:00:00",
          "2021-01-22T00:00:00",
          "2021-01-25T00:00:00",
          "2021-01-26T00:00:00",
          "2021-01-27T00:00:00",
          "2021-01-28T00:00:00",
          "2021-01-29T00:00:00",
          "2021-02-01T00:00:00",
          "2021-02-02T00:00:00",
          "2021-02-03T00:00:00",
          "2021-02-04T00:00:00",
          "2021-02-05T00:00:00",
          "2021-02-08T00:00:00",
          "2021-02-09T00:00:00",
          "2021-02-10T00:00:00",
          "2021-02-11T00:00:00",
          "2021-02-12T00:00:00",
          "2021-02-15T00:00:00",
          "2021-02-16T00:00:00",
          "2021-02-17T00:00:00",
          "2021-02-18T00:00:00",
          "2021-02-19T00:00:00",
          "2021-02-22T00:00:00",
          "2021-02-23T00:00:00",
          "2021-02-24T00:00:00",
          "2021-02-25T00:00:00",
          "2021-02-26T00:00:00",
          "2021-03-01T00:00:00",
          "2021-03-02T00:00:00",
          "2021-03-03T00:00:00",
          "2021-03-04T00:00:00",
          "2021-03-05T00:00:00",
          "2021-03-08T00:00:00",
          "2021-03-09T00:00:00",
          "2021-03-10T00:00:00",
          "2021-03-11T00:00:00",
          "2021-03-12T00:00:00",
          "2021-03-15T00:00:00",
          "2021-03-16T00:00:00",
          "2021-03-17T00:00:00",
          "2021-03-18T00:00:00",
          "2021-03-19T00:00:00",
          "2021-03-22T00:00:00",
          "2021-03-23T00:00:00",
          "2021-03-24T00:00:00",
          "2021-03-25T00:00:00",
          "2021-03-26T00:00:00",
          "2021-03-29T00:00:00",
          "2021-03-30T00:00:00",
          "2021-03-31T00:00:00",
          "2021-04-01T00:00:00",
          "2021-04-06T00:00:00",
          "2021-04-07T00:00:00",
          "2021-04-08T00:00:00",
          "2021-04-09T00:00:00",
          "2021-04-12T00:00:00",
          "2021-04-13T00:00:00",
          "2021-04-14T00:00:00",
          "2021-04-15T00:00:00",
          "2021-04-16T00:00:00",
          "2021-04-19T00:00:00",
          "2021-04-20T00:00:00",
          "2021-04-21T00:00:00",
          "2021-04-22T00:00:00",
          "2021-04-23T00:00:00",
          "2021-04-26T00:00:00",
          "2021-04-27T00:00:00",
          "2021-04-28T00:00:00",
          "2021-04-29T00:00:00",
          "2021-04-30T00:00:00",
          "2021-05-03T00:00:00",
          "2021-05-04T00:00:00",
          "2021-05-05T00:00:00",
          "2021-05-06T00:00:00",
          "2021-05-07T00:00:00",
          "2021-05-10T00:00:00",
          "2021-05-11T00:00:00",
          "2021-05-12T00:00:00",
          "2021-05-13T00:00:00",
          "2021-05-14T00:00:00",
          "2021-05-17T00:00:00",
          "2021-05-18T00:00:00",
          "2021-05-19T00:00:00",
          "2021-05-20T00:00:00",
          "2021-05-21T00:00:00",
          "2021-05-24T00:00:00",
          "2021-05-25T00:00:00",
          "2021-05-26T00:00:00",
          "2021-05-27T00:00:00",
          "2021-05-28T00:00:00",
          "2021-05-31T00:00:00",
          "2021-06-01T00:00:00",
          "2021-06-02T00:00:00",
          "2021-06-03T00:00:00",
          "2021-06-04T00:00:00",
          "2021-06-07T00:00:00",
          "2021-06-08T00:00:00",
          "2021-06-09T00:00:00",
          "2021-06-10T00:00:00",
          "2021-06-11T00:00:00",
          "2021-06-14T00:00:00",
          "2021-06-15T00:00:00",
          "2021-06-16T00:00:00",
          "2021-06-17T00:00:00",
          "2021-06-18T00:00:00",
          "2021-06-21T00:00:00",
          "2021-06-22T00:00:00",
          "2021-06-23T00:00:00",
          "2021-06-24T00:00:00",
          "2021-06-25T00:00:00",
          "2021-06-28T00:00:00",
          "2021-06-29T00:00:00",
          "2021-06-30T00:00:00",
          "2021-07-01T00:00:00",
          "2021-07-02T00:00:00",
          "2021-07-05T00:00:00",
          "2021-07-06T00:00:00",
          "2021-07-07T00:00:00",
          "2021-07-08T00:00:00",
          "2021-07-09T00:00:00",
          "2021-07-12T00:00:00",
          "2021-07-13T00:00:00",
          "2021-07-14T00:00:00",
          "2021-07-15T00:00:00",
          "2021-07-16T00:00:00",
          "2021-07-19T00:00:00",
          "2021-07-20T00:00:00",
          "2021-07-21T00:00:00",
          "2021-07-22T00:00:00",
          "2021-07-23T00:00:00",
          "2021-07-26T00:00:00",
          "2021-07-27T00:00:00",
          "2021-07-28T00:00:00",
          "2021-07-29T00:00:00",
          "2021-07-30T00:00:00",
          "2021-08-02T00:00:00",
          "2021-08-03T00:00:00",
          "2021-08-04T00:00:00",
          "2021-08-05T00:00:00",
          "2021-08-06T00:00:00",
          "2021-08-09T00:00:00",
          "2021-08-10T00:00:00",
          "2021-08-11T00:00:00",
          "2021-08-12T00:00:00",
          "2021-08-13T00:00:00",
          "2021-08-16T00:00:00",
          "2021-08-17T00:00:00",
          "2021-08-18T00:00:00",
          "2021-08-19T00:00:00",
          "2021-08-20T00:00:00",
          "2021-08-23T00:00:00",
          "2021-08-24T00:00:00",
          "2021-08-25T00:00:00",
          "2021-08-26T00:00:00",
          "2021-08-27T00:00:00",
          "2021-08-30T00:00:00",
          "2021-08-31T00:00:00",
          "2021-09-01T00:00:00",
          "2021-09-02T00:00:00",
          "2021-09-03T00:00:00",
          "2021-09-06T00:00:00",
          "2021-09-07T00:00:00",
          "2021-09-08T00:00:00",
          "2021-09-09T00:00:00",
          "2021-09-10T00:00:00",
          "2021-09-13T00:00:00",
          "2021-09-14T00:00:00",
          "2021-09-15T00:00:00",
          "2021-09-16T00:00:00",
          "2021-09-17T00:00:00",
          "2021-09-20T00:00:00",
          "2021-09-21T00:00:00",
          "2021-09-22T00:00:00",
          "2021-09-23T00:00:00",
          "2021-09-24T00:00:00",
          "2021-09-27T00:00:00",
          "2021-09-28T00:00:00",
          "2021-09-29T00:00:00",
          "2021-09-30T00:00:00",
          "2021-10-01T00:00:00",
          "2021-10-04T00:00:00",
          "2021-10-05T00:00:00",
          "2021-10-06T00:00:00",
          "2021-10-07T00:00:00",
          "2021-10-08T00:00:00",
          "2021-10-11T00:00:00",
          "2021-10-12T00:00:00",
          "2021-10-13T00:00:00",
          "2021-10-14T00:00:00",
          "2021-10-15T00:00:00",
          "2021-10-18T00:00:00",
          "2021-10-19T00:00:00",
          "2021-10-20T00:00:00",
          "2021-10-21T00:00:00",
          "2021-10-22T00:00:00",
          "2021-10-25T00:00:00",
          "2021-10-26T00:00:00",
          "2021-10-27T00:00:00",
          "2021-10-28T00:00:00",
          "2021-10-29T00:00:00",
          "2021-11-01T00:00:00",
          "2021-11-02T00:00:00",
          "2021-11-03T00:00:00",
          "2021-11-04T00:00:00",
          "2021-11-05T00:00:00",
          "2021-11-08T00:00:00",
          "2021-11-09T00:00:00",
          "2021-11-10T00:00:00",
          "2021-11-11T00:00:00",
          "2021-11-12T00:00:00",
          "2021-11-15T00:00:00",
          "2021-11-16T00:00:00",
          "2021-11-17T00:00:00",
          "2021-11-18T00:00:00",
          "2021-11-19T00:00:00",
          "2021-11-22T00:00:00",
          "2021-11-23T00:00:00",
          "2021-11-24T00:00:00",
          "2021-11-25T00:00:00",
          "2021-11-26T00:00:00",
          "2021-11-29T00:00:00",
          "2021-11-30T00:00:00",
          "2021-12-01T00:00:00",
          "2021-12-02T00:00:00",
          "2021-12-03T00:00:00",
          "2021-12-06T00:00:00",
          "2021-12-07T00:00:00",
          "2021-12-08T00:00:00",
          "2021-12-09T00:00:00",
          "2021-12-10T00:00:00",
          "2021-12-13T00:00:00",
          "2021-12-14T00:00:00",
          "2021-12-15T00:00:00",
          "2021-12-16T00:00:00",
          "2021-12-17T00:00:00",
          "2021-12-20T00:00:00",
          "2021-12-21T00:00:00",
          "2021-12-22T00:00:00",
          "2021-12-23T00:00:00",
          "2021-12-24T00:00:00",
          "2021-12-27T00:00:00",
          "2021-12-28T00:00:00",
          "2021-12-29T00:00:00",
          "2021-12-30T00:00:00",
          "2021-12-31T00:00:00",
          "2022-01-03T00:00:00",
          "2022-01-04T00:00:00",
          "2022-01-05T00:00:00",
          "2022-01-06T00:00:00",
          "2022-01-07T00:00:00",
          "2022-01-10T00:00:00",
          "2022-01-11T00:00:00",
          "2022-01-12T00:00:00",
          "2022-01-13T00:00:00",
          "2022-01-14T00:00:00",
          "2022-01-17T00:00:00",
          "2022-01-18T00:00:00",
          "2022-01-19T00:00:00",
          "2022-01-20T00:00:00",
          "2022-01-21T00:00:00",
          "2022-01-24T00:00:00",
          "2022-01-25T00:00:00",
          "2022-01-26T00:00:00",
          "2022-01-27T00:00:00",
          "2022-01-28T00:00:00",
          "2022-01-31T00:00:00",
          "2022-02-01T00:00:00",
          "2022-02-02T00:00:00",
          "2022-02-03T00:00:00",
          "2022-02-04T00:00:00",
          "2022-02-07T00:00:00",
          "2022-02-08T00:00:00",
          "2022-02-09T00:00:00",
          "2022-02-10T00:00:00",
          "2022-02-11T00:00:00",
          "2022-02-14T00:00:00",
          "2022-02-15T00:00:00",
          "2022-02-16T00:00:00",
          "2022-02-17T00:00:00",
          "2022-02-18T00:00:00",
          "2022-02-21T00:00:00",
          "2022-02-22T00:00:00",
          "2022-02-23T00:00:00",
          "2022-02-24T00:00:00",
          "2022-02-25T00:00:00",
          "2022-02-28T00:00:00",
          "2022-03-01T00:00:00",
          "2022-03-02T00:00:00",
          "2022-03-03T00:00:00",
          "2022-03-04T00:00:00",
          "2022-03-07T00:00:00",
          "2022-03-08T00:00:00",
          "2022-03-09T00:00:00",
          "2022-03-10T00:00:00",
          "2022-03-11T00:00:00",
          "2022-03-14T00:00:00",
          "2022-03-15T00:00:00",
          "2022-03-16T00:00:00",
          "2022-03-17T00:00:00",
          "2022-03-18T00:00:00",
          "2022-03-21T00:00:00",
          "2022-03-22T00:00:00",
          "2022-03-23T00:00:00",
          "2022-03-24T00:00:00",
          "2022-03-25T00:00:00",
          "2022-03-28T00:00:00",
          "2022-03-29T00:00:00",
          "2022-03-30T00:00:00",
          "2022-03-31T00:00:00",
          "2022-04-01T00:00:00",
          "2022-04-04T00:00:00",
          "2022-04-05T00:00:00",
          "2022-04-06T00:00:00",
          "2022-04-07T00:00:00",
          "2022-04-08T00:00:00",
          "2022-04-11T00:00:00",
          "2022-04-12T00:00:00",
          "2022-04-13T00:00:00",
          "2022-04-14T00:00:00",
          "2022-04-19T00:00:00",
          "2022-04-20T00:00:00",
          "2022-04-21T00:00:00",
          "2022-04-22T00:00:00",
          "2022-04-25T00:00:00",
          "2022-04-26T00:00:00",
          "2022-04-27T00:00:00",
          "2022-04-28T00:00:00",
          "2022-04-29T00:00:00",
          "2022-05-02T00:00:00",
          "2022-05-03T00:00:00",
          "2022-05-04T00:00:00",
          "2022-05-05T00:00:00",
          "2022-05-06T00:00:00",
          "2022-05-09T00:00:00",
          "2022-05-10T00:00:00",
          "2022-05-11T00:00:00",
          "2022-05-12T00:00:00",
          "2022-05-13T00:00:00",
          "2022-05-16T00:00:00",
          "2022-05-17T00:00:00",
          "2022-05-18T00:00:00",
          "2022-05-19T00:00:00",
          "2022-05-20T00:00:00",
          "2022-05-23T00:00:00",
          "2022-05-24T00:00:00",
          "2022-05-25T00:00:00",
          "2022-05-26T00:00:00",
          "2022-05-27T00:00:00",
          "2022-05-30T00:00:00",
          "2022-05-31T00:00:00",
          "2022-06-01T00:00:00",
          "2022-06-02T00:00:00",
          "2022-06-03T00:00:00",
          "2022-06-06T00:00:00",
          "2022-06-07T00:00:00",
          "2022-06-08T00:00:00",
          "2022-06-09T00:00:00",
          "2022-06-10T00:00:00",
          "2022-06-13T00:00:00",
          "2022-06-14T00:00:00",
          "2022-06-15T00:00:00",
          "2022-06-16T00:00:00",
          "2022-06-17T00:00:00",
          "2022-06-20T00:00:00",
          "2022-06-21T00:00:00",
          "2022-06-22T00:00:00",
          "2022-06-23T00:00:00",
          "2022-06-24T00:00:00",
          "2022-06-27T00:00:00",
          "2022-06-28T00:00:00",
          "2022-06-29T00:00:00",
          "2022-06-30T00:00:00",
          "2022-07-01T00:00:00",
          "2022-07-04T00:00:00",
          "2022-07-05T00:00:00",
          "2022-07-06T00:00:00",
          "2022-07-07T00:00:00",
          "2022-07-08T00:00:00",
          "2022-07-11T00:00:00",
          "2022-07-12T00:00:00",
          "2022-07-13T00:00:00",
          "2022-07-14T00:00:00",
          "2022-07-15T00:00:00",
          "2022-07-18T00:00:00",
          "2022-07-19T00:00:00",
          "2022-07-20T00:00:00",
          "2022-07-21T00:00:00",
          "2022-07-22T00:00:00",
          "2022-07-25T00:00:00",
          "2022-07-26T00:00:00",
          "2022-07-27T00:00:00",
          "2022-07-28T00:00:00",
          "2022-07-29T00:00:00",
          "2022-08-01T00:00:00",
          "2022-08-02T00:00:00",
          "2022-08-03T00:00:00",
          "2022-08-04T00:00:00",
          "2022-08-05T00:00:00",
          "2022-08-08T00:00:00",
          "2022-08-09T00:00:00",
          "2022-08-10T00:00:00",
          "2022-08-11T00:00:00",
          "2022-08-12T00:00:00",
          "2022-08-15T00:00:00",
          "2022-08-16T00:00:00",
          "2022-08-17T00:00:00",
          "2022-08-18T00:00:00",
          "2022-08-19T00:00:00",
          "2022-08-22T00:00:00",
          "2022-08-23T00:00:00",
          "2022-08-24T00:00:00",
          "2022-08-25T00:00:00",
          "2022-08-26T00:00:00",
          "2022-08-29T00:00:00",
          "2022-08-30T00:00:00",
          "2022-08-31T00:00:00",
          "2022-09-01T00:00:00",
          "2022-09-02T00:00:00",
          "2022-09-05T00:00:00",
          "2022-09-06T00:00:00",
          "2022-09-07T00:00:00",
          "2022-09-08T00:00:00",
          "2022-09-09T00:00:00",
          "2022-09-12T00:00:00",
          "2022-09-13T00:00:00",
          "2022-09-14T00:00:00",
          "2022-09-15T00:00:00",
          "2022-09-16T00:00:00",
          "2022-09-19T00:00:00",
          "2022-09-20T00:00:00",
          "2022-09-21T00:00:00",
          "2022-09-22T00:00:00",
          "2022-09-23T00:00:00",
          "2022-09-26T00:00:00",
          "2022-09-27T00:00:00",
          "2022-09-28T00:00:00",
          "2022-09-29T00:00:00",
          "2022-09-30T00:00:00",
          "2022-10-03T00:00:00",
          "2022-10-04T00:00:00",
          "2022-10-05T00:00:00",
          "2022-10-06T00:00:00",
          "2022-10-07T00:00:00",
          "2022-10-10T00:00:00",
          "2022-10-11T00:00:00",
          "2022-10-12T00:00:00",
          "2022-10-13T00:00:00",
          "2022-10-14T00:00:00",
          "2022-10-17T00:00:00",
          "2022-10-18T00:00:00",
          "2022-10-19T00:00:00",
          "2022-10-20T00:00:00",
          "2022-10-21T00:00:00",
          "2022-10-24T00:00:00",
          "2022-10-25T00:00:00",
          "2022-10-26T00:00:00",
          "2022-10-27T00:00:00",
          "2022-10-28T00:00:00",
          "2022-10-31T00:00:00",
          "2022-11-01T00:00:00",
          "2022-11-02T00:00:00",
          "2022-11-03T00:00:00",
          "2022-11-04T00:00:00",
          "2022-11-07T00:00:00",
          "2022-11-08T00:00:00",
          "2022-11-09T00:00:00",
          "2022-11-10T00:00:00",
          "2022-11-11T00:00:00",
          "2022-11-14T00:00:00",
          "2022-11-15T00:00:00",
          "2022-11-16T00:00:00",
          "2022-11-17T00:00:00",
          "2022-11-18T00:00:00",
          "2022-11-21T00:00:00",
          "2022-11-22T00:00:00",
          "2022-11-23T00:00:00",
          "2022-11-24T00:00:00",
          "2022-11-25T00:00:00",
          "2022-11-28T00:00:00",
          "2022-11-29T00:00:00",
          "2022-11-30T00:00:00",
          "2022-12-01T00:00:00",
          "2022-12-02T00:00:00",
          "2022-12-05T00:00:00",
          "2022-12-06T00:00:00",
          "2022-12-07T00:00:00",
          "2022-12-08T00:00:00",
          "2022-12-09T00:00:00",
          "2022-12-12T00:00:00",
          "2022-12-13T00:00:00",
          "2022-12-14T00:00:00",
          "2022-12-15T00:00:00",
          "2022-12-16T00:00:00",
          "2022-12-19T00:00:00",
          "2022-12-20T00:00:00",
          "2022-12-21T00:00:00",
          "2022-12-22T00:00:00",
          "2022-12-23T00:00:00",
          "2022-12-27T00:00:00",
          "2022-12-28T00:00:00",
          "2022-12-29T00:00:00",
          "2022-12-30T00:00:00"
         ],
         "xaxis": "x",
         "y": [
          0.024496309459209442,
          0.0036325056571513414,
          0.007413333281874657,
          0.01423635147511959,
          0.12118493020534515,
          0.0000014823467608948704,
          0.0000042091392060683575,
          2.123080791033294e-12,
          0.00012276737834326923,
          1.5497075622761258e-8,
          0.00002675407267815899,
          0.09036875516176224,
          0.04812582582235336,
          0.0007883229991421103,
          0.00920531153678894,
          0.1518545001745224,
          0.7239153385162354,
          0.2501928210258484,
          0.5177127122879028,
          0.16715991497039795,
          0.6238576173782349,
          0.12069015949964523,
          0.42303237318992615,
          0.2268141657114029,
          0.05141374096274376,
          0.12129180133342743,
          0.6974015831947327,
          0.6896607875823975,
          0.914811909198761,
          0.3354704678058624,
          0.1777634173631668,
          5.6840379706593266e-14,
          0.07825108617544174,
          0.000011945659025514033,
          0.8534939289093018,
          0.3950452208518982,
          0.33898892998695374,
          0.2761584520339966,
          0.8633661270141602,
          0.40929102897644043,
          0.3554268777370453,
          0.23570343852043152,
          0.08960265666246414,
          0.3729856014251709,
          0.18009957671165466,
          0.1477724015712738,
          0.051625315099954605,
          0.0014370805583894253,
          0.02550526149570942,
          0.11610661447048187,
          0.012440206483006477,
          0.024928277358412743,
          0.12418361753225327,
          0.03940669447183609,
          0.16819874942302704,
          0.31936463713645935,
          0.13996775448322296,
          0.00006288907752605155,
          2.0275720731825937e-14,
          0.0003506416396703571,
          1.4633498744893482e-14,
          3.2646391900925664e-7,
          0.019960688427090645,
          0.06589284539222717,
          0.030889609828591347,
          0.01918555609881878,
          0.8044998049736023,
          0.3150246739387512,
          0.9278147220611572,
          0.9024453163146973,
          0.12218931317329407,
          0.4058229625225067,
          0.6884233355522156,
          0.9375076293945312,
          0.288616806268692,
          0.4619097113609314,
          0.1761082112789154,
          0.4730924963951111,
          0.000019905333829228766,
          0.000015241059372783639,
          0.0004412462003529072,
          0.0035869241692125797,
          1.660160648953024e-7,
          3.1531715194432763e-7,
          0.000002295363174198428,
          3.5948860954704287e-7,
          0.002157665090635419,
          0.0010153116891160607,
          0.000016788837456260808,
          0.007581384386867285,
          0.003913565073162317,
          0.0000016001932863218826,
          0.0009657849441282451,
          0.000003117808319075266,
          0.0002280735207023099,
          5.3887863060708696e-8,
          2.2718116099440522e-7,
          0.00038260073051787913,
          0.20287370681762695,
          0.000023432667148881592,
          0.06170479208230972,
          0.08587633818387985,
          0.6455050706863403,
          0.3068082332611084,
          0.1118306815624237,
          0.2326415628194809,
          0.021227795630693436,
          0.01000762078911066,
          0.0002977452240884304,
          0.0015376119408756495,
          0.000009409494850842748,
          0.000546769006177783,
          0.0011255918070673943,
          0.00030057309777475893,
          0.0019482065690681338,
          0.08705486357212067,
          0.0029423553496599197,
          0.0319664403796196,
          0.06095757707953453,
          0.15843531489372253,
          0.15778586268424988,
          0.14863282442092896,
          2.9477134305361786e-19,
          1.2421654105310154e-7,
          0.001985133858397603,
          1.3834594710973622e-18,
          1.9635558601294179e-7,
          0.000003780151928367559,
          0.060208626091480255,
          0.002273184945806861,
          0.0006685542175546288,
          2.1054911769624596e-7,
          0.00018331116007175297,
          5.941310221579954e-10,
          0.000010801447388075758,
          0.21443918347358704,
          2.257151976436944e-8,
          0.019755635410547256,
          0.07359044998884201,
          0.006543878931552172,
          3.125070898311228e-24,
          0.06730703264474869,
          0.06995139271020889,
          0.07276725769042969,
          0.3588807284832001,
          0.19991403818130493,
          0.29499417543411255,
          0.24303604662418365,
          0.4872463345527649,
          0.6130545735359192,
          0.6706575155258179,
          0.975130021572113,
          0.03993890807032585,
          0.015994371846318245,
          0.09190802276134491,
          0.11433524638414383,
          0.24226893484592438,
          0.0031544624362140894,
          0.009500585496425629,
          0.6502962708473206,
          1.5076637160937878e-10,
          0.5008129477500916,
          0.10065216571092606,
          0.27036404609680176,
          0.32667648792266846,
          0.07470089942216873,
          0.001858097966760397,
          0.44068729877471924,
          0.3731020987033844,
          0.03142218291759491,
          0.040219660848379135,
          0.4524706304073334,
          0.5368101000785828,
          0.000013784529073745944,
          0.9406347274780273,
          0.11498251557350159,
          0.6501390933990479,
          0.47730615735054016,
          0.1151980459690094,
          0.0032307461369782686,
          0.05033840984106064,
          3.938835479999625e-9,
          0.01772221550345421,
          0.18852955102920532,
          0.002593044191598892,
          0.116461381316185,
          0.000011891555004694965,
          0.020564820617437363,
          0.17647631466388702,
          0.14731454849243164,
          0.9611912965774536,
          0.9746262431144714,
          0.6832315921783447,
          0.8549359440803528,
          0.03945910558104515,
          0.48980844020843506,
          0.026678694412112236,
          0.000013432484593067784,
          0.000001477015530326753,
          0.058969710022211075,
          0.4144990146160126,
          0.35231420397758484,
          0.7910362482070923,
          0.3337686061859131,
          0.03914422169327736,
          0.9399057030677795,
          0.4838865101337433,
          0.22088220715522766,
          3.840780232917951e-13,
          0.029023265466094017,
          0.01261921413242817,
          0.12161214649677277,
          0.09556583315134048,
          0.861763060092926,
          0.0820421427488327,
          0.006760274060070515,
          0.49402302503585815,
          0.5936328768730164,
          0.1420344114303589,
          0.8605855107307434,
          3.95093469052199e-9,
          0.030599797144532204,
          0.0006812007050029933,
          0.36584174633026123,
          9.123566485635948e-12,
          0.00002959263110824395,
          0.009027831256389618,
          0.000003568585043467465,
          1.1812582228023355e-30,
          4.118474006276074e-9,
          1.5340685877163196e-7,
          0.028546757996082306,
          0.04572620615363121,
          0.010959384962916374,
          0.00027491271612234414,
          0.2171097993850708,
          0.0010881288908421993,
          0.0006455529946833849,
          0.008343913592398167,
          0.0010226867161691189,
          0.0000014861715271763387,
          3.856825611919107e-14,
          0.001809135195799172,
          1.0886698080611278e-16,
          0.0000387242398574017,
          0.000024720644432818517,
          0.000015838772014831193,
          0.17950718104839325,
          0.015043740160763264,
          0.40013059973716736,
          0.04517032578587532,
          0.1535424441099167,
          0.5065804123878479,
          0.8860114812850952,
          0.6848269701004028,
          0.000004140422333875904,
          0.731362521648407,
          0.0000683047401253134,
          0.5176045894622803,
          0.0023683279287070036,
          0.00023028618306852877,
          0.0000212303530133795,
          0.00734512135386467,
          0.0017095771618187428,
          0.33385807275772095,
          0.05158232897520065,
          0.8866987228393555,
          0.9396901726722717,
          0.050297848880290985,
          0.17170417308807373,
          0.03514605760574341,
          0.1236896887421608,
          0.012179489247500896,
          0.051121748983860016,
          0.05859372392296791,
          0.2767765522003174,
          0.0020435184706002474,
          0.00022160161461215466,
          0.014398608356714249,
          0.12120696902275085,
          0.1074921265244484,
          0.2151341736316681,
          0.0006833854713477194,
          0.5015197992324829,
          0.03728902339935303,
          0.00002582035813247785,
          0.0325968861579895,
          0.08356653153896332,
          1.0523164278231166e-17,
          9.105296072675628e-8,
          7.546896050800167e-13,
          8.19821432962442e-11,
          5.2675885875430595e-9,
          0.000001772766154317651,
          0.002920973813161254,
          0.018806494772434235,
          0.0038567723240703344,
          0.00003248072971473448,
          0.12497302144765854,
          0.44501593708992004,
          0.0004899100749753416,
          0.07863364368677139,
          0.12271226942539215,
          1.1501238880341096e-15,
          0.000008298443390231114,
          0.000003579577423806768,
          0.004102087114006281,
          0.7299368977546692,
          0.12405183911323547,
          0.08016805350780487,
          0.08822029829025269,
          6.270109176273791e-20,
          0.2549876272678375,
          0.11078393459320068,
          0.12769974768161774,
          0.3579219877719879,
          4.939132800820371e-32,
          0.1841726303100586,
          0.1102001890540123,
          0.015357313677668571,
          0.10189462453126907,
          2.1194963340184343e-23,
          0.3854093551635742,
          0.2981529235839844,
          0.05102962628006935,
          0.11743225157260895,
          0.0002205762721132487,
          0.0034851443488150835,
          0.042230274528265,
          0.018463293090462685,
          0.0008553173393011093,
          1.08443798645802e-12,
          2.6570397437808424e-8,
          0.00017138269322458655,
          0.00946299359202385,
          0,
          6.428653875900636e-8,
          0.060503553599119186,
          8.234666806547961e-22,
          0.011999587528407574,
          0.7377360463142395,
          0.06348539888858795,
          2.2473274571771542e-23,
          0.001216852106153965,
          0.008848137222230434,
          0.31199517846107483,
          0.2679058909416199,
          0.6456209421157837,
          0.30491912364959717,
          0.5395532250404358,
          4.2384272529296845e-20,
          0.0779983326792717,
          0.0006262657698243856,
          0.20503486692905426,
          0.8830053210258484,
          0.5235089659690857,
          2.708635328521763e-22,
          0.6047093868255615,
          9.833641867684734e-21,
          0.3602845072746277,
          0.10703697800636292,
          0.3495536744594574,
          1.2647940684218008e-22,
          0.8273630142211914,
          0.08270706981420517,
          0.0014119611587375402,
          0.02526037022471428,
          1.2619758571474904e-9,
          0.009439567103981972,
          1.528185647094888e-20,
          1.9621094099211478e-20,
          3.422630356908485e-8,
          0.18575508892536163,
          0.1042681410908699,
          1.6188405282946405e-8,
          2.2123576570011117e-32,
          0.00030231839627958834,
          0.0011254342971369624,
          4.955774102199939e-7,
          0.06275854259729385,
          0.10386871546506882,
          0,
          0.0002334221062483266,
          0.11142873764038086,
          2.0465667023214767e-15,
          0.28019121289253235,
          2.128458347072648e-11,
          3.6326633412868083e-31,
          3.750138972950518e-22,
          0.1941811591386795,
          0.11953100562095642,
          0.518021821975708,
          0.003627821570262313,
          0.00017979949188884348,
          0.000978009426034987,
          0.019795546308159828,
          0.008091586641967297,
          0.00036893802462145686,
          3.7089551430113943e-9,
          0.24462047219276428,
          2.627134107300869e-21,
          0.07700295746326447,
          0.0022622987162321806,
          0.12365569919347763,
          0.05268795043230057,
          0,
          3.487510592590772e-21,
          0.24326173961162567,
          0.3044942319393158,
          0.46547991037368774,
          0.001990950433537364,
          1.5192727393914832e-23,
          6.909130689791709e-8,
          0.0001160640167654492,
          0.0086798295378685,
          0,
          7.795999610571545e-32,
          0.0000010165516641791328,
          0.009236940182745457,
          5.521735602087574e-7,
          0.13254059851169586,
          2.0441058812242544e-33,
          0.7325406074523926,
          0.006281041540205479,
          0.2734018862247467,
          4.133566519872746e-21,
          4.043114643007499e-21,
          0.22518150508403778,
          0.008136872202157974,
          0.11144554615020752,
          0.0007080528303049505,
          0.000004247151082381606,
          9.869771830833692e-18,
          8.036457610494097e-11,
          2.480077775091072e-13,
          8.923247208626299e-22,
          7.401453343849493e-34,
          1.8698781821846168e-23,
          1.1533777919535508e-33,
          2.6655372146001955e-34,
          2.1983026510241643e-11,
          0,
          8.645813755708215e-35,
          8.371221828072689e-26,
          3.904260562814593e-37,
          2.8943348944345083e-38,
          4.9876642655804907e-23,
          3.493918490076315e-27,
          8.27469398753211e-21,
          2.907689738250887e-17,
          1.0027592090011694e-9,
          9.983003842161687e-38,
          2.5477903420174347e-30,
          8.93715695852846e-27,
          1.3204101348578572e-23,
          1.1229268396573276e-18,
          8.590938706643057e-21,
          2.105077349751216e-34,
          7.899383402806048e-21,
          4.5947508114233865e-21,
          1.2187930015745945e-22,
          1.201142964572307e-22,
          1.2220421733328017e-15,
          9.496283848114511e-22,
          6.586996920132648e-11,
          8.179869120192199e-24,
          6.814407771211367e-18,
          1.3192605361910498e-18,
          0.00011355509195709601,
          4.2769496277905716e-10,
          6.55547800288217e-14,
          3.005281499536628e-17,
          4.138096706975538e-20,
          3.562877423646249e-12,
          0.00025412903050892055,
          1.6802173400908145e-18,
          3.595009401722772e-19,
          5.0230063164402594e-12,
          3.7770024004548075e-21,
          2.0138085364692682e-22,
          1.9229643204216706e-26,
          7.695663632170321e-15,
          0.004049321636557579,
          3.0424179527904856e-21,
          0.02922026254236698,
          0.004389589186757803,
          1.6246463809682643e-12,
          2.054304948373442e-9,
          0.0000011602521681197686,
          0.07200083881616592,
          0.008790714666247368,
          0.07029247283935547,
          1.9880189165287422e-28,
          0.0643106997013092,
          0.029232168570160866,
          0.0018243923550471663,
          0.00041542862891219556,
          1.6047259983419361e-24,
          5.694825331759614e-25,
          5.2573429924618974e-23,
          0.14221346378326416,
          0.00007022754289209843,
          0.000007770493539283052,
          3.7026266520032505e-14,
          0.004104850348085165,
          0.0004964047111570835,
          0.003317285794764757,
          1.560300361136413e-10,
          1.4813450894537658e-14,
          9.693029472838466e-17,
          1.3868872716926717e-9,
          1.0106304217635291e-30,
          0.017388394102454185,
          0.008779851719737053,
          0.0029634754173457623
         ],
         "yaxis": "y2"
        }
       ],
       "layout": {
        "height": 500,
        "margin": {
         "b": 40,
         "l": 50,
         "r": 80,
         "t": 50
        },
        "template": {
         "data": {
          "bar": [
           {
            "error_x": {
             "color": "#2a3f5f"
            },
            "error_y": {
             "color": "#2a3f5f"
            },
            "marker": {
             "line": {
              "color": "white",
              "width": 0.5
             },
             "pattern": {
              "fillmode": "overlay",
              "size": 10,
              "solidity": 0.2
             }
            },
            "type": "bar"
           }
          ],
          "barpolar": [
           {
            "marker": {
             "line": {
              "color": "white",
              "width": 0.5
             },
             "pattern": {
              "fillmode": "overlay",
              "size": 10,
              "solidity": 0.2
             }
            },
            "type": "barpolar"
           }
          ],
          "carpet": [
           {
            "aaxis": {
             "endlinecolor": "#2a3f5f",
             "gridcolor": "#C8D4E3",
             "linecolor": "#C8D4E3",
             "minorgridcolor": "#C8D4E3",
             "startlinecolor": "#2a3f5f"
            },
            "baxis": {
             "endlinecolor": "#2a3f5f",
             "gridcolor": "#C8D4E3",
             "linecolor": "#C8D4E3",
             "minorgridcolor": "#C8D4E3",
             "startlinecolor": "#2a3f5f"
            },
            "type": "carpet"
           }
          ],
          "choropleth": [
           {
            "colorbar": {
             "outlinewidth": 0,
             "ticks": ""
            },
            "type": "choropleth"
           }
          ],
          "contour": [
           {
            "colorbar": {
             "outlinewidth": 0,
             "ticks": ""
            },
            "colorscale": [
             [
              0,
              "#0d0887"
             ],
             [
              0.1111111111111111,
              "#46039f"
             ],
             [
              0.2222222222222222,
              "#7201a8"
             ],
             [
              0.3333333333333333,
              "#9c179e"
             ],
             [
              0.4444444444444444,
              "#bd3786"
             ],
             [
              0.5555555555555556,
              "#d8576b"
             ],
             [
              0.6666666666666666,
              "#ed7953"
             ],
             [
              0.7777777777777778,
              "#fb9f3a"
             ],
             [
              0.8888888888888888,
              "#fdca26"
             ],
             [
              1,
              "#f0f921"
             ]
            ],
            "type": "contour"
           }
          ],
          "contourcarpet": [
           {
            "colorbar": {
             "outlinewidth": 0,
             "ticks": ""
            },
            "type": "contourcarpet"
           }
          ],
          "heatmap": [
           {
            "colorbar": {
             "outlinewidth": 0,
             "ticks": ""
            },
            "colorscale": [
             [
              0,
              "#0d0887"
             ],
             [
              0.1111111111111111,
              "#46039f"
             ],
             [
              0.2222222222222222,
              "#7201a8"
             ],
             [
              0.3333333333333333,
              "#9c179e"
             ],
             [
              0.4444444444444444,
              "#bd3786"
             ],
             [
              0.5555555555555556,
              "#d8576b"
             ],
             [
              0.6666666666666666,
              "#ed7953"
             ],
             [
              0.7777777777777778,
              "#fb9f3a"
             ],
             [
              0.8888888888888888,
              "#fdca26"
             ],
             [
              1,
              "#f0f921"
             ]
            ],
            "type": "heatmap"
           }
          ],
          "heatmapgl": [
           {
            "colorbar": {
             "outlinewidth": 0,
             "ticks": ""
            },
            "colorscale": [
             [
              0,
              "#0d0887"
             ],
             [
              0.1111111111111111,
              "#46039f"
             ],
             [
              0.2222222222222222,
              "#7201a8"
             ],
             [
              0.3333333333333333,
              "#9c179e"
             ],
             [
              0.4444444444444444,
              "#bd3786"
             ],
             [
              0.5555555555555556,
              "#d8576b"
             ],
             [
              0.6666666666666666,
              "#ed7953"
             ],
             [
              0.7777777777777778,
              "#fb9f3a"
             ],
             [
              0.8888888888888888,
              "#fdca26"
             ],
             [
              1,
              "#f0f921"
             ]
            ],
            "type": "heatmapgl"
           }
          ],
          "histogram": [
           {
            "marker": {
             "pattern": {
              "fillmode": "overlay",
              "size": 10,
              "solidity": 0.2
             }
            },
            "type": "histogram"
           }
          ],
          "histogram2d": [
           {
            "colorbar": {
             "outlinewidth": 0,
             "ticks": ""
            },
            "colorscale": [
             [
              0,
              "#0d0887"
             ],
             [
              0.1111111111111111,
              "#46039f"
             ],
             [
              0.2222222222222222,
              "#7201a8"
             ],
             [
              0.3333333333333333,
              "#9c179e"
             ],
             [
              0.4444444444444444,
              "#bd3786"
             ],
             [
              0.5555555555555556,
              "#d8576b"
             ],
             [
              0.6666666666666666,
              "#ed7953"
             ],
             [
              0.7777777777777778,
              "#fb9f3a"
             ],
             [
              0.8888888888888888,
              "#fdca26"
             ],
             [
              1,
              "#f0f921"
             ]
            ],
            "type": "histogram2d"
           }
          ],
          "histogram2dcontour": [
           {
            "colorbar": {
             "outlinewidth": 0,
             "ticks": ""
            },
            "colorscale": [
             [
              0,
              "#0d0887"
             ],
             [
              0.1111111111111111,
              "#46039f"
             ],
             [
              0.2222222222222222,
              "#7201a8"
             ],
             [
              0.3333333333333333,
              "#9c179e"
             ],
             [
              0.4444444444444444,
              "#bd3786"
             ],
             [
              0.5555555555555556,
              "#d8576b"
             ],
             [
              0.6666666666666666,
              "#ed7953"
             ],
             [
              0.7777777777777778,
              "#fb9f3a"
             ],
             [
              0.8888888888888888,
              "#fdca26"
             ],
             [
              1,
              "#f0f921"
             ]
            ],
            "type": "histogram2dcontour"
           }
          ],
          "mesh3d": [
           {
            "colorbar": {
             "outlinewidth": 0,
             "ticks": ""
            },
            "type": "mesh3d"
           }
          ],
          "parcoords": [
           {
            "line": {
             "colorbar": {
              "outlinewidth": 0,
              "ticks": ""
             }
            },
            "type": "parcoords"
           }
          ],
          "pie": [
           {
            "automargin": true,
            "type": "pie"
           }
          ],
          "scatter": [
           {
            "fillpattern": {
             "fillmode": "overlay",
             "size": 10,
             "solidity": 0.2
            },
            "type": "scatter"
           }
          ],
          "scatter3d": [
           {
            "line": {
             "colorbar": {
              "outlinewidth": 0,
              "ticks": ""
             }
            },
            "marker": {
             "colorbar": {
              "outlinewidth": 0,
              "ticks": ""
             }
            },
            "type": "scatter3d"
           }
          ],
          "scattercarpet": [
           {
            "marker": {
             "colorbar": {
              "outlinewidth": 0,
              "ticks": ""
             }
            },
            "type": "scattercarpet"
           }
          ],
          "scattergeo": [
           {
            "marker": {
             "colorbar": {
              "outlinewidth": 0,
              "ticks": ""
             }
            },
            "type": "scattergeo"
           }
          ],
          "scattergl": [
           {
            "marker": {
             "colorbar": {
              "outlinewidth": 0,
              "ticks": ""
             }
            },
            "type": "scattergl"
           }
          ],
          "scattermapbox": [
           {
            "marker": {
             "colorbar": {
              "outlinewidth": 0,
              "ticks": ""
             }
            },
            "type": "scattermapbox"
           }
          ],
          "scatterpolar": [
           {
            "marker": {
             "colorbar": {
              "outlinewidth": 0,
              "ticks": ""
             }
            },
            "type": "scatterpolar"
           }
          ],
          "scatterpolargl": [
           {
            "marker": {
             "colorbar": {
              "outlinewidth": 0,
              "ticks": ""
             }
            },
            "type": "scatterpolargl"
           }
          ],
          "scatterternary": [
           {
            "marker": {
             "colorbar": {
              "outlinewidth": 0,
              "ticks": ""
             }
            },
            "type": "scatterternary"
           }
          ],
          "surface": [
           {
            "colorbar": {
             "outlinewidth": 0,
             "ticks": ""
            },
            "colorscale": [
             [
              0,
              "#0d0887"
             ],
             [
              0.1111111111111111,
              "#46039f"
             ],
             [
              0.2222222222222222,
              "#7201a8"
             ],
             [
              0.3333333333333333,
              "#9c179e"
             ],
             [
              0.4444444444444444,
              "#bd3786"
             ],
             [
              0.5555555555555556,
              "#d8576b"
             ],
             [
              0.6666666666666666,
              "#ed7953"
             ],
             [
              0.7777777777777778,
              "#fb9f3a"
             ],
             [
              0.8888888888888888,
              "#fdca26"
             ],
             [
              1,
              "#f0f921"
             ]
            ],
            "type": "surface"
           }
          ],
          "table": [
           {
            "cells": {
             "fill": {
              "color": "#EBF0F8"
             },
             "line": {
              "color": "white"
             }
            },
            "header": {
             "fill": {
              "color": "#C8D4E3"
             },
             "line": {
              "color": "white"
             }
            },
            "type": "table"
           }
          ]
         },
         "layout": {
          "annotationdefaults": {
           "arrowcolor": "#2a3f5f",
           "arrowhead": 0,
           "arrowwidth": 1
          },
          "autotypenumbers": "strict",
          "coloraxis": {
           "colorbar": {
            "outlinewidth": 0,
            "ticks": ""
           }
          },
          "colorscale": {
           "diverging": [
            [
             0,
             "#8e0152"
            ],
            [
             0.1,
             "#c51b7d"
            ],
            [
             0.2,
             "#de77ae"
            ],
            [
             0.3,
             "#f1b6da"
            ],
            [
             0.4,
             "#fde0ef"
            ],
            [
             0.5,
             "#f7f7f7"
            ],
            [
             0.6,
             "#e6f5d0"
            ],
            [
             0.7,
             "#b8e186"
            ],
            [
             0.8,
             "#7fbc41"
            ],
            [
             0.9,
             "#4d9221"
            ],
            [
             1,
             "#276419"
            ]
           ],
           "sequential": [
            [
             0,
             "#0d0887"
            ],
            [
             0.1111111111111111,
             "#46039f"
            ],
            [
             0.2222222222222222,
             "#7201a8"
            ],
            [
             0.3333333333333333,
             "#9c179e"
            ],
            [
             0.4444444444444444,
             "#bd3786"
            ],
            [
             0.5555555555555556,
             "#d8576b"
            ],
            [
             0.6666666666666666,
             "#ed7953"
            ],
            [
             0.7777777777777778,
             "#fb9f3a"
            ],
            [
             0.8888888888888888,
             "#fdca26"
            ],
            [
             1,
             "#f0f921"
            ]
           ],
           "sequentialminus": [
            [
             0,
             "#0d0887"
            ],
            [
             0.1111111111111111,
             "#46039f"
            ],
            [
             0.2222222222222222,
             "#7201a8"
            ],
            [
             0.3333333333333333,
             "#9c179e"
            ],
            [
             0.4444444444444444,
             "#bd3786"
            ],
            [
             0.5555555555555556,
             "#d8576b"
            ],
            [
             0.6666666666666666,
             "#ed7953"
            ],
            [
             0.7777777777777778,
             "#fb9f3a"
            ],
            [
             0.8888888888888888,
             "#fdca26"
            ],
            [
             1,
             "#f0f921"
            ]
           ]
          },
          "colorway": [
           "#636efa",
           "#EF553B",
           "#00cc96",
           "#ab63fa",
           "#FFA15A",
           "#19d3f3",
           "#FF6692",
           "#B6E880",
           "#FF97FF",
           "#FECB52"
          ],
          "font": {
           "color": "#2a3f5f"
          },
          "geo": {
           "bgcolor": "white",
           "lakecolor": "white",
           "landcolor": "white",
           "showlakes": true,
           "showland": true,
           "subunitcolor": "#C8D4E3"
          },
          "hoverlabel": {
           "align": "left"
          },
          "hovermode": "closest",
          "mapbox": {
           "style": "light"
          },
          "paper_bgcolor": "white",
          "plot_bgcolor": "white",
          "polar": {
           "angularaxis": {
            "gridcolor": "#EBF0F8",
            "linecolor": "#EBF0F8",
            "ticks": ""
           },
           "bgcolor": "white",
           "radialaxis": {
            "gridcolor": "#EBF0F8",
            "linecolor": "#EBF0F8",
            "ticks": ""
           }
          },
          "scene": {
           "xaxis": {
            "backgroundcolor": "white",
            "gridcolor": "#DFE8F3",
            "gridwidth": 2,
            "linecolor": "#EBF0F8",
            "showbackground": true,
            "ticks": "",
            "zerolinecolor": "#EBF0F8"
           },
           "yaxis": {
            "backgroundcolor": "white",
            "gridcolor": "#DFE8F3",
            "gridwidth": 2,
            "linecolor": "#EBF0F8",
            "showbackground": true,
            "ticks": "",
            "zerolinecolor": "#EBF0F8"
           },
           "zaxis": {
            "backgroundcolor": "white",
            "gridcolor": "#DFE8F3",
            "gridwidth": 2,
            "linecolor": "#EBF0F8",
            "showbackground": true,
            "ticks": "",
            "zerolinecolor": "#EBF0F8"
           }
          },
          "shapedefaults": {
           "line": {
            "color": "#2a3f5f"
           }
          },
          "ternary": {
           "aaxis": {
            "gridcolor": "#DFE8F3",
            "linecolor": "#A2B1C6",
            "ticks": ""
           },
           "baxis": {
            "gridcolor": "#DFE8F3",
            "linecolor": "#A2B1C6",
            "ticks": ""
           },
           "bgcolor": "white",
           "caxis": {
            "gridcolor": "#DFE8F3",
            "linecolor": "#A2B1C6",
            "ticks": ""
           }
          },
          "title": {
           "x": 0.05
          },
          "xaxis": {
           "automargin": true,
           "gridcolor": "#EBF0F8",
           "linecolor": "#EBF0F8",
           "ticks": "",
           "title": {
            "standoff": 15
           },
           "zerolinecolor": "#EBF0F8",
           "zerolinewidth": 2
          },
          "yaxis": {
           "automargin": true,
           "gridcolor": "#EBF0F8",
           "linecolor": "#EBF0F8",
           "ticks": "",
           "title": {
            "standoff": 15
           },
           "zerolinecolor": "#EBF0F8",
           "zerolinewidth": 2
          }
         }
        },
        "title": {
         "text": "test"
        },
        "width": 1100,
        "xaxis": {
         "anchor": "y",
         "domain": [
          0,
          0.94
         ]
        },
        "yaxis": {
         "anchor": "x",
         "domain": [
          0,
          1
         ]
        },
        "yaxis2": {
         "anchor": "x",
         "overlaying": "y",
         "side": "right"
        }
       }
      }
     },
     "metadata": {},
     "output_type": "display_data"
    }
   ],
   "source": [
    "df_viz = df.loc[\"2021-01-01\":\"2022-12-31\"]\n",
    "\n",
    "fig = make_subplots(specs=[[{\"secondary_y\": True}]])\n",
    "fig.add_trace(go.Scatter(x=df_viz.index, y=df_viz[\"Close\"],mode='lines',name=\"Close\",line=dict(width=2.0)))\n",
    "\n",
    "fig.add_trace(go.Scatter(x=df_viz.index, y=df_viz[\"signal\"],mode='lines',name=\"signal\",line=dict(width=2.0)),secondary_y=\"signal\")\n",
    "fig.add_trace(go.Scatter(x=df_viz.index, y=y,mode='lines',name=\"pred\",line=dict(width=2.0)), secondary_y=\"signal\")\n",
    "\n",
    "\n",
    "fig.update_layout(height=500,width=1100,template='plotly_white',title=\"test\", margin=dict(l=50,r=80,t=50,b=40))\n",
    "fig.show()"
   ]
  }
 ],
 "metadata": {
  "kernelspec": {
   "display_name": ".venv",
   "language": "python",
   "name": "python3"
  },
  "language_info": {
   "codemirror_mode": {
    "name": "ipython",
    "version": 3
   },
   "file_extension": ".py",
   "mimetype": "text/x-python",
   "name": "python",
   "nbconvert_exporter": "python",
   "pygments_lexer": "ipython3",
   "version": "3.9.0"
  },
  "orig_nbformat": 4,
  "vscode": {
   "interpreter": {
    "hash": "9b5a70f28c8c826de775f570e9673b2a3060e4cdab5d79a7122774f05abc4c41"
   }
  }
 },
 "nbformat": 4,
 "nbformat_minor": 2
}
